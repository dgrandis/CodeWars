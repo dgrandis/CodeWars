{
  "nbformat": 4,
  "nbformat_minor": 0,
  "metadata": {
    "colab": {
      "name": "Теплов - Pro - Автокодировщики",
      "provenance": [],
      "collapsed_sections": [
        "gACqys1HPE16"
      ],
      "authorship_tag": "ABX9TyOgJRyLXPQafeLNXPeXmkZR",
      "include_colab_link": true
    },
    "kernelspec": {
      "name": "python3",
      "display_name": "Python 3"
    },
    "language_info": {
      "name": "python"
    }
  },
  "cells": [
    {
      "cell_type": "markdown",
      "metadata": {
        "id": "view-in-github",
        "colab_type": "text"
      },
      "source": [
        "<a href=\"https://colab.research.google.com/github/dgrandis/NU/blob/main/%D0%A2%D0%B5%D0%BF%D0%BB%D0%BE%D0%B2_Pro_%D0%90%D0%B2%D1%82%D0%BE%D0%BA%D0%BE%D0%B4%D0%B8%D1%80%D0%BE%D0%B2%D1%89%D0%B8%D0%BA%D0%B8.ipynb\" target=\"_parent\"><img src=\"https://colab.research.google.com/assets/colab-badge.svg\" alt=\"Open In Colab\"/></a>"
      ]
    },
    {
      "cell_type": "markdown",
      "metadata": {
        "id": "tKWeY_imt57p"
      },
      "source": [
        "# **Задание Pro**\n",
        "\n",
        "Добейтесь средней точности **91-92%** в задаче поиска мошеннических операций. Для этого попробуйте сделать более мощный автокодировщик и гибкую настройку порога (bias), по которому мы определяем, мошенническая транзакция или нет\n",
        "\n",
        "Постройте на одном графике **2** гистограммы (density=True) для нормальных и мошеннических транзакций. По графику определите **3** порога:\n",
        "\n",
        "1) при котором все мошеннические транзакции будут пойманы\n",
        "\n",
        "2) “оптимальный порог” - на пересечении распределений\n",
        "\n",
        "3) при котором ни одна нормальная транзакция не будет распознана, как мошенническая"
      ]
    },
    {
      "cell_type": "markdown",
      "metadata": {
        "id": "IRnu6tn6uvKC"
      },
      "source": [
        "# Подключение библиотек"
      ]
    },
    {
      "cell_type": "code",
      "metadata": {
        "id": "LVydyqOTYlkp"
      },
      "source": [
        "from tensorflow.keras.models import Sequential, Model\n",
        "from tensorflow.keras.layers import Dense, Flatten, Input, Reshape, Conv2DTranspose, Activation, MaxPooling2D, Conv2D, BatchNormalization, concatenate\n",
        "from tensorflow.keras.optimizers import Adam\n",
        "from tensorflow.keras.callbacks import ReduceLROnPlateau\n",
        "from tensorflow.keras.utils import plot_model\n",
        "\n",
        "from sklearn.model_selection import train_test_split\n",
        "from sklearn.preprocessing import StandardScaler\n",
        "\n",
        "import numpy as np\n",
        "import pandas as pd\n",
        "import matplotlib.pyplot as plt\n",
        "import seaborn as sns\n",
        "sns.set_style('darkgrid')\n",
        "\n",
        "from google.colab import drive\n",
        "sns.set_style('darkgrid')"
      ],
      "execution_count": 1,
      "outputs": []
    },
    {
      "cell_type": "code",
      "metadata": {
        "colab": {
          "base_uri": "https://localhost:8080/"
        },
        "id": "Otvt8pqRgY__",
        "outputId": "3a420cfa-ad1a-4190-f2bf-420184737029"
      },
      "source": [
        "drive.mount('/content/drive/')"
      ],
      "execution_count": 2,
      "outputs": [
        {
          "output_type": "stream",
          "name": "stdout",
          "text": [
            "Mounted at /content/drive/\n"
          ]
        }
      ]
    },
    {
      "cell_type": "markdown",
      "metadata": {
        "id": "iIKnHYEIgkDr"
      },
      "source": [
        "# Создание функций"
      ]
    },
    {
      "cell_type": "code",
      "metadata": {
        "id": "mJoXdeZPgokh"
      },
      "source": [
        "# Функция создания автокодировщика\n",
        "\n",
        "def baseAutoencoder(shape=(112,80,1)):\n",
        "  img_input = Input((shape))   # Входные размеры\n",
        "\n",
        "  x = Conv2D(32, (3,3), padding='same', activation='relu')(img_input)\n",
        "  x = BatchNormalization()(x)\n",
        "  x = Conv2D(32, (3,3), padding='same', activation='relu')(x)\n",
        "  x = BatchNormalization()(x)\n",
        "  x = MaxPooling2D()(x)\n",
        "\n",
        "  x = Conv2D(64, (3,3), padding='same', activation='relu')(x)\n",
        "  x = BatchNormalization()(x)\n",
        "  x = Conv2D(64, (3,3), padding='same', activation='relu')(x)\n",
        "  x = BatchNormalization()(x)\n",
        "  z = MaxPooling2D()(x)   \n",
        "\n",
        "  x = Conv2DTranspose(64, (2,2), strides=(2,2), padding='same', activation='relu')(z)\n",
        "  x = BatchNormalization()(x)\n",
        "  x = Conv2D(64, (3,3), padding='same', activation='relu')(x)\n",
        "  x = BatchNormalization()(x)\n",
        "  x = Conv2D(64, (3,3), padding='same', activation='relu')(x)\n",
        "  x = BatchNormalization()(x)\n",
        "\n",
        "  x = Conv2DTranspose(32,(2,2), strides=(2,2), padding='same', activation='relu')(x)\n",
        "  x = BatchNormalization()(x)\n",
        "  x = Conv2D(32, (3,3), padding='same', activation='relu')(x)\n",
        "  x = BatchNormalization()(x)\n",
        "  x = Conv2D(32, (3,3), padding='same', activation='relu')(x)\n",
        "  x = BatchNormalization()(x)\n",
        "\n",
        "  x = Conv2D(shape[-1], (3,3), padding='same', activation='sigmoid')(x)\n",
        "\n",
        "  model = Model(img_input, x)\n",
        "\n",
        "  model.compile(optimizer=Adam(learning_rate=1e-4), loss='mean_squared_error')\n",
        "\n",
        "  return model"
      ],
      "execution_count": null,
      "outputs": []
    },
    {
      "cell_type": "code",
      "metadata": {
        "id": "ssSVgHBsk5Ep"
      },
      "source": [
        "# Функция вывода изображения как картинок\n",
        "\n",
        "def plotImages(xTrain, pred, shape=(112,80)):\n",
        "  n = 5  # Кол-во картинок\n",
        "  plt.figure(figsize=(14,7))  # Задаем фигуру и ее размер\n",
        "\n",
        "  for i in range(n):\n",
        "    index = np.random.randint(0, pred.shape[0])\n",
        "    print(index)\n",
        "    # Картинки из тестового набора\n",
        "    ax = plt.subplot(2, n, i+1)\n",
        "    plt.imshow(xTrain[index].reshape(shape))\n",
        "    plt.gray()\n",
        "    # Скрываем выводы координатных осей x и y. \n",
        "    ax.get_xaxis().set_visible(False)\n",
        "    ax.get_yaxis().set_visible(False)\n",
        "\n",
        "    # Восстановленные картинки\n",
        "    ax = plt.subplot(2, n, i+1 + n)\n",
        "    plt.imshow(pred[index].reshape(shape))\n",
        "    plt.gray()\n",
        "    ax.get_xaxis().set_visible(False)\n",
        "    ax.get_yaxis().set_visible(False)\n",
        "  plt.show()\n",
        "\n"
      ],
      "execution_count": null,
      "outputs": []
    },
    {
      "cell_type": "code",
      "metadata": {
        "id": "eKDsnISQoo2q"
      },
      "source": [
        "# Функция для расчета среднеквадратичной ошибки - mse\n",
        "def getMSE(x1, x2):\n",
        "  x1 = x1.flatten()\n",
        "  x2 = x2.flatten()\n",
        "  delta = x1 - x2\n",
        "  return sum(delta**2) / len(delta)"
      ],
      "execution_count": null,
      "outputs": []
    },
    {
      "cell_type": "markdown",
      "metadata": {
        "id": "AHie46lEQBVq"
      },
      "source": [
        "## Определение мошеннических операций\n"
      ]
    },
    {
      "cell_type": "code",
      "metadata": {
        "id": "WxlLIeWPt2KM",
        "colab": {
          "base_uri": "https://localhost:8080/",
          "height": 224
        },
        "outputId": "2ab77a20-68a8-46f0-af2c-65f606f44983"
      },
      "source": [
        "df = pd.read_csv(\"/content/drive/MyDrive/УИИ/Автокодировщики/База CREDITCARD/creditcard.csv\")\n",
        "df.head()"
      ],
      "execution_count": 4,
      "outputs": [
        {
          "output_type": "execute_result",
          "data": {
            "text/html": [
              "<div>\n",
              "<style scoped>\n",
              "    .dataframe tbody tr th:only-of-type {\n",
              "        vertical-align: middle;\n",
              "    }\n",
              "\n",
              "    .dataframe tbody tr th {\n",
              "        vertical-align: top;\n",
              "    }\n",
              "\n",
              "    .dataframe thead th {\n",
              "        text-align: right;\n",
              "    }\n",
              "</style>\n",
              "<table border=\"1\" class=\"dataframe\">\n",
              "  <thead>\n",
              "    <tr style=\"text-align: right;\">\n",
              "      <th></th>\n",
              "      <th>Time</th>\n",
              "      <th>V1</th>\n",
              "      <th>V2</th>\n",
              "      <th>V3</th>\n",
              "      <th>V4</th>\n",
              "      <th>V5</th>\n",
              "      <th>V6</th>\n",
              "      <th>V7</th>\n",
              "      <th>V8</th>\n",
              "      <th>V9</th>\n",
              "      <th>V10</th>\n",
              "      <th>V11</th>\n",
              "      <th>V12</th>\n",
              "      <th>V13</th>\n",
              "      <th>V14</th>\n",
              "      <th>V15</th>\n",
              "      <th>V16</th>\n",
              "      <th>V17</th>\n",
              "      <th>V18</th>\n",
              "      <th>V19</th>\n",
              "      <th>V20</th>\n",
              "      <th>V21</th>\n",
              "      <th>V22</th>\n",
              "      <th>V23</th>\n",
              "      <th>V24</th>\n",
              "      <th>V25</th>\n",
              "      <th>V26</th>\n",
              "      <th>V27</th>\n",
              "      <th>V28</th>\n",
              "      <th>Amount</th>\n",
              "      <th>Class</th>\n",
              "    </tr>\n",
              "  </thead>\n",
              "  <tbody>\n",
              "    <tr>\n",
              "      <th>0</th>\n",
              "      <td>0.0</td>\n",
              "      <td>-1.359807</td>\n",
              "      <td>-0.072781</td>\n",
              "      <td>2.536347</td>\n",
              "      <td>1.378155</td>\n",
              "      <td>-0.338321</td>\n",
              "      <td>0.462388</td>\n",
              "      <td>0.239599</td>\n",
              "      <td>0.098698</td>\n",
              "      <td>0.363787</td>\n",
              "      <td>0.090794</td>\n",
              "      <td>-0.551600</td>\n",
              "      <td>-0.617801</td>\n",
              "      <td>-0.991390</td>\n",
              "      <td>-0.311169</td>\n",
              "      <td>1.468177</td>\n",
              "      <td>-0.470401</td>\n",
              "      <td>0.207971</td>\n",
              "      <td>0.025791</td>\n",
              "      <td>0.403993</td>\n",
              "      <td>0.251412</td>\n",
              "      <td>-0.018307</td>\n",
              "      <td>0.277838</td>\n",
              "      <td>-0.110474</td>\n",
              "      <td>0.066928</td>\n",
              "      <td>0.128539</td>\n",
              "      <td>-0.189115</td>\n",
              "      <td>0.133558</td>\n",
              "      <td>-0.021053</td>\n",
              "      <td>149.62</td>\n",
              "      <td>0</td>\n",
              "    </tr>\n",
              "    <tr>\n",
              "      <th>1</th>\n",
              "      <td>0.0</td>\n",
              "      <td>1.191857</td>\n",
              "      <td>0.266151</td>\n",
              "      <td>0.166480</td>\n",
              "      <td>0.448154</td>\n",
              "      <td>0.060018</td>\n",
              "      <td>-0.082361</td>\n",
              "      <td>-0.078803</td>\n",
              "      <td>0.085102</td>\n",
              "      <td>-0.255425</td>\n",
              "      <td>-0.166974</td>\n",
              "      <td>1.612727</td>\n",
              "      <td>1.065235</td>\n",
              "      <td>0.489095</td>\n",
              "      <td>-0.143772</td>\n",
              "      <td>0.635558</td>\n",
              "      <td>0.463917</td>\n",
              "      <td>-0.114805</td>\n",
              "      <td>-0.183361</td>\n",
              "      <td>-0.145783</td>\n",
              "      <td>-0.069083</td>\n",
              "      <td>-0.225775</td>\n",
              "      <td>-0.638672</td>\n",
              "      <td>0.101288</td>\n",
              "      <td>-0.339846</td>\n",
              "      <td>0.167170</td>\n",
              "      <td>0.125895</td>\n",
              "      <td>-0.008983</td>\n",
              "      <td>0.014724</td>\n",
              "      <td>2.69</td>\n",
              "      <td>0</td>\n",
              "    </tr>\n",
              "    <tr>\n",
              "      <th>2</th>\n",
              "      <td>1.0</td>\n",
              "      <td>-1.358354</td>\n",
              "      <td>-1.340163</td>\n",
              "      <td>1.773209</td>\n",
              "      <td>0.379780</td>\n",
              "      <td>-0.503198</td>\n",
              "      <td>1.800499</td>\n",
              "      <td>0.791461</td>\n",
              "      <td>0.247676</td>\n",
              "      <td>-1.514654</td>\n",
              "      <td>0.207643</td>\n",
              "      <td>0.624501</td>\n",
              "      <td>0.066084</td>\n",
              "      <td>0.717293</td>\n",
              "      <td>-0.165946</td>\n",
              "      <td>2.345865</td>\n",
              "      <td>-2.890083</td>\n",
              "      <td>1.109969</td>\n",
              "      <td>-0.121359</td>\n",
              "      <td>-2.261857</td>\n",
              "      <td>0.524980</td>\n",
              "      <td>0.247998</td>\n",
              "      <td>0.771679</td>\n",
              "      <td>0.909412</td>\n",
              "      <td>-0.689281</td>\n",
              "      <td>-0.327642</td>\n",
              "      <td>-0.139097</td>\n",
              "      <td>-0.055353</td>\n",
              "      <td>-0.059752</td>\n",
              "      <td>378.66</td>\n",
              "      <td>0</td>\n",
              "    </tr>\n",
              "    <tr>\n",
              "      <th>3</th>\n",
              "      <td>1.0</td>\n",
              "      <td>-0.966272</td>\n",
              "      <td>-0.185226</td>\n",
              "      <td>1.792993</td>\n",
              "      <td>-0.863291</td>\n",
              "      <td>-0.010309</td>\n",
              "      <td>1.247203</td>\n",
              "      <td>0.237609</td>\n",
              "      <td>0.377436</td>\n",
              "      <td>-1.387024</td>\n",
              "      <td>-0.054952</td>\n",
              "      <td>-0.226487</td>\n",
              "      <td>0.178228</td>\n",
              "      <td>0.507757</td>\n",
              "      <td>-0.287924</td>\n",
              "      <td>-0.631418</td>\n",
              "      <td>-1.059647</td>\n",
              "      <td>-0.684093</td>\n",
              "      <td>1.965775</td>\n",
              "      <td>-1.232622</td>\n",
              "      <td>-0.208038</td>\n",
              "      <td>-0.108300</td>\n",
              "      <td>0.005274</td>\n",
              "      <td>-0.190321</td>\n",
              "      <td>-1.175575</td>\n",
              "      <td>0.647376</td>\n",
              "      <td>-0.221929</td>\n",
              "      <td>0.062723</td>\n",
              "      <td>0.061458</td>\n",
              "      <td>123.50</td>\n",
              "      <td>0</td>\n",
              "    </tr>\n",
              "    <tr>\n",
              "      <th>4</th>\n",
              "      <td>2.0</td>\n",
              "      <td>-1.158233</td>\n",
              "      <td>0.877737</td>\n",
              "      <td>1.548718</td>\n",
              "      <td>0.403034</td>\n",
              "      <td>-0.407193</td>\n",
              "      <td>0.095921</td>\n",
              "      <td>0.592941</td>\n",
              "      <td>-0.270533</td>\n",
              "      <td>0.817739</td>\n",
              "      <td>0.753074</td>\n",
              "      <td>-0.822843</td>\n",
              "      <td>0.538196</td>\n",
              "      <td>1.345852</td>\n",
              "      <td>-1.119670</td>\n",
              "      <td>0.175121</td>\n",
              "      <td>-0.451449</td>\n",
              "      <td>-0.237033</td>\n",
              "      <td>-0.038195</td>\n",
              "      <td>0.803487</td>\n",
              "      <td>0.408542</td>\n",
              "      <td>-0.009431</td>\n",
              "      <td>0.798278</td>\n",
              "      <td>-0.137458</td>\n",
              "      <td>0.141267</td>\n",
              "      <td>-0.206010</td>\n",
              "      <td>0.502292</td>\n",
              "      <td>0.219422</td>\n",
              "      <td>0.215153</td>\n",
              "      <td>69.99</td>\n",
              "      <td>0</td>\n",
              "    </tr>\n",
              "  </tbody>\n",
              "</table>\n",
              "</div>"
            ],
            "text/plain": [
              "   Time        V1        V2        V3  ...       V27       V28  Amount  Class\n",
              "0   0.0 -1.359807 -0.072781  2.536347  ...  0.133558 -0.021053  149.62      0\n",
              "1   0.0  1.191857  0.266151  0.166480  ... -0.008983  0.014724    2.69      0\n",
              "2   1.0 -1.358354 -1.340163  1.773209  ... -0.055353 -0.059752  378.66      0\n",
              "3   1.0 -0.966272 -0.185226  1.792993  ...  0.062723  0.061458  123.50      0\n",
              "4   2.0 -1.158233  0.877737  1.548718  ...  0.219422  0.215153   69.99      0\n",
              "\n",
              "[5 rows x 31 columns]"
            ]
          },
          "metadata": {},
          "execution_count": 4
        }
      ]
    },
    {
      "cell_type": "code",
      "metadata": {
        "id": "QUSVVz-jD4_U"
      },
      "source": [
        "data = df.drop(['Time'], axis=1)  # Удаляем столбец Time"
      ],
      "execution_count": 5,
      "outputs": []
    },
    {
      "cell_type": "code",
      "metadata": {
        "id": "w8j_vTBdEF4o"
      },
      "source": [
        "# Нормализуем столбец с суммой первода\n",
        "data['Amount'] = StandardScaler().fit_transform(data['Amount'].values.reshape(-1,1))"
      ],
      "execution_count": 7,
      "outputs": []
    },
    {
      "cell_type": "code",
      "metadata": {
        "id": "gsPDtuKrEbyB"
      },
      "source": [
        "# Записываем операции: frauds - мошеннические, normal - нормальные\n",
        "normal = data[data.Class == 0]\n",
        "frauds = data[data['Class'] == 1]\n"
      ],
      "execution_count": 8,
      "outputs": []
    },
    {
      "cell_type": "code",
      "metadata": {
        "colab": {
          "base_uri": "https://localhost:8080/"
        },
        "id": "Bpbrj889EsdJ",
        "outputId": "1eb67657-3a25-4910-8f67-05d6c934cfd6"
      },
      "source": [
        "print(\"Мошеннические операции\", frauds.shape)\n",
        "print(\"Нормальные операции\", normal.shape)"
      ],
      "execution_count": 9,
      "outputs": [
        {
          "output_type": "stream",
          "name": "stdout",
          "text": [
            "Мошеннические операции (492, 30)\n",
            "Нормальные операции (284315, 30)\n"
          ]
        }
      ]
    },
    {
      "cell_type": "code",
      "metadata": {
        "id": "KTZ4h-piEtqZ"
      },
      "source": [
        "RANDOM_SEED = 10  # Задаем случайное значение\n",
        "\n",
        "xTrain, xTest = train_test_split(normal, test_size=0.2, random_state=RANDOM_SEED)\n"
      ],
      "execution_count": 10,
      "outputs": []
    },
    {
      "cell_type": "code",
      "metadata": {
        "colab": {
          "base_uri": "https://localhost:8080/"
        },
        "id": "-t7CNxGQFJrF",
        "outputId": "c088953f-6e08-4df8-e6e7-9230b5ebbe21"
      },
      "source": [
        "print(\"Размер обучающей выборки:\", xTrain.shape)\n",
        "print(\"Размер тестовой выборки: \" , xTest.shape)"
      ],
      "execution_count": 11,
      "outputs": [
        {
          "output_type": "stream",
          "name": "stdout",
          "text": [
            "Размер обучающей выборки: (227452, 30)\n",
            "Размер тестовой выборки:  (56863, 30)\n"
          ]
        }
      ]
    },
    {
      "cell_type": "code",
      "metadata": {
        "id": "tpX6zOZiFEqc"
      },
      "source": [
        "# Удаляем Class в обучающем наборе\n",
        "xTrain = xTrain.drop(['Class'], axis=1)"
      ],
      "execution_count": 12,
      "outputs": []
    },
    {
      "cell_type": "code",
      "metadata": {
        "colab": {
          "base_uri": "https://localhost:8080/"
        },
        "id": "JZAc2vQYFZCJ",
        "outputId": "ba96a166-865f-4e2b-8eaa-8b138de33bf8"
      },
      "source": [
        "# Добавляем все мошеннические транзакции в тестовый набор данных\n",
        "xTest = pd.concat([xTest, frauds])\n",
        "print(\"Размер тестовой выборки вместе с мошенническими операциями: \" , xTest.shape)    # 56863 + 492 = 57355"
      ],
      "execution_count": 13,
      "outputs": [
        {
          "output_type": "stream",
          "name": "stdout",
          "text": [
            "Размер тестовой выборки вместе с мошенническими операциями:  (57355, 30)\n"
          ]
        }
      ]
    },
    {
      "cell_type": "code",
      "metadata": {
        "id": "tlpSdTvYF14v"
      },
      "source": [
        "# Делаем метки(ответы) для тестового набора данных\n",
        "yTest = xTest['Class']"
      ],
      "execution_count": 14,
      "outputs": []
    },
    {
      "cell_type": "code",
      "metadata": {
        "id": "Zhow3hr_F7iJ"
      },
      "source": [
        "# Удаляем класс у тестового набора данных\n",
        "xTest = xTest.drop(['Class'], axis=1)"
      ],
      "execution_count": 15,
      "outputs": []
    },
    {
      "cell_type": "code",
      "metadata": {
        "id": "RBwAQauzGHOj"
      },
      "source": [
        "# Преобразуем данные в массивы numpy\n",
        "xTrain = xTrain.values\n",
        "xTest = xTest.values"
      ],
      "execution_count": 16,
      "outputs": []
    },
    {
      "cell_type": "code",
      "metadata": {
        "colab": {
          "base_uri": "https://localhost:8080/"
        },
        "id": "WaCsbkpKGROR",
        "outputId": "e36a3b01-f185-4d00-d012-5074c0bf419b"
      },
      "source": [
        "print(\"Размер обучающей выборки:\", xTrain.shape)\n",
        "print(\"Размер тестовой выборки: \" , xTest.shape)"
      ],
      "execution_count": 20,
      "outputs": [
        {
          "output_type": "stream",
          "name": "stdout",
          "text": [
            "Размер обучающей выборки: (227452, 29)\n",
            "Размер тестовой выборки:  (57355, 29)\n"
          ]
        }
      ]
    },
    {
      "cell_type": "markdown",
      "metadata": {
        "id": "sBNMTfdfGVmD"
      },
      "source": [
        "## Функция создания автокодировщика"
      ]
    },
    {
      "cell_type": "code",
      "metadata": {
        "id": "kOT4wxOcGXP4"
      },
      "source": [
        "def Autoencoder():\n",
        "\n",
        "  dataSize = xTrain.shape[1]              # Берем размеры X_train по второй оси - (29)\n",
        "\n",
        "  dataInput = Input(shape=(dataSize, ))   # и задаем эти размеры как входные в сеть (29, )\n",
        "\n",
        "  x = Dense(10,activation='relu')(dataInput) \n",
        "  x = Dense(dataSize, activation='linear')(x)\n",
        "\n",
        "  autoencoder = Model(inputs=dataInput, outputs=x)\n",
        "\n",
        "  autoencoder.compile(optimizer='Adam', loss='mse')\n",
        "\n",
        "  return autoencoder"
      ],
      "execution_count": 24,
      "outputs": []
    },
    {
      "cell_type": "code",
      "metadata": {
        "id": "uSJoVb4IHooa"
      },
      "source": [
        "model = Autoencoder()"
      ],
      "execution_count": 25,
      "outputs": []
    },
    {
      "cell_type": "markdown",
      "metadata": {
        "id": "gACqys1HPE16"
      },
      "source": [
        "## Модель сети"
      ]
    },
    {
      "cell_type": "code",
      "metadata": {
        "colab": {
          "base_uri": "https://localhost:8080/"
        },
        "id": "sJpGahGfPE17",
        "outputId": "2147390e-caf9-4eb0-94b3-3f9a008fa593"
      },
      "source": [
        "model.summary()"
      ],
      "execution_count": 26,
      "outputs": [
        {
          "output_type": "stream",
          "name": "stdout",
          "text": [
            "Model: \"model\"\n",
            "_________________________________________________________________\n",
            "Layer (type)                 Output Shape              Param #   \n",
            "=================================================================\n",
            "input_2 (InputLayer)         [(None, 29)]              0         \n",
            "_________________________________________________________________\n",
            "dense_1 (Dense)              (None, 10)                300       \n",
            "_________________________________________________________________\n",
            "dense_2 (Dense)              (None, 29)                319       \n",
            "=================================================================\n",
            "Total params: 619\n",
            "Trainable params: 619\n",
            "Non-trainable params: 0\n",
            "_________________________________________________________________\n"
          ]
        }
      ]
    },
    {
      "cell_type": "code",
      "metadata": {
        "colab": {
          "base_uri": "https://localhost:8080/",
          "height": 217
        },
        "id": "ubyn1Y3VPE19",
        "outputId": "c98fb8c1-dcd9-4f10-bbf3-fa8d2ef49391"
      },
      "source": [
        "plot_model(model, dpi=65, show_shapes=True)"
      ],
      "execution_count": 27,
      "outputs": [
        {
          "output_type": "execute_result",
          "data": {
            "image/png": "[encoded data removed]",
            "text/plain": [
              "<IPython.core.display.Image object>"
            ]
          },
          "metadata": {},
          "execution_count": 27
        }
      ]
    },
    {
      "cell_type": "markdown",
      "metadata": {
        "id": "vWRZenEwPKti"
      },
      "source": [
        "## Обучение сети"
      ]
    },
    {
      "cell_type": "code",
      "metadata": {
        "id": "2c45zsiwHzNF"
      },
      "source": [
        "# Воспользуемся callback для лучшего обучения (изменения шага обучения)\n",
        "reduce_lr = ReduceLROnPlateau(monitor='loss', factor=0.2, patience=5, min_lr=0.0001)"
      ],
      "execution_count": 28,
      "outputs": []
    },
    {
      "cell_type": "code",
      "metadata": {
        "colab": {
          "base_uri": "https://localhost:8080/"
        },
        "id": "5GDt8JvRIhEE",
        "outputId": "510399e1-0da7-4c95-a5e3-29f79bd33866"
      },
      "source": [
        "historyCreditCard = model.fit(xTrain, xTrain, epochs=100, batch_size=100, callbacks=[reduce_lr])"
      ],
      "execution_count": 29,
      "outputs": [
        {
          "output_type": "stream",
          "name": "stdout",
          "text": [
            "Epoch 1/100\n",
            "2275/2275 [==============================] - 3s 954us/step - loss: 0.6016\n",
            "Epoch 2/100\n",
            "2275/2275 [==============================] - 2s 938us/step - loss: 0.3816\n",
            "Epoch 3/100\n",
            "2275/2275 [==============================] - 2s 938us/step - loss: 0.3687\n",
            "Epoch 4/100\n",
            "2275/2275 [==============================] - 2s 934us/step - loss: 0.3657\n",
            "Epoch 5/100\n",
            "2275/2275 [==============================] - 2s 952us/step - loss: 0.3601\n",
            "Epoch 6/100\n",
            "2275/2275 [==============================] - 2s 946us/step - loss: 0.3560\n",
            "Epoch 7/100\n",
            "2275/2275 [==============================] - 2s 928us/step - loss: 0.3552\n",
            "Epoch 8/100\n",
            "2275/2275 [==============================] - 2s 957us/step - loss: 0.3547\n",
            "Epoch 9/100\n",
            "2275/2275 [==============================] - 2s 947us/step - loss: 0.3547\n",
            "Epoch 10/100\n",
            "2275/2275 [==============================] - 2s 933us/step - loss: 0.3546\n",
            "Epoch 11/100\n",
            "2275/2275 [==============================] - 2s 958us/step - loss: 0.3546\n",
            "Epoch 12/100\n",
            "2275/2275 [==============================] - 2s 951us/step - loss: 0.3545\n",
            "Epoch 13/100\n",
            "2275/2275 [==============================] - 2s 959us/step - loss: 0.3545\n",
            "Epoch 14/100\n",
            "2275/2275 [==============================] - 2s 953us/step - loss: 0.3545\n",
            "Epoch 15/100\n",
            "2275/2275 [==============================] - 2s 941us/step - loss: 0.3546\n",
            "Epoch 16/100\n",
            "2275/2275 [==============================] - 2s 971us/step - loss: 0.3545\n",
            "Epoch 17/100\n",
            "2275/2275 [==============================] - 2s 938us/step - loss: 0.3544\n",
            "Epoch 18/100\n",
            "2275/2275 [==============================] - 2s 924us/step - loss: 0.3534\n",
            "Epoch 19/100\n",
            "2275/2275 [==============================] - 2s 929us/step - loss: 0.3534\n",
            "Epoch 20/100\n",
            "2275/2275 [==============================] - 2s 957us/step - loss: 0.3534\n",
            "Epoch 21/100\n",
            "2275/2275 [==============================] - 2s 949us/step - loss: 0.3534\n",
            "Epoch 22/100\n",
            "2275/2275 [==============================] - 2s 949us/step - loss: 0.3533\n",
            "Epoch 23/100\n",
            "2275/2275 [==============================] - 2s 949us/step - loss: 0.3534\n",
            "Epoch 24/100\n",
            "2275/2275 [==============================] - 2s 950us/step - loss: 0.3532\n",
            "Epoch 25/100\n",
            "2275/2275 [==============================] - 2s 950us/step - loss: 0.3532\n",
            "Epoch 26/100\n",
            "2275/2275 [==============================] - 2s 941us/step - loss: 0.3532\n",
            "Epoch 27/100\n",
            "2275/2275 [==============================] - 2s 950us/step - loss: 0.3532\n",
            "Epoch 28/100\n",
            "2275/2275 [==============================] - 2s 964us/step - loss: 0.3532\n",
            "Epoch 29/100\n",
            "2275/2275 [==============================] - 2s 943us/step - loss: 0.3532\n",
            "Epoch 30/100\n",
            "2275/2275 [==============================] - 2s 966us/step - loss: 0.3532\n",
            "Epoch 31/100\n",
            "2275/2275 [==============================] - 2s 942us/step - loss: 0.3532\n",
            "Epoch 32/100\n",
            "2275/2275 [==============================] - 2s 951us/step - loss: 0.3532\n",
            "Epoch 33/100\n",
            "2275/2275 [==============================] - 2s 936us/step - loss: 0.3532\n",
            "Epoch 34/100\n",
            "2275/2275 [==============================] - 2s 948us/step - loss: 0.3532\n",
            "Epoch 35/100\n",
            "2275/2275 [==============================] - 2s 964us/step - loss: 0.3532\n",
            "Epoch 36/100\n",
            "2275/2275 [==============================] - 2s 947us/step - loss: 0.3532\n",
            "Epoch 37/100\n",
            "2275/2275 [==============================] - 2s 949us/step - loss: 0.3532\n",
            "Epoch 38/100\n",
            "2275/2275 [==============================] - 2s 948us/step - loss: 0.3532\n",
            "Epoch 39/100\n",
            "2275/2275 [==============================] - 2s 958us/step - loss: 0.3532\n",
            "Epoch 40/100\n",
            "2275/2275 [==============================] - 2s 946us/step - loss: 0.3532\n",
            "Epoch 41/100\n",
            "2275/2275 [==============================] - 2s 949us/step - loss: 0.3532\n",
            "Epoch 42/100\n",
            "2275/2275 [==============================] - 2s 954us/step - loss: 0.3532\n",
            "Epoch 43/100\n",
            "2275/2275 [==============================] - 2s 952us/step - loss: 0.3532\n",
            "Epoch 44/100\n",
            "2275/2275 [==============================] - 2s 953us/step - loss: 0.3532\n",
            "Epoch 45/100\n",
            "2275/2275 [==============================] - 2s 951us/step - loss: 0.3532\n",
            "Epoch 46/100\n",
            "2275/2275 [==============================] - 2s 968us/step - loss: 0.3532\n",
            "Epoch 47/100\n",
            "2275/2275 [==============================] - 2s 940us/step - loss: 0.3531\n",
            "Epoch 48/100\n",
            "2275/2275 [==============================] - 2s 951us/step - loss: 0.3532\n",
            "Epoch 49/100\n",
            "2275/2275 [==============================] - 2s 941us/step - loss: 0.3532\n",
            "Epoch 50/100\n",
            "2275/2275 [==============================] - 2s 960us/step - loss: 0.3532\n",
            "Epoch 51/100\n",
            "2275/2275 [==============================] - 2s 961us/step - loss: 0.3532\n",
            "Epoch 52/100\n",
            "2275/2275 [==============================] - 2s 958us/step - loss: 0.3532\n",
            "Epoch 53/100\n",
            "2275/2275 [==============================] - 2s 953us/step - loss: 0.3532\n",
            "Epoch 54/100\n",
            "2275/2275 [==============================] - 2s 938us/step - loss: 0.3532\n",
            "Epoch 55/100\n",
            "2275/2275 [==============================] - 2s 932us/step - loss: 0.3532\n",
            "Epoch 56/100\n",
            "2275/2275 [==============================] - 2s 962us/step - loss: 0.3532\n",
            "Epoch 57/100\n",
            "2275/2275 [==============================] - 2s 948us/step - loss: 0.3532\n",
            "Epoch 58/100\n",
            "2275/2275 [==============================] - 2s 923us/step - loss: 0.3532\n",
            "Epoch 59/100\n",
            "2275/2275 [==============================] - 2s 943us/step - loss: 0.3532\n",
            "Epoch 60/100\n",
            "2275/2275 [==============================] - 2s 937us/step - loss: 0.3531\n",
            "Epoch 61/100\n",
            "2275/2275 [==============================] - 2s 966us/step - loss: 0.3532\n",
            "Epoch 62/100\n",
            "2275/2275 [==============================] - 2s 938us/step - loss: 0.3532\n",
            "Epoch 63/100\n",
            "2275/2275 [==============================] - 2s 925us/step - loss: 0.3532\n",
            "Epoch 64/100\n",
            "2275/2275 [==============================] - 2s 923us/step - loss: 0.3532\n",
            "Epoch 65/100\n",
            "2275/2275 [==============================] - 2s 965us/step - loss: 0.3531\n",
            "Epoch 66/100\n",
            "2275/2275 [==============================] - 2s 946us/step - loss: 0.3532\n",
            "Epoch 67/100\n",
            "2275/2275 [==============================] - 2s 962us/step - loss: 0.3532\n",
            "Epoch 68/100\n",
            "2275/2275 [==============================] - 2s 937us/step - loss: 0.3532\n",
            "Epoch 69/100\n",
            "2275/2275 [==============================] - 2s 936us/step - loss: 0.3532\n",
            "Epoch 70/100\n",
            "2275/2275 [==============================] - 2s 931us/step - loss: 0.3532\n",
            "Epoch 71/100\n",
            "2275/2275 [==============================] - 2s 953us/step - loss: 0.3532\n",
            "Epoch 72/100\n",
            "2275/2275 [==============================] - 2s 946us/step - loss: 0.3532\n",
            "Epoch 73/100\n",
            "2275/2275 [==============================] - 2s 948us/step - loss: 0.3531\n",
            "Epoch 74/100\n",
            "2275/2275 [==============================] - 2s 962us/step - loss: 0.3531\n",
            "Epoch 75/100\n",
            "2275/2275 [==============================] - 2s 945us/step - loss: 0.3532\n",
            "Epoch 76/100\n",
            "2275/2275 [==============================] - 2s 958us/step - loss: 0.3531\n",
            "Epoch 77/100\n",
            "2275/2275 [==============================] - 2s 934us/step - loss: 0.3531\n",
            "Epoch 78/100\n",
            "2275/2275 [==============================] - 2s 958us/step - loss: 0.3532\n",
            "Epoch 79/100\n",
            "2275/2275 [==============================] - 2s 953us/step - loss: 0.3532\n",
            "Epoch 80/100\n",
            "2275/2275 [==============================] - 2s 942us/step - loss: 0.3532\n",
            "Epoch 81/100\n",
            "2275/2275 [==============================] - 2s 945us/step - loss: 0.3532\n",
            "Epoch 82/100\n",
            "2275/2275 [==============================] - 2s 948us/step - loss: 0.3531\n",
            "Epoch 83/100\n",
            "2275/2275 [==============================] - 2s 941us/step - loss: 0.3532\n",
            "Epoch 84/100\n",
            "2275/2275 [==============================] - 2s 959us/step - loss: 0.3532\n",
            "Epoch 85/100\n",
            "2275/2275 [==============================] - 2s 942us/step - loss: 0.3532\n",
            "Epoch 86/100\n",
            "2275/2275 [==============================] - 2s 946us/step - loss: 0.3531\n",
            "Epoch 87/100\n",
            "2275/2275 [==============================] - 2s 958us/step - loss: 0.3531\n",
            "Epoch 88/100\n",
            "2275/2275 [==============================] - 2s 940us/step - loss: 0.3532\n",
            "Epoch 89/100\n",
            "2275/2275 [==============================] - 2s 951us/step - loss: 0.3531\n",
            "Epoch 90/100\n",
            "2275/2275 [==============================] - 2s 968us/step - loss: 0.3532\n",
            "Epoch 91/100\n",
            "2275/2275 [==============================] - 2s 944us/step - loss: 0.3531\n",
            "Epoch 92/100\n",
            "2275/2275 [==============================] - 2s 958us/step - loss: 0.3532\n",
            "Epoch 93/100\n",
            "2275/2275 [==============================] - 2s 939us/step - loss: 0.3532\n",
            "Epoch 94/100\n",
            "2275/2275 [==============================] - 2s 956us/step - loss: 0.3531\n",
            "Epoch 95/100\n",
            "2275/2275 [==============================] - 2s 954us/step - loss: 0.3532\n",
            "Epoch 96/100\n",
            "2275/2275 [==============================] - 2s 950us/step - loss: 0.3532\n",
            "Epoch 97/100\n",
            "2275/2275 [==============================] - 2s 948us/step - loss: 0.3531\n",
            "Epoch 98/100\n",
            "2275/2275 [==============================] - 2s 961us/step - loss: 0.3531\n",
            "Epoch 99/100\n",
            "2275/2275 [==============================] - 2s 941us/step - loss: 0.3532\n",
            "Epoch 100/100\n",
            "2275/2275 [==============================] - 2s 931us/step - loss: 0.3531\n"
          ]
        }
      ]
    },
    {
      "cell_type": "code",
      "metadata": {
        "id": "2SaPpj8GJMUP"
      },
      "source": [
        "model.save_weights('/content/drive/MyDrive/УИИ/Автокодировщики/Результат/modelCreditPro.h5')\n",
        "# model.load_weights('/content/drive/MyDrive/УИИ/Автокодировщики/Результат/modelCreditPro.h5')"
      ],
      "execution_count": 30,
      "outputs": []
    },
    {
      "cell_type": "markdown",
      "metadata": {
        "id": "4rn1iCj1JQqy"
      },
      "source": [
        "## График обучения"
      ]
    },
    {
      "cell_type": "code",
      "metadata": {
        "colab": {
          "base_uri": "https://localhost:8080/",
          "height": 428
        },
        "id": "3VSvHaImJT5c",
        "outputId": "b110fff2-2f6c-4136-cd33-beb7d95aefa6"
      },
      "source": [
        "plt.figure(figsize=(14,7))\n",
        "plt.plot(historyCreditCard.history['loss'][10:], label='Ошибка')\n",
        "plt.ylabel('Средняя ошибка')\n",
        "plt.legend()\n",
        "plt.show()"
      ],
      "execution_count": 31,
      "outputs": [
        {
          "output_type": "display_data",
          "data": {
            "image/png": "[encoded data removed]",
            "text/plain": [
              "<Figure size 1008x504 with 1 Axes>"
            ]
          },
          "metadata": {
            "needs_background": "light"
          }
        }
      ]
    },
    {
      "cell_type": "markdown",
      "metadata": {
        "id": "naUWAjcYJ9xs"
      },
      "source": [
        "## Результат"
      ]
    },
    {
      "cell_type": "code",
      "metadata": {
        "id": "UDXucKmgKAY_"
      },
      "source": [
        "# Делаем предикт\n",
        "pred = model.predict(xTest)"
      ],
      "execution_count": 32,
      "outputs": []
    },
    {
      "cell_type": "code",
      "metadata": {
        "id": "OugWAeb0KRT5"
      },
      "source": [
        "# Определяем среднеквадратичную ошибку\n",
        "mse = np.mean(np.power(xTest-pred, 2), axis=1) "
      ],
      "execution_count": 33,
      "outputs": []
    },
    {
      "cell_type": "code",
      "metadata": {
        "id": "2de3GWSTKcAy"
      },
      "source": [
        "mse_normal = mse[yTest.values == 0]   # Через маску найдем среднеквадратичную ошибку на нормальных операциях\n",
        "mse_frauds = mse[yTest.values == 1]   # Через маску найдем среднеквадратичную ошибку на мошеннических операциях"
      ],
      "execution_count": 34,
      "outputs": []
    },
    {
      "cell_type": "code",
      "metadata": {
        "colab": {
          "base_uri": "https://localhost:8080/"
        },
        "id": "Eb62f7Kg7-5I",
        "outputId": "daecc85e-d027-4e50-85a4-affdca49bcde"
      },
      "source": [
        "print(\"Минимальная ошибка нормальных транзакций: \", round(min(mse_normal), 4)) \n",
        "print(\"Максимальная ошибка нормальных транзакций:\", round(max(mse_normal), 4)) \n",
        "print(\"Средняя ошибка нормальных транзакций:     \", round(sum(mse_normal) / len(mse_normal), 4)) "
      ],
      "execution_count": 35,
      "outputs": [
        {
          "output_type": "stream",
          "name": "stdout",
          "text": [
            "Минимальная ошибка нормальных транзакций:  0.0432\n",
            "Максимальная ошибка нормальных транзакций: 87.0871\n",
            "Средняя ошибка нормальных транзакций:      0.3502\n"
          ]
        }
      ]
    },
    {
      "cell_type": "code",
      "metadata": {
        "colab": {
          "base_uri": "https://localhost:8080/"
        },
        "id": "W9Plb8fo81fu",
        "outputId": "0cb75f26-10d1-4d1e-81a4-d21d32ed52ff"
      },
      "source": [
        "print(\"Минимальная ошибка мошеннических транзакций: \", round(min(mse_frauds),4))\n",
        "print(\"Максимальная ошибка мошеннических транзакций:\", round(max(mse_frauds),4)) \n",
        "print(\"Средняя ошибка мошеннических транзакций:     \", round(sum(mse_frauds) / len(mse_frauds),4)) "
      ],
      "execution_count": 36,
      "outputs": [
        {
          "output_type": "stream",
          "name": "stdout",
          "text": [
            "Минимальная ошибка мошеннических транзакций:  0.1578\n",
            "Максимальная ошибка мошеннических транзакций: 94.1654\n",
            "Средняя ошибка мошеннических транзакций:      18.7449\n"
          ]
        }
      ]
    },
    {
      "cell_type": "code",
      "metadata": {
        "id": "VWC8YxJHCnPT"
      },
      "source": [
        "#  Расставим значения на числовой прямой\n",
        "\n",
        "#      MinN     MinF      MeanN     MeanF      MaxN     MaxF\n",
        "#      0.04     0.158     0.3502    18.78      86.73    94.76\n",
        "#   ----x---------x---------x---------x----------x--------x----->"
      ],
      "execution_count": null,
      "outputs": []
    },
    {
      "cell_type": "code",
      "metadata": {
        "id": "n2FcLzcG9Bkb"
      },
      "source": [
        "def getACCByBias(bias):\n",
        "  isNormal = mse_normal < bias   # если ошибка меньше порога - то транзакция нормальная\n",
        "  isFrauds = mse_frauds > bias   # если ошибка больше порога - то транзакция мошенническая\n",
        "\n",
        "  accNormal = sum(isNormal) / len(isNormal)  # Процент нормальных операций\n",
        "  accFrauds = sum(isFrauds) / len(isFrauds)  # Процент мошеннических операций\n",
        "\n",
        "  print(\"Распознано нормальных транзакций: \", round(100 * accNormal), \"%\")\n",
        "  print(\"Распознано мошеннических транзакций: \", round(100 * accFrauds), \"%\")\n",
        "  print(\"Средняя точность распознавания: \", round((100 * (accNormal + accFrauds))/ 2), \"%\")"
      ],
      "execution_count": 37,
      "outputs": []
    },
    {
      "cell_type": "markdown",
      "metadata": {
        "id": "XMLjJ1LNLqr2"
      },
      "source": [
        "**Попробуем разное пороговое значение**"
      ]
    },
    {
      "cell_type": "code",
      "metadata": {
        "id": "tomYLHVsAAf7",
        "colab": {
          "base_uri": "https://localhost:8080/"
        },
        "outputId": "50e9c3ab-f6a0-4deb-8d81-7b24b789ffec"
      },
      "source": [
        "getACCByBias(0.65)"
      ],
      "execution_count": 38,
      "outputs": [
        {
          "output_type": "stream",
          "name": "stdout",
          "text": [
            "Распознано нормальных транзакций:  93 %\n",
            "Распознано мошеннических транзакций:  89 %\n",
            "Средняя точность распознавания:  91 %\n"
          ]
        }
      ]
    },
    {
      "cell_type": "code",
      "metadata": {
        "colab": {
          "base_uri": "https://localhost:8080/"
        },
        "id": "Av0D9spyK6q0",
        "outputId": "07f3b66a-feb5-4090-8ec5-ead8dac58736"
      },
      "source": [
        "getACCByBias(0.7)"
      ],
      "execution_count": 39,
      "outputs": [
        {
          "output_type": "stream",
          "name": "stdout",
          "text": [
            "Распознано нормальных транзакций:  94 %\n",
            "Распознано мошеннических транзакций:  88 %\n",
            "Средняя точность распознавания:  91 %\n"
          ]
        }
      ]
    },
    {
      "cell_type": "code",
      "metadata": {
        "colab": {
          "base_uri": "https://localhost:8080/"
        },
        "id": "7Nj6hMnSLJKw",
        "outputId": "2ce46f1a-ebc0-4932-92ca-dab7584ef72e"
      },
      "source": [
        "getACCByBias(0.6)"
      ],
      "execution_count": 40,
      "outputs": [
        {
          "output_type": "stream",
          "name": "stdout",
          "text": [
            "Распознано нормальных транзакций:  91 %\n",
            "Распознано мошеннических транзакций:  91 %\n",
            "Средняя точность распознавания:  91 %\n"
          ]
        }
      ]
    },
    {
      "cell_type": "code",
      "metadata": {
        "colab": {
          "base_uri": "https://localhost:8080/"
        },
        "id": "l1ABfxJGLa-O",
        "outputId": "a4af1460-ab69-4f5c-aa74-7088ec072fba"
      },
      "source": [
        "getACCByBias(0.8)"
      ],
      "execution_count": 41,
      "outputs": [
        {
          "output_type": "stream",
          "name": "stdout",
          "text": [
            "Распознано нормальных транзакций:  96 %\n",
            "Распознано мошеннических транзакций:  88 %\n",
            "Средняя точность распознавания:  92 %\n"
          ]
        }
      ]
    },
    {
      "cell_type": "code",
      "metadata": {
        "colab": {
          "base_uri": "https://localhost:8080/"
        },
        "id": "McWl50EcOD_t",
        "outputId": "98cb4e85-1c98-43d3-e3d9-2231e83354e3"
      },
      "source": [
        "getACCByBias(0.85)"
      ],
      "execution_count": 42,
      "outputs": [
        {
          "output_type": "stream",
          "name": "stdout",
          "text": [
            "Распознано нормальных транзакций:  97 %\n",
            "Распознано мошеннических транзакций:  87 %\n",
            "Средняя точность распознавания:  92 %\n"
          ]
        }
      ]
    },
    {
      "cell_type": "code",
      "metadata": {
        "colab": {
          "base_uri": "https://localhost:8080/"
        },
        "id": "qB1RA4FWOMHU",
        "outputId": "3b3ce1b4-c1da-404a-e924-001ea41fe2de"
      },
      "source": [
        "getACCByBias(0.9)"
      ],
      "execution_count": 43,
      "outputs": [
        {
          "output_type": "stream",
          "name": "stdout",
          "text": [
            "Распознано нормальных транзакций:  97 %\n",
            "Распознано мошеннических транзакций:  87 %\n",
            "Средняя точность распознавания:  92 %\n"
          ]
        }
      ]
    }
  ]
}