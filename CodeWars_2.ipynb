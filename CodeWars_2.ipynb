{
  "nbformat": 4,
  "nbformat_minor": 0,
  "metadata": {
    "colab": {
      "name": "CodeWars - 2",
      "provenance": [],
      "collapsed_sections": []
    },
    "kernelspec": {
      "name": "python3",
      "display_name": "Python 3"
    },
    "language_info": {
      "name": "python"
    }
  },
  "cells": [
    {
      "cell_type": "markdown",
      "metadata": {
        "id": "6YSimH4MwmMY"
      },
      "source": [
        "# Задача 216(7) Alphabet symmetry"
      ]
    },
    {
      "cell_type": "markdown",
      "metadata": {
        "id": "FTZ5M7mHwrOA"
      },
      "source": [
        "Consider the word \"abode\". We can see that the letter a is in position 1 and b is in position 2. In the alphabet, a and b are also in positions 1 and 2. Notice also that d and e in abode occupy the positions they would occupy in the alphabet, which are positions 4 and 5.\n",
        "\n",
        "Given an array of words, return an array of the number of letters that occupy their positions in the alphabet for each word. For example,\n",
        "\n",
        "solve([\"abode\",\"ABc\",\"xyzD\"]) = [4, 3, 1]\n",
        "\n",
        "See test cases for more examples.\n",
        "\n",
        "Input will consist of alphabet characters, both uppercase and lowercase. No spaces.\n",
        "\n",
        "Good luck!"
      ]
    },
    {
      "cell_type": "code",
      "metadata": {
        "id": "cMqeDI6IwlNr"
      },
      "source": [
        "#0\n",
        "def solve(arr):\n",
        "    l = []\n",
        "    for i in arr:\n",
        "        l.append(i.lower())\n",
        "    lst = []\n",
        "    s = 'abcdefghijklmnopqrstuvwxyz'\n",
        "    for i in l:\n",
        "        count = 0\n",
        "        for j, item in enumerate(i):\n",
        "            if j == s.index(item):\n",
        "                count += 1\n",
        "        lst.append(count)\n",
        "    return lst\n",
        "\n",
        "\n",
        "#1\n",
        "def solve(arr):\n",
        "    l = []\n",
        "    for i in arr:\n",
        "        l.append(i.lower())\n",
        "    lst = []\n",
        "    s = 'abcdefghijklmnopqrstuvwxyz'\n",
        "    for i in l:\n",
        "        lst.append(sum([j == s.index(item) for j, item in enumerate(i)]))\n",
        "    return lst\n",
        "\n",
        "#2\n",
        "def solve(arr):\n",
        "    arr = [i.lower() for i in arr]\n",
        "    lst = []\n",
        "    s = 'abcdefghijklmnopqrstuvwxyz'\n",
        "    for i in arr:\n",
        "        lst.append(sum([j == s.index(item) for j, item in enumerate(i)]))\n",
        "    return lst\n",
        "\n",
        "#3\n",
        "def solve(arr):\n",
        "    s = 'abcdefghijklmnopqrstuvwxyz'\n",
        "    return [sum([j == s.index(item) for j, item in enumerate(i.lower())]) for i in arr]"
      ],
      "execution_count": null,
      "outputs": []
    },
    {
      "cell_type": "code",
      "metadata": {
        "id": "QEtWRXiF1xGL"
      },
      "source": [
        "#0 \n",
        "def solve(arr):\n",
        "    return [ sum(c == chr(97+i) for i,c in enumerate(w[:26].lower())) for w in arr ]\n",
        "\n",
        "#1\n",
        "def solve(words):\n",
        "  return [sum(a==b for a, b in zip(w.lower(), 'abcdefghijklmnopqrstuvwxyz')) for w in words]\n",
        "\n",
        "#2\n",
        "def solve(arr):\n",
        "    return [sum(ord(c.lower()) == i for i, c in enumerate(w, 97)) for w in arr]"
      ],
      "execution_count": null,
      "outputs": []
    },
    {
      "cell_type": "markdown",
      "metadata": {
        "id": "VreMerJ0A15l"
      },
      "source": [
        "# Задача 217(7) Cost of my ride"
      ]
    },
    {
      "cell_type": "markdown",
      "metadata": {
        "id": "frz7wCEzA2f_"
      },
      "source": [
        "This Kata is intended as a small challenge for my students\n",
        "\n",
        "Create a function, called insurance(), that computes the cost of renting a car. The function takes 3 arguments: the age of the renter, the size of the car, and the number days for the rental. The function should return an integer number of the calculated total cost of the rental.\n",
        "\n",
        "Age (integer) : There is a daily charge of $10 if the driver is under 25\n",
        "\n",
        "Car Size (string) : There may be an additional daily charge based on the car size:\n",
        "\n",
        "car size surcharge \"economy\" $0 \"medium\" $10 \"full-size\" $15\n",
        "\n",
        "Rental Days (integer) : There is a base daily charge of $50 for renting a car. Simply multiply the one day cost by the number of days the car is rented in order to get the full cost.\n",
        "\n",
        "Note: Negative rental days should return 0 cost. Any other car size NOT listed should come with a same surcharge as the \"full-size\", $15.\n",
        "\n",
        "insurance(18, \"medium\", 7); // => 490\n",
        "\n",
        "insurance(30,\"full-size\",30); // => 1950\n",
        "\n",
        "insurance(21,\"economy\",-10); // => 0\n",
        "\n",
        "insurance(42,\"my custom car\",7); // => 455"
      ]
    },
    {
      "cell_type": "code",
      "metadata": {
        "id": "H8s5QssMA2x_"
      },
      "source": [
        "#0\n",
        "def insurance(age, size, num_of_days): \n",
        "    s1 = 0\n",
        "    s2 = 0 \n",
        "    s3 = 0\n",
        "    \n",
        "    if num_of_days > 0:\n",
        "        s3 = num_of_days * 50\n",
        "    else:\n",
        "        return 0\n",
        "    \n",
        "    if size == \"medium\":\n",
        "        s2 += 10 * num_of_days\n",
        "    elif size == \"economy\":\n",
        "        s2 += 0\n",
        "    else:\n",
        "        s2 += 15 * num_of_days\n",
        "    \n",
        "    \n",
        "    if age < 25:\n",
        "        s1 += 10 * num_of_days\n",
        "    \n",
        "    return s1+s2+s3"
      ],
      "execution_count": null,
      "outputs": []
    },
    {
      "cell_type": "code",
      "metadata": {
        "id": "k2kV7XV_DUat"
      },
      "source": [
        "#1\n",
        "def insurance(age, size, num_of_days): \n",
        "    \n",
        "    if num_of_days <= 0:\n",
        "        return 0\n",
        "    \n",
        "    cost = 0\n",
        "    one_day_cost = 50\n",
        "      \n",
        "    if size == \"medium\":\n",
        "        one_day_cost += 10\n",
        "        \n",
        "    elif size != 'economy':\n",
        "        one_day_cost += 15\n",
        "        \n",
        "    if age<25:\n",
        "        one_day_cost += 10\n",
        "        \n",
        "    cost = one_day_cost * num_of_days\n",
        "    return cost\n",
        "\n",
        "#1\n",
        "sc={'economy':0,'medium':10,'full-size':15}\n",
        "\n",
        "def insurance(a,s,n): \n",
        "    return (50+(a<25)*10+sc.get(s,15))*max(0,n)\n",
        "\n",
        "#2\n",
        "sc={'economy':0,'medium':10,'full-size':15}\n",
        "\n",
        "def insurance(a,s,n): \n",
        "    return (50+(a<25)*10+sc.get(s,15))*max(0,n)\n",
        "\n",
        "#3\n",
        "SIZES = {'full-size':15, 'medium':10, 'economy':0}\n",
        "\n",
        "    \n",
        "def insurance(age, size, num_of_days): \n",
        "    return max(0,num_of_days) * ( 50 + 10*(age<25) + SIZES.get(size,15) )"
      ],
      "execution_count": null,
      "outputs": []
    },
    {
      "cell_type": "markdown",
      "metadata": {
        "id": "i_zPGVHv0-3b"
      },
      "source": [
        "# Задача 218(7) Strings: swap vowels' case"
      ]
    },
    {
      "cell_type": "markdown",
      "metadata": {
        "id": "NDiZm4Gz1BbZ"
      },
      "source": [
        "Special thanks to SteffenVogel_79 for the idea.\n",
        "\n",
        "Challenge:\n",
        "\n",
        "Given a string, return a copy of the string with the vowels' case swapped.\n",
        "\n",
        "For this kata, assume that vowels are in the set \"aeouiAEOUI\".\n",
        "\n",
        "Example: Given a string \"C is alive!\", your function should return \"C Is AlIvE!\"\n",
        "\n",
        "Addendum: Your solution is only required to work for the ASCII character set.\n",
        "\n",
        "Please make sure you only swap cases for the vowels.\n",
        "\n",
        "swap_vowel_case(\" \"), \" \")\n",
        "\n",
        "swap_vowel_case(\"C Is AlIvE!\"), \"C is alive!\")\n",
        "\n",
        "swap_vowel_case(\"to\"), \"tO\"\n",
        "\n",
        "swap_vowel_case(\"The\"), \"ThE\")"
      ]
    },
    {
      "cell_type": "code",
      "metadata": {
        "id": "zchr2-Fr1Hwo"
      },
      "source": [
        "#0 \n",
        "def swap_vowel_case(st): \n",
        "    vowels_low = \"aeoui\"\n",
        "    vowels_up =  \"AEUIO\"\n",
        "    lst = []\n",
        "    for i, item in enumerate(st):\n",
        "        if item in vowels_low:\n",
        "            lst.append(item.upper())\n",
        "        elif item in vowels_up:\n",
        "            lst.append(item.lower())\n",
        "        else:\n",
        "            lst.append(item)\n",
        "    return \"\".join(lst)"
      ],
      "execution_count": null,
      "outputs": []
    },
    {
      "cell_type": "code",
      "metadata": {
        "id": "PQwXFEPH1LtA"
      },
      "source": [
        "#1\n",
        "def swap_vowel_case(st): \n",
        "    return \"\".join(x.swapcase() if x in \"aeiouAEIOU\" else x for x in st)\n",
        "\n",
        "#2\n",
        "T = str.maketrans(\"aiueoAIUEO\", \"AIUEOaiueo\")\n",
        "\n",
        "def swap_vowel_case(s):\n",
        "    return s.translate(T)\n",
        "\n",
        "#3\n",
        "swap_vowel_case=lambda s:s.translate(s.maketrans('AEIOUaeiou','aeiouAEIOU'))\n",
        "\n",
        "#4\n",
        "def swap_vowel_case(st): \n",
        "    vowl = 'aeouiAEOUI'\n",
        "    for char in st: \n",
        "        if char in vowl: \n",
        "            st = st.replace(char, char.swapcase())\n",
        "    return st\n",
        "\n",
        "#5\n",
        "def swap_vowel_case(st): \n",
        "    return ''.join({\n",
        "        'a': 'A', 'A': 'a', 'i': 'I', 'I': 'i', 'o': 'O',\n",
        "        'u': 'U', 'U': 'u', 'e': 'E', 'E': 'e', 'O': 'o'\n",
        "    }.get(x, x) for x in st)"
      ],
      "execution_count": null,
      "outputs": []
    },
    {
      "cell_type": "markdown",
      "metadata": {
        "id": "fhDzUbl03WB6"
      },
      "source": [
        "# Задача 219(7) Remove duplicate words"
      ]
    },
    {
      "cell_type": "markdown",
      "metadata": {
        "id": "hj0ZhT0O3b97"
      },
      "source": [
        "Your task is to remove all duplicate words from a string, leaving only single (first) words entries.\n",
        "\n",
        "Example:\n",
        "\n",
        "Input:\n",
        "\n",
        "'alpha beta beta gamma gamma gamma delta alpha beta beta gamma gamma gamma delta'\n",
        "\n",
        "Output:\n",
        "\n",
        "'alpha beta gamma delta'"
      ]
    },
    {
      "cell_type": "code",
      "metadata": {
        "id": "FDZ3RFwiyFdz"
      },
      "source": [
        "#0 \n",
        "def remove_duplicate_words(s):\n",
        "    lst = []\n",
        "    for i in s.split():\n",
        "        if i not in lst:\n",
        "            lst.append(i)\n",
        "    return \" \".join(lst)"
      ],
      "execution_count": null,
      "outputs": []
    },
    {
      "cell_type": "code",
      "metadata": {
        "id": "yU2pwveP3kax"
      },
      "source": [
        "#1\n",
        "def remove_duplicate_words(s):\n",
        "    return ' '.join(dict.fromkeys(s.split()))\n",
        "\n",
        "#2\n",
        "def remove_duplicate_words(s):\n",
        "    return ' '.join(sorted(set(s.split()), key = s.index))\n",
        "\n",
        "#3\n",
        "def remove_duplicate_words(s):\n",
        "    a=[]\n",
        "    [a.append(v) for v in s.split(\" \") if v not in a]\n",
        "    return str(\" \").join(a)\n",
        "\n",
        "#4\n",
        "from collections import OrderedDict\n",
        "remove_duplicate_words=lambda s:' '.join(OrderedDict.fromkeys(s.split(' ')))\n",
        "\n",
        "#5\n",
        "def remove_duplicate_words(s):\n",
        "    return ' '.join({i:0 for i in s.split()})"
      ],
      "execution_count": null,
      "outputs": []
    },
    {
      "cell_type": "markdown",
      "metadata": {
        "id": "I8QtXBmS-RuT"
      },
      "source": [
        "# Задача 220(7) Sequence Determiner"
      ]
    },
    {
      "cell_type": "markdown",
      "metadata": {
        "id": "tWed_emU-ZtA"
      },
      "source": [
        "A sequence of numbers is called an Arithmetic Progression if the difference between any two consecutive terms is always same. In simple terms, it means that next number in the series is calculated by adding a fixed number to the previous number in the series. This fixed number is called the common difference.\n",
        "\n",
        "A sequence of numbers is called a Geometric Progression if the ratio of any two consecutive terms is always same. In simple terms, it means that next number in the series is calculated by multiplying a fixed number to the previous number in the series. This fixed number is called the common ratio.\n",
        "\n",
        "Rules\n",
        "Given an array of integers that follow either series, you have to determine the series and return accordingly :\n",
        "\n",
        "\"0\" if it is an AP\n",
        "\n",
        "\"1\" if it is a GP\n",
        "\n",
        "\"-1\" if it doesn't follow any of the above sequences\n",
        "\n",
        "\"2\" if it is both an AP and GP\n",
        "\n",
        "For Example,\n",
        "\n",
        "  series_array = [2, 5, 8, 11, 14]   #should return 0\n",
        "\n",
        "  series_array = [1, 2, 4, 8, 16]    #should return 1\n",
        "\n",
        "  series_array = [1, 2, 1, 3, 4, 5]  #should return -1\n",
        "\n",
        "  series_array = [1, 1, 1, 1, 1]     #should return 2\n",
        "\n",
        "  series_array = [0, 0, 0, 0, 0]     #should return 0\n",
        "\n",
        "The main challenge is identifying the differences between the 2 sequences and to find a way of determining each sequence\n",
        "\n",
        "If the series has all 0's, then 0 should be returned as it is not accepted as a term GP\n",
        "\n",
        "NOTE : Only APs and GPs are considered in this question. Other series like Harmonic Progression are not considered and assume that the array will have atleast\n",
        "\n",
        "\n",
        "determine_sequence([2, 5, 8, 11, 14]), 0) #It is an AP\n",
        "\n",
        "determine_sequence([1, 2, 4, 8, 16]), 1) #It is a GP\n",
        "\n",
        "determine_sequence([1, 2, 1, 3, 4, 5]), -1) #It is not a series\n",
        "\n",
        "determine_sequence([1, 1, 1, 1, 1]), 2) #It is both an AP and GP\n",
        "\n",
        "determine_sequence([1, 0, 0, 0, 0]), -1)\n",
        "\n",
        "determine_sequence([100, 0, 0, 0, 0]), -1)"
      ]
    },
    {
      "cell_type": "code",
      "metadata": {
        "id": "aZwCk-V3-pn4"
      },
      "source": [
        "#0 \n",
        "def determine_sequence(series_array):\n",
        "    \n",
        "    AP = 0 \n",
        "    GP = 0\n",
        "    \n",
        "    if sum(series_array) == 0:\n",
        "        return 0\n",
        "    \n",
        "    for i in series_array:\n",
        "        if i == 0:\n",
        "            return -1\n",
        "    \n",
        "    \n",
        "    for i  in range(1):\n",
        "        \n",
        "        if series_array[i+1] == series_array[i] and  series_array[i+2] == series_array[i+1] and series_array[i+3] == series_array[i+2]:\n",
        "            return 2\n",
        "        \n",
        "        if series_array[i+1] - series_array[i] == series_array[i+2] - series_array[i+1] and series_array[i+2] - series_array[i+1] == series_array[i+3] - series_array[i+2] and series_array[i+3] - series_array[i+2] == series_array[i+4] - series_array[i+3]:\n",
        "            AP = 1\n",
        "        if series_array[i+1] / series_array[i] == series_array[i+2] / series_array[i+1] and series_array[i+2] / series_array[i+1] == series_array[i+3] / series_array[i+2] and series_array[i+3] / series_array[i+2] == series_array[i+4] / series_array[i+3]:\n",
        "            GP = 1\n",
        "    \n",
        "    if AP: return 0\n",
        "    if GP: return 1\n",
        "        \n",
        "    return -1"
      ],
      "execution_count": null,
      "outputs": []
    },
    {
      "cell_type": "code",
      "metadata": {
        "id": "3em-BvAF-rj4"
      },
      "source": [
        "#1\n",
        "\n",
        "def determine_sequence(a):\n",
        "    ap = a[0]-a[1] == a[1]-a[2] and a[0]-a[1] == a[2]-a[3] and a[0]-a[1] == a[3]-a[4]\n",
        "    try: gp = a[0]/a[1] == a[1]/a[2] and a[0]/a[1] == a[2]/a[3] and a[0]/a[1] == a[3]/a[4]\n",
        "    except: gp = False\n",
        "    return 2 if ap and gp else 0 if ap else 1 if gp else -1"
      ],
      "execution_count": null,
      "outputs": []
    },
    {
      "cell_type": "markdown",
      "metadata": {
        "id": "YFeR_UUFEOi5"
      },
      "source": [
        "# Задача 221(8) Filtering even numbers (Bug Fixes)"
      ]
    },
    {
      "cell_type": "markdown",
      "metadata": {
        "id": "CG5J-IASEWfy"
      },
      "source": [
        "Fix the bug in Filtering method\n",
        "The method is supposed to remove even numbers from the list and return a list that contains the odd numbers.\n",
        "\n",
        "However, there is a bug in the method that needs to be resolved.\n",
        "\n",
        "kata_13_december([1, 2, 2, 2, 4, 3, 4, 5, 6, 7]), [1, 3, 5, 7])\n",
        "\n",
        "kata_13_december([1, 2, 2, 2, 4, 3, 4]), [1, 3])\n",
        "\n",
        "  def kata_13_december(lst): \n",
        "      # Fix this code\n",
        "      for i in range(len(lst)): \n",
        "          if lst[i]%2==0: \n",
        "              lst.remove(i)\n",
        "      return lst"
      ]
    },
    {
      "cell_type": "code",
      "metadata": {
        "id": "f-E3wgCuEZZO"
      },
      "source": [
        "#0\n",
        "def kata_13_december(lst): \n",
        "    for i in range(len(lst)-1, -1, -1): \n",
        "        if lst[i] % 2 == 0: \n",
        "            del lst[i]\n",
        "    return lst"
      ],
      "execution_count": null,
      "outputs": []
    },
    {
      "cell_type": "code",
      "metadata": {
        "id": "-A9HVATTEcER"
      },
      "source": [
        "#1\n",
        "def kata_13_december(lst):\n",
        "    return [item for item in lst if item & 1]\n",
        "\n",
        "#2\n",
        "def kata_13_december(lst): \n",
        "    return [x for x in lst if x % 2]\n",
        "\n",
        "#3\n",
        "def kata_13_december(lst): \n",
        "    new = list()\n",
        "    for i in range(len(lst)): \n",
        "        if lst[i] % 2 != 0: \n",
        "            new.append(lst[i])\n",
        "    return new\n",
        "\n",
        "#4\n",
        "kata_13_december = lambda l: [e for e in l if e % 2]\n",
        "\n",
        "#5\n",
        "def kata_13_december(lst):\n",
        "    return list(filter(1 .__and__, lst))\n",
        "\n",
        "#6\n",
        "def kata_13_december(lst):\n",
        "    return [i for c, i in enumerate(lst) if i%2==1 and i in lst[c:]]\n",
        "\n",
        "\n",
        "\n"
      ],
      "execution_count": null,
      "outputs": []
    },
    {
      "cell_type": "markdown",
      "metadata": {
        "id": "tRkM3qtFNUxw"
      },
      "source": [
        "# Задача 222(8) Enumerable Magic 1 - True for All?"
      ]
    },
    {
      "cell_type": "markdown",
      "metadata": {
        "id": "Rkfqp4zGNIT1"
      },
      "source": [
        "Task\n",
        "\n",
        "Create a method all which takes two params:\n",
        "\n",
        "a sequence\n",
        "a function (function pointer in C)\n",
        "and returns true if the function in the params returns true for every element in the sequence. Otherwise, it should return false. If the sequence is empty, it should return true, since technically nothing failed the test.\n",
        "\n",
        "greater_than_9 = lambda x: x>9\n",
        "\n",
        "less_than_9 = lambda x: x<9\n",
        "\n",
        "Example\n",
        "\n",
        "all((1, 2, 3, 4, 5), greater_than_9) -> false\n",
        "\n",
        "all((1, 2, 3, 4, 5), less_than_9)    -> True"
      ]
    },
    {
      "cell_type": "code",
      "metadata": {
        "id": "HJybwJKZNI0R"
      },
      "source": [
        "#0\n",
        "def _all(seq, fun):\n",
        "        return all(map(fun,seq))\n"
      ],
      "execution_count": null,
      "outputs": []
    },
    {
      "cell_type": "code",
      "metadata": {
        "id": "-2TSaQGINbx2"
      },
      "source": [
        "#1\n",
        "def all(seq, fun): \n",
        "    return not False in list(map(fun, seq))\n",
        "\n",
        "#2\n",
        "def all(seq, fun):\n",
        "    return next((False for x in seq if not fun(x)), True)\n",
        "\n",
        "#3\n",
        "def all(seq, fun): \n",
        "    for item in seq: \n",
        "        if not fun(item): \n",
        "            return False\n",
        "    return True\n",
        "\n",
        "#4\n",
        "def all(seq, fun): \n",
        "    return False if False in map(fun, seq) else True\n",
        "\n",
        "#5\n",
        "def _all(seq, fun):\n",
        "    return all([fun(x) for x in seq])"
      ],
      "execution_count": null,
      "outputs": []
    },
    {
      "cell_type": "markdown",
      "metadata": {
        "id": "NqPLUdElYBY6"
      },
      "source": [
        "# Задача 223(8) Job Matching #1"
      ]
    },
    {
      "cell_type": "markdown",
      "metadata": {
        "id": "gO4Id2WyYBY8"
      },
      "source": [
        "Let's build a matchmaking system that helps discover jobs for developers based on a number of factors.\n",
        "\n",
        "One of the simplest, yet most important factors is compensation. As developers we know how much money we need to support our lifestyle, so we generally have a rough idea of the minimum salary we would be satisfied with.\n",
        "\n",
        "Let's give this a try. We'll create a function match which takes a candidate and a job, which will return a boolean indicating whether the job is a valid match for the candidate.\n",
        "\n",
        "A candidate will have a minimum salary, so it will look like this:\n",
        "\n",
        "**candidate = {'min_salary': 120000}**\n",
        "\n",
        "A job will have a maximum salary, so it will look like this:\n",
        "\n",
        "**job = {'max_salary': 140000}**\n",
        "\n",
        "If either the candidate's minimum salary or the job's maximum salary is not present, throw an error.\n",
        "\n",
        "For a valid match, the candidate's minimum salary must be less than or equal to the job's maximum salary. However, let's also include 10% wiggle room (deducted from the candidate's minimum salary) in case the candidate is a rockstar who enjoys programming on Codewars in their spare time. The company offering the job may be able to work something out."
      ]
    },
    {
      "cell_type": "code",
      "metadata": {
        "id": "udxDpsPHYBY-"
      },
      "source": [
        "#0\n",
        "def match(candidate, job):\n",
        "    up = candidate['min_salary'] + candidate['min_salary'] * 0.1\n",
        "    down = candidate['min_salary'] - candidate['min_salary'] * 0.1\n",
        "    if down <= job['max_salary'] or up <= job['max_salary']:\n",
        "        return True\n",
        "    else: \n",
        "        return False\n"
      ],
      "execution_count": null,
      "outputs": []
    },
    {
      "cell_type": "code",
      "metadata": {
        "id": "GYUebl1iYBZA"
      },
      "source": [
        "#1\n",
        "def match(candidate, job):\n",
        "    return candidate['min_salary'] * 0.9 <= job['max_salary']\n",
        "\n",
        "#2\n",
        "match = lambda c,j: j['max_salary'] >= c['min_salary']*0.9"
      ],
      "execution_count": null,
      "outputs": []
    },
    {
      "cell_type": "markdown",
      "metadata": {
        "id": "suTdY8W9wNRt"
      },
      "source": [
        "# Задача 224(8) USD => CNY"
      ]
    },
    {
      "cell_type": "markdown",
      "metadata": {
        "id": "uqe-pPsRwSax"
      },
      "source": [
        "Create a function that converts US dollars (USD) to Chinese Yuan (CNY) . The input is the amount of USD as an integer, and the output should be a string that states the amount of Yuan followed by 'Chinese Yuan'\n",
        "\n",
        "For Example:\n",
        "\n",
        "  usdcny(15)  => '101.25 Chinese Yuan'\n",
        "\n",
        "  usdcny(465) => '3138.75 Chinese Yuan'\n",
        "  \n",
        "The conversion rate you should use is 6.75 CNY for every 1 USD. All numbers shold be rounded to 2 decimal places. (e.g. \"21.00\" NOT \"21.0\" or \"21\")"
      ]
    },
    {
      "cell_type": "code",
      "metadata": {
        "id": "ABVEd3DJwWnc"
      },
      "source": [
        "#0\n",
        "def usdcny(usd):\n",
        "    cny = usd * 6.75\n",
        "    return \"{0:.2f} Chinese Yuan\".format(cny)"
      ],
      "execution_count": null,
      "outputs": []
    },
    {
      "cell_type": "code",
      "metadata": {
        "id": "myBvytTBwZ6r"
      },
      "source": [
        "#1\n",
        "COURSE = 6.75  # CNY == 1 USD\n",
        "\n",
        "\n",
        "def usdcny(usd):\n",
        "    return f\"{usd * COURSE:.2f} Chinese Yuan\"\n",
        "\n",
        "#2\n",
        "def usdcny(usd):\n",
        "    return f\"{(usd * 6.75):.2f} Chinese Yuan\"\n",
        "\n",
        "#3\n",
        "def usdcny(usd):\n",
        "    cny = usd * 6.75\n",
        "    return \"{:.2f} Chinese Yuan\".format(cny)\n",
        "\n",
        "#4\n",
        "def usdcny(usd):\n",
        "    yuan = format(usd * 6.75, '.2f')\n",
        "    return '{} Chinese Yuan'.format(yuan)"
      ],
      "execution_count": null,
      "outputs": []
    },
    {
      "cell_type": "markdown",
      "metadata": {
        "id": "BHRwTX54AhVg"
      },
      "source": [
        "# Задача 225 Pandemia 🌡️\n"
      ]
    },
    {
      "cell_type": "markdown",
      "metadata": {
        "id": "4D0MCe3bAl27"
      },
      "source": [
        "⚠️ The world is in quarantine! There is a new pandemia that struggles mankind. Each continent is isolated from each other but infected people have spread before the warning. ⚠️\n",
        "\n",
        "🗺️ You would be given a map of the world in a type of string:\n",
        "\n",
        "string s = \"01000000X000X011X0X\"\n",
        "\n",
        "'0' : uninfected\n",
        "\n",
        "'1' : infected\n",
        "\n",
        "'X' : ocean\n",
        "⚫ The virus can't spread in the other side of the ocean.\n",
        "\n",
        "⚫ If one person is infected every person in this continent gets infected too.\n",
        "\n",
        "⚫ Your task is to find the percentage of human population that got infected in the end.\n",
        "\n",
        "☑️ Return the percentage % of the total population that got infected.\n",
        "\n",
        "❗❗ The first and the last continent are not connected!\n",
        "\n",
        "💡 Example:\n",
        "\n",
        " start: map1 = \"01000000X000X011X0X\"\n",
        "\n",
        " end:   map1 = \"11111111X000X111X0X\"\n",
        "\n",
        " total = 15\n",
        "\n",
        " infected = 11\n",
        "\n",
        " percentage = 100*11/15 = 73.33333333333333\n",
        "\n",
        "➕ For maps without oceans \"X\" the whole world is connected.\n",
        "\n",
        "➕ For maps without \"0\" and \"1\" return 0 as there is no population.\n",
        "\n",
        "(\"01000000X000X011X0X\",73.33333333333333),\n",
        "\n",
        "(\"01X000X010X011XX\", 72.72727272727273),\n",
        "\n",
        "(\"XXXXX\", 0),\n",
        "\n",
        "(\"00000000X00X0000\", 0),\n",
        "\n",
        "(\"0000000010\", 100),\n",
        "\n",
        "(\"000001XXXX0010X1X00010\", 100),\n",
        "\n",
        " (\"X00X000000X10X0100\",42.857142857142854)"
      ]
    },
    {
      "cell_type": "code",
      "metadata": {
        "id": "HBN9QY4qAma_"
      },
      "source": [
        "0#\n",
        "def infected(s):\n",
        "    if '0' not in s and '1' not in s:\n",
        "        return 0\n",
        "    if '1' in s and 'X' not in s:\n",
        "        return 100\n",
        "    if '1' not in s:\n",
        "        return 0\n",
        "    \n",
        "    c = 0\n",
        "    lst = []\n",
        "    \n",
        "    s1 = s\n",
        "    s1 = s1.replace('X','')\n",
        "    c1 = len(s1)\n",
        "    \n",
        "    for i in s:\n",
        "        lst.append(i)\n",
        "        if i == 'X':\n",
        "            if '1' in lst:\n",
        "                c += len(lst) - 1 \n",
        "                lst = []\n",
        "            else:\n",
        "                lst=[]\n",
        "                \n",
        "    if '1' in lst:\n",
        "        c += len(lst)\n",
        "        \n",
        "    return c*100/c1"
      ],
      "execution_count": null,
      "outputs": []
    },
    {
      "cell_type": "code",
      "metadata": {
        "id": "8k4sk_WjBj7f"
      },
      "source": [
        "#1\n",
        "def infected(s):\n",
        "    lands = s.split('X')\n",
        "    total = sum(map(len, lands))\n",
        "    infected = sum(len(x) for x in lands if '1' in x)\n",
        "    return infected * 100 / (total or 1)\n",
        "\n",
        "#2\n",
        "def infected(s):\n",
        "    total_population = s.split('X')\n",
        "    total = 0\n",
        "    infected = 0\n",
        "    for population in total_population:\n",
        "        if \"1\" in population:\n",
        "            infected += len(population)\n",
        "        total += len(population)\n",
        "    \n",
        "    try:\n",
        "        return (100 * infected) / total\n",
        "    except ZeroDivisionError:\n",
        "        return 0\n",
        "  \n",
        "#3\n",
        "def infected(s):\n",
        "    inf=0\n",
        "    saf=0\n",
        "    for c in s.split('X') :\n",
        "        if '1' in c :\n",
        "            inf += len(c)\n",
        "        else :\n",
        "            saf += len(c)\n",
        "        \n",
        "    return 0 if inf+saf==0 else inf/(inf+saf)*100\n",
        "\n",
        "#4\n",
        "def infected(s):\n",
        "    total = len(s)-s.count('X')\n",
        "    infected = sum([len(i) for i in s.split('X') if '1' in i])\n",
        "    return infected/total*100 if total > 0 else infected"
      ],
      "execution_count": null,
      "outputs": []
    },
    {
      "cell_type": "markdown",
      "metadata": {
        "id": "WDmrzUE2HfSz"
      },
      "source": [
        "# Задача 226(7) Convert Decimal Degrees to Degrees, Minutes, Seconds"
      ]
    },
    {
      "cell_type": "markdown",
      "metadata": {
        "id": "DwIB7tW5Hk69"
      },
      "source": [
        "Convert Decimal Degrees to Degrees, Minutes, Seconds.\n",
        "\n",
        "Remember: 1 degree = 60 minutes; 1 minute = 60 seconds.\n",
        "\n",
        "Input: Positive number.\n",
        "\n",
        "Output: Array [degrees, minutes, seconds]. E.g [30, 25, 25]\n",
        "\n",
        "Trailing zeroes should be omitted in the output. E.g\n",
        "\n",
        "convert (50) \n",
        "\n",
        "//correct output -> [50] \n",
        "\n",
        "//wrong output -> [50, 0, 0]\n",
        "\n",
        "convert(80.5)\n",
        "\n",
        "//correct output -> [ 80, 30 ]\n",
        "\n",
        "//wrong output -> [80, 30, 0]\n",
        "\n",
        "convert(0.0001388888888888889)\n",
        "\n",
        "//correct output -> [ 0, 0, 1 ]\n",
        "\n",
        "//wrong output -> [1]\n",
        "\n",
        "Round the seconds to the nearest integer.\n",
        "\n",
        "convert(0),[0], \"0 degrees\");\n",
        "\n",
        "convert(40.567), [40, 34, 1], \"40 degrees, 34 minutes, 1 second\");\n",
        "\n",
        "convert(80.5),[ 80, 30 ], \"70 degrees, 14 minutes, 2 seconds\");\n",
        "\n",
        "len(convert(70.234)), 3, \"Length of the array should be 3\");\n",
        "\n",
        "convert(20.999), [20, 59, 56], \"20 degrees, 59 minutes, 56 second\");\n",
        "\n",
        "convert(33.333)[1], 19, \"Should return 19 minutes\");\n",
        "\n",
        "convert(50),[50], \"50 degrees\");\n",
        "\n",
        "convert(0.0001398888888888889),[ 0, 0, 1 ], \"0 degrees, 0 minutes, 1 second\");\n",
        "\n",
        "convert(0.0001388888888888888),[ 0 ], \"0 degrees, 0 minutes, 0 second\");"
      ]
    },
    {
      "cell_type": "code",
      "metadata": {
        "id": "bZhkFEH9H7Zy"
      },
      "source": [
        "#1\n",
        "def convert(degrees): \n",
        "    m = (degrees % 1) * 60\n",
        "    s = round((m % 1) * 60)\n",
        "    d, m, s = map(int, [degrees, m, s])\n",
        "    return [d, m, s] if s else [d, m] if m else [d]\n",
        "\n",
        "#2\n",
        "def convert(degrees): \n",
        "    minutes = degrees % 1 * 60\n",
        "    seconds = round(minutes % 1 * 60)\n",
        "    arr = [int(degrees), int(minutes), seconds]\n",
        "    return [arr[0]] if not arr[1] and not arr[2] else arr[:2] if not arr[2] else arr\n",
        "\n",
        "#3\n",
        "def convert(degrees): \n",
        "    deg = int(degrees)\n",
        "    minutes = (degrees-deg)*60\n",
        "    mins = int(minutes)\n",
        "    seconds = (minutes-mins)*60\n",
        "    secs = round(seconds)\n",
        "    if secs:\n",
        "        return [deg, mins, secs]\n",
        "    if mins:\n",
        "        return [deg, mins]\n",
        "    return [deg]\n"
      ],
      "execution_count": null,
      "outputs": []
    },
    {
      "cell_type": "markdown",
      "metadata": {
        "id": "Vm9RpV8WVnX7"
      },
      "source": [
        "# Задача 227(7) All Inclusive?"
      ]
    },
    {
      "cell_type": "markdown",
      "metadata": {
        "id": "tHNh6y-UVrO1"
      },
      "source": [
        "Input:\n",
        "\n",
        "a string strng\n",
        "an array of strings arr\n",
        "Output of function contain_all_rots(strng, arr) (or containAllRots or contain-all-rots):\n",
        "\n",
        "a boolean true if all rotations of strng are included in arr (C returns 1)\n",
        "false otherwise (C returns 0)\n",
        "\n",
        "Examples:\n",
        "\n",
        "contain_all_rots(\n",
        "  \"bsjq\", [\"bsjq\", \"qbsj\", \"sjqb\", \"twZNsslC\", \"jqbs\"]) -> true\n",
        "\n",
        "contain_all_rots(\n",
        "  \"Ajylvpy\", [\"Ajylvpy\", \"ylvpyAj\", \"jylvpyA\", \"lvpyAjy\", \"pyAjylv\", \"vpyAjyl\", \"ipywee\"]) -> false)\n",
        "\n",
        "Note:\n",
        "\n",
        "Though not correct in a mathematical sense\n",
        "\n",
        "we will consider that there are no rotations of strng == \"\"\n",
        "\n",
        "and for any array arr: contain_all_rots(\"\", arr) --> true"
      ]
    },
    {
      "cell_type": "code",
      "metadata": {
        "id": "_cejcUqCVx5w"
      },
      "source": [
        "#0  Не все тесты проходит\n",
        "def contain_all_rots(strng, arr):\n",
        "    \n",
        "    if strng == \"\":\n",
        "        return True\n",
        "    \n",
        "    l = len(strng)\n",
        "    c = 0\n",
        "    \n",
        "    for i in arr:\n",
        "        c1 = 0\n",
        "        for j in strng:\n",
        "            if j in i:\n",
        "                c1 += 1\n",
        "        if c1 == l:\n",
        "            c += 1\n",
        "    \n",
        "    return c == l"
      ],
      "execution_count": null,
      "outputs": []
    },
    {
      "cell_type": "code",
      "metadata": {
        "id": "daHLUJXHjhI3"
      },
      "source": [
        "#1\n",
        "def contain_all_rots(strng, arr):\n",
        "    \"\"\"Test if list arr contains all the rotations of the string strng.\"\"\"\n",
        "    for _ in range(len(strng)):\n",
        "        if not strng in arr:\n",
        "            return False\n",
        "        strng = strng[1:] + strng[0]\n",
        "    return True\n",
        "\n",
        "#2\n",
        "def contain_all_rots(strng, arr):\n",
        "    if strng == \"\":\n",
        "        return True\n",
        "\n",
        "    for i in range(len(arr)):\n",
        "        if strng in arr:\n",
        "            strng = strng[-1] + strng[:-1]\n",
        "        else:\n",
        "            return False\n",
        "    return True\n",
        "\n",
        "#3\n",
        "def contain_all_rots(s, l):\n",
        "    return all(s[i:]+s[:i] in l for i in range(len(s)))\n",
        "\n",
        "#4\n",
        "def contain_all_rots(strng, arr):\n",
        "    all_rotations = [strng[i:] + strng[:i] for i in range(len(strng))]\n",
        "    return all(rotation in arr for rotation in all_rotations)\n",
        "\n",
        "#5\n",
        "def contain_all_rots(strng, arr):\n",
        "    if strng == \"\": return True\n",
        "    i, l = 0, len(strng)\n",
        "    while i < l:\n",
        "        strng = strng[-1]+strng[:-1]\n",
        "        if not strng in arr: return False\n",
        "        i += 1\n",
        "    return True"
      ],
      "execution_count": null,
      "outputs": []
    },
    {
      "cell_type": "markdown",
      "metadata": {
        "id": "o2hWfwq2w3U5"
      },
      "source": [
        "# Задача 228(7) Pairs of integers from m to n\n"
      ]
    },
    {
      "cell_type": "markdown",
      "metadata": {
        "id": "yeVncXeUw35B"
      },
      "source": [
        "Implement a function that receives two integers m and n and generates a sorted list of pairs (a, b) such that m <= a <= b <= n.\n",
        "\n",
        "Example:\n",
        "\n",
        "m = 2\n",
        "n = 4\n",
        "\n",
        "result = [(2, 2), (2, 3), (2, 4), (3, 3), (3, 4), (4, 4)]"
      ]
    },
    {
      "cell_type": "code",
      "metadata": {
        "id": "eeXxh9xKw4Re"
      },
      "source": [
        "#0\n",
        "def generate_pairs(m, n):\n",
        "    lst = []\n",
        "    \n",
        "    while m <= n:\n",
        "        x = m \n",
        "        \n",
        "        while x <= n:\n",
        "            lst.append((m,x))\n",
        "            x += 1\n",
        "            \n",
        "        m += 1\n",
        "    \n",
        "    return lst"
      ],
      "execution_count": null,
      "outputs": []
    },
    {
      "cell_type": "code",
      "metadata": {
        "id": "Tm8NqBqgxF3p"
      },
      "source": [
        "#1\n",
        "from itertools import combinations_with_replacement\n",
        "def generate_pairs(m, n):\n",
        "    return list(combinations_with_replacement(range(m,n+1),2))\n",
        "\n",
        "#2\n",
        "def generate_pairs(m, n):\n",
        "    return [(i, j) for i in range(m, n + 1) for j in range(i, n + 1)]\n",
        "\n",
        "#3  Тоже что и #2 \n",
        "def generate_pairs(m, n):\n",
        "    lst = []\n",
        "    for i in range(m, n + 1):\n",
        "        for j in range(i, n + 1):\n",
        "            lst.append((i,j))\n",
        "\n",
        "#4\n",
        "generate_pairs=lambda x,y:list(__import__(\"itertools\").combinations_with_replacement(range(x,y+1),2))"
      ],
      "execution_count": null,
      "outputs": []
    }
  ]
}