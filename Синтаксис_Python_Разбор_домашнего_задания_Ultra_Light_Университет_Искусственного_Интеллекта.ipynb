{
  "nbformat": 4,
  "nbformat_minor": 0,
  "metadata": {
    "colab": {
      "name": "Синтаксис Python. Разбор домашнего задания. Ultra-Light. Университет Искусственного Интеллекта.ipynb",
      "provenance": [],
      "collapsed_sections": []
    },
    "kernelspec": {
      "name": "python3",
      "display_name": "Python 3"
    }
  },
  "cells": [
    {
      "cell_type": "markdown",
      "metadata": {
        "id": "I4LCUCBjJrQO"
      },
      "source": [
        "### Задача 1\n",
        "\n",
        "Создайте переменную **name** и сохраните в нее своё имя."
      ]
    },
    {
      "cell_type": "markdown",
      "metadata": {
        "id": "HBwG_W-hJrQP"
      },
      "source": [
        "**Решение:**"
      ]
    },
    {
      "cell_type": "code",
      "metadata": {
        "id": "GSR9Oe_dJrQQ"
      },
      "source": [
        "name = 'Антон' #Создаем переменную, в которую записываем имя"
      ],
      "execution_count": null,
      "outputs": []
    },
    {
      "cell_type": "markdown",
      "metadata": {
        "id": "bW_kKRKthdn7"
      },
      "source": [
        "### Задача 2\n",
        "\n",
        "С помощью функции print выведите строку \"5 котиков + 6 котиков = 11 котиков\". Передайте в скобки функции print() строку **\"5 котиков + 6 котиков = 11 котиков\"**."
      ]
    },
    {
      "cell_type": "markdown",
      "metadata": {
        "id": "_anmPG8lqDql"
      },
      "source": [
        "**Решение:**"
      ]
    },
    {
      "cell_type": "code",
      "metadata": {
        "id": "eHA_26PRqDqm",
        "colab": {
          "base_uri": "https://localhost:8080/",
          "height": 34
        },
        "outputId": "19ed5780-66a3-430e-ec74-a52a10ffc2c3"
      },
      "source": [
        "print('5 котиков + 6 котиков = 11 котиков') #При помощи функции print печатаем необходимую строку"
      ],
      "execution_count": null,
      "outputs": [
        {
          "output_type": "stream",
          "text": [
            "5 котиков + 6 котиков = 11 котиков\n"
          ],
          "name": "stdout"
        }
      ]
    },
    {
      "cell_type": "markdown",
      "metadata": {
        "id": "i1BkaDrYjqs2"
      },
      "source": [
        "### Задача 3\n",
        "\n",
        "С помощью функции input считайте с входящей строки два целых числа."
      ]
    },
    {
      "cell_type": "markdown",
      "metadata": {
        "id": "nZENDhW4qCeY"
      },
      "source": [
        "**Решение:**"
      ]
    },
    {
      "cell_type": "code",
      "metadata": {
        "id": "jaa0zML8qCeZ",
        "colab": {
          "base_uri": "https://localhost:8080/",
          "height": 68
        },
        "outputId": "645927ee-9fc5-494b-844f-fd50c8474c4e"
      },
      "source": [
        "#Читаем с клавиатуры число, при этом выводим сообщение пользователю 'Введите первое число: '. Полученное значение переводим из строки в целое число и сохраняем в переменной\n",
        "a = int(input('Введите первое число: ')) \n",
        "#Читаем с клавиатуры число, при этом выводим сообщение пользователю 'Введите второе число: '. Полученное значение переводим из строки в целое число и сохраняем в переменной\n",
        "b = int(input('Введите второе число: '))\n",
        "\n",
        "print('Первое число: ', a, '. Второе число: ', b) #Выводим информацию на экран"
      ],
      "execution_count": null,
      "outputs": [
        {
          "output_type": "stream",
          "text": [
            "Введите первое число: 4\n",
            "Введите второе число: 6\n",
            "Первое число:  4 . Второе число:  6\n"
          ],
          "name": "stdout"
        }
      ]
    },
    {
      "cell_type": "markdown",
      "metadata": {
        "id": "PguJdnEqhdoI"
      },
      "source": [
        "### Задача 4\n",
        "\n",
        "Дан ряд целых чисел от 0 до 30 включительно. Используя цикл for, выведите на экран весь ряд. \n",
        "\n",
        "Результатом работы программы должен быть вывод в ячейке:\n",
        "\n",
        "**0**\n",
        "\n",
        "**1**\n",
        "\n",
        "**2**\n",
        "\n",
        "**3**\n",
        "\n",
        "**4**\n",
        "\n",
        "... и т.д.\n"
      ]
    },
    {
      "cell_type": "markdown",
      "metadata": {
        "id": "B_Y8tfCrqBtD"
      },
      "source": [
        "**Решение:**"
      ]
    },
    {
      "cell_type": "code",
      "metadata": {
        "id": "1gO0KhkLqBtE",
        "colab": {
          "base_uri": "https://localhost:8080/",
          "height": 544
        },
        "outputId": "576bffd0-df8a-4442-8ff0-329c508658b0"
      },
      "source": [
        "for i in range(31): #Создаем цикл, в котором перебираем в параметре i числа от 0 до 31 не включительно \n",
        "  print(i) #Печатаем каждый i-ый элемент"
      ],
      "execution_count": null,
      "outputs": [
        {
          "output_type": "stream",
          "text": [
            "0\n",
            "1\n",
            "2\n",
            "3\n",
            "4\n",
            "5\n",
            "6\n",
            "7\n",
            "8\n",
            "9\n",
            "10\n",
            "11\n",
            "12\n",
            "13\n",
            "14\n",
            "15\n",
            "16\n",
            "17\n",
            "18\n",
            "19\n",
            "20\n",
            "21\n",
            "22\n",
            "23\n",
            "24\n",
            "25\n",
            "26\n",
            "27\n",
            "28\n",
            "29\n",
            "30\n"
          ],
          "name": "stdout"
        }
      ]
    },
    {
      "cell_type": "markdown",
      "metadata": {
        "id": "XpKAlxuSpPn4"
      },
      "source": [
        "### Задача 5\n",
        "Дан следующий список:"
      ]
    },
    {
      "cell_type": "code",
      "metadata": {
        "id": "dQXhUpBRpOJ6"
      },
      "source": [
        "my_list = [0, 1, 1, 2, 3, 5, 8, 13, 21, 34, 55, 89, 144, 233, 377]"
      ],
      "execution_count": null,
      "outputs": []
    },
    {
      "cell_type": "markdown",
      "metadata": {
        "id": "FpkVJLHCpS1P"
      },
      "source": [
        "Используя цикл for, выведите все значения списка.\n",
        "\n",
        "Результатом работы программы должен быть вывод в ячейке:\n",
        "\n",
        "**0**\n",
        "\n",
        "**1**\n",
        "\n",
        "**1**\n",
        "\n",
        "**2**\n",
        "\n",
        "**3**\n",
        "\n",
        "... и т.д."
      ]
    },
    {
      "cell_type": "markdown",
      "metadata": {
        "id": "i8gitPRap7SC"
      },
      "source": [
        "**Решение:**"
      ]
    },
    {
      "cell_type": "code",
      "metadata": {
        "id": "9Bq6zfOgp8m_",
        "colab": {
          "base_uri": "https://localhost:8080/",
          "height": 272
        },
        "outputId": "286223fb-01a7-4ef4-c92c-42b03a37b92e"
      },
      "source": [
        "for i in my_list: #Создаем цикл, в котором перебираем в параметре i элементы списка\n",
        "  print(i) #Печатаем каждый i-ый элемент"
      ],
      "execution_count": null,
      "outputs": [
        {
          "output_type": "stream",
          "text": [
            "0\n",
            "1\n",
            "1\n",
            "2\n",
            "3\n",
            "5\n",
            "8\n",
            "13\n",
            "21\n",
            "34\n",
            "55\n",
            "89\n",
            "144\n",
            "233\n",
            "377\n"
          ],
          "name": "stdout"
        }
      ]
    },
    {
      "cell_type": "code",
      "metadata": {
        "id": "MeGcX77InRyd"
      },
      "source": [
        ""
      ],
      "execution_count": null,
      "outputs": []
    }
  ]
}