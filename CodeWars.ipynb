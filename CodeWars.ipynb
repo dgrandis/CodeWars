{
  "nbformat": 4,
  "nbformat_minor": 0,
  "metadata": {
    "colab": {
      "name": "CodeWars.ipynb",
      "provenance": [],
      "collapsed_sections": [
        "1JbLSXP4gbS2",
        "lFmEPDt0gM8F",
        "IsEVaMjmeeKz",
        "6E9OnMPj0x0b",
        "i8ZWGxcMBnaD",
        "Dzi_kudf51hK",
        "4oh77YSvBta4",
        "W3i5LAdrPAyv",
        "mT2rgFnXWIh2",
        "W6J-tW5wFFiu",
        "S5rGUtE3Plg7",
        "k5ccb8SZOh0v",
        "tJBnU9Z5fWiP",
        "nkcdptiPkL2e",
        "e0q2RTjZJ6so",
        "8zc_MuzjQLQs",
        "Poj_ORUTVErC",
        "X4i-1T2lTJvK",
        "IihWbDGK9wJ3",
        "juSRiJeGOt5c",
        "t87lqKWlo2UD",
        "yatX5Xqgqz2u",
        "7Dl6CqHmyNdS",
        "U1naEpbWEVct",
        "S-o3wZMow_Hr",
        "SAgP4YaSSBSu",
        "QpUtVzpEu5zQ",
        "LMTH-Hqsz_L6",
        "SuLXp4f6GgGn",
        "jQD53XrXUN3y",
        "32cJg8zsrgpb",
        "mGWIIHYBnxMW",
        "791NvP-iLxm2",
        "0uUK5sD6ReWK",
        "ccbVpWoPt9vJ",
        "680AG8a97e5N",
        "28Arg_xaAVi9",
        "oaCaCH9RKKr5",
        "nAD_6Yo9jF_V",
        "GBZZTIX6snm_",
        "4vXJ7ys8aKRs",
        "mBlrIw5RDTMx",
        "fDN3JAyxR_Zr",
        "QVBtQHDHdKkq",
        "KQKlQiPaJ3Xn",
        "89yGTwGGeMKS",
        "2Ny9iO7XL6re",
        "9k0c-GSlMIf3",
        "jU70uhmWQSDf",
        "MuDzIF_JWIv9",
        "riqulYt9RMQp",
        "fCz7gO67OiNh",
        "s3FuhwUxT0t2",
        "Wlmis_I_IaRM",
        "lssZGSIMzqc1",
        "SIg1pghKyd_b",
        "fXjqKrUux7l0",
        "iFQxB8oW0rhO",
        "3u1tux2-AKjK",
        "h-1A0JVS5Pxf",
        "2oGnRiqYxtZQ",
        "F-RGgngnxYKO",
        "k6M0GzfobJVN",
        "0wMzPDmiqtd9",
        "EqLcwJkqV2ty",
        "e7VVSgB2dtMf",
        "5PNSQNmqfT5v",
        "oc0wJSW-sXbv",
        "gyuxTm0aoqlH",
        "INBhiawOgnbm",
        "bx53Vgg5M_NA",
        "Tju37nXj4OF6",
        "k_cBdRgnJxw2",
        "k_uL7370rC7y",
        "tYwJsqBMnFt2",
        "RMs8tCM2a3au",
        "Ed18TY7899hn",
        "gY8NKogCyFjx",
        "EsKGqWfGw2F5",
        "BMRp0v5ngNLa",
        "IqYGdWtd7XT5",
        "H3Qvk-7ivLCo",
        "rZ3lhfU43RnJ",
        "ocI4ySJy_PfW",
        "pEFjUV32JSKX",
        "qk-04cYqubjF",
        "Tl-2fht9xExE",
        "TQHUMhI49ZbY",
        "7kdgnoIDx7rL",
        "UZFTEzCtGUtZ",
        "4pLZC24o63xp",
        "bG1Vr9Ot-2td",
        "ny4rnyUKFeD1"
      ],
      "authorship_tag": "ABX9TyOwqPS0vS0LiIeTiYl2vu1E",
      "include_colab_link": true
    },
    "kernelspec": {
      "name": "python3",
      "display_name": "Python 3"
    }
  },
  "cells": [
    {
      "cell_type": "markdown",
      "metadata": {
        "id": "view-in-github",
        "colab_type": "text"
      },
      "source": [
        "<a href=\"https://colab.research.google.com/github/dgrandis/NU/blob/main/CodeWars.ipynb\" target=\"_parent\"><img src=\"https://colab.research.google.com/assets/colab-badge.svg\" alt=\"Open In Colab\"/></a>"
      ]
    },
    {
      "cell_type": "markdown",
      "metadata": {
        "id": "1JbLSXP4gbS2"
      },
      "source": [
        "# Задача 1"
      ]
    },
    {
      "cell_type": "markdown",
      "metadata": {
        "id": "m4GLYl0pTVOG"
      },
      "source": [
        "1. \n",
        "Given a 2D list of size m * n. Your task is to find the sum of minimum value in each row.\n",
        "\n",
        "For Example:\n",
        "\n",
        "[\n",
        "  [1, 2, 3, 4, 5],       # minimum value of row is 1\n",
        "  [5, 6, 7, 8, 9],       # minimum value of row is 5\n",
        "  [20, 21, 34, 56, 100]  # minimum value of row is 20\n",
        "]\n",
        "\n",
        "Найти сумму всех минимальных чисел в каждой строке"
      ]
    },
    {
      "cell_type": "code",
      "metadata": {
        "id": "o14eFqZKJCPR"
      },
      "source": [
        "numbers = [\n",
        "  [1, 2, 3, 4, 5],       # minimum value of row is 1\n",
        "  [5, 6, 7, 8, 9],       # minimum value of row is 5\n",
        "  [20, 21, 34, 56, 100]  # minimum value of row is 20\n",
        "]"
      ],
      "execution_count": null,
      "outputs": []
    },
    {
      "cell_type": "code",
      "metadata": {
        "id": "O2WNHEwiGWuo"
      },
      "source": [
        "#0\n",
        "sum = 0\n",
        "for i in num:\n",
        "  sum += min(i)\n",
        "\n",
        "sum\n",
        "\n",
        "#1\n",
        "def sum_of_minimums(numbers):\n",
        "    return sum(map(min, numbers))\n",
        "\n",
        "#2\n",
        "def sum_of_minimums(a):\n",
        "    return sum(map(min, a))\n",
        "\n",
        "#3\n",
        "def sum_of_minimums(numbers):\n",
        "    return sum([min(rows) for rows in numbers])\n",
        "\n",
        "#4\n",
        "def sum_of_minimums(numbers):\n",
        "    return sum([min(x) for x in numbers])\n",
        "\n",
        "#5\n",
        "def sum_of_minimums(num): return sum([min(i) for i in num])\n",
        "\n",
        "#6\n",
        "from typing import List\n",
        "\n",
        "def sum_of_minimums(numbers: List[int]) -> int:\n",
        "    \"\"\" Find the sum of minimum value in each row. \"\"\"\n",
        "    return sum(map(min, numbers))\n",
        "\n",
        "#7\n",
        "sum_of_minimums=lambda l:sum(min(e)for e in l)\n",
        "\n",
        "#8 \n",
        "def sum_of_minimums(numbers):\n",
        "    return sum([sorted(x)[0] for x in numbers])\n",
        " "
      ],
      "execution_count": null,
      "outputs": []
    },
    {
      "cell_type": "markdown",
      "metadata": {
        "id": "lFmEPDt0gM8F"
      },
      "source": [
        "# Задача 2"
      ]
    },
    {
      "cell_type": "markdown",
      "metadata": {
        "id": "eWApZO3JT6Kg"
      },
      "source": [
        "2.\n",
        "Create a function called _if which takes 3 arguments: a boolean value bool and 2 functions (which do not take any parameters): func1 and func2\n",
        "\n",
        "When bool is truth-ish, func1 should be called, otherwise call the func2.\n",
        " Написать функцию _if которая вызывает функцию func1, если bool - True, иначе вызывает функцию func2)"
      ]
    },
    {
      "cell_type": "code",
      "metadata": {
        "colab": {
          "base_uri": "https://localhost:8080/"
        },
        "id": "uTlyRX8jPiS5",
        "outputId": "3fc7dffb-40f3-4216-e210-ce9cf51bdf61"
      },
      "source": [
        "def truthy(): \n",
        "  print(\"func1\")\n",
        "\n",
        "def falsey(): \n",
        "  print(\"False\")\n",
        "\n",
        "#1\n",
        "def _if(bool, func1, func2):\n",
        "    if bool == True:\n",
        "        return func1()\n",
        "    else:\n",
        "        return func2()\n",
        "\n",
        "#2\n",
        "def _if(bool, func1, func2):\n",
        "  if bool:\n",
        "      func1()\n",
        "  else:\n",
        "      func2()\n",
        "\n",
        "#3\n",
        "def _if(bool, func1, func2):\n",
        "  func1() if bool else func2()\n",
        "\n",
        "#4\n",
        "def _if(bool, func1, func2):\n",
        "    return func1() if bool else func2()\n",
        "\n",
        "#5\n",
        "_if = lambda b, t, f: (b and t or f)()\n",
        "\n",
        "#6\n",
        "def _if(b, func1, func2):\n",
        "    return func1() if b else func2()\n",
        "\n",
        "#6\n",
        "def _if(bool, func1, func2):\n",
        "    return {True: func1, False: func2}[bool]()\n",
        "\n",
        "\n",
        "_if(True, truthy, falsey)\n"
      ],
      "execution_count": null,
      "outputs": [
        {
          "output_type": "stream",
          "text": [
            "func1\n"
          ],
          "name": "stdout"
        }
      ]
    },
    {
      "cell_type": "markdown",
      "metadata": {
        "id": "IsEVaMjmeeKz"
      },
      "source": [
        "# Задача 3 "
      ]
    },
    {
      "cell_type": "markdown",
      "metadata": {
        "id": "_VYSJTt8SEBY"
      },
      "source": [
        "3. Ask a small girl - \"How old are you?\". She always says strange things... Lets help her!\n",
        "\n",
        "For correct answer program should return int from 0 to 9.\n",
        "\n",
        "Assume test input string always valid and may look like \"1 year old\" or \"5 years old\", etc.. The first char is number only."
      ]
    },
    {
      "cell_type": "code",
      "metadata": {
        "colab": {
          "base_uri": "https://localhost:8080/"
        },
        "id": "VzerwCL0W68E",
        "outputId": "ddb66eee-36e6-48b5-ac92-83b5614adba8"
      },
      "source": [
        "#0\n",
        "def get_age(age):\n",
        "    return int(age[:1])\n",
        "\n",
        "\n",
        "#1\n",
        "def get_age(age):\n",
        "    return int(age[0])\n",
        "\n",
        "\n",
        "#2\n",
        "import re\n",
        "\n",
        "def get_age(age):\n",
        "    return int(re.search(r\"\\d+\", age).group())\n",
        "\n",
        "#3\n",
        "def get_age(age):\n",
        "    for x in age:\n",
        "        if x.isdigit():\n",
        "            return int(x) \n",
        "\n",
        "#4\n",
        "def get_age(age):\n",
        "    return int(age.split()[0])\n",
        "\n",
        "#5\n",
        "def get_age(age):\n",
        "    age=age[0]               #select the first element of the string\n",
        "    age=int(age)             #cause age is a char, we need to convert in to a integer \n",
        "    if age>9 or age<0:\n",
        "        return 0\n",
        "    else:\n",
        "        return age\n",
        "\n",
        "#6\n",
        "def get_age(age):\n",
        "    return int(''.join(filter(str.isdigit, age)))\n",
        "\n",
        "#7\n",
        "def get_age(age):\n",
        "    char = []\n",
        "    for a in age:\n",
        "        char.append(a)\n",
        "    return int(char[0])\n",
        "\n",
        "\n",
        "get_age(\"2 years old\")\n"
      ],
      "execution_count": null,
      "outputs": [
        {
          "output_type": "execute_result",
          "data": {
            "text/plain": [
              "2"
            ]
          },
          "metadata": {
            "tags": []
          },
          "execution_count": 6
        }
      ]
    },
    {
      "cell_type": "markdown",
      "metadata": {
        "id": "6E9OnMPj0x0b"
      },
      "source": [
        "# Задача 4"
      ]
    },
    {
      "cell_type": "markdown",
      "metadata": {
        "id": "qqD9GvXF1jLf"
      },
      "source": [
        "floats have limited precision and are unable to exactly represent some values. Rounding errors accumulate with repeated computation, and numbers expected to be equal often differ slightly.\n",
        "\n",
        "As a result, it is common advice to not use an exact equality comparison (==) with floats.\n",
        "\n",
        ">>> a, b, c = 1e-9, 1e-9, 3.33e7\n",
        ">>> (a + b) + c == a + (b + c)\n",
        "False\n",
        "\n",
        ">>> 0.1 + 0.1 + 0.1 + 0.1 + 0.1 + 0.1 + 0.1 + 0.1 + 0.1 + 0.1 == 1.0\n",
        "False\n",
        "The solution is to check if a computed value is close to an expected value, without requiring them to be exactly equal. It seems very easy, but many katas test float results the wrong way.\n",
        "\n",
        "Task\n",
        "You have:\n",
        "\n",
        "a float value that comes from a computation and may have accumulated errors up to ±0.001\n",
        "a reference value\n",
        "a function approx_equals that compare the two values taking into account loss of precision; the function should return True if and only if the two values are close to each other, the maximum allowed difference is 0.001\n",
        "The function is bugged and sometimes returns wrong results.\n",
        "\n",
        "Your task is to correct the bug.\n",
        "\n",
        "Note\n",
        "This kata uses fixed tolerance for simplicity reasons, but usually relative tolerance is better. Fixed tolerance is useful for comparisons near zero or when the magnitude of the values is known."
      ]
    },
    {
      "cell_type": "code",
      "metadata": {
        "colab": {
          "base_uri": "https://localhost:8080/"
        },
        "id": "Q9b9gvyI1t2f",
        "outputId": "d437f705-9ba9-43f8-8118-8f3fc8720c0e"
      },
      "source": [
        "#0 \n",
        "def approx_equals(a, b):\n",
        "    return abs(a-b) < 0.001\n",
        "\n",
        "#1\n",
        "def approx_equals(a, b):\n",
        "    return abs(a - b) < 1e-3\n",
        "\n",
        "#2\n",
        "from math import isclose\n",
        "\n",
        "def approx_equals(a, b):\n",
        "    return isclose(a, b, rel_tol=0, abs_tol=1e-3)\n",
        "\n",
        "#3\n",
        "def approx_equals(a, b):\n",
        "    a = round(a, 5)\n",
        "    b = round(b, 5)\n",
        "    return abs(a - b) <= 0.001\n",
        "\n",
        "#4\n",
        "def feq(a, b):\n",
        "    if abs(a-b) < 0.001:\n",
        "        return 1\n",
        "    return 0\n",
        "\n",
        "def approx_equals(a, b):\n",
        "    return feq(a, b)\n",
        "\n",
        "#5\n",
        "from math import isclose\n",
        "\n",
        "def approx_equals(a, b):\n",
        "    return isclose(a, b, abs_tol=1e-3)\n",
        "\n",
        "\n",
        "\n",
        "approx_equals(-7.28495, -7.28596)"
      ],
      "execution_count": null,
      "outputs": [
        {
          "output_type": "stream",
          "text": [
            "-7.285\n",
            "-7.286\n"
          ],
          "name": "stdout"
        },
        {
          "output_type": "execute_result",
          "data": {
            "text/plain": [
              "False"
            ]
          },
          "metadata": {
            "tags": []
          },
          "execution_count": 13
        }
      ]
    },
    {
      "cell_type": "code",
      "metadata": {
        "id": "gKSOZ9Bh47GM"
      },
      "source": [
        "(175.9827, 82.25, False),\n",
        "        (-156.24037, -156.24038, True),\n",
        "        (123.2345, 123.234501, True),\n",
        "        (1456.3652, 1456.3641, False),\n",
        "        (-1.234, -1.233999, True),\n",
        "        (98.7655, 98.7654999, True),\n",
        "        (-7.28495, -7.28596, False))"
      ],
      "execution_count": null,
      "outputs": []
    },
    {
      "cell_type": "markdown",
      "metadata": {
        "id": "i8ZWGxcMBnaD"
      },
      "source": [
        "# Задача 5"
      ]
    },
    {
      "cell_type": "markdown",
      "metadata": {
        "id": "JpQwSquMBswq"
      },
      "source": [
        "Write a comparator for a list of phonetic words for the letters of the greek alphabet.\n",
        "\n",
        "A comparator is:\n",
        "\n",
        "a custom comparison function of two arguments (iterable elements) which should return a negative, zero or positive number depending on whether the first argument is considered smaller than, equal to, or larger than the second argument\n",
        "\n",
        "(source: https://docs.python.org/2/library/functions.html#sorted)\n",
        "\n",
        "The greek alphabet is preloded for you as greek_alphabet:\n",
        "\n",
        "greek_alphabet = (\n",
        "    'alpha', 'beta', 'gamma', 'delta', 'epsilon', 'zeta', \n",
        "    'eta', 'theta', 'iota', 'kappa', 'lambda', 'mu', \n",
        "    'nu', 'xi', 'omicron', 'pi', 'rho', 'sigma',\n",
        "    'tau', 'upsilon', 'phi', 'chi', 'psi', 'omega')\n",
        "\n",
        "Examples\n",
        "\n",
        "greek_comparator('alpha', 'beta')   <  0\n",
        "\n",
        "greek_comparator('psi', 'psi')      == 0\n",
        "\n",
        "greek_comparator('upsilon', 'rho')  >  0"
      ]
    },
    {
      "cell_type": "code",
      "metadata": {
        "id": "eaBQBp-qBo_7"
      },
      "source": [
        "# 0 \n",
        "def greek_comparator(lhs, rhs):\n",
        "    greek_alphabet = (\n",
        "    'alpha', 'beta', 'gamma', 'delta', 'epsilon', 'zeta', \n",
        "    'eta', 'theta', 'iota', 'kappa', 'lambda', 'mu', \n",
        "    'nu', 'xi', 'omicron', 'pi', 'rho', 'sigma',\n",
        "    'tau', 'upsilon', 'phi', 'chi', 'psi', 'omega')\n",
        "\n",
        " \n",
        "    index_1 = greek_alphabet.index(lhs)\n",
        "    index_2 = greek_alphabet.index(rhs)\n",
        "    if index_1 == index_2:\n",
        "      return 0\n",
        "    elif index_1 > index_2:\n",
        "      return (index_1 - index_2)\n",
        "    else:\n",
        "      return (index_1 - index_2)\n",
        "\n",
        "#1\n",
        "def greek_comparator(lhs, rhs):\n",
        "    return greek_alphabet.index(lhs) - greek_alphabet.index(rhs)\n",
        "\n",
        "#2\n",
        "def greek_comparator(lhs, rhs):\n",
        "    return cmp(greek_alphabet.index(lhs), greek_alphabet.index(rhs))\n",
        "\n",
        "#3\n",
        "GREEK_ALPHABET_INDICES = {s: i for i, s in enumerate(greek_alphabet)}\n",
        "\n",
        "def greek_comparator(lhs, rhs):\n",
        "    return GREEK_ALPHABET_INDICES[lhs] - GREEK_ALPHABET_INDICES[rhs]\n",
        "\n",
        "#4\n",
        "greek_comparator = lambda l, r: greek_alphabet.index(l) - greek_alphabet.index(r)\n",
        "\n",
        "#5\n",
        "def greek_comparator(lhs, rhs):\n",
        "    # the tuple greek_alphabet is defined in the global namespace\n",
        "    \n",
        "    lhs_index = greek_alphabet.index(lhs)\n",
        "    rhs_index = greek_alphabet.index(rhs)\n",
        "    return lhs_index - rhs_index\n",
        "\n",
        "#6\n",
        "def greek_comparator(lhs, rhs):\n",
        "    return 0 if lhs == rhs else -1 if greek_alphabet.index(lhs) < greek_alphabet.index(rhs) else 1\n",
        "\n",
        "#7\n",
        "greek_comparator = lambda a, b, f=greek_alphabet.index: f(a)-f(b)"
      ],
      "execution_count": null,
      "outputs": []
    },
    {
      "cell_type": "code",
      "metadata": {
        "colab": {
          "base_uri": "https://localhost:8080/"
        },
        "id": "Blda-14iD81v",
        "outputId": "821799d4-59f6-489a-9bcf-92f0584fa5b6"
      },
      "source": [
        "greek_comparator('gamma', 'chi')"
      ],
      "execution_count": null,
      "outputs": [
        {
          "output_type": "execute_result",
          "data": {
            "text/plain": [
              "-19"
            ]
          },
          "metadata": {
            "tags": []
          },
          "execution_count": 24
        }
      ]
    },
    {
      "cell_type": "markdown",
      "metadata": {
        "id": "Dzi_kudf51hK"
      },
      "source": [
        "# Задача 6"
      ]
    },
    {
      "cell_type": "markdown",
      "metadata": {
        "id": "QV9raBOY52WT"
      },
      "source": [
        "Your classmates asked you to copy some paperwork for them. You know that there are 'n' classmates and the paperwork has 'm' pages.\n",
        "\n",
        "Your task is to calculate how many blank pages do you need. If n < 0 or m < 0 return 0.\n",
        "\n",
        "Example:\n",
        "\n",
        "n= 5, m=5: 25\n",
        "\n",
        "n=-5, m=5:  0\n",
        "\n",
        "Waiting for translations and Feedback! Thanks!"
      ]
    },
    {
      "cell_type": "code",
      "metadata": {
        "id": "wDWrIYG0513C"
      },
      "source": [
        "#0\n",
        "def paperwork(n, m):\n",
        "  return 0 if n < 0 or m < 0 else n * m\n",
        "\n",
        "#1\n",
        "def paperwork(n, m):\n",
        "    return n * m if n > 0 and m > 0 else 0\n",
        "\n",
        "#2 \n",
        "def paperwork(n, m):\n",
        "    if m<0 or n<0:\n",
        "        return 0\n",
        "    else:\n",
        "        return n*m\n",
        "#3\n",
        "def paperwork(n, m):\n",
        "    return n*m if n>=0 and m>=0 else 0\n",
        "\n",
        "#4\n",
        "paperwork = lambda a,b: a*b if min(a,b)>0 else 0\n",
        "\n",
        "#5\n",
        "def paperwork(n, m):\n",
        "    return n * m if min((n, m)) > 0 else 0"
      ],
      "execution_count": null,
      "outputs": []
    },
    {
      "cell_type": "code",
      "metadata": {
        "colab": {
          "base_uri": "https://localhost:8080/"
        },
        "id": "TCWHMugD6xkr",
        "outputId": "10f89115-dae8-4b87-8432-4b7aab1b5ef7"
      },
      "source": [
        "paperwork(3,5)"
      ],
      "execution_count": null,
      "outputs": [
        {
          "output_type": "execute_result",
          "data": {
            "text/plain": [
              "15"
            ]
          },
          "metadata": {
            "tags": []
          },
          "execution_count": 11
        }
      ]
    },
    {
      "cell_type": "markdown",
      "metadata": {
        "id": "4oh77YSvBta4"
      },
      "source": [
        "# Задача 7\n"
      ]
    },
    {
      "cell_type": "markdown",
      "metadata": {
        "id": "kiInp7Z8Bt8z"
      },
      "source": [
        "This series of katas will introduce you to basics of doing geometry with computers.\n",
        "\n",
        "Point objects have x and y attributes (X and Y in C#) attributes.\n",
        "\n",
        "Write a function calculating distance between Point a and Point b.\n",
        "\n",
        "Tests round answers to 6 decimal places.\n"
      ]
    },
    {
      "cell_type": "code",
      "metadata": {
        "id": "RzrCO8YlB08L"
      },
      "source": [
        "#0\n",
        "from math import sqrt \n",
        "\n",
        "Point_1 = (-10.2, 12.5)\n",
        "Point_2 = (0.3, 14.7)\n",
        "\n",
        "def distance_between_points(a, b):\n",
        "  return round(sqrt((Point_2[0]-Point_1[0])**2 + (Point_2[1]-Point_1[1])**2),6)"
      ],
      "execution_count": null,
      "outputs": []
    },
    {
      "cell_type": "code",
      "metadata": {
        "id": "85qw0N9eYlAl"
      },
      "source": [
        "#1\n",
        "from math import hypot\n",
        "\n",
        "def distance_between_points(a, b):\n",
        "    return hypot(a.x - b.x, a.y - b.y)\n",
        "\n",
        "#2\n",
        "def distance_between_points(a, b):\n",
        "    return ((b.x - a.x) ** 2 + (b.y - a.y) ** 2) ** 0.5\n",
        "\n",
        "#3\n",
        "def distance_between_points(a, b):\n",
        "    return math.sqrt((a.x - b.x)**2 + (a.y - b.y)**2)\n",
        "\n",
        "#4\n",
        "class D:\n",
        "  def __init__(self, a, b):\n",
        "    self.x = a.x - b.x\n",
        "    self.y = a.y - b.y\n",
        "    self.d = (self.x ** 2 + self.y ** 2) ** .5\n",
        "\n",
        "distance_between_points = lambda a, b: D(a, b).d\n",
        "\n",
        "#5\n",
        "def distance_between_points(a, b):\n",
        "    return round(sum( (d-c)**2 for c,d in zip((a.x, a.y), (b.x, b.y)))**.5, 6)\n",
        "\n",
        "#6\n",
        "def distance_between_points(a, b):\n",
        "    \"\"\" The simplest forumla for distance between two points on a surface\n",
        "        derived form Pythagorean Theorem\n",
        "    \"\"\"\n",
        "    return math.sqrt((math.pow(a.x-b.x, 2) + math.pow(a.y-b.y, 2)))\n",
        "\n",
        "#7\n",
        "def distance_between_points(a, b):\n",
        "    return (abs(a.x - b.x) **  2 + abs(a.y - b.y) ** 2) ** .5\n",
        "\n",
        "#8\n",
        "import math\n",
        "\n",
        "class Point:\n",
        "    def __init__(self, x, y):\n",
        "        self.x = x\n",
        "        self.y = y\n",
        "\n",
        "    def __getitem__(self, position):\n",
        "        return (self.x, self.y)[position]\n",
        "\n",
        "def distance_between_points(a, b):\n",
        "    vert = abs(b[1] - a[1]) ** 2\n",
        "    hori = abs(b[0] - a[0]) ** 2\n",
        "    return math.sqrt(vert + hori)"
      ],
      "execution_count": null,
      "outputs": []
    },
    {
      "cell_type": "code",
      "metadata": {
        "id": "nLJE8PJDWKdG"
      },
      "source": [
        "distance_between_points(Point_1, Point_2)\n",
        "\n",
        "distance_between_points((-10.2, 12.5), (0.3, 14.7))\n",
        "\n",
        "from math import sqrt\n",
        "def distance_between_points(a, b):\n",
        "    return round(sqrt((b[0]-a[0])**2 + (b[1]-a[1])**2),6)"
      ],
      "execution_count": null,
      "outputs": []
    },
    {
      "cell_type": "markdown",
      "metadata": {
        "id": "W3i5LAdrPAyv"
      },
      "source": [
        "# Задача 8 "
      ]
    },
    {
      "cell_type": "markdown",
      "metadata": {
        "id": "j8LyKunZPBUn"
      },
      "source": [
        "Your task is to calculate logical value of boolean array. Test arrays are one-dimensional and their size is in the range 1-50.\n",
        "\n",
        "Links referring to logical operations: AND, OR and XOR.\n",
        "\n",
        "You should begin at the first value, and repeatedly apply the logical operation across the remaining elements in the array sequentially.\n",
        "\n",
        "First Example:\n",
        "\n",
        "Input: true, true, false, operator: AND\n",
        "\n",
        "Steps: true AND true -> true, true AND false -> false\n",
        "\n",
        "Output: false\n",
        "\n",
        "Second Example:\n",
        "\n",
        "Input: true, true, false, operator: OR\n",
        "\n",
        "Steps: true OR true -> true, true OR false -> true\n",
        "\n",
        "Output: true\n",
        "\n",
        "Third Example:\n",
        "\n",
        "Input: true, true, false, operator: XOR\n",
        "\n",
        "Steps: true XOR true -> false, false XOR false -> false\n",
        "\n",
        "Output: false\n",
        "\n",
        "Input:\n",
        "\n",
        "boolean array, string with operator' s name: 'AND', 'OR', 'XOR'.\n",
        "\n",
        "Output:\n",
        "\n",
        "calculated boolean"
      ]
    },
    {
      "cell_type": "code",
      "metadata": {
        "id": "idEqvPw4PBzr"
      },
      "source": [
        "#0\n",
        "import operator\n",
        "\n",
        "OPS = {\n",
        "    \"AND\": operator.and_,\n",
        "    \"OR\" : operator.or_,\n",
        "    \"XOR\": operator.xor\n",
        "}\n",
        "\n",
        "def logical_calc(array, op):\n",
        "    return reduce(OPS[op], array)\n",
        "\n",
        "#1 \n",
        "from operator import and_, or_, xor\n",
        "\n",
        "OPERATOR = {'AND': and_, 'OR': or_, 'XOR': xor}\n",
        "\n",
        "\n",
        "def logical_calc(array, op):\n",
        "    return reduce(OPERATOR[op], array)\n",
        "\n",
        "#2 \n",
        "def logical_calc(array, op):\n",
        "    res = array[0]\n",
        "    for x in array[1:]:\n",
        "        if op == \"AND\":\n",
        "            res &= x\n",
        "        elif op == \"OR\":\n",
        "            res |= x\n",
        "        else:\n",
        "            res ^= x\n",
        "        \n",
        "    return res #boolean\n",
        "\n",
        "#3\n",
        "def logical_calc(array, op):\n",
        "    ops = {\n",
        "            \"AND\" : lambda x,y: x & y,\n",
        "            \"OR\"  : lambda x,y: x | y,\n",
        "            \"XOR\" : lambda x,y: x ^ y\n",
        "           }\n",
        "  \n",
        "    from functools import reduce\n",
        "    return reduce(ops[op], array)\n",
        "\n",
        "#4\n",
        "def logical_calc(array, op):\n",
        "    return reduce(eval('bool.__'+op.lower()+'__'),array)\n",
        "\n",
        "#5\n",
        "def logical_calc(array, op):\n",
        "    s = ' ' + op.lower().replace('xor', '^') + ' '\n",
        "    return eval(s.join(str(x) for x in array))\n",
        "\n",
        "#6\n",
        "from operator import xor\n",
        "\n",
        "def logical_calc(array, op):\n",
        "    m = {\n",
        "        \"AND\": all(array),\n",
        "        \"OR\": any(array),\n",
        "        \"XOR\": reduce(lambda i, j: int(i) ^ int(j), array)\n",
        "    }\n",
        "    \n",
        "    return m[op]\n",
        "\n",
        "#7\n",
        "from functools import reduce\n",
        "\n",
        "def logical_calc(array, op):\n",
        "    return reduce(lambda x,y: {'OR': x or y, 'AND': x and y, 'XOR': x ^ y}[op], array)\n",
        "\n",
        "#8\n",
        "def logical_calc(array, op):\n",
        "    res = array[0]\n",
        "    for i in array[1:]:\n",
        "        if op == 'AND':\n",
        "            res = res and i\n",
        "        elif op == 'OR':\n",
        "            res = res or i\n",
        "        elif op == 'XOR':\n",
        "            res = res != i\n",
        "    return res\n",
        "\n",
        "#9\n",
        "def logical_calc(array, op):\n",
        "    result = False\n",
        "    if len(array) == 1: return array[0]\n",
        "    \n",
        "    if op == \"AND\": result = array[0] and array[1]\n",
        "    if op == \"OR\": result = array[0] or array[1]\n",
        "    if op == \"XOR\": result = array[0] ^ array[1]\n",
        "    \n",
        "    for n in range(2,len(array)):\n",
        "        if op == \"AND\":\n",
        "            result = result and array[n]\n",
        "        if op == \"OR\":\n",
        "            result = result or array[n]\n",
        "        if op == \"XOR\":\n",
        "            result = result ^ array[n]\n",
        "            \n",
        "    return result"
      ],
      "execution_count": null,
      "outputs": []
    },
    {
      "cell_type": "markdown",
      "metadata": {
        "id": "mT2rgFnXWIh2"
      },
      "source": [
        "# Задача 9"
      ]
    },
    {
      "cell_type": "markdown",
      "metadata": {
        "id": "ZFXcCIAHWJNw"
      },
      "source": [
        "This is a spin off of my first kata. You are given a list of character sequences as a comma separated string. Write a function which returns another string containing all the character sequences except the first and the last ones, separated by spaces. If the input string is empty, or the removal of the first and last items would cause the string to be empty, return a null value.\n",
        "\n",
        "Test.describe(\"Basic Tests\")\n",
        "\n",
        "Test.assert_equals(array(''), None)\n",
        "\n",
        "Test.assert_equals(array('1'), None)\n",
        "\n",
        "Test.assert_equals(array('1, 3'), None)\n",
        "\n",
        "Test.assert_equals(array('1,2,3'), '2')\n",
        "\n",
        "Test.assert_equals(array('1,2,3,4'), '2 3')\n",
        "\n",
        "bf 0c3 f c 434' should equal 'bf 0c3 f c'\n",
        "\n",
        "'d0a ecd fd 22 e' should equal 'd0a ecd fd 22'\n",
        "\n",
        "'d 1cf ff f1a 6b 0d0 bb c3 d1a' should equal 'd 1cf ff f1a 6b 0d0 bb c3'\n",
        "\n",
        "'4' should equal None\n",
        "\n",
        "'2 63d 66 a 43 0 bb 5' should equal '2 63d 66 a 43 0 bb'\n",
        "'00' should equal None\n",
        "\n",
        "'3 5 f b5 a c' should equal '3 5 f b5 a'\n",
        "\n",
        "'bbc c 61c 0b 2f1 cda e' should equal \n",
        "\n",
        "'bbc c 61c 0b 2f1 cda''1 6e5 6a' should equal '1 6e5'\n",
        "\n",
        "'fe 4ce 36 f fc 6c 4 de' should equal 'fe 4ce 36 f fc 6c 4'\n"
      ]
    },
    {
      "cell_type": "code",
      "metadata": {
        "id": "44r0QPpgWJnJ"
      },
      "source": [
        "#0\n",
        "def array(strng):\n",
        "    return ' '.join(strng.split(',')[1:-1]) or None\n",
        "\n",
        "#1\n",
        "def array(s):\n",
        "    r = ' '.join(s.split(',')[1:-1])\n",
        "    return r if r else None\n",
        "\n",
        "#2\n",
        "def array(string):\n",
        "  res = ' '.join(string.split(',')[1:-1])\n",
        "  return res if len(res) > 0 else None\n",
        "\n",
        "#3\n",
        "def array(string):\n",
        "  return \" \".join(string.split(\",\")[1:-1]) or None\n",
        "\n",
        "#4\n",
        "def array(string):\n",
        "    if len(string) <5:\n",
        "      return None\n",
        "    var =  string.split(',')\n",
        "    var = var[1:-1]\n",
        "    s = \"\";\n",
        "    for i in var :\n",
        "        s +=str(i)+\" \"\n",
        "    if s[:-1] == '': \n",
        "      return None\n",
        "    return s[:-1]\n",
        "\n",
        "#5\n",
        "def array(str):\n",
        "    l = len(str) > 2\n",
        "    a = str.replace(\" \", \"\").strip(\",\")\n",
        "    b = a.split(\",\")\n",
        "    c = b[1:-1]\n",
        "    return \" \".join(c) if str and l and a and b and c else None\n",
        "\n",
        "#6\n",
        "def array(s):\n",
        "    return ' '.join(s.split(',')[1:-1]) or None\n",
        "\n",
        "#7\n",
        "def array(string):\n",
        "    split = string.split(\",\") \n",
        "    remove = split[1:-1]\n",
        "    return \" \".join(remove) if remove else None\n",
        "\n",
        "#8\n",
        "def array(string):\n",
        "    if len(string.split(\",\"))>2:\n",
        "        return(str(' '.join(string.split(',')[1:-1])))\n",
        "\n",
        "#9 \n",
        "def array(string):\n",
        "    s = string.replace(\" \", \"\").split(\",\")\n",
        "    return ' '.join(s[1:-1]) if s[1:-1] != [] else None"
      ],
      "execution_count": null,
      "outputs": []
    },
    {
      "cell_type": "markdown",
      "metadata": {
        "id": "W6J-tW5wFFiu"
      },
      "source": [
        "# Задача 10"
      ]
    },
    {
      "cell_type": "markdown",
      "metadata": {
        "id": "nxINxc7aFGB3"
      },
      "source": [
        "You're running an online business and a big part of your day is fulfilling orders. As your volume picks up that's been taking more of your time, and unfortunately lately you've been running into situations where you take an order but can't fulfill it.\n",
        "\n",
        "You've decided to write a function fillable() that takes three arguments: a dictionary stock representing all the merchandise you have in stock, a string merch representing the thing your customer wants to buy, and an integer n representing the number of units of merch they would like to buy. Your function should return True if you have the merchandise in stock to complete the sale, otherwise it should return False.\n",
        "\n",
        "Valid data will always be passed in and n will always be >= 1.\n",
        "\n",
        "stock = {\n",
        "    'football': 4,\n",
        "    'boardgame': 10,\n",
        "    'leggos': 1,\n",
        "    'doll': 5,\n",
        "}\n",
        "\n",
        "test.assert_equals(fillable(stock, 'football', 3), True)\n",
        "\n",
        "test.assert_equals(fillable(stock, 'leggos', 2), False)\n",
        "\n",
        "test.assert_equals(fillable(stock, 'action figure', 1), False)"
      ]
    },
    {
      "cell_type": "code",
      "metadata": {
        "colab": {
          "base_uri": "https://localhost:8080/"
        },
        "id": "bgGnovT5lz9m",
        "outputId": "2bef3a4e-b194-440e-ad1a-0f21e24980a8"
      },
      "source": [
        "stock = { 'football': 4, 'boardgame': 10, 'leggos': 1, 'doll': 5, }\n",
        "\n",
        "#0\n",
        "def fillable(stock, merch, n):\n",
        "    if merch in stock and stock[merch] >= n:\n",
        "        return True\n",
        "    else:\n",
        "        return False\n",
        "\n",
        "\n",
        "fillable(stock, 'football', 3)"
      ],
      "execution_count": null,
      "outputs": [
        {
          "output_type": "execute_result",
          "data": {
            "text/plain": [
              "True"
            ]
          },
          "metadata": {
            "tags": []
          },
          "execution_count": 61
        }
      ]
    },
    {
      "cell_type": "code",
      "metadata": {
        "id": "qc03QkrGwZQO"
      },
      "source": [
        "#1\n",
        "def fillable(stock, merch, n):\n",
        "  return stock.get(merch, 0) >= n\n",
        "\n",
        "#2 \n",
        "def fillable(stock, merch, n):\n",
        "    return stock.get(merch, False) >= n \n",
        "\n",
        "#3\n",
        "def fillable(stock, merch, n):\n",
        "    return merch in stock and stock[merch] >= n\n",
        "\n",
        "#4\n",
        "fillable = lambda stock, merch, n : merch in stock and stock.get(merch)>=n \n",
        "\n",
        "#5\n",
        "def fillable(stock, merch, n):\n",
        "    if merch not in stock.keys():\n",
        "        return False\n",
        "    return stock[merch]>=n\n",
        "\n",
        "#6\n",
        "def fillable(stock, merch, n):\n",
        "    if merch in stock:\n",
        "        if n > stock[merch]:\n",
        "            return False\n",
        "        else:\n",
        "           return True\n",
        "    else:\n",
        "        return False\n"
      ],
      "execution_count": null,
      "outputs": []
    },
    {
      "cell_type": "markdown",
      "metadata": {
        "id": "S5rGUtE3Plg7"
      },
      "source": [
        "# Задача 11"
      ]
    },
    {
      "cell_type": "markdown",
      "metadata": {
        "id": "osV_4CJJPl8O"
      },
      "source": [
        "You get an array of numbers, return the sum of all of the positives ones.\n",
        "\n",
        "Example [1,-4,7,12] => 1 + 7 + 12 = 20\n",
        "\n",
        "Note: if there is nothing to sum, the sum is default to 0."
      ]
    },
    {
      "cell_type": "code",
      "metadata": {
        "colab": {
          "base_uri": "https://localhost:8080/"
        },
        "id": "yKKlCFUTPo_W",
        "outputId": "e110cbbc-0192-4b9e-949d-38ab7f87fafa"
      },
      "source": [
        "arr = [-1,2,3,4,-5]\n",
        "\n",
        "#0\n",
        "def positive_sum(arr):\n",
        "    sum = 0\n",
        "    for i in arr:\n",
        "      if i > 0:\n",
        "        sum += i\n",
        "    return sum\n",
        "\n",
        "\n",
        "positive_sum(arr)"
      ],
      "execution_count": null,
      "outputs": [
        {
          "output_type": "execute_result",
          "data": {
            "text/plain": [
              "9"
            ]
          },
          "metadata": {
            "tags": []
          },
          "execution_count": 73
        }
      ]
    },
    {
      "cell_type": "code",
      "metadata": {
        "id": "FpPVe980RFYu"
      },
      "source": [
        "#1\n",
        "def positive_sum(arr):\n",
        "    return sum(x for x in arr if x > 0)\n",
        "\n",
        "#2\n",
        "def positive_sum(arr):\n",
        "    return sum(filter(lambda x: x > 0,arr))\n",
        "\n",
        "#3\n",
        "def positive_sum(arr):\n",
        "    return sum(map(lambda x: x if x > 0 else 0, arr))\n",
        "\n",
        "#4\n",
        "def positive_sum(arr):\n",
        "    return sum( max(i, 0) for i in arr )\n"
      ],
      "execution_count": null,
      "outputs": []
    },
    {
      "cell_type": "markdown",
      "metadata": {
        "id": "k5ccb8SZOh0v"
      },
      "source": [
        "# Задача 12"
      ]
    },
    {
      "cell_type": "markdown",
      "metadata": {
        "id": "fZr_X5JiOjlX"
      },
      "source": [
        "If you've completed this kata already and want a bigger challenge, here's the 3D version\n",
        "\n",
        "Bob is bored during his physics lessons so he's built himself a toy box to help pass the time. The box is special because it has the ability to change gravity.\n",
        "\n",
        "There are some columns of toy cubes in the box arranged in a line. The i-th column contains a_i cubes. At first, the gravity in the box is pulling the cubes downwards. When Bob switches the gravity, it begins to pull all the cubes to a certain side of the box, d, which can be either 'L' or 'R' (left or right). \n",
        "Below is an example of what a box of cubes might look like before and after switching gravity.\n",
        "\n",
        "\n",
        "\n",
        "+---+                                       +---+\n",
        "|   |                                       |   |\n",
        "+---+                                       +---+\n",
        "+---++---+     +---+              +---++---++---+\n",
        "|   ||   |     |   |   -->        |   ||   ||   |\n",
        "+---++---+     +---+              +---++---++---+\n",
        "+---++---++---++---+         +---++---++---++---+\n",
        "|   ||   ||   ||   |         |   ||   ||   ||   |\n",
        "+---++---++---++---+         +---++---++---++---+\n",
        "\n",
        "Given the initial configuration of the cubes in the box, find out how many cubes are in each of the n columns after Bob switches the gravity.\n",
        "\n",
        "Examples:\n",
        "\n",
        "flip('R', [3, 2, 1, 2])     =>  [1, 2, 2, 3]\n",
        "\n",
        "flip('L', [1, 4, 5, 3, 5])  =>  [5, 5, 4, 3, 1]\n",
        "\n",
        "\n",
        "\n",
        "  def test_1():\n",
        "\n",
        "        test.assert_equals(flip('R', [3, 2, 1, 2]), [1, 2, 2, 3])\n",
        "\n",
        "    @test.it(\"Test 2\")\n",
        "\n",
        "    def test_2():\n",
        "\n",
        "        test.assert_equals(flip('L', [1, 4, 5, 3, 5]), [5, \n",
        "\n",
        "        5, 4, 3, 1])\n"
      ]
    },
    {
      "cell_type": "code",
      "metadata": {
        "colab": {
          "base_uri": "https://localhost:8080/"
        },
        "id": "aecvf7gLO2WW",
        "outputId": "ca7d4612-2b9f-43a9-d603-1e9553ec0e01"
      },
      "source": [
        "#0\n",
        "def flip(d, a):\n",
        "    if d == 'R':\n",
        "        return sorted(a)\n",
        "    else:\n",
        "      return sorted(a,reverse=True)\n",
        "\n",
        "#1\n",
        "def flip(d, a):\n",
        "        return sorted(a) if d == 'R' else sorted(a,reverse=True)\n",
        "\n",
        "#2\n",
        "def flip(d,a):\n",
        "    return sorted(a, reverse=d=='L')\n",
        "\n",
        "#3\n",
        "def flip(d, a):\n",
        "    if d == 'R':\n",
        "        a.sort()\n",
        "        return a\n",
        "    else:\n",
        "        a.sort()\n",
        "        a = a[::-1]\n",
        "        return a\n",
        "\n",
        "#4\n",
        "def flip(d, a):\n",
        "    return sorted(a, reverse=(d == \"L\"))\n",
        "\n",
        "\n",
        "#5\n",
        "def flip(d, a):\n",
        "    a.sort() if d == \"R\" else a.sort(reverse=True)\n",
        "    return a\n",
        "\n",
        "#6\n",
        "flip = lambda d, a: sorted(a, reverse = d == 'L')\n",
        "\n",
        "print (flip('L',[ 5, 4, 345, 2653, 3456,453]))\n",
        "  \n"
      ],
      "execution_count": null,
      "outputs": [
        {
          "output_type": "stream",
          "text": [
            "[3456, 2653, 453, 345, 5, 4]\n"
          ],
          "name": "stdout"
        }
      ]
    },
    {
      "cell_type": "markdown",
      "metadata": {
        "id": "tJBnU9Z5fWiP"
      },
      "source": [
        "# Задача 13"
      ]
    },
    {
      "cell_type": "markdown",
      "metadata": {
        "id": "FSpzxuoqfXAW"
      },
      "source": [
        "Write function bmi that calculates body mass index (bmi = weight / height ^ 2).\n",
        "\n",
        "if bmi <= 18.5 return \"Underweight\"\n",
        "\n",
        "if bmi <= 25.0 return \"Normal\"\n",
        "\n",
        "if bmi <= 30.0 return \"Overweight\"\n",
        "\n",
        "if bmi > 30 return \"Obese\"\n",
        "\n",
        "\n",
        "def basic_test_cases():\n",
        "\n",
        "        test.assert_equals(bmi(50, 1.80), \"Underweight\")\n",
        "        test.assert_equals(bmi(80, 1.80), \"Normal\")\n",
        "        test.assert_equals(bmi(90, 1.80), \"Overweight\")\n",
        "        test.assert_equals(bmi(110, 1.80), \"Obese\")\n",
        "        test.assert_equals(bmi(50, 1.50), \"Normal\")"
      ]
    },
    {
      "cell_type": "code",
      "metadata": {
        "colab": {
          "base_uri": "https://localhost:8080/"
        },
        "id": "HDCz2K3mfaax",
        "outputId": "c0523270-dece-4805-c1ce-a988c5d43aa0"
      },
      "source": [
        "#0\n",
        "def bmi(weight, height):\n",
        "    bmi = weight / (height ** 2)\n",
        "    if bmi <= 18.5:\n",
        "        return \"Underweight\"\n",
        "    elif bmi <= 25.0:\n",
        "        return \"Normal\"\n",
        "    elif bmi <= 30.0:\n",
        "        return \"Overweight\"\n",
        "    else:\n",
        "        return \"Obese\"\n",
        "\n",
        "bmi(80, 1.86)"
      ],
      "execution_count": null,
      "outputs": [
        {
          "output_type": "execute_result",
          "data": {
            "application/vnd.google.colaboratory.intrinsic+json": {
              "type": "string"
            },
            "text/plain": [
              "'Normal'"
            ]
          },
          "metadata": {
            "tags": []
          },
          "execution_count": 110
        }
      ]
    },
    {
      "cell_type": "code",
      "metadata": {
        "id": "Ind0ukXdpAC8"
      },
      "source": [
        "#1 \n",
        "def bmi(weight, height):\n",
        "    b = weight / height ** 2\n",
        "    return ['Underweight', 'Normal', 'Overweight', 'Obese'][(b > 30) + (b > 25) + (b > 18.5)]\n",
        "\n",
        "#2\n",
        "def bmi(weight, height):\n",
        "    bmi = weight / height ** 2\n",
        "    return 'Underweight' if bmi <= 18.5 else 'Normal' if bmi <= 25.0 else 'Overweight' if bmi <= 30.0 else \"Obese\"\n",
        "\n",
        "#3\n",
        "def bmi(weight, height):\n",
        "    bmeye = (weight/(height**2))\n",
        "    if bmeye <= 18.5: return(\"Underweight\")\n",
        "    elif bmeye <= 25.0: return(\"Normal\")\n",
        "    elif bmeye <= 30.0: return(\"Overweight\")\n",
        "    elif bmeye > 30: return(\"Obese\")\n",
        "\n",
        "#4\n",
        "bmi = lambda w,h: (lambda b=w/h**2: [\"Underweight\", \"Normal\", \"Overweight\", \"Obese\"][(18.5<b) + (25<b) + (30<b)])()\n",
        "\n",
        "#5\n",
        "def bmi(weight, height):\n",
        "    result = weight / height / height\n",
        "    return \"Underweight Normal Overweight Obese\".split()[\n",
        "            (result > 18.5) +\n",
        "            (result > 25.0) +\n",
        "            (result > 30.0)]\n",
        "#6\n",
        "bmi=lambda w,h:next(s for s,t in zip(\"Obese Overweight Normal Underweight\".split(),(30,25,18.5,0))if w/h/h>t)"
      ],
      "execution_count": null,
      "outputs": []
    },
    {
      "cell_type": "markdown",
      "metadata": {
        "id": "nkcdptiPkL2e"
      },
      "source": [
        "# Задача 14"
      ]
    },
    {
      "cell_type": "markdown",
      "metadata": {
        "id": "Bih1b8PmkMbf"
      },
      "source": [
        "You task is to implement an simple interpreter for the notorious esoteric language HQ9+ that will work for a single character input:\n",
        "\n",
        "If the input is 'H', return 'Hello World!'\n",
        "\n",
        "If the input is 'Q', return the input\n",
        "\n",
        "If the input is '9', return the full lyrics of 99 \n",
        "\n",
        "Bottles of Beer. It should be formatted like this:\n",
        "\n",
        "99 bottles of beer on the wall, 99 bottles of beer.\n",
        "\n",
        "Take one down and pass it around, 98 bottles of beer on the wall.\n",
        "\n",
        "98 bottles of beer on the wall, 98 bottles of beer.\n",
        "\n",
        "Take one down and pass it around, 97 bottles of beer on the wall.\n",
        "\n",
        "97 bottles of beer on the wall, 97 bottles of beer.\n",
        "\n",
        "Take one down and pass it around, 96 bottles of beer on the wall.\n",
        "\n",
        "...\n",
        "...\n",
        "...\n",
        "\n",
        "2 bottles of beer on the wall, 2 bottles of beer.\n",
        "Take one down and pass it around, 1 bottle of beer on the wall.\n",
        "\n",
        "1 bottle of beer on the wall, 1 bottle of beer.\n",
        "Take one down and pass it around, no more bottles of beer on the wall.\n",
        "\n",
        "No more bottles of beer on the wall, no more bottles of beer.\n",
        "\n",
        "Go to the store and buy some more, 99 bottles of beer on the wall.\n",
        "\n",
        "For everything else, don't return anything (return null in C#, None in Rust).\n",
        "\n",
        "(+ has no visible effects so we can safely ignore it.)"
      ]
    },
    {
      "cell_type": "code",
      "metadata": {
        "id": "d4zhQFANkMwJ"
      },
      "source": [
        "#0\n",
        "def HQ9(code):\n",
        "    if code =='H':\n",
        "        return 'Hello World!'\n",
        "    elif code =='Q':\n",
        "        return 'Q'\n",
        "    elif code=='9':\n",
        "        return '99 bottles of beer on the wall, 99 bottles of beer.\\nTake one down and pass it around, 98 bottles of beer on the wall.\\n98 bottles of beer on the wall, 98 bottles of beer.\\nTake one down and pass it around, 97 bottles of beer on the wall.\\n97 bottles of beer on the wall, 97 bottles of beer.\\nTake one down and pass it around, 96 bottles of beer on the wall.\\n96 bottles of beer on the wall, 96 bottles of beer.\\nTake one down and pass it around, 95 bottles of beer on the wall.\\n95 bottles of beer on the wall, 95 bottles of beer.\\nTake one down and pass it around, 94 bottles of beer on the wall.\\n94 bottles of beer on the wall, 94 bottles of beer.\\nTake one down and pass it around, 93 bottles of beer on the wall.\\n93 bottles of beer on the wall, 93 bottles of beer.\\nTake one down and pass it around, 92 bottles of beer on the wall.\\n92 bottles of beer on the wall, 92 bottles of beer.\\nTake one down and pass it around, 91 bottles of beer on the wall.\\n91 bottles of beer on the wall, 91 bottles of beer.\\nTake one down and pass it around, 90 bottles of beer on the wall.\\n90 bottles of beer on the wall, 90 bottles of beer.\\nTake one down and pass it around, 89 bottles of beer on the wall.\\n89 bottles of beer on the wall, 89 bottles of beer.\\nTake one down and pass it around, 88 bottles of beer on the wall.\\n88 bottles of beer on the wall, 88 bottles of beer.\\nTake one down and pass it around, 87 bottles of beer on the wall.\\n87 bottles of beer on the wall, 87 bottles of beer.\\nTake one down and pass it around, 86 bottles of beer on the wall.\\n86 bottles of beer on the wall, 86 bottles of beer.\\nTake one down and pass it around, 85 bottles of beer on the wall.\\n85 bottles of beer on the wall, 85 bottles of beer.\\nTake one down and pass it around, 84 bottles of beer on the wall.\\n84 bottles of beer on the wall, 84 bottles of beer.\\nTake one down and pass it around, 83 bottles of beer on the wall.\\n83 bottles of beer on the wall, 83 bottles of beer.\\nTake one down and pass it around, 82 bottles of beer on the wall.\\n82 bottles of beer on the wall, 82 bottles of beer.\\nTake one down and pass it around, 81 bottles of beer on the wall.\\n81 bottles of beer on the wall, 81 bottles of beer.\\nTake one down and pass it around, 80 bottles of beer on the wall.\\n80 bottles of beer on the wall, 80 bottles of beer.\\nTake one down and pass it around, 79 bottles of beer on the wall.\\n79 bottles of beer on the wall, 79 bottles of beer.\\nTake one down and pass it around, 78 bottles of beer on the wall.\\n78 bottles of beer on the wall, 78 bottles of beer.\\nTake one down and pass it around, 77 bottles of beer on the wall.\\n77 bottles of beer on the wall, 77 bottles of beer.\\nTake one down and pass it around, 76 bottles of beer on the wall.\\n76 bottles of beer on the wall, 76 bottles of beer.\\nTake one down and pass it around, 75 bottles of beer on the wall.\\n75 bottles of beer on the wall, 75 bottles of beer.\\nTake one down and pass it around, 74 bottles of beer on the wall.\\n74 bottles of beer on the wall, 74 bottles of beer.\\nTake one down and pass it around, 73 bottles of beer on the wall.\\n73 bottles of beer on the wall, 73 bottles of beer.\\nTake one down and pass it around, 72 bottles of beer on the wall.\\n72 bottles of beer on the wall, 72 bottles of beer.\\nTake one down and pass it around, 71 bottles of beer on the wall.\\n71 bottles of beer on the wall, 71 bottles of beer.\\nTake one down and pass it around, 70 bottles of beer on the wall.\\n70 bottles of beer on the wall, 70 bottles of beer.\\nTake one down and pass it around, 69 bottles of beer on the wall.\\n69 bottles of beer on the wall, 69 bottles of beer.\\nTake one down and pass it around, 68 bottles of beer on the wall.\\n68 bottles of beer on the wall, 68 bottles of beer.\\nTake one down and pass it around, 67 bottles of beer on the wall.\\n67 bottles of beer on the wall, 67 bottles of beer.\\nTake one down and pass it around, 66 bottles of beer on the wall.\\n66 bottles of beer on the wall, 66 bottles of beer.\\nTake one down and pass it around, 65 bottles of beer on the wall.\\n65 bottles of beer on the wall, 65 bottles of beer.\\nTake one down and pass it around, 64 bottles of beer on the wall.\\n64 bottles of beer on the wall, 64 bottles of beer.\\nTake one down and pass it around, 63 bottles of beer on the wall.\\n63 bottles of beer on the wall, 63 bottles of beer.\\nTake one down and pass it around, 62 bottles of beer on the wall.\\n62 bottles of beer on the wall, 62 bottles of beer.\\nTake one down and pass it around, 61 bottles of beer on the wall.\\n61 bottles of beer on the wall, 61 bottles of beer.\\nTake one down and pass it around, 60 bottles of beer on the wall.\\n60 bottles of beer on the wall, 60 bottles of beer.\\nTake one down and pass it around, 59 bottles of beer on the wall.\\n59 bottles of beer on the wall, 59 bottles of beer.\\nTake one down and pass it around, 58 bottles of beer on the wall.\\n58 bottles of beer on the wall, 58 bottles of beer.\\nTake one down and pass it around, 57 bottles of beer on the wall.\\n57 bottles of beer on the wall, 57 bottles of beer.\\nTake one down and pass it around, 56 bottles of beer on the wall.\\n56 bottles of beer on the wall, 56 bottles of beer.\\nTake one down and pass it around, 55 bottles of beer on the wall.\\n55 bottles of beer on the wall, 55 bottles of beer.\\nTake one down and pass it around, 54 bottles of beer on the wall.\\n54 bottles of beer on the wall, 54 bottles of beer.\\nTake one down and pass it around, 53 bottles of beer on the wall.\\n53 bottles of beer on the wall, 53 bottles of beer.\\nTake one down and pass it around, 52 bottles of beer on the wall.\\n52 bottles of beer on the wall, 52 bottles of beer.\\nTake one down and pass it around, 51 bottles of beer on the wall.\\n51 bottles of beer on the wall, 51 bottles of beer.\\nTake one down and pass it around, 50 bottles of beer on the wall.\\n50 bottles of beer on the wall, 50 bottles of beer.\\nTake one down and pass it around, 49 bottles of beer on the wall.\\n49 bottles of beer on the wall, 49 bottles of beer.\\nTake one down and pass it around, 48 bottles of beer on the wall.\\n48 bottles of beer on the wall, 48 bottles of beer.\\nTake one down and pass it around, 47 bottles of beer on the wall.\\n47 bottles of beer on the wall, 47 bottles of beer.\\nTake one down and pass it around, 46 bottles of beer on the wall.\\n46 bottles of beer on the wall, 46 bottles of beer.\\nTake one down and pass it around, 45 bottles of beer on the wall.\\n45 bottles of beer on the wall, 45 bottles of beer.\\nTake one down and pass it around, 44 bottles of beer on the wall.\\n44 bottles of beer on the wall, 44 bottles of beer.\\nTake one down and pass it around, 43 bottles of beer on the wall.\\n43 bottles of beer on the wall, 43 bottles of beer.\\nTake one down and pass it around, 42 bottles of beer on the wall.\\n42 bottles of beer on the wall, 42 bottles of beer.\\nTake one down and pass it around, 41 bottles of beer on the wall.\\n41 bottles of beer on the wall, 41 bottles of beer.\\nTake one down and pass it around, 40 bottles of beer on the wall.\\n40 bottles of beer on the wall, 40 bottles of beer.\\nTake one down and pass it around, 39 bottles of beer on the wall.\\n39 bottles of beer on the wall, 39 bottles of beer.\\nTake one down and pass it around, 38 bottles of beer on the wall.\\n38 bottles of beer on the wall, 38 bottles of beer.\\nTake one down and pass it around, 37 bottles of beer on the wall.\\n37 bottles of beer on the wall, 37 bottles of beer.\\nTake one down and pass it around, 36 bottles of beer on the wall.\\n36 bottles of beer on the wall, 36 bottles of beer.\\nTake one down and pass it around, 35 bottles of beer on the wall.\\n35 bottles of beer on the wall, 35 bottles of beer.\\nTake one down and pass it around, 34 bottles of beer on the wall.\\n34 bottles of beer on the wall, 34 bottles of beer.\\nTake one down and pass it around, 33 bottles of beer on the wall.\\n33 bottles of beer on the wall, 33 bottles of beer.\\nTake one down and pass it around, 32 bottles of beer on the wall.\\n32 bottles of beer on the wall, 32 bottles of beer.\\nTake one down and pass it around, 31 bottles of beer on the wall.\\n31 bottles of beer on the wall, 31 bottles of beer.\\nTake one down and pass it around, 30 bottles of beer on the wall.\\n30 bottles of beer on the wall, 30 bottles of beer.\\nTake one down and pass it around, 29 bottles of beer on the wall.\\n29 bottles of beer on the wall, 29 bottles of beer.\\nTake one down and pass it around, 28 bottles of beer on the wall.\\n28 bottles of beer on the wall, 28 bottles of beer.\\nTake one down and pass it around, 27 bottles of beer on the wall.\\n27 bottles of beer on the wall, 27 bottles of beer.\\nTake one down and pass it around, 26 bottles of beer on the wall.\\n26 bottles of beer on the wall, 26 bottles of beer.\\nTake one down and pass it around, 25 bottles of beer on the wall.\\n25 bottles of beer on the wall, 25 bottles of beer.\\nTake one down and pass it around, 24 bottles of beer on the wall.\\n24 bottles of beer on the wall, 24 bottles of beer.\\nTake one down and pass it around, 23 bottles of beer on the wall.\\n23 bottles of beer on the wall, 23 bottles of beer.\\nTake one down and pass it around, 22 bottles of beer on the wall.\\n22 bottles of beer on the wall, 22 bottles of beer.\\nTake one down and pass it around, 21 bottles of beer on the wall.\\n21 bottles of beer on the wall, 21 bottles of beer.\\nTake one down and pass it around, 20 bottles of beer on the wall.\\n20 bottles of beer on the wall, 20 bottles of beer.\\nTake one down and pass it around, 19 bottles of beer on the wall.\\n19 bottles of beer on the wall, 19 bottles of beer.\\nTake one down and pass it around, 18 bottles of beer on the wall.\\n18 bottles of beer on the wall, 18 bottles of beer.\\nTake one down and pass it around, 17 bottles of beer on the wall.\\n17 bottles of beer on the wall, 17 bottles of beer.\\nTake one down and pass it around, 16 bottles of beer on the wall.\\n16 bottles of beer on the wall, 16 bottles of beer.\\nTake one down and pass it around, 15 bottles of beer on the wall.\\n15 bottles of beer on the wall, 15 bottles of beer.\\nTake one down and pass it around, 14 bottles of beer on the wall.\\n14 bottles of beer on the wall, 14 bottles of beer.\\nTake one down and pass it around, 13 bottles of beer on the wall.\\n13 bottles of beer on the wall, 13 bottles of beer.\\nTake one down and pass it around, 12 bottles of beer on the wall.\\n12 bottles of beer on the wall, 12 bottles of beer.\\nTake one down and pass it around, 11 bottles of beer on the wall.\\n11 bottles of beer on the wall, 11 bottles of beer.\\nTake one down and pass it around, 10 bottles of beer on the wall.\\n10 bottles of beer on the wall, 10 bottles of beer.\\nTake one down and pass it around, 9 bottles of beer on the wall.\\n9 bottles of beer on the wall, 9 bottles of beer.\\nTake one down and pass it around, 8 bottles of beer on the wall.\\n8 bottles of beer on the wall, 8 bottles of beer.\\nTake one down and pass it around, 7 bottles of beer on the wall.\\n7 bottles of beer on the wall, 7 bottles of beer.\\nTake one down and pass it around, 6 bottles of beer on the wall.\\n6 bottles of beer on the wall, 6 bottles of beer.\\nTake one down and pass it around, 5 bottles of beer on the wall.\\n5 bottles of beer on the wall, 5 bottles of beer.\\nTake one down and pass it around, 4 bottles of beer on the wall.\\n4 bottles of beer on the wall, 4 bottles of beer.\\nTake one down and pass it around, 3 bottles of beer on the wall.\\n3 bottles of beer on the wall, 3 bottles of beer.\\nTake one down and pass it around, 2 bottles of beer on the wall.\\n2 bottles of beer on the wall, 2 bottles of beer.\\nTake one down and pass it around, 1 bottle of beer on the wall.\\n1 bottle of beer on the wall, 1 bottle of beer.\\nTake one down and pass it around, no more bottles of beer on the wall.\\nNo more bottles of beer on the wall, no more bottles of beer.\\nGo to the store and buy some more, 99 bottles of beer on the wall.'\n",
        "    else:\n",
        "        return None"
      ],
      "execution_count": null,
      "outputs": []
    },
    {
      "cell_type": "code",
      "metadata": {
        "id": "PQce86t3laom"
      },
      "source": [
        "#1\n",
        "LINES = \"{0} of beer on the wall, {0} of beer.\\nTake one down and pass it around, {1} of beer on the wall.\"\n",
        "SONG = '\\n'.join( LINES.format(\"{} bottles\".format(n), \"{} bottle\".format(n-1)+\"s\"*(n!=2)) for n in range(99,1,-1) )\n",
        "SONG += \"\"\"\n",
        "1 bottle of beer on the wall, 1 bottle of beer.\n",
        "Take one down and pass it around, no more bottles of beer on the wall.\n",
        "No more bottles of beer on the wall, no more bottles of beer.\n",
        "Go to the store and buy some more, 99 bottles of beer on the wall.\"\"\"\n",
        "\n",
        "def HQ9(code):\n",
        "    return {'H': 'Hello World!', 'Q': 'Q', '9': SONG}.get(code, None)\n",
        "\n",
        "\n",
        "#2\n",
        "HQ9 = lambda c, b=(lambda x: \"{} bottle{} of beer\".format(x if x > 0 else \"no more\", \"s\" if x!=1 else \"\")): {'H':'Hello World!', 'Q':'Q', '9':\"\".join(\"{0}{2}, {1} on the wall.\\n\".format(\"{0} on the wall, {0}.\\n\".format(b(i)).capitalize(), b(i-1) if i else b(99), \"Take one down and pass it around\" if i else \"Go to the store and buy some more\") for i in range(99, -1, -1))[:-1]}.get(c, None)\n",
        "\n",
        "#3\n",
        "def HQ9(code):\n",
        "    if code == \"H\":\n",
        "        return \"Hello World!\"\n",
        "    if code == \"Q\":\n",
        "        return \"Q\"\n",
        "    if code == \"9\":\n",
        "        result = \"\"\n",
        "        for n in range(99,2,-1):\n",
        "            result += f\"{n} bottles of beer on the wall, {n} bottles of beer.\\nTake one down and pass it around, {n-1} bottles of beer on the wall.\\n\"\n",
        "        result += \"2 bottles of beer on the wall, 2 bottles of beer.\\nTake one down and pass it around, 1 bottle of beer on the wall.\\n1 bottle of beer on the wall, 1 bottle of beer.\\nTake one down and pass it around, no more bottles of beer on the wall.\\nNo more bottles of beer on the wall, no more bottles of beer.\\nGo to the store and buy some more, 99 bottles of beer on the wall.\"\n",
        "        return result\n",
        "    return None\n",
        "\n",
        "#4\n",
        "def HQ9(code):\n",
        "    lyrics = '99 bottles of beer on the wall, 99 bottles of beer.\\n'\n",
        "    for i in range(98, 1, -1):\n",
        "        lyrics += 'Take one down and pass it around, {} bottles of beer on the wall.\\n'.format(i)\n",
        "        lyrics += '{} bottles of beer on the wall, {} bottles of beer.\\n'.format(i, i)\n",
        "    lyrics += 'Take one down and pass it around, 1 bottle of beer on the wall.\\n1 bottle of beer on the wall, 1 bottle of beer.\\nTake one down and pass it around, no more bottles of beer on the wall.\\nNo more bottles of beer on the wall, no more bottles of beer.\\nGo to the store and buy some more, 99 bottles of beer on the wall.'\n",
        "\n",
        "    mapper = {'H': 'Hello World!', 'Q': code, '9': lyrics}\n",
        "    \n",
        "    return mapper.get(code, None)"
      ],
      "execution_count": null,
      "outputs": []
    },
    {
      "cell_type": "markdown",
      "metadata": {
        "id": "e0q2RTjZJ6so"
      },
      "source": [
        "# Задача 15"
      ]
    },
    {
      "cell_type": "markdown",
      "metadata": {
        "id": "kVbW-XArJ7So"
      },
      "source": [
        "Your friend invites you out to a cool floating pontoon around 1km off the beach. Among other things, the pontoon has a huge slide that drops you out right into the ocean, a small way from a set of stairs used to climb out.\n",
        "\n",
        "As you plunge out of the slide into the water, you see a shark hovering in the darkness under the pontoon... Crap!\n",
        "\n",
        "You need to work out if the shark will get to you before you can get to the pontoon. To make it easier... as you do the mental calculations in the water you either freeze when you realise you are dead, or swim when you realise you can make it!\n",
        "\n",
        "You are given 5 variables;\n",
        "\n",
        "sharkDistance = distance from the shark to the pontoon. The shark will eat you if it reaches you before you escape to the pontoon.\n",
        "\n",
        "sharkSpeed = how fast it can move in metres/second.\n",
        "\n",
        "pontoonDistance = how far you need to swim to safety in metres.\n",
        "\n",
        "youSpeed = how fast you can swim in metres/second.\n",
        "\n",
        "dolphin = a boolean, if true, you can half the swimming speed of the shark as the dolphin will attack it.\n",
        "\n",
        "The pontoon, you, and the shark are all aligned in one dimension.\n",
        "\n",
        "If you make it, return \"Alive!\", if not, return \"Shark Bait!\"."
      ]
    },
    {
      "cell_type": "code",
      "metadata": {
        "id": "riHTNGDHJ7k3"
      },
      "source": [
        "#0\n",
        "def shark(pontoon_distance, shark_distance, you_speed, shark_speed, dolphin):\n",
        "    time_you = pontoon_distance / you_speed\n",
        "    if dolphin == True:\n",
        "        time_shark = shark_distance / (shark_speed / 2 )\n",
        "    elif dolphin == False: \n",
        "        time_shark = shark_distance / shark_speed\n",
        "    \n",
        "    if time_you < time_shark:\n",
        "        return \"Alive!\"\n",
        "    else:\n",
        "        return \"Shark Bait!\"\n",
        "\n",
        "#1\n",
        "def shark(pontoon_distance, shark_distance, you_speed, shark_speed, dolphin):\n",
        "    if dolphin:\n",
        "        shark_speed = shark_speed / 2\n",
        "        \n",
        "    shark_eat_time = shark_distance / shark_speed\n",
        "    you_safe_time = pontoon_distance / you_speed\n",
        "    \n",
        "    return \"Shark Bait!\" if you_safe_time > shark_eat_time else \"Alive!\"\n",
        "\n",
        "#2\n",
        "def shark(pontoonDistance, sharkDistance, youSpeed, sharkSpeed, dolphin):\n",
        "    return \"Alive!\" if (pontoonDistance / youSpeed) < sharkDistance / (sharkSpeed - (sharkSpeed * 0.5 * dolphin)) else \"Shark Bait!\"\n",
        "\n",
        "#3\n",
        "def shark(d1, d2, v1, v2, x):\n",
        "    return \"Alive!\" if d1 / v1 < d2 / v2 * (x + 1) else \"Shark Bait!\"\n",
        "\n",
        "#4\n",
        "shark=lambda s,h,a,r,k:[\"Shark Bait!\",\"Alive!\"][h/r*(k+1)>s/a]\n",
        "\n",
        "#5\n",
        "def shark(pontoon_distance, shark_distance, you_speed, shark_speed, dolphin):\n",
        "    if dolphin == True:\n",
        "        return (\"Alive!\" if pontoon_distance/you_speed < shark_distance/(shark_speed/2) else \"Shark Bait!\")\n",
        "    return (\"Alive!\" if pontoon_distance/you_speed < shark_distance/shark_speed else \"Shark Bait!\")\n",
        "\n"
      ],
      "execution_count": null,
      "outputs": []
    },
    {
      "cell_type": "markdown",
      "metadata": {
        "id": "8zc_MuzjQLQs"
      },
      "source": [
        "# Задача 16"
      ]
    },
    {
      "cell_type": "markdown",
      "metadata": {
        "id": "xumy5zJzQL1Y"
      },
      "source": [
        "Don Drumphet lives in a nice neighborhood, but one of his neighbors has started to let his house go. Don Drumphet wants to build a wall between his house and his neighbor’s, and is trying to get the neighborhood association to pay for it. He begins to solicit his neighbors to petition to get the association to build the wall. Unfortunately for Don Drumphet, he cannot read very well, has a very limited attention span, and can only remember two letters from each of his neighbors’ names. As he collects signatures, he insists that his neighbors keep truncating their names until two letters remain, and he can finally read them.\n",
        "\n",
        "Your code will show Full name of the neighbor and the truncated version of the name as an array. If the number of the characters in name is less than or equal to two, it will return an array containing only the name as is\n",
        "\n",
        "\n",
        "Test.assert_equals(who_is_paying(\"Mexico\"),[\"Mexico\", \"Me\"])\n",
        "\n",
        "Test.assert_equals(who_is_paying(\"Melania\"),[\"Melania\", \"Me\"]\n",
        ")\n",
        "\n",
        "Test.assert_equals(who_is_paying(\"Melissa\"),[\"Melissa\", \"Me\"])\n",
        "\n",
        "Test.assert_equals(who_is_paying(\"Me\"),[\"Me\"])\n",
        "\n",
        "Test.assert_equals(who_is_paying(\"\"), [\"\"])\n",
        "\n",
        "Test.assert_equals(who_is_paying(\"I\"), [\"I\"])"
      ]
    },
    {
      "cell_type": "code",
      "metadata": {
        "colab": {
          "base_uri": "https://localhost:8080/"
        },
        "id": "Dk49sajZQ8OV",
        "outputId": "f784036c-5354-4f6b-90ce-26b27e94924d"
      },
      "source": [
        "name = \"Melissa\"\n",
        "\n",
        "#0\n",
        "\n",
        "def who_is_paying(name):\n",
        "    if len(name) <= 2:\n",
        "        return [name]\n",
        "    else:\n",
        "        return [name, name[:2]]\n",
        "\n",
        "who_is_paying(name)"
      ],
      "execution_count": null,
      "outputs": [
        {
          "output_type": "execute_result",
          "data": {
            "text/plain": [
              "['Melissa', 'Me']"
            ]
          },
          "metadata": {
            "tags": []
          },
          "execution_count": 22
        }
      ]
    },
    {
      "cell_type": "code",
      "metadata": {
        "id": "1hUnsoAQTWL8"
      },
      "source": [
        "#1\n",
        "who_is_paying = lambda n: [n, n[:2]] if len(n)>2 else [n]\n",
        "\n",
        "#2\n",
        "def who_is_paying(name):\n",
        "    return [name,name[0:2]] if len(name)>2 else [name]\n",
        "\n",
        "#3\n",
        "def who_is_paying(name):\n",
        "    out = []  \n",
        "    if len(name) > 2:\n",
        "        out.append(name)\n",
        "        out.append(name[0:2])\n",
        "    else:\n",
        "        out.append(name)\n",
        "    return out\n",
        "\n",
        "#4\n",
        "def who_is_paying(name):        \n",
        "    return ([name, name[0]+name[1]] if len(name) > 2 else [name])\n",
        "\n",
        "#5\n",
        "def who_is_paying(name):\n",
        "    if name == name[0:2]:\n",
        "        return [name]\n",
        "    else:\n",
        "        return [name, name[0:2]]\n",
        "\n",
        "#6\n",
        "def who_is_paying(name):\n",
        "    listsx = [name, ''.join(list(name)[:2])] if len(name)>2 else [name]\n",
        "    return listsx\n",
        "\n"
      ],
      "execution_count": null,
      "outputs": []
    },
    {
      "cell_type": "markdown",
      "metadata": {
        "id": "Poj_ORUTVErC"
      },
      "source": [
        "# Задача 17  Simple calculator"
      ]
    },
    {
      "cell_type": "markdown",
      "metadata": {
        "id": "R9BnIT0BVFS2"
      },
      "source": [
        "You are required to create a simple calculator that returns the result of addition, subtraction, multiplication or division of two numbers.\n",
        "\n",
        "Your function will accept three arguments:\n",
        "The first and second argument should be numbers.\n",
        "The third argument should represent a sign indicating the operation to perform on these two numbers.\n",
        "\n",
        "if the variables are not numbers or the sign does not belong to the list above a message \"unknown value\" must be returned.\n",
        "\n",
        "Example:\n",
        "\n",
        "calculator(1, 2, '+') => 3\n",
        "\n",
        "calculator(1, 2, '$') # result will be \"unknown value\"\n",
        "\n",
        "test.assert_equals(calculator(6, 2, '+'),8)\n",
        "\n",
        "test.assert_equals(calculator(4, 3, '-'),1)\n",
        "\n",
        "test.assert_equals(calculator(5, 5, '*'),25)\n",
        "\n",
        "test.assert_equals(calculator(5, 4, '/'),1.25)\n",
        "\n",
        "test.assert_equals(calculator(6, 2, '&'),\"unknown value\");\n",
        "\n",
        "Good luck!"
      ]
    },
    {
      "cell_type": "code",
      "metadata": {
        "id": "rNdRY74LVZO7"
      },
      "source": [
        "x = 10\n",
        "y = 5\n",
        "op = '+'"
      ],
      "execution_count": null,
      "outputs": []
    },
    {
      "cell_type": "code",
      "metadata": {
        "colab": {
          "base_uri": "https://localhost:8080/"
        },
        "id": "ETq8TNnhVH13",
        "outputId": "7ac67451-1a83-4001-f77b-5b3ece334022"
      },
      "source": [
        "#0\n",
        "def calculator(x,y,op):\n",
        "    if type(x) == int and type(y) == int or type(x) == float and type(y) == float:\n",
        "        if op == '+':\n",
        "            return x + y \n",
        "        elif op == '-':\n",
        "            return x - y\n",
        "        elif op == '*':\n",
        "            return x * y\n",
        "        elif op == '/':\n",
        "            return x / y\n",
        "        else:\n",
        "            return \"unknown value\"\n",
        "    else:\n",
        "        return \"unknown value\"\n",
        "\n",
        "calculator(x,y,op)"
      ],
      "execution_count": null,
      "outputs": [
        {
          "output_type": "execute_result",
          "data": {
            "text/plain": [
              "15"
            ]
          },
          "metadata": {
            "tags": []
          },
          "execution_count": 89
        }
      ]
    },
    {
      "cell_type": "code",
      "metadata": {
        "id": "3iPlIshOahkQ"
      },
      "source": [
        "#1\n",
        "def calculator(x, y, op):\n",
        "  return eval(f'{x}{op}{y}') if type(x) == type(y) == int and str(op) in '+-*/' else 'unknown value'\n",
        "\n",
        "#2\n",
        "def calculator(x,y,op):\n",
        "    try:\n",
        "        assert op in \"+-*/\"\n",
        "        return eval('%d%s%d' % (x, op, y))\n",
        "    except:\n",
        "        return \"unknown value\"\n",
        "\n",
        "#3\n",
        "def calculator(x, y, op):\n",
        "    try:\n",
        "        return {'+': x + y, '-': x - y, '*': x * y, '/': x / y}[op]\n",
        "    except (TypeError, KeyError): \n",
        "        return 'unknown value'\n",
        "\n",
        "#4\n",
        "def calculator(x,y,op):\n",
        "    if isinstance(x, int) and isinstance(y, int):\n",
        "        op_dict = {'+': x+y, '-': x-y, '*': x*y, '/': x/y}\n",
        "        return op_dict[op] if op in op_dict else 'unknown value'\n",
        "    return 'unknown value'\n",
        "\n",
        "#5\n",
        "from operator import add, sub, mul, truediv as div\n",
        "\n",
        "WRONG_FUNC = lambda x,y: \"unknown value\"\n",
        "\n",
        "def calculator(x,y,op):\n",
        "    validOp = op if all(isinstance(v,int) for v in (x,y)) else '!'\n",
        "    return {'+': add, '-': sub, '*': mul, '/': div}.get(validOp, WRONG_FUNC)(x,y)\n",
        "\n",
        "#6\n",
        "def calculator(x, y, op):\n",
        "    try:\n",
        "        return eval(f\"{x}{op}{y}\") if op in \"+-*/\" else \"unknown value\"\n",
        "    except (SyntaxError, NameError, TypeError):\n",
        "        return \"unknown value\"\n",
        "\n",
        "#7\n",
        "ops = {\"+\": int.__add__, \"-\": int.__sub__, \"*\": int.__mul__, \"/\": int.__truediv__}\n",
        "\n",
        "def calculator(x, y, op):\n",
        "    if not (isinstance(x, int) and isinstance(y, int) and op in ops):\n",
        "        return \"unknown value\"\n",
        "    return ops[op](x, y)\n",
        "\n",
        "#8\n",
        "def calculator(x,y,op):\n",
        "    if str(op) not in '+-/*' or not str(x).isnumeric() or not str(y).isnumeric():\n",
        "        return 'unknown value'\n",
        "    return x + y if op == '+' else x - y if op == '-' else x * y if op == '*' else x / y"
      ],
      "execution_count": null,
      "outputs": []
    },
    {
      "cell_type": "markdown",
      "metadata": {
        "id": "X4i-1T2lTJvK"
      },
      "source": [
        "# Задача 18 Compare within margin"
      ]
    },
    {
      "cell_type": "markdown",
      "metadata": {
        "id": "VA61gcdlTKRf"
      },
      "source": [
        "Create a function close_compare that accepts 3 parameters: a, b, and an optional margin. The function should return whether a is lower than, close to, or higher than b. a is \"close to\" b if margin is higher than or equal to the difference between a and b.\n",
        "\n",
        "When a is lower than b, return -1.\n",
        "\n",
        "When a is higher than b, return 1.\n",
        "\n",
        "When a is close to b, return 0.\n",
        "\n",
        "If margin is not given, treat it as zero.\n",
        "\n",
        "Example: if a = 3, b = 5 and the margin = 3, since a and b are no more than 3 apart, close_compare should return 0. Otherwise, if instead margin = 0, a is lower than b and close_compare should return -1.\n",
        "\n",
        "Assume: margin >= 0\n",
        "\n",
        "Tip: Some languages have a way to make arguments optional."
      ]
    },
    {
      "cell_type": "code",
      "metadata": {
        "id": "CjasFAATTKus"
      },
      "source": [
        "#0\n",
        "def close_compare(a, b, margin = 0):\n",
        "    return 0 if abs(a - b) <= margin else -1 if b > a else 1\n",
        "\n",
        "#1\n",
        "def close_compare(a, b, margin=0):\n",
        "    if a == b or abs(a - b) <= margin:\n",
        "        return 0\n",
        "    if a < b:\n",
        "        return -1\n",
        "    if a > b:\n",
        "        return 1\n",
        "\n",
        "#2\n",
        "def close_compare(a, b, margin=0):\n",
        "    if a-b>margin:\n",
        "      return 1\n",
        "    elif b-a>margin:\n",
        "      return -1\n",
        "    else:\n",
        "      return 0\n",
        "\n",
        "#3\n",
        "def close_compare(a, b, margin=0):\n",
        "    if abs(a - b) <= margin: return 0\n",
        "    elif a < b: return -1\n",
        "    else: return 1\n",
        "\n",
        "#4\n",
        "def close_compare(a, b, margin=0):\n",
        "  if abs(a - b) <= margin:\n",
        "    return 0;  \n",
        "  return (a > b) - (a < b)\n",
        "\n",
        "#5\n",
        "close_compare=lambda a, b, margin=0: 0 if abs(a-b)<=margin else -1 if a<b else 1\n",
        "\n",
        "#6\n",
        "def close_compare(a, b, margin=0):\n",
        "    return abs(a-b) > margin and (a>b) - (a<b)\n",
        "\n",
        "\n",
        "  "
      ],
      "execution_count": null,
      "outputs": []
    },
    {
      "cell_type": "markdown",
      "metadata": {
        "id": "IihWbDGK9wJ3"
      },
      "source": [
        "# Задача 19 Validate code with simple regex"
      ]
    },
    {
      "cell_type": "markdown",
      "metadata": {
        "id": "7WieQWVf9wtQ"
      },
      "source": [
        "Basic regex tasks. Write a function that takes in a numeric code of any length. The function should check if the code begins with 1, 2, or 3 and return true if so. Return false otherwise.\n",
        "\n",
        "You can assume the input will always be a number."
      ]
    },
    {
      "cell_type": "code",
      "metadata": {
        "colab": {
          "base_uri": "https://localhost:8080/"
        },
        "id": "-u7VzxVt91Xd",
        "outputId": "a15a86ad-857f-4480-95f9-27e395c7a931"
      },
      "source": [
        "#0\n",
        "def validate_code(code):\n",
        "    s = str(code)\n",
        "    if s[0] == '1' or s[0] == '2' or s[0] == '3':\n",
        "      return True\n",
        "    else:\n",
        "      return False \n",
        "\n",
        "validate_code(123)\n",
        "\n",
        "#1\n",
        "def validate_code(code):\n",
        "    return str(code)[0] in '123'\n",
        "\n",
        "\n",
        "#2\n",
        "def validate_code(code):\n",
        "    return str(code).startswith(('1', '2', '3'))\n",
        "\n",
        "#3\n",
        "def validate_code(code):\n",
        "    import re\n",
        "    return bool(re.match('[123]',str(code)))\n",
        "\n",
        "#4\n",
        "def validate_code(code):\n",
        "    return int(str(code)[0]) < 4\n",
        "\n",
        "#5\n",
        "validate_code = lambda c: str(c)[0] in \"123\"\n",
        "\n",
        "#6\n",
        "def validate_code(code):\n",
        "    return True if str(code)[0] in set('123') else False"
      ],
      "execution_count": null,
      "outputs": [
        {
          "output_type": "execute_result",
          "data": {
            "text/plain": [
              "True"
            ]
          },
          "metadata": {
            "tags": []
          },
          "execution_count": 28
        }
      ]
    },
    {
      "cell_type": "markdown",
      "metadata": {
        "id": "juSRiJeGOt5c"
      },
      "source": [
        "# Задача 20  Grasshopper - Grade book"
      ]
    },
    {
      "cell_type": "markdown",
      "metadata": {
        "id": "Z8e85q0xOu7r"
      },
      "source": [
        "Complete the function so that it finds the mean of the three scores passed to it and returns the letter value associated with that grade.\n",
        "\n",
        "Numerical Score\tLetter Grade\n",
        "\n",
        "90 <= score <= 100\t'A'\n",
        "\n",
        "80 <= score < 90\t'B'\n",
        "\n",
        "70 <= score < 80\t'C'\n",
        "\n",
        "60 <= score < 70\t'D'\n",
        "\n",
        "0 <= score < 60\t'F'\n",
        "\n",
        "Tested values are all between 0 and 100. Theres is no need to check for negative values or values greater than 100."
      ]
    },
    {
      "cell_type": "code",
      "metadata": {
        "colab": {
          "base_uri": "https://localhost:8080/",
          "height": 35
        },
        "id": "KAmRaly2O1qS",
        "outputId": "0fa6f1cc-ae9b-4a21-dbbb-38f3d054b6e3"
      },
      "source": [
        "#0\n",
        "def get_grade(s1, s2, s3):\n",
        "    s = (s1+s2+s3)/3\n",
        "    if  90 <= s <= 100:\n",
        "        return \"A\"\n",
        "    elif 80 <= s < 90:\n",
        "        return \"B\"\n",
        "    elif 70 <= s < 80:\n",
        "        return \"C\"\n",
        "    elif 60 <= s < 70:\n",
        "        return \"D\"\n",
        "    else:\n",
        "        return \"F\"\n",
        "\n",
        "\n",
        "get_grade(50, 70, 73)"
      ],
      "execution_count": null,
      "outputs": [
        {
          "output_type": "execute_result",
          "data": {
            "application/vnd.google.colaboratory.intrinsic+json": {
              "type": "string"
            },
            "text/plain": [
              "'D'"
            ]
          },
          "metadata": {
            "tags": []
          },
          "execution_count": 7
        }
      ]
    },
    {
      "cell_type": "code",
      "metadata": {
        "id": "6WIQPQ0sVetr"
      },
      "source": [
        "#1\n",
        "def get_grade(s1, s2, s3):\n",
        "    mean = sum([s1,s2,s3])/3\n",
        "    if mean>=90: return 'A'\n",
        "    if mean>=80: return 'B'\n",
        "    if mean>=70: return 'C'\n",
        "    if mean>=60: return 'D'\n",
        "    return 'F'\n",
        "\n",
        "#2\n",
        "def get_grade(s1, s2, s3):\n",
        "    return {6:'D', 7:'C', 8:'B', 9:'A', 10:'A'}.get((s1 + s2 + s3) / 30, 'F')\n",
        "\n",
        "#3\n",
        "def get_grade(*s):\n",
        "    return 'FFFFFFDCBAA'[sum(s)//30]\n",
        "\n",
        "#4\n",
        "scores = {10: 'A', 9: 'A', 8: 'B', 7: 'C', 6: 'D'}\n",
        "\n",
        "def get_grade(*args):\n",
        "    mean = sum(args) / len(args)\n",
        "    return scores.get(mean // 10, 'F')    \n",
        "\n",
        "#5\n",
        "get_grade = lambda *a: \"FFFFFFDCBAA\"[(sum(a)//3)//10]\n",
        "\n",
        "#6\n",
        "def get_grade(*arg):\n",
        "    return list('FDCBAA')[max(int(sum(arg)/30-5), 0)]"
      ],
      "execution_count": null,
      "outputs": []
    },
    {
      "cell_type": "markdown",
      "metadata": {
        "id": "t87lqKWlo2UD"
      },
      "source": [
        "# Задача 21 Is your period late? "
      ]
    },
    {
      "cell_type": "markdown",
      "metadata": {
        "id": "I2FfIngxaZ-i"
      },
      "source": [
        "In this kata, we will make a function to test whether a period is late.\n",
        "\n",
        "Our function will take three parameters:\n",
        "\n",
        "last - The Date object with the date of the last period\n",
        "\n",
        "today - The Date object with the date of the check\n",
        "\n",
        "cycleLength - Integer representing the length of the cycle in days\n",
        "\n",
        "Return true if the number of days passed from last to today is greater than cycleLength. Otherwise, return false."
      ]
    },
    {
      "cell_type": "code",
      "metadata": {
        "id": "CVciwGQ9aaXC"
      },
      "source": [
        "import datetime"
      ],
      "execution_count": null,
      "outputs": []
    },
    {
      "cell_type": "code",
      "metadata": {
        "colab": {
          "base_uri": "https://localhost:8080/",
          "height": 231
        },
        "id": "lnR03e6rk1ii",
        "outputId": "9f3f25ce-3cc4-494b-f083-344794e10f03"
      },
      "source": [
        "today = (2016, 6, 13)\n",
        "last =  (2016, 7, 16)\n",
        "\n",
        "d = (today - last).days \n",
        "\n",
        "period_is_late((2016, 6, 13),(2016, 7, 16), 35)\n"
      ],
      "execution_count": null,
      "outputs": [
        {
          "output_type": "error",
          "ename": "TypeError",
          "evalue": "ignored",
          "traceback": [
            "\u001b[0;31m---------------------------------------------------------------------------\u001b[0m",
            "\u001b[0;31mTypeError\u001b[0m                                 Traceback (most recent call last)",
            "\u001b[0;32m<ipython-input-37-673714b71549>\u001b[0m in \u001b[0;36m<module>\u001b[0;34m()\u001b[0m\n\u001b[1;32m      2\u001b[0m \u001b[0mlast\u001b[0m \u001b[0;34m=\u001b[0m  \u001b[0;34m(\u001b[0m\u001b[0;36m2016\u001b[0m\u001b[0;34m,\u001b[0m \u001b[0;36m7\u001b[0m\u001b[0;34m,\u001b[0m \u001b[0;36m16\u001b[0m\u001b[0;34m)\u001b[0m\u001b[0;34m\u001b[0m\u001b[0;34m\u001b[0m\u001b[0m\n\u001b[1;32m      3\u001b[0m \u001b[0;34m\u001b[0m\u001b[0m\n\u001b[0;32m----> 4\u001b[0;31m \u001b[0md\u001b[0m \u001b[0;34m=\u001b[0m \u001b[0;34m(\u001b[0m\u001b[0mtoday\u001b[0m \u001b[0;34m-\u001b[0m \u001b[0mlast\u001b[0m\u001b[0;34m)\u001b[0m\u001b[0;34m.\u001b[0m\u001b[0mdays\u001b[0m\u001b[0;34m\u001b[0m\u001b[0;34m\u001b[0m\u001b[0m\n\u001b[0m\u001b[1;32m      5\u001b[0m \u001b[0;34m\u001b[0m\u001b[0m\n\u001b[1;32m      6\u001b[0m \u001b[0mperiod_is_late\u001b[0m\u001b[0;34m(\u001b[0m\u001b[0;34m(\u001b[0m\u001b[0;36m2016\u001b[0m\u001b[0;34m,\u001b[0m \u001b[0;36m6\u001b[0m\u001b[0;34m,\u001b[0m \u001b[0;36m13\u001b[0m\u001b[0;34m)\u001b[0m\u001b[0;34m,\u001b[0m\u001b[0;34m(\u001b[0m\u001b[0;36m2016\u001b[0m\u001b[0;34m,\u001b[0m \u001b[0;36m7\u001b[0m\u001b[0;34m,\u001b[0m \u001b[0;36m16\u001b[0m\u001b[0;34m)\u001b[0m\u001b[0;34m,\u001b[0m \u001b[0;36m35\u001b[0m\u001b[0;34m)\u001b[0m\u001b[0;34m\u001b[0m\u001b[0;34m\u001b[0m\u001b[0m\n",
            "\u001b[0;31mTypeError\u001b[0m: unsupported operand type(s) for -: 'tuple' and 'tuple'"
          ]
        }
      ]
    },
    {
      "cell_type": "code",
      "metadata": {
        "id": "tDX2yjxJmvz9"
      },
      "source": [
        "#1\n",
        "def period_is_late(last, today, cycle_length):\n",
        "    return (today - last).days > cycle_length\n",
        "\n",
        "#2\n",
        "def period_is_late(last,today,cycle_length):\n",
        "    return cycle_length < (today - last).days\n",
        "\n",
        "#3\n",
        "def period_is_late(last,today,cycle_length):\n",
        "    delta = today - last\n",
        "    if delta.days > cycle_length:\n",
        "        return True\n",
        "    else:\n",
        "        return False\n",
        "\n",
        "#4\n",
        "period_is_late = lambda l,t,c: abs((t-l).days)>c\n",
        "\n",
        "#5\n",
        "import datetime\n",
        "\n",
        "def period_is_late(last,today,cycle_length):\n",
        "    return today > (last + datetime.timedelta(days=cycle_length))\n",
        "\n",
        "#6\n",
        "def period_is_late(last,today,cycle_length):\n",
        "    return str(today - last)[:2] > str(cycle_length)\n",
        "\n",
        "#7\n",
        "def period_is_late(last, today, cycle_length):\n",
        "    return today.toordinal() - last.toordinal() > cycle_length"
      ],
      "execution_count": null,
      "outputs": []
    },
    {
      "cell_type": "markdown",
      "metadata": {
        "id": "yatX5Xqgqz2u"
      },
      "source": [
        "# Задача 21 Squash the bugs"
      ]
    },
    {
      "cell_type": "markdown",
      "metadata": {
        "id": "TI5t4MOoq0bl"
      },
      "source": [
        "Simple challenge - eliminate all bugs from the supplied code so that the code runs and outputs the expected value. Output should be the length of the longest word, as a number.\n",
        "\n",
        "There will only be one 'longest' word."
      ]
    },
    {
      "cell_type": "code",
      "metadata": {
        "id": "SevKAOFzq0uk"
      },
      "source": [
        "# Надо в этом коде найти ошибку\n",
        "def find_longest(string):\n",
        "    spl = str.split(\" \")\n",
        "    longest = 0\n",
        "    i=0\n",
        "    while (i > spl.length):\n",
        "    if (spl(i).length > longest): longest = spl[i].length\n",
        "    return longest"
      ],
      "execution_count": null,
      "outputs": []
    },
    {
      "cell_type": "code",
      "metadata": {
        "colab": {
          "base_uri": "https://localhost:8080/"
        },
        "id": "oyZwvDqfq9G0",
        "outputId": "43fa070d-58a4-441a-ced2-0c08d07ea5b8"
      },
      "source": [
        "#0\n",
        "def find_longest(string):\n",
        "    spl = string.split(\" \")\n",
        "    longest = 0\n",
        "    i=0\n",
        "    while (i < len(spl)):\n",
        "      if (len(spl[i]) > longest): \n",
        "        longest = len(spl[i])\n",
        "      i+=1\n",
        "    return longest\n",
        "    \n",
        "find_longest(\"The quick white fox jumped around the massive dog\")"
      ],
      "execution_count": null,
      "outputs": [
        {
          "output_type": "execute_result",
          "data": {
            "text/plain": [
              "7"
            ]
          },
          "metadata": {
            "tags": []
          },
          "execution_count": 58
        }
      ]
    },
    {
      "cell_type": "code",
      "metadata": {
        "id": "69XEbhIlrYl8"
      },
      "source": [
        "#1\n",
        "def find_longest(strng):\n",
        "    return max(len(a) for a in strng.split())\n",
        "\n",
        "#2\n",
        "def find_longest(string):\n",
        "    return max(map(len, string.split()))\n",
        "\n",
        "#3\n",
        "def find_longest(string):\n",
        "    lw = max(string.split(), key=len)\n",
        "    return len(lw)\n",
        "\n",
        "#4\n",
        "def find_longest(string):\n",
        "    longest = 0\n",
        "  \n",
        "    for i in string.split():\n",
        "        if (len(i) > longest):\n",
        "            longest = len(i)\n",
        "    return longest\n",
        "\n",
        "#5\n",
        "def find_longest(s):\n",
        "    L=[]\n",
        "    for i in s.split(\" \"):\n",
        "        L.append(len(i))\n",
        "    return max(L)"
      ],
      "execution_count": null,
      "outputs": []
    },
    {
      "cell_type": "markdown",
      "metadata": {
        "id": "7Dl6CqHmyNdS"
      },
      "source": [
        "# Задача 22 Chuck Norris VII - True or False? (Beginner)"
      ]
    },
    {
      "cell_type": "markdown",
      "metadata": {
        "id": "wJe8zA-MyN2k"
      },
      "source": [
        "It's a well known fact that anything Chuck Norris wants, he gets. As a result Chuck very rarely has to use the word false.\n",
        "\n",
        "It is a less well known fact that if something is true, and Chuck doesn't want it to be, Chuck can scare the truth with his massive biceps, and it automatically becomes false.\n",
        "\n",
        "Your task is to be more like Chuck (ha! good luck!). You must return false without ever actually using the word false...\n",
        "\n",
        "Go show some truth who's boss!"
      ]
    },
    {
      "cell_type": "code",
      "metadata": {
        "id": "QMXfPCOAyPHl"
      },
      "source": [
        "#0 \n",
        "def ifChuckSaysSo():\n",
        "    return 2 < 1"
      ],
      "execution_count": null,
      "outputs": []
    },
    {
      "cell_type": "code",
      "metadata": {
        "id": "GppiCtQvyxSU"
      },
      "source": [
        "#1\n",
        "def ifChuckSaysSo():\n",
        "    return 0\n",
        "\n",
        "#2\n",
        "def ifChuckSaysSo():\n",
        "    return not True\n",
        "\n",
        "#3\n",
        "def ifChuckSaysSo():\n",
        "    return 1 is 2\n",
        "\n",
        "#4\n",
        "ifChuckSaysSo = lambda: 0\n",
        "\n",
        "#5\n",
        "def ifChuckSaysSo():\n",
        "    return True is not True\n",
        "\n",
        "#6\n",
        "def ifChuckSaysSo():\n",
        "    return len(\"codewar\") == len(\"Tommy\")\n",
        "\n",
        "#7\n",
        "def ifChuckSaysSo():\n",
        "    return 'Chuck' < 'Bruce'\n",
        "\n",
        "#8\n",
        "def ifChuckSaysSo():\n",
        "    return True - True\n",
        "\n",
        "#9\n",
        "def ifChuckSaysSo():\n",
        "    return bool(0)"
      ],
      "execution_count": null,
      "outputs": []
    },
    {
      "cell_type": "markdown",
      "metadata": {
        "id": "U1naEpbWEVct"
      },
      "source": [
        "# Задача 23 Is it a number?"
      ]
    },
    {
      "cell_type": "markdown",
      "metadata": {
        "id": "jDaoP1bCEWIk"
      },
      "source": [
        "Given a string s, write a method (function) that will return true if its a valid single integer or floating number or false if its not.\n",
        "\n",
        "Valid examples, should return true:\n",
        "\n",
        "isDigit(\"3\")\n",
        "\n",
        "isDigit(\"  3  \")\n",
        "\n",
        "isDigit(\"-3.23\")\n",
        "\n",
        "should return false:\n",
        "\n",
        "isDigit(\"3-4\")\n",
        "\n",
        "isDigit(\"  3   5\")\n",
        "\n",
        "isDigit(\"3 5\")\n",
        "\n",
        "isDigit(\"zero\")\n",
        "\n",
        "(isDigit(\"s2324\"), False)\n",
        "\n",
        "(isDigit(\"-234.4\"), True)"
      ]
    },
    {
      "cell_type": "code",
      "metadata": {
        "id": "LeirsVTAEiJ4"
      },
      "source": [
        "#0\n",
        "def isDigit(string):\n",
        "    try : \n",
        "\n",
        "        float(string)\n",
        "\n",
        "        res = True\n",
        "\n",
        "    except :\n",
        "\n",
        "        res = False\n",
        "        \n",
        "    return res\n"
      ],
      "execution_count": null,
      "outputs": []
    },
    {
      "cell_type": "code",
      "metadata": {
        "id": "hDh1OBubH1yg"
      },
      "source": [
        "#1\n",
        "def isDigit(string):\n",
        "    return string.lstrip('-').replace('.','').isdigit()\n",
        "\n",
        "#2\n",
        "def isDigit(string):\n",
        "    try:\n",
        "        float(string.strip())\n",
        "        return True\n",
        "    except:\n",
        "        return False\n",
        "\n",
        "#3\n",
        "def isDigit(string):\n",
        "    try:\n",
        "        return isinstance(float(string), float)\n",
        "    except:\n",
        "        return False\n",
        "\n",
        "#4\n",
        "def isDigit(string):\n",
        "    try:\n",
        "        int(string) or float(string)\n",
        "    except ValueError:\n",
        "        try:\n",
        "            float(string)\n",
        "        except ValueError:\n",
        "            return False\n",
        "    return True\n",
        "\n",
        "#4\n",
        "def isDigit(string):\n",
        "    try: return bool(float(string)) or True\n",
        "    except: return False\n",
        "\n",
        "#5\n",
        "def isDigit(string):\n",
        "    string.strip(\"-\")\n",
        "    string.strip\n",
        "    try:\n",
        "        string = int(string)\n",
        "        return True\n",
        "    except ValueError:\n",
        "        pass\n",
        "    try:\n",
        "        string = float(string)\n",
        "        return True\n",
        "    except ValueError:\n",
        "        return False\n",
        "\n",
        "#6\n",
        "def isDigit(string):\n",
        "    if len(string) == 0 or string[0] not in '-+.0123456789':\n",
        "        return False\n",
        "    for char in string[1:]:\n",
        "        if char not in '.0123456789':\n",
        "            return False\n",
        "    return True"
      ],
      "execution_count": null,
      "outputs": []
    },
    {
      "cell_type": "markdown",
      "metadata": {
        "id": "S-o3wZMow_Hr"
      },
      "source": [
        "# Задача 24  For UFC Fans (Total Beginners): Conor McGregor vs George Saint Pierre"
      ]
    },
    {
      "cell_type": "markdown",
      "metadata": {
        "id": "oP6HyQTRw_i2"
      },
      "source": [
        "This is a beginner friendly kata especially for UFC/MMA fans.\n",
        "\n",
        "It's a fight between the two legends: Conor McGregor vs George Saint Pierre in Madison Square Garden. Only one fighter will remain standing, and after the fight in an interview with Joe Rogan the winner will make his legendary statement. It's your job to return the right statement depending on the winner!\n",
        "\n",
        "If the winner is George Saint Pierre he will obviously say:\n",
        "\n",
        "\"I am not impressed by your performance.\"\n",
        "If the winner is Conor McGregor he will most undoubtedly say:\n",
        "\n",
        "\"I'd like to take this chance to apologize.. To absolutely NOBODY!\"\n",
        "Good Luck!"
      ]
    },
    {
      "cell_type": "code",
      "metadata": {
        "id": "V2d9HCW7w_02"
      },
      "source": [
        "#0\n",
        "def quote(fighter):\n",
        "    fighter = fighter.lower()\n",
        "    if fighter == 'conor mcgregor':\n",
        "        return \"I'd like to take this chance to apologize.. To absolutely NOBODY!\"\n",
        "    else:\n",
        "        return \"I am not impressed by your performance.\""
      ],
      "execution_count": null,
      "outputs": []
    },
    {
      "cell_type": "code",
      "metadata": {
        "id": "0NvAO3Yy4YqI"
      },
      "source": [
        "#1 \n",
        "statements = {'george saint pierre': \"I am not impressed by your performance.\", \n",
        "              'conor mcgregor': \"I'd like to take this chance to apologize.. To absolutely NOBODY!\"}\n",
        "\n",
        "def quote(fighter):\n",
        "    return statements[fighter.lower()]\n",
        "\n",
        "#2\n",
        "def quote(fighter):\n",
        "    return [\"I am not impressed by your performance.\",\\\n",
        "    \"I'd like to take this chance to apologize.. To absolutely NOBODY!\"][fighter.lower() == 'conor mcgregor']\n",
        "\n",
        "#3\n",
        "def quote(fighter):\n",
        "\n",
        "    if fighter == 'Conor McGregor' or fighter == 'conor mcgregor' : return 'I\\'d like to take this chance to apologize.. To absolutely NOBODY!'\n",
        "    else: return 'I am not impressed by your performance.'\n",
        "    print (quote)\n",
        "\n",
        "#4\n",
        "def quote(fighter):\n",
        "    return \"I am not impressed by your performance.\" if \"i\" in fighter else \"I'd like to take this chance to apologize.. To absolutely NOBODY!\"\n",
        "\n",
        "#5\n",
        "quote = lambda w: {\"g\":\"I am not impressed by your performance.\", \"c\":\"I'd like to take this chance to apologize.. To absolutely NOBODY!\"}[w[0].lower()]"
      ],
      "execution_count": null,
      "outputs": []
    },
    {
      "cell_type": "markdown",
      "metadata": {
        "id": "SAgP4YaSSBSu"
      },
      "source": [
        "# Задача 25 (7) Two to One"
      ]
    },
    {
      "cell_type": "markdown",
      "metadata": {
        "id": "dJoA80JNSBri"
      },
      "source": [
        "ake 2 strings s1 and s2 including only letters from ato z. Return a new sorted string, the longest possible, containing distinct letters - each taken only once - coming from s1 or s2.\n",
        "\n",
        "Examples:\n",
        "\n",
        "a = \"xyaabbbccccdefww\"\n",
        "\n",
        "b = \"xxxxyyyyabklmopq\"\n",
        "\n",
        "longest(a, b) -> \"abcdefklmopqwxy\"\n",
        "\n",
        "a = \"abcdefghijklmnopqrstuvwxyz\"\n",
        "\n",
        "longest(a, a) -> \"abcdefghijklmnopqrstuvwxyz\""
      ]
    },
    {
      "cell_type": "code",
      "metadata": {
        "colab": {
          "base_uri": "https://localhost:8080/",
          "height": 35
        },
        "id": "YvbcJ69iSB_2",
        "outputId": "6f7ad0e9-4286-4f8b-c29f-6ef2766d7385"
      },
      "source": [
        "#0\n",
        "def longest(a1, a2):\n",
        "    if a1 == a2:\n",
        "        return \"\".join(sorted(a1))\n",
        "    a = \"\".join(sorted(set(a1)))\n",
        "    b = \"\".join(sorted(set(a2)))\n",
        "    c = \"\".join(set(a + b)) \n",
        "    return \"\".join(sorted((c)))\n",
        "\n",
        "a = \"xyaabbbccccdefww\"\n",
        "b = \"xxxxyyyyabklmopq\"\n",
        "\n",
        "longest(a, b)"
      ],
      "execution_count": null,
      "outputs": [
        {
          "output_type": "execute_result",
          "data": {
            "application/vnd.google.colaboratory.intrinsic+json": {
              "type": "string"
            },
            "text/plain": [
              "'abcdefklmopqwxy'"
            ]
          },
          "metadata": {
            "tags": []
          },
          "execution_count": 30
        }
      ]
    },
    {
      "cell_type": "code",
      "metadata": {
        "id": "d-F0My8Bz32J"
      },
      "source": [
        "#1 \n",
        "def longest(a1, a2):\n",
        "    return \"\".join(sorted(set(a1 + a2)))\n",
        "\n",
        "\n",
        "#2\n",
        "def longest(s1, s2):\n",
        "    \n",
        "    alphabet = \"abcdefghijklmnopqrstuvwxyz\"\n",
        "    s = s1 + s2\n",
        "    y = \"\"\n",
        "\n",
        "    for x in alphabet:\n",
        "      if x not in s:\n",
        "        continue\n",
        "      if x in s:\n",
        "        y = y + x\n",
        "          \n",
        "    return y\n",
        "\n",
        "#3\n",
        "def longest(s1, s2):\n",
        "    return ''.join(sorted(set(s1) | set(s2)))\n",
        "\n",
        "#4\n",
        "def longest(s1, s2):\n",
        "    distinct = set(s1+s2) \n",
        "    distinctSorted = sorted(distinct) \n",
        "    return ''.join(distinctSorted)\n",
        "\n",
        "#5\n",
        "def longest(s1, s2):\n",
        "    return ''.join(sorted(set(s1).union(s2)))\n",
        "\n",
        "#6\n",
        "def longest(s1, s2):\n",
        "    x=''\n",
        "    y=sorted(s1+s2)\n",
        "    \n",
        "    for i in y:\n",
        "      if i not in x:\n",
        "        x += i\n",
        "        \n",
        "    return x\n",
        "\n",
        "#7\n",
        "def longest(s1, s2):\n",
        "    set1 = set(s1)\n",
        "    set2 = set(s2)\n",
        "    return \"\".join(sorted(set1 | set2))\n",
        "\n"
      ],
      "execution_count": null,
      "outputs": []
    },
    {
      "cell_type": "markdown",
      "metadata": {
        "id": "QpUtVzpEu5zQ"
      },
      "source": [
        "# Задача 26 (8) Short Long Short"
      ]
    },
    {
      "cell_type": "markdown",
      "metadata": {
        "id": "o42frP8jufwz"
      },
      "source": [
        "Given 2 strings, a and b, return a string of th\n",
        "orm short+long+short, with the shorter string on the outside and the longer string on the inside. The strings will not be the same length, but they may be empty ( length 0 ).\n",
        "\n",
        "For example:\n",
        "\n",
        "solution(\"1\", \"22\") # returns \"1221\"\n",
        "\n",
        "solution(\"22\", \"1\") # returns \"1221\"\n",
        "\n",
        "(('45', '1'), '1451'),\n",
        "\n",
        "(('13', '200'), '1320013'),\n",
        "\n",
        "(('Soon', 'Me'), 'MeSoonMe'),\n",
        "\n",
        "(('U', 'False'), 'UFalseU'))\n"
      ]
    },
    {
      "cell_type": "code",
      "metadata": {
        "colab": {
          "base_uri": "https://localhost:8080/",
          "height": 35
        },
        "id": "m7Ypu178u-VX",
        "outputId": "05dc5a0f-1139-49e5-cb0b-c23b5b30341c"
      },
      "source": [
        "#0\n",
        "def solution(a, b):\n",
        "    if len(a) == 0 or len(b) == 0:\n",
        "      return 0\n",
        "    if len(a) > len(b):\n",
        "      return b+a+b\n",
        "    else:\n",
        "      return a+b+a\n",
        "\n",
        "#1\n",
        "def solution(a, b):\n",
        "    return a+b+a if len(a)<len(b) else b+a+b\n",
        "\n",
        "#2\n",
        "def solution(a, b):\n",
        "    return '{0}{1}{0}'.format(*sorted((a, b), key=len))\n",
        "\n",
        "#3\n",
        "def solution(a, b):\n",
        "    short, long = sorted((a, b), key=len)\n",
        "    return short + long + short\n",
        "\n",
        "#4\n",
        "solution = lambda a, b: \"{0}{1}{0}\".format(min(a, b, key = len), max(a, b, key = len))\n",
        "\n",
        "#5\n",
        "def solution(a, b):\n",
        "    if len(a) > len(b):\n",
        "        return f'{b}{a}{b}'\n",
        "    else:\n",
        "        return f'{a}{b}{a}'\n",
        "\n",
        "#6\n",
        "solution = lambda a,b: a*(len(a)<len(b))+b+a+b*(len(a)>len(b))\n",
        "\n",
        "#7\n",
        "def solution(a, b):\n",
        "    a,b = sorted([a,b], key=len)\n",
        "    return a + b + a\n",
        "\n",
        "#8\n",
        "def solution(a, b):\n",
        "    res = []\n",
        "    if len(a) > len(b):\n",
        "        res.append(b)\n",
        "        res.append(a)\n",
        "        res.append(b)\n",
        "    else:\n",
        "        res.append(a)\n",
        "        res.append(b)\n",
        "        res.append(a)        \n",
        "    return \"\".join(res)\n"
      ],
      "execution_count": null,
      "outputs": [
        {
          "output_type": "execute_result",
          "data": {
            "application/vnd.google.colaboratory.intrinsic+json": {
              "type": "string"
            },
            "text/plain": [
              "'2fdsf2'"
            ]
          },
          "metadata": {
            "tags": []
          },
          "execution_count": 4
        }
      ]
    },
    {
      "cell_type": "markdown",
      "metadata": {
        "id": "LMTH-Hqsz_L6"
      },
      "source": [
        "# Задача 27 (8) What is between?"
      ]
    },
    {
      "cell_type": "markdown",
      "metadata": {
        "id": "liP7AN4fz_7m"
      },
      "source": [
        "Complete the function that takes two integers (a, b, where a < b) and return an array of all integers between the input parameters, including them.\n",
        "\n",
        "For example:\n",
        "\n",
        "a = 1\n",
        "\n",
        "b = 4\n",
        "\n",
        "--> [1, 2, 3, 4]"
      ]
    },
    {
      "cell_type": "code",
      "metadata": {
        "id": "vwe1Lv7q0J9x"
      },
      "source": [
        "#0\n",
        "def between(a,b):\n",
        "    lst = []\n",
        "    for i in range(a,b+1):\n",
        "      lst.append(i)\n",
        "    return lst\n",
        "\n",
        "#1\n",
        "def between(a,b):\n",
        "    return list(range(a,b+1))\n",
        "\n",
        "#2\n",
        "def between(a,b):\n",
        "    return list((x for x in range(a, b + 1)))\n",
        "\n",
        "#3\n",
        "between=lambda a,b:list(range(a,b+1))\n",
        "\n",
        "#4\n",
        "def between(a,b):\n",
        "    retList = []\n",
        "    while a <= b:\n",
        "        retList.append(a)\n",
        "        a += 1\n",
        "    return retList\n",
        "\n",
        "#5\n",
        "def between(a,b):\n",
        "    return list(range(min(a,b), max(a,b)+1))\n",
        "\n",
        "#6\n",
        "between = lambda a,b: [*range(a,b+1)]\n"
      ],
      "execution_count": null,
      "outputs": []
    },
    {
      "cell_type": "markdown",
      "metadata": {
        "id": "SuLXp4f6GgGn"
      },
      "source": [
        "# Задача 28 (8) 5 without numbers !!"
      ]
    },
    {
      "cell_type": "markdown",
      "metadata": {
        "id": "eSJx9xEuGgby"
      },
      "source": [
        "Write a function that always returns 5\n",
        "\n",
        "Sounds easy right? Just bear in mind that you can't use any of the following characters: 0123456789*+-/\n",
        "\n",
        "Good luck :)"
      ]
    },
    {
      "cell_type": "code",
      "metadata": {
        "colab": {
          "base_uri": "https://localhost:8080/"
        },
        "id": "jryP7toyGgp4",
        "outputId": "8143b5d8-d5a2-4ffd-8cae-b805658e5f58"
      },
      "source": [
        "#0\n",
        "def unusual_five():\n",
        "    return len(['a','b','c','d','f'])\n",
        "\n",
        "unusual_five()"
      ],
      "execution_count": null,
      "outputs": [
        {
          "output_type": "execute_result",
          "data": {
            "text/plain": [
              "5"
            ]
          },
          "metadata": {
            "tags": []
          },
          "execution_count": 6
        }
      ]
    },
    {
      "cell_type": "code",
      "metadata": {
        "id": "yFmYfjUcHMk2"
      },
      "source": [
        "#1\n",
        "def unusual_five():\n",
        "    return len(\"five!\")\n",
        "\n",
        "#2\n",
        "def unusual_five():\n",
        "    return ord(\"\u0005\")\n",
        "\n",
        "#3\n",
        "unusual_five = lambda: ord(\"\u0005\")\n",
        "\n",
        "#4\n",
        "def unusual_five():\n",
        "    return sum(range(len(\"learn\"),len(\"python\")))\n",
        "\n",
        "#5\n",
        "def unusual_five():\n",
        "    return \"fifty five divided by eleven\".count(\"e\")\n",
        "\n",
        "#6\n",
        "def unusual_five():\n",
        "    return (int(True << True << True ^ True))"
      ],
      "execution_count": null,
      "outputs": []
    },
    {
      "cell_type": "markdown",
      "metadata": {
        "id": "jQD53XrXUN3y"
      },
      "source": [
        "# Задача 29 (8) My head is at the wrong end!"
      ]
    },
    {
      "cell_type": "markdown",
      "metadata": {
        "id": "4L-tDB1mUOpx"
      },
      "source": [
        "You're at the zoo... all the meerkats look weird. Something has gone terribly wrong - someone has gone and switched their heads and tails around!\n",
        "\n",
        "Save the animals by switching them back. You will be given an array which will have three values (tail, body, head). It is your job to re-arrange the array so that the animal is the right way round (head, body, tail).\n",
        "\n",
        "Same goes for all the other arrays/lists that you will get in the tests: you have to change the element positions with the same exact logics\n",
        "\n",
        "Simples!"
      ]
    },
    {
      "cell_type": "code",
      "metadata": {
        "id": "c1HWSQPrUO1U"
      },
      "source": [
        "#0\n",
        "def fix_the_meerkat(arr):\n",
        "    return [arr[2], arr[1], arr[0]]\n",
        "\n",
        "#1 \n",
        "def fix_the_meerkat(arr):\n",
        "    return arr[::-1]\n",
        "\n",
        "#2\n",
        "def fix_the_meerkat(arr):\n",
        "    arr.reverse()\n",
        "    return arr\n",
        "\n",
        "#3\n",
        "fix_the_meerkat=lambda a: a[::-1]\n",
        "\n",
        "#4\n",
        "def fix_the_meerkat(arr):\n",
        "    return [e for e in reversed(arr)]\n",
        "\n",
        "#5\n",
        "def fix_the_meerkat(arr):\n",
        "    return sorted(arr, key=wtf.split('|').index) if arr[0] in wtf else arr[::-1]\n",
        "\n"
      ],
      "execution_count": null,
      "outputs": []
    },
    {
      "cell_type": "markdown",
      "metadata": {
        "id": "32cJg8zsrgpb"
      },
      "source": [
        "# Задача 30 (8) Enumerable Magic 3 - Does My List Include This?"
      ]
    },
    {
      "cell_type": "markdown",
      "metadata": {
        "id": "-FeLowO3rmxB"
      },
      "source": [
        "Create a method that accepts a list and an item, and returns true if the item belongs to the list, otherwise false."
      ]
    },
    {
      "cell_type": "code",
      "metadata": {
        "id": "MgjUOUEorogh"
      },
      "source": [
        "#0\n",
        "def include(arr,item):\n",
        "    if item in arr:\n",
        "        return True\n",
        "    else: \n",
        "        return False\n",
        "\n",
        "#0\n",
        "def include(arr,item):\n",
        "        return True if item in arr else False\n",
        "\n",
        "#1\n",
        "def include(arr,item):\n",
        "    return item in arr\n",
        "\n",
        "#2\n",
        "include = lambda arr,item: arr in item\n",
        "\n",
        "#3\n",
        "def include(arr,item):\n",
        "    if arr.count(item) == 0:\n",
        "      return False\n",
        "    else:\n",
        "      return True"
      ],
      "execution_count": null,
      "outputs": []
    },
    {
      "cell_type": "markdown",
      "metadata": {
        "id": "mGWIIHYBnxMW"
      },
      "source": [
        "# Задача 31(8) Remove the time"
      ]
    },
    {
      "cell_type": "markdown",
      "metadata": {
        "id": "KMB8rNSbny2r"
      },
      "source": [
        "You're re-designing a blog and the blog's posts have the following format for showing the date and time a post was made:\n",
        "\n",
        "Weekday Month Day, time e.g., Friday May 2, 7pm\n",
        "\n",
        "You're running out of screen real estate, and on some pages you want to display a shorter format, Weekday Month Day that omits the time.\n",
        "\n",
        "Write a function, shortenToDate, that takes the Website date/time in its original string format, and returns the shortened format.\n",
        "\n",
        "Assume shortenToDate's input will always be a string, e.g. \"Friday May 2, 7pm\". Assume shortenToDate's output will be the shortened string, e.g., \"Friday May 2\"."
      ]
    },
    {
      "cell_type": "code",
      "metadata": {
        "id": "6in2MaVynyMv"
      },
      "source": [
        "#0\n",
        "def shorten_to_date(long_date):\n",
        "    data = long_date.split(\",\")\n",
        "    return data[0]\n",
        "\n",
        "#1\n",
        "def shorten_to_date(long_date):\n",
        "    return long_date.split(',')[0]\n",
        "\n",
        "#2\n",
        "def shorten_to_date(long_date):\n",
        "    return long_date[:long_date.index(',')]\n",
        "\n",
        "#3\n",
        "def shorten_to_date(long_date):\n",
        "    return long_date[:long_date.rfind(',')]\n",
        "\n",
        "#4\n",
        "def shorten_to_date(long_date):\n",
        "    index = long_date.index(',')\n",
        "    new_string = long_date[:index]\n",
        "    return (new_string)\n",
        "\n",
        "#5\n",
        "import re    \n",
        "def shorten_to_date(long_date):\n",
        "    return re.sub(r\",.+$\",'',long_date)\n",
        "\n",
        "#6\n",
        "shorten_to_date = lambda d: d[:d.find(\",\")]"
      ],
      "execution_count": null,
      "outputs": []
    },
    {
      "cell_type": "markdown",
      "metadata": {
        "id": "791NvP-iLxm2"
      },
      "source": [
        "# Задача 32 (8) Name Shuffler"
      ]
    },
    {
      "cell_type": "markdown",
      "metadata": {
        "id": "Ktp5FxnPLzI3"
      },
      "source": [
        "Write a function that returns a string in which firstname is swapped with last name.\n",
        "\n",
        "\n",
        "name_shuffler('john McClane')  - 'McClane john'"
      ]
    },
    {
      "cell_type": "code",
      "metadata": {
        "colab": {
          "base_uri": "https://localhost:8080/",
          "height": 35
        },
        "id": "e7ysms7BL5XG",
        "outputId": "c50e4a1f-2ba6-477f-bbfc-3e8c53612c44"
      },
      "source": [
        "#0\n",
        "def name_shuffler(str_):\n",
        "  a = str_.split(' ')\n",
        "  a[0], a[1] = a[1], a[0]\n",
        "  return \" \".join(a)\n",
        "\n",
        "\n",
        "#1 \n",
        "def name_shuffler(str_):\n",
        "    return ' '.join(str_.split(' ')[::-1])\n",
        "\n",
        "\n",
        "#2\n",
        "def name_shuffler(str_):\n",
        "    [first, last] = str_.split()\n",
        "    return last + \" \" + first\n",
        "\n",
        "#3\n",
        "def name_shuffler(str_):\n",
        "    return ' '.join(reversed(str_.split()))\n",
        "\n",
        "#4\n",
        "name_shuffler = lambda s: ' '.join(reversed(s.split()))\n",
        "\n",
        "#5\n",
        "def name_shuffler(s):\n",
        "    spl = s.split()\n",
        "    return spl[1] + ' ' + spl[0]\n",
        "  \n",
        "\n",
        "name_shuffler('john McClane')"
      ],
      "execution_count": null,
      "outputs": [
        {
          "output_type": "execute_result",
          "data": {
            "application/vnd.google.colaboratory.intrinsic+json": {
              "type": "string"
            },
            "text/plain": [
              "'McClane john'"
            ]
          },
          "metadata": {
            "tags": []
          },
          "execution_count": 35
        }
      ]
    },
    {
      "cell_type": "markdown",
      "metadata": {
        "id": "0uUK5sD6ReWK"
      },
      "source": [
        "# Задача 33 (8) Vowel remover"
      ]
    },
    {
      "cell_type": "markdown",
      "metadata": {
        "id": "-csP_gmmRfC1"
      },
      "source": [
        "Create a function called shortcut to remove all the lowercase vowels in a given string.\n",
        "\n",
        "Examples:\n",
        "\n",
        "shortcut(\"codewars\") # --> cdwrs\n",
        "\n",
        "shortcut(\"goodbye\")  # --> gdby"
      ]
    },
    {
      "cell_type": "code",
      "metadata": {
        "colab": {
          "base_uri": "https://localhost:8080/",
          "height": 35
        },
        "id": "Fq5uXKPMRw4u",
        "outputId": "7b559d8a-9541-4d9a-a0e7-c10328c1a9f8"
      },
      "source": [
        "#0\n",
        "def shortcut(s):\n",
        "  bad_chars = [' ', 'a','e', 'y', 'u', 'i', 'o']\n",
        "  for i in bad_chars : \n",
        "    s = s.replace(i, '') \n",
        "  return s\n",
        "\n",
        "shortcut('Btfl s bttr thn Ugly')\n",
        "\n",
        "#1\n",
        "def shortcut(s):\n",
        "  bad_chars = [' ', 'a','e', 'y', 'u', 'i', 'o']\n",
        "  tmp = ''.join(i for i in s if not i in bad_chars)\n",
        "  return tmp\n",
        "\n",
        "shortcut('h el sd Ue loo')"
      ],
      "execution_count": null,
      "outputs": [
        {
          "output_type": "execute_result",
          "data": {
            "application/vnd.google.colaboratory.intrinsic+json": {
              "type": "string"
            },
            "text/plain": [
              "'hlsdUl'"
            ]
          },
          "metadata": {
            "tags": []
          },
          "execution_count": 121
        }
      ]
    },
    {
      "cell_type": "code",
      "metadata": {
        "id": "53sINRg1e1Om"
      },
      "source": [
        "#2\n",
        "def shortcut(s):\n",
        "    return s.translate(None, 'aeiou')\n",
        "\n",
        "#3\n",
        "def shortcut(s):\n",
        "    return ''.join(i for i in s if i not in 'aeiou')\n",
        "\n",
        "#4\n",
        "def shortcut( s ):\n",
        "    for vowel in \"aeiou\":\n",
        "        s = s.replace(vowel, \"\")\n",
        "    return s\n",
        "\n",
        "#5\n",
        "import re\n",
        "shortcut = lambda s: re.sub('[aeiou]', '', s)\n",
        "\n",
        "#6\n",
        "def shortcut(s):\n",
        "    for i in [\"a\",\"e\",\"i\",\"o\",\"u\"]:\n",
        "        if i in s:\n",
        "            s = s.replace(i,\"\")\n",
        "    return s\n",
        "\n",
        "#7\n",
        "def shortcut( s ):\n",
        "    return s.replace(\"a\", \"\").replace(\"e\", \"\").replace(\"i\",\"\").replace(\"o\",\"\").replace(\"u\",\"\")\n",
        "\n",
        "#8\n",
        "shortcut=lambda s :''.join(e if e not in 'aeiou'else '' for e in s)\n",
        "  \n"
      ],
      "execution_count": null,
      "outputs": []
    },
    {
      "cell_type": "markdown",
      "metadata": {
        "id": "ccbVpWoPt9vJ"
      },
      "source": [
        "# Задача 34 (8) Area of a Square"
      ]
    },
    {
      "cell_type": "markdown",
      "metadata": {
        "id": "GXPXf1S8t-Y4"
      },
      "source": [
        "Complete the function that calculates the area of the red square, when the length of the circular arc A is given as the input. Return the result rounded to two decimals.\n",
        "\n",
        "Note: use the π value provided in your language (Math::PI, M_PI, math.pi, etc)\n",
        "![nJrae8n.png](data:image/png;base64,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)"
      ]
    },
    {
      "cell_type": "code",
      "metadata": {
        "id": "zXVKCt8y3qHZ"
      },
      "source": [
        "#0\n",
        "# A - это четверть окружности: (2*pi*R) / 4, соответственно радиус R = 2A/pi. А площадь красного квадрата это R*R или R**2\n",
        "from math import pi\n",
        "def square_area(A):\n",
        "    return round((2*A/pi)**2, 2)"
      ],
      "execution_count": null,
      "outputs": []
    },
    {
      "cell_type": "code",
      "metadata": {
        "id": "xpcKWnvY4eHk"
      },
      "source": [
        "#1\n",
        "square_area=lambda A:round((4*A/__import__(\"math\").pi/2)**2,2)\n",
        "\n",
        "#2\n",
        "import math\n",
        "\n",
        "def square_area(A):\n",
        "    r = A * 2 / math.pi\n",
        "    area = round(r ** 2, 2)\n",
        "    return area\n",
        "\n",
        "#3\n",
        "import math\n",
        "\n",
        "def square_area(A):\n",
        "    return round(math.pow(2 * A / math.pi,2),2)"
      ],
      "execution_count": null,
      "outputs": []
    },
    {
      "cell_type": "markdown",
      "metadata": {
        "id": "680AG8a97e5N"
      },
      "source": [
        "# Задача 35(8) Remove all exclamation marks from the end of sentence"
      ]
    },
    {
      "cell_type": "markdown",
      "metadata": {
        "id": "xLNSdYAM7fXU"
      },
      "source": [
        "Description:\n",
        "Remove all exclamation marks from the end of sentence.\n",
        "\n",
        "Examples:\n",
        "\n",
        "remove(\"Hi!\") === \"Hi\"\n",
        "\n",
        "remove(\"Hi!!!\") === \"Hi\"\n",
        "\n",
        "remove(\"!Hi\") === \"!Hi\"\n",
        "\n",
        "remove(\"!Hi!\") === \"!Hi\"\n",
        "\n",
        "remove(\"Hi! Hi!\") === \"Hi! Hi\"\n",
        "\n",
        "remove(\"Hi\") === \"Hi\""
      ]
    },
    {
      "cell_type": "code",
      "metadata": {
        "id": "QbRJfpneEh7w"
      },
      "source": [
        "#0\n",
        "def remove(s):\n",
        "    while s[-1] == \"!\":\n",
        "        s = s[:-1]\n",
        "    return s\n",
        "\n",
        "#1\n",
        "def remove(s):\n",
        "    return s.rstrip(\"!\")\n",
        "\n",
        "#2\n",
        "def remove(s):\n",
        "  i=len(s)-1\n",
        "  while s[i]=='!':\n",
        "    i=i-1\n",
        "  return s[:i+1]\n",
        "\n",
        "#3\n",
        "from re import sub\n",
        "\n",
        "def remove(s):\n",
        "    return sub('[!]+$', '', s)\n",
        "\n",
        "#4\n",
        "def remove(s):\n",
        "    if len(s) == 0 or s[-1] != '!':\n",
        "        return s\n",
        "    else:\n",
        "        while s[-1] == '!':\n",
        "            s = s[0:len(s)-1]\n",
        "        return s\n",
        "\n",
        "#5\n",
        "import re\n",
        "\n",
        "def remove(s):\n",
        "    reg = re.compile(r'(!+)$')\n",
        "    ret = reg.sub('',s)\n",
        "    return ret\n",
        "    \n",
        "#6\n",
        "import re\n",
        "def remove(s):\n",
        "    return re.sub(r'[!]{1,}$','', s)\n",
        "\n",
        "#7\n",
        "def remove(s):\n",
        "    while s.endswith(\"!\"):\n",
        "        s = s[:-1:]\n",
        "    return s"
      ],
      "execution_count": null,
      "outputs": []
    },
    {
      "cell_type": "markdown",
      "metadata": {
        "id": "28Arg_xaAVi9"
      },
      "source": [
        "# Задача 36(8) For Twins: 2. Math operations"
      ]
    },
    {
      "cell_type": "markdown",
      "metadata": {
        "id": "Rx_IrPO-AWMc"
      },
      "source": [
        "Task:\n",
        "A magician in the subway showed you a trick, he put an ice brick in a bottle to impress you.The bricks width and height are equal, forming a square. Just for fun and also to impress the magician and people around, you decided to calculate the brick's volume. Write a function iceBrickVolume that will except these parameters:\n",
        "\n",
        "radius - bottle's radius (always > 0);\n",
        "bottleLength - total bottle length (always > 0);\n",
        "rimLength - length from bottle top to brick (always < bottleLength);\n",
        "And return volume of ice brick that magician managed to put into a bottle.\n",
        "\n",
        "illustration\n",
        "\n",
        "Note:\n",
        "All inputs are integers. Assume no irregularities to the cuboid brick. You may assume the bottle is shaped like a cylinder. The brick cannot fit inside the rim.\n",
        "\n",
        "All inputs are integers.\n",
        "\n",
        "Examples:\n",
        "ice_brick_volume(1, 10, 2) # => 16\n",
        "ice_brick_volume(5, 30, 7) # => 1150"
      ]
    },
    {
      "cell_type": "code",
      "metadata": {
        "id": "FjijBJTjAbnv"
      },
      "source": [
        "#0\n",
        "def ice_brick_volume(radius, bottle_length, rim_length):\n",
        "    return ((2*radius**2)*(bottle_length-rim_length))\n",
        "\n",
        "#1 \n",
        "ice_brick_volume = lambda r, b, l: 2*r**2*(b-l)\n",
        "\n",
        "#2\n",
        "import math\n",
        "def ice_brick_volume(radius, bottle_length, rim_length):\n",
        "    d = radius*2 * math.cos(math.pi/4)\n",
        "    d_area = d**2\n",
        "    height = bottle_length - rim_length\n",
        "    volume = d_area* height\n",
        "    return int(volume)"
      ],
      "execution_count": null,
      "outputs": []
    },
    {
      "cell_type": "markdown",
      "metadata": {
        "id": "oaCaCH9RKKr5"
      },
      "source": [
        "# Задача 37 (8)   Hex to Decimal"
      ]
    },
    {
      "cell_type": "markdown",
      "metadata": {
        "id": "FDgjZjVCKLEO"
      },
      "source": [
        "Complete the function which converts hex number (given as a string) to a decimal number."
      ]
    },
    {
      "cell_type": "code",
      "metadata": {
        "colab": {
          "base_uri": "https://localhost:8080/"
        },
        "id": "gyllJQjiNpWZ",
        "outputId": "5272fecf-7093-427c-9509-44e9137bde16"
      },
      "source": [
        "#0\n",
        "s = \"f\"\n",
        "a = []\n",
        "\n",
        "for i in s:\n",
        "  a.append(i)\n",
        "\n",
        "for el, i in enumerate(a):\n",
        "  if i == 'a':\n",
        "   a[el] = '10'\n",
        "  elif i == 'b':\n",
        "    a[el] = '11'\n",
        "  elif i =='c':\n",
        "    a[el] = '12'\n",
        "  elif i == 'd':\n",
        "    a[el] = '13'\n",
        "  elif i == 'e':\n",
        "    a[el] = '14'\n",
        "  elif i == 'f':\n",
        "    a [el] = '15'\n",
        "\n",
        "for el, i in enumerate(a):\n",
        "  a[el] = int(i)\n",
        "\n",
        "c= 0\n",
        "d = 0 \n",
        "for i in reversed(a):\n",
        "  d += i*16**c\n",
        "  c+=1\n",
        "\n",
        "print (d)"
      ],
      "execution_count": null,
      "outputs": [
        {
          "output_type": "stream",
          "text": [
            "15\n"
          ],
          "name": "stdout"
        }
      ]
    },
    {
      "cell_type": "code",
      "metadata": {
        "colab": {
          "base_uri": "https://localhost:8080/"
        },
        "id": "44r4ArnkZaxQ",
        "outputId": "d8346021-7044-41b0-f8d0-ac5d7bd47cac"
      },
      "source": [
        "#1\n",
        "def hex_to_dec(s):\n",
        "    return int(s, 16)\n",
        "\n",
        "#2\n",
        "from functools import partial\n",
        "hex_to_dec = partial(int, base=16)\n",
        "\n",
        "\n",
        "#3\n",
        "def hex_to_dec(s):\n",
        "    key = \"0123456789abcdef\"\n",
        "    n=0\n",
        "    res=0\n",
        "    for l in s[::-1]:\n",
        "        res += key.index(l)*(16.**n)\n",
        "        n+=1\n",
        "        \n",
        "    return int(res)\n",
        "\n",
        "#4\n",
        "hex_to_dec = lambda s:int(s, 16)\n",
        "\n",
        "#5\n",
        "def hex_to_dec(s):\n",
        "    hxdict = {'a':10, 'b':11, 'c':12, 'd':13, 'e':14, 'f':15}\n",
        "    count = 0\n",
        "    total = 0\n",
        "    for num in reversed(s):\n",
        "        if num.isalpha():\n",
        "            hxnum = hxdict.get(num)\n",
        "            total = total + hxnum*(16**count)\n",
        "            count += 1\n",
        "        else:\n",
        "            total = int(num) * (16**count) + total\n",
        "            count += 1\n",
        "    return total\n",
        "\n",
        "#6\n",
        "def hex_to_dec(s):\n",
        "    return int(eval('0x'+s))\n",
        "\n",
        "\n",
        "#7\n",
        "def hex_to_dec(s):\n",
        "    hex = {\n",
        "    '0': 0,\n",
        "    '1': 1,\n",
        "    '2': 2,\n",
        "    '3': 3,\n",
        "    '4': 4,\n",
        "    '5': 5,\n",
        "    '6': 6,\n",
        "    '7': 7,\n",
        "    '8': 8,\n",
        "    '9': 9,\n",
        "    'a': 10,\n",
        "    'b': 11,\n",
        "    'c': 12,\n",
        "    'd': 13,\n",
        "    'e': 14,\n",
        "    'f': 15\n",
        "    }\n",
        "    \n",
        "    sum = 0\n",
        "    leng = len(s)-1\n",
        "    for i in s:\n",
        "        sum += hex[i] * 16**leng\n",
        "        leng -= 1\n",
        "        \n",
        "    return sum\n",
        "  \n",
        "  \n",
        "\n",
        "\n",
        "hex_to_dec('328')"
      ],
      "execution_count": null,
      "outputs": [
        {
          "output_type": "execute_result",
          "data": {
            "text/plain": [
              "808"
            ]
          },
          "metadata": {
            "tags": []
          },
          "execution_count": 11
        }
      ]
    },
    {
      "cell_type": "code",
      "metadata": {
        "colab": {
          "base_uri": "https://localhost:8080/"
        },
        "id": "WMEZgSyXaDbt",
        "outputId": "fd1054bb-016f-49af-cc30-37d556f0b46f"
      },
      "source": [
        "def hex_to_dec(s):\n",
        "    key = \"0123456789abcdef\"\n",
        "    n=0\n",
        "    res=0\n",
        "    for l in s[::-1]:\n",
        "        print (\"l: \",l, type(l))\n",
        "        res += key.index(l)*(16.**n)\n",
        "        print (\"key.index(l): \", key.index(l),type(key.index(l)))\n",
        "        print (\"\\n\")\n",
        "        print (\"res: \",res)\n",
        "        n+=1\n",
        "        \n",
        "    return int(res)\n",
        "\n",
        "\n",
        "hex_to_dec('328')"
      ],
      "execution_count": null,
      "outputs": [
        {
          "output_type": "stream",
          "text": [
            "l:  8 <class 'str'>\n",
            "key.index(l):  8 <class 'int'>\n",
            "\n",
            "\n",
            "res:  8.0\n",
            "l:  2 <class 'str'>\n",
            "key.index(l):  2 <class 'int'>\n",
            "\n",
            "\n",
            "res:  40.0\n",
            "l:  3 <class 'str'>\n",
            "key.index(l):  3 <class 'int'>\n",
            "\n",
            "\n",
            "res:  808.0\n"
          ],
          "name": "stdout"
        },
        {
          "output_type": "execute_result",
          "data": {
            "text/plain": [
              "808"
            ]
          },
          "metadata": {
            "tags": []
          },
          "execution_count": 24
        }
      ]
    },
    {
      "cell_type": "markdown",
      "metadata": {
        "id": "nAD_6Yo9jF_V"
      },
      "source": [
        "# Задача 38 (8) Swap Values"
      ]
    },
    {
      "cell_type": "markdown",
      "metadata": {
        "id": "EidQpF05jGdz"
      },
      "source": [
        "I would like to be able to pass an array with two elements to my swapValues function to swap the values. However it appears that the values aren't changing.\n",
        "\n",
        "Can you figure out what's wrong here?\n",
        "\n",
        "def swap_values(args): \n",
        "\n",
        "    args[0] = args[1]\n",
        "    \n",
        "    args[1] = args[0]"
      ]
    },
    {
      "cell_type": "code",
      "metadata": {
        "id": "JfhhWf9VjL1Z"
      },
      "source": [
        "#0\n",
        "def swap_values(args): \n",
        "    args[0], args[1] = args[1], args[0]\n",
        "\n",
        "#1\n",
        "swap_values = list.reverse\n",
        "\n",
        "#2\n",
        "def swap_values(arr): \n",
        "    arr.reverse()\n",
        "\n",
        "#3\n",
        "def swap_values(args): \n",
        "    args[:]=args[::-1]\n",
        "\n",
        "#4\n",
        "def swap_values(args): \n",
        "    _ = args[0]\n",
        "    args[0] = args[1]\n",
        "    args[1] = _\n"
      ],
      "execution_count": null,
      "outputs": []
    },
    {
      "cell_type": "markdown",
      "metadata": {
        "id": "GBZZTIX6snm_"
      },
      "source": [
        "# Задача 39 (8) Exclusive \"or\" (xor) Logical Operator"
      ]
    },
    {
      "cell_type": "markdown",
      "metadata": {
        "id": "13sRQolusoJn"
      },
      "source": [
        "Exclusive \"or\" (xor) Logical Operator\n",
        "Overview\n",
        "In some scripting languages like PHP, there exists a logical operator (e.g. &&, ||, and, or, etc.) called the \"Exclusive Or\" (hence the name of this Kata). The exclusive or evaluates two booleans. It then returns true if exactly one of the two expressions are true, false otherwise. For example:\n",
        "\n",
        "false xor false == false // since both are false\n",
        "true xor false == true // exactly one of the two expressions are true\n",
        "false xor true == true // exactly one of the two expressions are true\n",
        "true xor true == false // Both are true.  \"xor\" only returns true if EXACTLY one of the two expressions evaluate to true.\n",
        "Task\n",
        "Since we cannot define keywords in Javascript (well, at least I don't know how to do it), your task is to define a function xor(a, b) where a and b are the two expressions to be evaluated. Your xor function should have the behaviour described above, returning true if exactly one of the two expressions evaluate to true, false otherwise."
      ]
    },
    {
      "cell_type": "code",
      "metadata": {
        "id": "Oznp8nn6soc3"
      },
      "source": [
        "#0\n",
        "def xor(a,b):\n",
        "    if a == False and b == False or a == True and b == True:\n",
        "        return False\n",
        "    else:\n",
        "        return True"
      ],
      "execution_count": null,
      "outputs": []
    },
    {
      "cell_type": "code",
      "metadata": {
        "id": "vjHgEXtaG6WJ"
      },
      "source": [
        "#1\n",
        "def xor(a,b):\n",
        "    return a != b\n",
        "\n",
        "#2\n",
        "def xor(a,b):\n",
        "    return a ^ b\n",
        "\n",
        "#3\n",
        "def xor(a,b):\n",
        "    return a is not b\n",
        "\n",
        "#4\n",
        "xor=lambda a,b: a!=b\n",
        "\n",
        "#5\n",
        "def xor(a,b):\n",
        "    return False if a and b else a or b"
      ],
      "execution_count": null,
      "outputs": []
    },
    {
      "cell_type": "markdown",
      "metadata": {
        "id": "4vXJ7ys8aKRs"
      },
      "source": [
        "# Задача 40(8) Exclamation marks series 1: Remove a exclamation mark from the end of string"
      ]
    },
    {
      "cell_type": "markdown",
      "metadata": {
        "id": "r_ajc2Y3aKsI"
      },
      "source": [
        "Description:\n",
        "Remove a exclamation mark from the end of string. For a beginner kata, you can assume that the input data is always a string, no need to verify it.\n",
        "\n",
        "Examples\n",
        "remove(\"Hi!\") === \"Hi\"\n",
        "\n",
        "remove(\"Hi!!!\") === \"Hi!!\"\n",
        "\n",
        "remove(\"!Hi\") === \"!Hi\"\n",
        "\n",
        "remove(\"!Hi!\") === \"!Hi\"\n",
        "\n",
        "remove(\"Hi! Hi!\") === \"Hi! Hi\"\n",
        "\n",
        "remove(\"Hi\") === \"Hi\"\n",
        "\n",
        "Note\n",
        "\n",
        "Please don't post issue about difficulty or duplicate."
      ]
    },
    {
      "cell_type": "code",
      "metadata": {
        "id": "LQVXAyfMaLIJ"
      },
      "source": [
        "#0 \n",
        "def remove(s):\n",
        "    return s[:-1] if s and s[-1] == '!' else s\n",
        "\n",
        "#1\n",
        "def remove(s):\n",
        "    return s[:-1] if s.endswith('!') else s\n",
        "\n",
        "#2\n",
        "def remove(s):\n",
        "    if s.endswith(\"!\"):\n",
        "        s = s[:-1] \n",
        "    return s\n",
        "\n",
        "#3\n",
        "def remove(s):\n",
        "    import re\n",
        "    return re.sub(r'!$', '', s)\n",
        "\n",
        "#4\n",
        "def remove(s):\n",
        "    output = \"\"\n",
        "    if (s!=\"\"):\n",
        "        if (s[len(s)-1] == \"!\"):\n",
        "            for x in range(0,len(s)-1):\n",
        "                output += s[x]\n",
        "        else:\n",
        "            output = s\n",
        "    else:\n",
        "        output = s\n",
        "    return output"
      ],
      "execution_count": null,
      "outputs": []
    },
    {
      "cell_type": "code",
      "metadata": {
        "id": "ZYd6nnYRCvJW"
      },
      "source": [
        "sub = body.substr(len(body)-len(tail.length)\n",
        "        if sub = tai:\n",
        "    return True\n",
        "        else:\n",
        "    return False"
      ],
      "execution_count": null,
      "outputs": []
    },
    {
      "cell_type": "markdown",
      "metadata": {
        "id": "mBlrIw5RDTMx"
      },
      "source": [
        "# Задача 41(8) Is this my tail?"
      ]
    },
    {
      "cell_type": "markdown",
      "metadata": {
        "id": "O9WDSBXDDTfL"
      },
      "source": [
        "Some new animals have arrived at the zoo. The zoo keeper is concerned that perhaps the animals do not have the right tails. To help her, you must correct the broken function to make sure that the second argument (tail), is the same as the last letter of the first argument (body) - otherwise the tail wouldn't fit!\n",
        "\n",
        "If the tail is right return true, else return false.\n",
        "\n",
        "The arguments will always be strings, and normal letters.\n",
        "\n",
        "For Haskell, body has the type of String and tail has the typ"
      ]
    },
    {
      "cell_type": "code",
      "metadata": {
        "id": "5YIpy5AjDUla"
      },
      "source": [
        "#0\n",
        "def correct_tail(body, tail):\n",
        "    if body[-1] == tail:\n",
        "        return True\n",
        "    else:\n",
        "        return False\n",
        "\n",
        "#1 \n",
        "def correct_tail(body, tail):\n",
        "    return body.endswith(tail)\n",
        "\n",
        "#2\n",
        "def correct_tail(body, tail):\n",
        "    return body[-1] == tail\n",
        "\n",
        "#3\n",
        "def correct_tail(body, tail):\n",
        "    return True if body[-1]==tail else False\n",
        "\n",
        "#4\n",
        "def correct_tail(body, tail):\n",
        "    return body[-1:] == tail\n",
        "\n",
        "#5\n",
        "correct_tail = lambda a,t: a[-1]==t\n",
        "\n"
      ],
      "execution_count": null,
      "outputs": []
    },
    {
      "cell_type": "markdown",
      "metadata": {
        "id": "fDN3JAyxR_Zr"
      },
      "source": [
        "# Задача 42 (8) Total amount of points"
      ]
    },
    {
      "cell_type": "markdown",
      "metadata": {
        "id": "hP1Bgf9uSArM"
      },
      "source": [
        "Our football team finished the championship. The result of each match look like \"x:y\". Results of all matches are recorded in the collection.\n",
        "\n",
        "For example: [\"3:1\", \"2:2\", \"0:1\", ...]\n",
        "\n",
        "Write a function that takes such collection and counts the points of our team in the championship. Rules for counting points for each match:\n",
        "\n",
        "if x>y - 3 points\n",
        "if x<y - 0 point\n",
        "if x=y - 1 point\n",
        "Notes:\n",
        "\n",
        "there are 10 matches in the championship\n",
        "0 <= x <= 4\n",
        "0 <= y <= 4"
      ]
    },
    {
      "cell_type": "code",
      "metadata": {
        "colab": {
          "base_uri": "https://localhost:8080/"
        },
        "id": "mQfZkIK3SLmq",
        "outputId": "4db8c017-fc52-470a-8713-16f58a7ae3bc"
      },
      "source": [
        "#0\n",
        "def points(games):\n",
        "  s = 0\n",
        "  for i in games:\n",
        "    if i[0] > i[2]:\n",
        "      s += 3\n",
        "    elif i[0] == i[2]:\n",
        "      s += 1\n",
        "  return s\n",
        "\n",
        "\n",
        "points(['1:0','2:0','3:0','4:0','2:1','3:1','4:1','3:2','4:2','4:3'])"
      ],
      "execution_count": null,
      "outputs": [
        {
          "output_type": "execute_result",
          "data": {
            "text/plain": [
              "30"
            ]
          },
          "metadata": {
            "tags": []
          },
          "execution_count": 31
        }
      ]
    },
    {
      "cell_type": "code",
      "metadata": {
        "id": "ka6Jl2N_bhm4"
      },
      "source": [
        "#1\n",
        "def points(a):\n",
        "    return sum((x >= y) + 2 * (x > y) for x, y in (s.split(\":\") for s in a))\n",
        "\n",
        "#2\n",
        "def score_game(x, y):\n",
        "    if x > y:\n",
        "        return 3\n",
        "    if x < y:\n",
        "        return 0\n",
        "    return 1\n",
        "\n",
        "def points(games):\n",
        "    return sum(score_game(*game.split(':')) for game in games)\n",
        "\n",
        "#3\n"
      ],
      "execution_count": null,
      "outputs": []
    },
    {
      "cell_type": "markdown",
      "metadata": {
        "id": "QVBtQHDHdKkq"
      },
      "source": [
        "# Задача 43 (8) Is the string uppercase?"
      ]
    },
    {
      "cell_type": "markdown",
      "metadata": {
        "id": "Xs9xAIr7kOjj"
      },
      "source": [
        "Create a method is_uppercase() to see whether the string is ALL CAPS. For example:\n",
        "\n",
        "is_uppercase(\"c\") == False\n",
        "\n",
        "is_uppercase(\"C\") == True\n",
        "\n",
        "is_uppercase(\"hello I AM DONALD\") == False\n",
        "\n",
        "is_uppercase(\"HELLO I AM DONALD\") == True\n",
        "\n",
        "is_uppercase(\"ACSKLDFJSgSKLDFJSKLDFJ\") == False\n",
        "\n",
        "is_uppercase(\"ACSKLDFJSGSKLDFJSKLDFJ\") == True\n",
        "\n",
        "In this Kata, a string is said to be in ALL CAPS whenever it does not contain any lowercase letter so any string containing no letters at all is trivially considered to be in ALL CAPS."
      ]
    },
    {
      "cell_type": "code",
      "metadata": {
        "colab": {
          "base_uri": "https://localhost:8080/"
        },
        "id": "V6phpQnpkO8r",
        "outputId": "50032c24-9467-42d7-d73e-3d2185c61380"
      },
      "source": [
        "#0\n",
        "def is_uppercase(inp):\n",
        "    return True if inp.isupper() else False\n",
        "\n"
      ],
      "execution_count": null,
      "outputs": [
        {
          "output_type": "execute_result",
          "data": {
            "text/plain": [
              "False"
            ]
          },
          "metadata": {
            "tags": []
          },
          "execution_count": 34
        }
      ]
    },
    {
      "cell_type": "code",
      "metadata": {
        "id": "MMDUiRU_k6OD"
      },
      "source": [
        "#1 \n",
        "def is_uppercase(inp):\n",
        "    return inp.upper()==inp\n",
        "\n",
        "#2\n",
        "def is_uppercase(inp):\n",
        "    from re import search\n",
        "    if search(r'[a-z]', inp):\n",
        "        return False\n",
        "    return True\n",
        "\n",
        "#3\n",
        "def is_uppercase(inp):\n",
        "    for c in inp:\n",
        "        if c.isalpha() and ord(c) >= 97:\n",
        "            return False\n",
        "    return True\n",
        "\n"
      ],
      "execution_count": null,
      "outputs": []
    },
    {
      "cell_type": "markdown",
      "metadata": {
        "id": "KQKlQiPaJ3Xn"
      },
      "source": [
        "# Задача 44 (8) Count Odd Numbers below n"
      ]
    },
    {
      "cell_type": "markdown",
      "metadata": {
        "id": "kTfkdxxZJ3wB"
      },
      "source": [
        "Given a number n, return the number of positive odd numbers below n, EASY!\n",
        "\n",
        "oddCount(7) //=> 3, i.e [1, 3, 5]\n",
        "\n",
        "oddCount(15) //=> 7, i.e [1, 3, 5, 7, 9, 11, 13\n",
        "\n",
        "Expect large Inputs"
      ]
    },
    {
      "cell_type": "code",
      "metadata": {
        "colab": {
          "base_uri": "https://localhost:8080/"
        },
        "id": "fr4njiXsJ4JX",
        "outputId": "af0ecd7a-2d67-49c0-dc74-bf8796ce6b89"
      },
      "source": [
        "#0\n",
        "def odd_count(n):\n",
        "    lst = []\n",
        "    for i in range(1, n):\n",
        "        if i % 2 !=0:\n",
        "            lst.append(i)\n",
        "    return  len(lst)\n",
        "\n",
        "#1\n",
        "def odd_count(n):\n",
        "    lst = [i for i in range(1,n) if i%2 !=0]\n",
        "    return len(lst)\n",
        "\n",
        "\n",
        "#2\n",
        "def odd_count(n):\n",
        "    if n % 2 != 0:\n",
        "        return round((n-1)/2)\n",
        "    else:\n",
        "        return round(n/2)\n",
        "\n",
        "\n",
        "#3\n",
        "def odd_count(n):\n",
        "    return round((n-1)/2) if n%2 != 0 else round(n/2)\n",
        "\n",
        "    \n",
        "odd_count(1001)"
      ],
      "execution_count": null,
      "outputs": [
        {
          "output_type": "execute_result",
          "data": {
            "text/plain": [
              "500"
            ]
          },
          "metadata": {
            "tags": []
          },
          "execution_count": 68
        }
      ]
    },
    {
      "cell_type": "code",
      "metadata": {
        "colab": {
          "base_uri": "https://localhost:8080/"
        },
        "id": "0vVs_BtJScST",
        "outputId": "5184d0a8-9e56-46fb-8724-8432eb420311"
      },
      "source": [
        "#4\n",
        "def oddCount(n):\n",
        "    return n // 2\n",
        "\n",
        "#5\n",
        "def odd_count(n):\n",
        "    return len(range(1, n, 2))\n",
        "\n",
        "#6\n",
        "def odd_count(n):\n",
        "    if n < 1:\n",
        "        return 0\n",
        "\n",
        "    return int(n / 2)\n",
        "\n",
        "#7\n",
        "def odd_count(n): return n>>1\n",
        "\n",
        "#8\n",
        "odd_count=lambda n:len(range(1,n,2))\n",
        "\n",
        "\n",
        "\n",
        "odd_count(12)"
      ],
      "execution_count": null,
      "outputs": [
        {
          "output_type": "execute_result",
          "data": {
            "text/plain": [
              "6"
            ]
          },
          "metadata": {
            "tags": []
          },
          "execution_count": 69
        }
      ]
    },
    {
      "cell_type": "markdown",
      "metadata": {
        "id": "89yGTwGGeMKS"
      },
      "source": [
        "# Задача 44 (8) Array Madness"
      ]
    },
    {
      "cell_type": "markdown",
      "metadata": {
        "id": "YlrLfbYbeMiE"
      },
      "source": [
        "Objective\n",
        "Given two integer arrays a, b, both of length >= 1, create a program that returns true if the sum of the squares of each element in a is strictly greater than the sum of the cubes of each element in b.\n",
        "\n",
        "E.g.\n",
        "\n",
        "array_madness([4, 5, 6], [1, 2, 3]) => True #because \n",
        "\n",
        "4 ** 2 + 5 ** 2 + 6 ** 2 > 1 ** 3 + 2 ** 3 + 3 ** 3\n",
        "\n",
        "Get your timer out. Are you ready? Ready, get set, GO!!!"
      ]
    },
    {
      "cell_type": "code",
      "metadata": {
        "id": "fjk_dmENeVx7"
      },
      "source": [
        "#0\n",
        "def array_madness(a,b):\n",
        "    s1 = 0\n",
        "    s2 = 0\n",
        "    for i in a:\n",
        "        s1 +=i**2\n",
        "    for i in b:\n",
        "        s2 +=i**3\n",
        "    if s1 > s2:\n",
        "        return True\n",
        "    else:\n",
        "        return False\n",
        "\n",
        "#1 \n",
        "def array_madness(a,b):\n",
        "    return sum(x ** 2 for x in a) > sum(x **3 for x in b)\n",
        "\n",
        "#2\n",
        "def array_madness(a,b):\n",
        "    return sum(map(lambda a: a ** 2, a)) > sum(map(lambda b: b ** 3, b))\n",
        "\n",
        "#3\n",
        "array_madness = lambda a, b: sum(e**2 for e in a) > sum(e**3 for e in b)"
      ],
      "execution_count": null,
      "outputs": []
    },
    {
      "cell_type": "markdown",
      "metadata": {
        "id": "2Ny9iO7XL6re"
      },
      "source": [
        "# Задача 45 (8) Fake Binary"
      ]
    },
    {
      "cell_type": "markdown",
      "metadata": {
        "id": "Ry3YXqLOL7E4"
      },
      "source": [
        "Given a string of digits, you should replace any digit below 5 with '0' and any digit 5 and above with '1'. Return the resulting string."
      ]
    },
    {
      "cell_type": "code",
      "metadata": {
        "id": "1L0oQUGLL7Yk"
      },
      "source": [
        "#0\n",
        "def fake_bin(x):\n",
        "    a = list(x)\n",
        "    for i, item in enumerate(a):\n",
        "          a[i] =int(item)\n",
        "\n",
        "    for i, item in enumerate(a):\n",
        "        if item < 5: \n",
        "            a[i] = 0\n",
        "        else:\n",
        "            a[i] = 1\n",
        "          \n",
        "    for i, item in enumerate(a):\n",
        "        a[i] =str(item)\n",
        "    \n",
        "    return \"\".join(a)"
      ],
      "execution_count": null,
      "outputs": []
    },
    {
      "cell_type": "code",
      "metadata": {
        "id": "yzV1Y4p2iYAA"
      },
      "source": [
        "#1\n",
        "def fake_bin(x):\n",
        "    return ''.join('0' if c < '5' else '1' for c in x)\n",
        "\n",
        "#2\n",
        "def fake_bin(x):\n",
        "    result = \"\"\n",
        "    for num in x:\n",
        "        if int(num) < 5:\n",
        "            result = result + \"0\"\n",
        "        else:\n",
        "            result = result + \"1\"\n",
        "    return result\n",
        "\n",
        "#3\n",
        "import string\n",
        "\n",
        "def fake_bin(s):\n",
        "    return s.translate(string.maketrans('0123456789', '0000011111'))\n",
        "\n",
        "#4\n",
        "def fake_bin(x):\n",
        "    if x == \"\":\n",
        "        return x\n",
        "    \n",
        "    if int(x[0]) < 5:\n",
        "        return '0'+fake_bin(x[1:])\n",
        "    \n",
        "    return '1' + fake_bin(x[1:])\n",
        "\n",
        "#5\n",
        "fake_bin = lambda x: ''.join(['1','0'][e<'5'] for e in x)"
      ],
      "execution_count": null,
      "outputs": []
    },
    {
      "cell_type": "markdown",
      "metadata": {
        "id": "9k0c-GSlMIf3"
      },
      "source": [
        "# Задача 46 (8) Stringy Strings"
      ]
    },
    {
      "cell_type": "markdown",
      "metadata": {
        "id": "qzV0nx8uMJwZ"
      },
      "source": [
        "write me a function stringy that takes a size and returns a string of alternating '1s' and '0s'.\n",
        "\n",
        "the string should start with a 1.\n",
        "\n",
        "a string with size 6 should return :'101010'.\n",
        "\n",
        "with size 4 should return : '1010'.\n",
        "\n",
        "with size 12 should return : '101010101010'.\n",
        "\n",
        "The size will always be positive and will only use whole numbers."
      ]
    },
    {
      "cell_type": "code",
      "metadata": {
        "id": "puztk07_MH18"
      },
      "source": [
        "#0\n",
        "def stringy(size):\n",
        "  s = \"\"\n",
        "  for i in range(1,6):\n",
        "    if i%2 !=0:\n",
        "      s += '1'\n",
        "    else:\n",
        "      s += '0'\n",
        "  return s"
      ],
      "execution_count": null,
      "outputs": []
    },
    {
      "cell_type": "code",
      "metadata": {
        "id": "J6cwjSrVNf0J"
      },
      "source": [
        "#1\n",
        "def stringy(size):\n",
        "    return \"10\" * (size / 2) + \"1\" * (size % 2)\n",
        "\n",
        "#2\n",
        "def stringy(size):\n",
        "    return \"\".join([str(i % 2) for i in range(1, size + 1)])\n",
        "\n",
        "#3\n",
        "def stringy(size):\n",
        "    return ('10' * size)[:size]"
      ],
      "execution_count": null,
      "outputs": []
    },
    {
      "cell_type": "markdown",
      "metadata": {
        "id": "jU70uhmWQSDf"
      },
      "source": [
        "# Задача 47 (8) Grasshopper - Variable Assignment Debug"
      ]
    },
    {
      "cell_type": "markdown",
      "metadata": {
        "id": "FGVkqKmDQSYw"
      },
      "source": [
        ""
      ]
    },
    {
      "cell_type": "code",
      "metadata": {
        "colab": {
          "base_uri": "https://localhost:8080/",
          "height": 35
        },
        "id": "Ex9Y2oodQSqU",
        "outputId": "6d3d2db7-ca34-431a-e500-170f47a46642"
      },
      "source": [
        "a = \"dev\"\n",
        "b = \"Lab\"\n",
        "\n",
        "name = a + b \n",
        "name"
      ],
      "execution_count": null,
      "outputs": [
        {
          "output_type": "execute_result",
          "data": {
            "application/vnd.google.colaboratory.intrinsic+json": {
              "type": "string"
            },
            "text/plain": [
              "'devLab'"
            ]
          },
          "metadata": {
            "tags": []
          },
          "execution_count": 88
        }
      ]
    },
    {
      "cell_type": "code",
      "metadata": {
        "id": "XD8a_hznR8Xu"
      },
      "source": [
        "a, b, name = 'dev', 'Lab', 'devLab'\n",
        "\n",
        "a, b = \"dev\", \"Lab\"\n",
        "name = a + b\n",
        "\n",
        "a = \"dev\"; b = \"Lab\"; name = 'devLab'\n",
        "\n",
        "a = \"dev\"\n",
        "b = \"Lab\"\n",
        "name = '{}{}'.format(a, b)\n",
        "\n",
        "a, b = \"dev\", \"Lab\"\n",
        "name = \"%s%s\" % (a, b)\n",
        "\n",
        "name = \"devLab\"\n",
        "a, b = name[:3], name[3:]\n",
        "\n",
        "a = \"dev\"\n",
        "b = \"Lab\"\n",
        "name = f\"{a}{b}\"\n",
        "\n",
        "a = \"dev\"\n",
        "b = \"Lab\"\n",
        "name = a + '' + b\n",
        "\n"
      ],
      "execution_count": null,
      "outputs": []
    },
    {
      "cell_type": "markdown",
      "metadata": {
        "id": "MuDzIF_JWIv9"
      },
      "source": [
        "# Задача 48 (7) The old switcheroo"
      ]
    },
    {
      "cell_type": "markdown",
      "metadata": {
        "id": "sFyvMb5lWJB5"
      },
      "source": [
        "Write a function\n",
        "\n",
        "vowel_2_index\n",
        "\n",
        "that takes in a string and replaces all the vowels [a,e,i,o,u] with their respective positions within that string.\n",
        "\n",
        "E.g:\n",
        "\n",
        "vowel_2_index('this is my string') == 'th3s 6s my str15ng'\n",
        "\n",
        "vowel_2_index('Codewars is the best site in the world') == 'C2d4w6rs \n",
        "10s th15 b18st s23t25 27n th32 w35rld'\n",
        "\n",
        "vowel_2_index('') == ''\n",
        "\n",
        "Your function should be case insensitive to the vowels.\n",
        "\n"
      ]
    },
    {
      "cell_type": "code",
      "metadata": {
        "colab": {
          "base_uri": "https://localhost:8080/",
          "height": 35
        },
        "id": "ZumRA5GbWJVp",
        "outputId": "ed9f6009-8365-4254-f1d3-b2ccb821e248"
      },
      "source": [
        "#0 \n",
        "def vowel_2_index(string):\n",
        "    a = list(string)\n",
        "    s = ['a','e','i','o','u','A','E','I','O','U']\n",
        "    for i, item in enumerate(a):\n",
        "        if item in s:\n",
        "            a[i] = str(i+1)\n",
        "    return ''.join(a)\n",
        "\n",
        "\n",
        "vowel_2_index('this is my string')"
      ],
      "execution_count": null,
      "outputs": [
        {
          "output_type": "execute_result",
          "data": {
            "application/vnd.google.colaboratory.intrinsic+json": {
              "type": "string"
            },
            "text/plain": [
              "'th3s 6s my str15ng'"
            ]
          },
          "metadata": {
            "tags": []
          },
          "execution_count": 104
        }
      ]
    },
    {
      "cell_type": "code",
      "metadata": {
        "id": "ObfSkvYUcScT"
      },
      "source": [
        "#1 \n",
        "def vowel_2_index(string):\n",
        "    vowels = 'aeiouAEIOU'\n",
        "    return ''.join(x if x not in vowels else str(n + 1) for n,x in enumerate(string))\n",
        "\n",
        "#2\n",
        "import re\n",
        "\n",
        "def vowel_2_index(string):\n",
        "    return re.sub(\"[aeiou]\",lambda m:str(m.end()),string,0,re.I)\n",
        "\n",
        "#3\n",
        "def vowel_2_index(string):\n",
        "    return ''.join([str(i + 1) if x.lower() in 'aeiou' else x for i, x in enumerate(string)])\n",
        "\n",
        "#4\n",
        "def vowel_2_index(string):\n",
        "    return ''.join( [str(i+1) if string[i].lower() in \"aeiou\" else string[i] for i in range(len(string))])\n",
        "\n",
        "#5\n",
        "def vowel_2_index(s):\n",
        "    return \"\".join(str(i + 1) if s[i].lower() in \"aeuoi\" else s[i] for i in range(len(s)))"
      ],
      "execution_count": null,
      "outputs": []
    },
    {
      "cell_type": "markdown",
      "metadata": {
        "id": "56vP1wJLh5r2"
      },
      "source": [
        "# Задача 49 (7) Guess the Sequence"
      ]
    },
    {
      "cell_type": "markdown",
      "metadata": {
        "id": "OjN6_mMMh6ES"
      },
      "source": [
        "You read the title.\n",
        "\n",
        "You must guess a sequence.\n",
        "\n",
        "It will have something to do with the number given.\n",
        "\n",
        "Example:\n",
        "\n",
        "  x = 16\n",
        "\n",
        "  result = [1, 10, 11, 12, 13, 14, 15, 16, 2, 3, 4, 5, 6, 7, 8, 9]\n",
        "\n",
        "  result = [1, 10, 11, 12, 13, 14, 15, 16, 17, 18, 19, 2, 20, 21, 22, 23, 24, 25, 26, 27, 28, 29, 3, 30, 31, 32, 33, 34, 35, 36, 37, 38, 39, 4, 40, 41, 42, 43, 44, 45, 5, 6, 7, 8, 9]\n",
        "\n",
        "be ready for large x\n",
        "\n",
        "Goodluck!"
      ]
    },
    {
      "cell_type": "code",
      "metadata": {
        "id": "fS6FZ1TExj4y"
      },
      "source": [
        "#0\n",
        "def sequence(x):\n",
        "    # Sort numbers lexicographically\n",
        "    return sorted(range(1, x+1), key=str)\n",
        "\n",
        "#1\n",
        "def sequence(x):\n",
        "    return sorted([d for d in range(1, x+1)], key=lambda x: str(x))\n",
        "\n",
        "#2\n",
        "def sequence(x):\n",
        "    list = []\n",
        "    for i in range(1,10):\n",
        "        if i <= x:\n",
        "            list.append(i)\n",
        "        if i <= x/10:\n",
        "            for j in range(10*i,10*i+10):\n",
        "                 if j <= x:\n",
        "                    list.append(j)\n",
        "    return list\n",
        "\n",
        "#3\n",
        "def sequence(x):\n",
        "    dezenas = x//10\n",
        "    unidades = x%10\n",
        "    output = []\n",
        "    if dezenas>0:\n",
        "        for a in range(1,dezenas+1,1):\n",
        "            b=0\n",
        "            while b<10:\n",
        "                elemento = int(str(a)+str(b))\n",
        "                if b==0:\n",
        "                    output.append(a)\n",
        "                if elemento != 0 and elemento<=x:\n",
        "                    output.append(elemento)\n",
        "                b+=1\n",
        "    for c in range(dezenas+1,10,1):\n",
        "        if c!=0 and c<=x:\n",
        "            output.append(c)           \n",
        "\n",
        "    return output\n",
        "\n",
        "#4\n",
        "def sequence(x):\n",
        "    if x < 10:\n",
        "        return [x for x in range(1, x + 1)]\n",
        "    else:\n",
        "        res = []\n",
        "        for i in range(1, 10):\n",
        "            res.append(i)\n",
        "            if str(i) < str(x)[0]:\n",
        "                [res.append(int(str(i) + str(j))) for j in range(10)]\n",
        "            if str(i) == str(x)[0]:\n",
        "                [res.append(int(str(i) + str(j))) for j in range(int(str(x)[1]) + 1)]\n",
        "        return res\n",
        "\n",
        "#5\n",
        "def sequence(x):\n",
        "    return list(map(int, sorted([str(i) for i in range(1, x+1)])))\n",
        "\n",
        "#6\n",
        "def sequence(x):\n",
        "    if x < 10:\n",
        "        return [x for x in range(1, x + 1)]\n",
        "    else:\n",
        "        res = []\n",
        "        for i in range(1, 10):\n",
        "            res.append(i)\n",
        "            if str(i) < str(x)[0]:\n",
        "                [res.append(int(str(i) + str(j))) for j in range(10)]\n",
        "            if str(i) == str(x)[0]:\n",
        "                [res.append(int(str(i) + str(j))) for j in range(int(str(x)[1]) + 1)]\n",
        "        return res\n",
        "\n",
        "#7\n",
        "sequence = lambda x: [int(j) for j in sorted([str(i) for i in range(1, x+1)])]"
      ],
      "execution_count": null,
      "outputs": []
    },
    {
      "cell_type": "markdown",
      "metadata": {
        "id": "S5keTIn_5kCB"
      },
      "source": [
        "# Задача 50 (8) Can we divide it?"
      ]
    },
    {
      "cell_type": "markdown",
      "metadata": {
        "id": "K21wKRPZ5kU6"
      },
      "source": [
        "Our task is to create functionisDivideBy (or is_divide_by) to check if an integer number is divisible by each out of two arguments.\n",
        "\n",
        "A few cases:\n",
        "\n",
        "\n",
        "(-12, 2, -6)  ->  true\n",
        "(-12, 2, -5)  ->  false\n",
        "\n",
        "(45, 1, 6)    ->  false\n",
        "(45, 5, 15)   ->  true\n",
        "\n",
        "(4, 1, 4)     ->  true\n",
        "(15, -5, 3)   ->  true"
      ]
    },
    {
      "cell_type": "code",
      "metadata": {
        "id": "OxSTAFnM5mdg"
      },
      "source": [
        "#0 \n",
        "def is_divide_by(number, a, b):\n",
        "    return True if number % a == 0 and number % b == 0 else False"
      ],
      "execution_count": null,
      "outputs": []
    },
    {
      "cell_type": "code",
      "metadata": {
        "id": "JOMXaSKd5vqh"
      },
      "source": [
        "#1\n",
        "def is_divide_by(number, a, b):\n",
        "    return number % a == 0 and number % b == 0\n",
        "\n",
        "#2\n",
        "def is_divide_by(n, a, b):\n",
        "    return n%a == 0 == n%b\n",
        "\n",
        "#3\n",
        "def is_divide_by(number, a, b):\n",
        "    return not (number%a or number%b)\n",
        "\n",
        "#4\n",
        "def is_divide_by(number, a, b):\n",
        "  return number % a == number % b == 0"
      ],
      "execution_count": null,
      "outputs": []
    },
    {
      "cell_type": "markdown",
      "metadata": {
        "id": "c5OxBANvkb_P"
      },
      "source": [
        "# Задача 51 (8) Convert to Binary"
      ]
    },
    {
      "cell_type": "markdown",
      "metadata": {
        "id": "KaO4xhpgkcJw"
      },
      "source": [
        "Given a non-negative integer n, write a function to_binary/ToBinary which returns that number in a binary format."
      ]
    },
    {
      "cell_type": "code",
      "metadata": {
        "id": "T2euT7Puh-wS"
      },
      "source": [
        "#0\n",
        "def to_binary(n):\n",
        "        return int(bin(n)[2:])\n",
        "\n",
        "#1\n",
        "def to_binary(n):\n",
        "    return int(format(n, 'b'))\n",
        "\n",
        "#2\n",
        "def to_binary(n):\n",
        "    return int(f'{n:b}')\n",
        "\n",
        "#3\n",
        "def to_binary(n):\n",
        "    res = 0\n",
        "    count = 0\n",
        "    while n:\n",
        "        res += n%2 * 10**count\n",
        "        count += 1\n",
        "        n//=2\n",
        "    return res\n",
        "\n",
        "#4\n",
        "def to_binary(n):\n",
        "    if n == 0:\n",
        "        return '0'\n",
        "    res = ''\n",
        "    while n > 0:\n",
        "        res = ('0' if n % 2 == 0 else '1') + res\n",
        "        n //= 2\n",
        "    return int(res)\n",
        "\n",
        "#5\n",
        "def to_binary(n):\n",
        "    if n > 1: \n",
        "        return 10*to_binary(n//2) + n%2\n",
        "    else:\n",
        "        return n\n",
        "\n",
        "#6\n",
        "def to_binary(n):\n",
        "    return n if 2 > n else 10 * to_binary(n // 2) + n % 2"
      ],
      "execution_count": null,
      "outputs": []
    },
    {
      "cell_type": "markdown",
      "metadata": {
        "id": "54zTcns3GJ-C"
      },
      "source": [
        "# Задача 52 (8)  DNA to RNA Conversion"
      ]
    },
    {
      "cell_type": "markdown",
      "metadata": {
        "id": "ZKvhEM1oGKJL"
      },
      "source": [
        "Deoxyribonucleic acid, DNA is the primary information storage molecule in biological systems. It is composed of four nucleic acid bases Guanine ('G'), Cytosine ('C'), Adenine ('A'), and Thymine ('T').\n",
        "\n",
        "Ribonucleic acid, RNA, is the primary messenger molecule in cells. RNA differs slightly from DNA its chemical structure and contains no Thymine. In RNA Thymine is replaced by another nucleic acid Uracil ('U').\n",
        "\n",
        "Create a function which translates a given DNA string into RNA.\n",
        "\n",
        "For example:\n",
        "\n",
        "\"GCAT\"  =>  \"GCAU\"\n",
        "The input string can be of arbitrary length - in particular, it may be empty. All input is guaranteed to be valid, i.e. each input string will only ever consist of 'G', 'C', 'A' and/or 'T'."
      ]
    },
    {
      "cell_type": "code",
      "metadata": {
        "id": "wvz_qlKfGKVn"
      },
      "source": [
        "#0 \n",
        "def dna_to_rna(dna):\n",
        "    if dna == '':\n",
        "        return dna\n",
        "    elif 'T' in dna:\n",
        "        rna = dna.replace('T','U')\n",
        "        return rna\n",
        "    else:\n",
        "        return dna\n",
        "        \n",
        "#1\n",
        "def DNAtoRNA(dna):\n",
        "    return dna.replace('T', 'U')\n",
        "\n",
        "\n",
        "#2\n",
        "def DNAtoRNA(dna):\n",
        "    return \"\".join([\"U\" if c==\"T\" else c for c in dna])\n",
        "\n",
        "#3\n",
        "DNAtoRNA = lambda d: d.replace(\"T\", \"U\")\n",
        "\n",
        "#4\n",
        "import re\n",
        "def DNAtoRNA(dna):\n",
        "    # create a function which returns an RNA sequence from the given DNA sequence\n",
        "    return re.sub('T', 'U', dna)\n",
        "\n",
        "#5\n",
        "dna_dict = {\n",
        "    'T': 'U',\n",
        "    'A': 'A',\n",
        "    'C': 'C',\n",
        "    'G': 'G'\n",
        "}\n",
        "\n",
        "def DNAtoRNA(dna):\n",
        "    rna = []\n",
        "    for letter in dna:\n",
        "        rna.append(dna_dict[letter])\n",
        "    return \"\".join(rna)"
      ],
      "execution_count": null,
      "outputs": []
    },
    {
      "cell_type": "markdown",
      "metadata": {
        "id": "FTX7BvlMNnma"
      },
      "source": [
        "# Задача 53 (8)  Find Nearest square number"
      ]
    },
    {
      "cell_type": "markdown",
      "metadata": {
        "id": "HLfniY0NNnAz"
      },
      "source": [
        "Your task is to find the nearest square number, nearest_sq(n), of a positive integer n.\n",
        "\n",
        "nearest_sq(1), 1)\n",
        "\n",
        "nearest_sq(2), 1)\n",
        "\n",
        "nearest_sq(10), 9)\n",
        "\n",
        "nearest_sq(111), 121)\n",
        "\n",
        "nearest_sq(9999), 10000)"
      ]
    },
    {
      "cell_type": "code",
      "metadata": {
        "id": "Zb3iD-2VJ7Mb"
      },
      "source": [
        "#0\n",
        "def nearest_sq(n):\n",
        "    if n == 1:\n",
        "        return 1\n",
        "    elif n == 0:\n",
        "        return 0\n",
        "    m = 1\n",
        "    while n:\n",
        "        if ((n+m)**0.5) == int((n+m)**0.5):\n",
        "            return n+m\n",
        "        elif ((n-m)**0.5) == int((n-m)**0.5):\n",
        "            return n-m\n",
        "        m += 1 \n",
        "        "
      ],
      "execution_count": null,
      "outputs": []
    },
    {
      "cell_type": "code",
      "metadata": {
        "id": "e71raIFPOcpv"
      },
      "source": [
        "#1 \n",
        "def nearest_sq(n):\n",
        "    return round(n ** 0.5) ** 2\n",
        "\n",
        "#2\n",
        "from math import sqrt\n",
        "\n",
        "def nearest_sq(n):\n",
        "    return pow(round(sqrt(n)), 2)"
      ],
      "execution_count": null,
      "outputs": []
    },
    {
      "cell_type": "markdown",
      "metadata": {
        "id": "OYYA5kKq3GPK"
      },
      "source": [
        "# Задача 54 (8) To square(root) or not to square(root)"
      ]
    },
    {
      "cell_type": "markdown",
      "metadata": {
        "id": "Zy3_mzvL3GpM"
      },
      "source": [
        "To square(root) or not to square(root)\n",
        "\n",
        "Write a method, that will get an integer array as parameter and will process every number from this array.\n",
        "Return a new array with processing every number of the input-array like this:\n",
        "\n",
        "If the number has an integer square root, take this, otherwise square the number.\n",
        "\n",
        "[4,3,9,7,2,1] -> [2,9,3,49,4,1]\n",
        "\n",
        "The input array will always contain only positive numbers and will never be empty or null.\n",
        "\n",
        "The input array should not be modified!\n",
        "\n",
        "Have fun coding it and please don't forget to vote and rank this kata! :-)\n",
        "\n",
        "I have also created other katas. Take a look if you enjoyed this kata!"
      ]
    },
    {
      "cell_type": "code",
      "metadata": {
        "id": "hLV0u2yd3S2U"
      },
      "source": [
        "#0 \n",
        "import math\n",
        "\n",
        "def square_or_square_root(arr):\n",
        "    lst = []\n",
        "    for i in arr:\n",
        "        if math.sqrt(i) == int(math.sqrt(i)):\n",
        "            lst.append(int(math.sqrt(i)))\n",
        "        else:\n",
        "            lst.append(int(i**2))\n",
        "    return lst"
      ],
      "execution_count": null,
      "outputs": []
    },
    {
      "cell_type": "code",
      "metadata": {
        "id": "VkVZC3E43WKO"
      },
      "source": [
        "#1\n",
        "def square_or_square_root(arr):\n",
        "    result = []\n",
        "    for x in arr:\n",
        "        root = x**0.5\n",
        "        if root.is_integer():\n",
        "            result.append(root)\n",
        "        else:\n",
        "            result.append(x*x)\n",
        "    return result\n",
        "\n",
        "#2\n",
        "from math import sqrt\n",
        "\n",
        "def square_or_square_root(arr):\n",
        "    return [int(sqrt(a)) if sqrt(a) % 1 == 0 else a ** 2 for a in arr]\n",
        "\n",
        "#3\n",
        "def square_or_square_root(arr):\n",
        "    return [i**0.5 if (i**0.5).is_integer() else i**2 for i in arr]\n",
        "\n",
        "#4\n",
        "import math\n",
        "\n",
        "def square_or_square_root(arr):\n",
        "    output = []\n",
        "    for num in arr:\n",
        "        sqrt =  math.sqrt(num)\n",
        "        if sqrt == int(sqrt):\n",
        "            output.append(sqrt)\n",
        "        else:\n",
        "            output.append(num ** 2)\n",
        "    return output\n",
        "    pass\n",
        "\n",
        "#5\n",
        "def square_or_square_root(arr):\n",
        "    return [int(num ** 0.5) if (num ** 0.5).is_integer() else num ** 2 for num in arr]"
      ],
      "execution_count": null,
      "outputs": []
    },
    {
      "cell_type": "markdown",
      "metadata": {
        "id": "8-COZAf4Mgac"
      },
      "source": [
        "# Задача 55 (8) I love you, a little , a lot, passionately ... not at all"
      ]
    },
    {
      "cell_type": "markdown",
      "metadata": {
        "id": "m2nB6NBWMgru"
      },
      "source": [
        "Who remembers back to their time in the schoolyard, when girls would take a flower and tear its petals, saying each of the following phrases each time a petal was torn:\n",
        "\n",
        "I love you\n",
        "a little\n",
        "a lot\n",
        "passionately\n",
        "madly\n",
        "not at all\n",
        "When the last petal was torn there were cries of excitement, dreams, surging thoughts and emotions.\n",
        "\n",
        "Your goal in this kata is to determine which phrase the girls would say for a flower of a given number of petals, where nb_petals > 0.\n"
      ]
    },
    {
      "cell_type": "code",
      "metadata": {
        "colab": {
          "base_uri": "https://localhost:8080/"
        },
        "id": "8l4vmKG-MhYj",
        "outputId": "136aaf8c-ec5f-4439-bac4-046a039da6d4"
      },
      "source": [
        "#0\n",
        "def how_much_i_love_you(nb_petals):\n",
        "    lst = [\"I love you\", \"a little\", \"a lot\", \"passionately\", \"madly\", \"not at all\"]\n",
        "    if nb_petals <=6:\n",
        "     return lst[nb_petals-1]\n",
        "    else:\n",
        "      nb_petals = nb_petals % 6 \n",
        "      return lst[nb_petals-1]\n",
        "\n",
        "\n",
        "how_much_i_love_you(55)"
      ],
      "execution_count": null,
      "outputs": [
        {
          "output_type": "execute_result",
          "data": {
            "application/vnd.google.colaboratory.intrinsic+json": {
              "type": "string"
            },
            "text/plain": [
              "'I love you'"
            ]
          },
          "metadata": {
            "tags": []
          },
          "execution_count": 46
        }
      ]
    },
    {
      "cell_type": "code",
      "metadata": {
        "id": "lTdx4OAOOiDf"
      },
      "source": [
        "#1\n",
        "def how_much_i_love_you(nb_petals):\n",
        "    return [\"I love you\", \"a little\", \"a lot\", \"passionately\", \"madly\", \"not at all\"][nb_petals % 6 - 1] \n",
        "\n",
        "\n",
        "#2\n",
        "def how_much_i_love_you(nb_petals):\n",
        "    # your code\n",
        "    words = {1: 'I love you', 2: 'a little', 3: 'a lot', 4: 'passionately',\n",
        "            5: 'madly', 0: 'not at all'}\n",
        "    return words[nb_petals%6]\n",
        "\n",
        "#3\n",
        "phrases = ['I love you', 'a little', 'a lot', 'passionately', 'madly', 'not at all']\n",
        "\n",
        "def how_much_i_love_you(n):\n",
        "    return phrases[(n - 1) % len(phrases)]"
      ],
      "execution_count": null,
      "outputs": []
    },
    {
      "cell_type": "markdown",
      "metadata": {
        "id": "E_270Pq0TbWw"
      },
      "source": [
        "# Задача 56 (8) Return the day"
      ]
    },
    {
      "cell_type": "markdown",
      "metadata": {
        "id": "oJyPf07TTbxX"
      },
      "source": [
        "Complete the function which returns the weekday according to the input number:\n",
        "\n",
        "1 returns \"Sunday\"\n",
        "\n",
        "2 returns \"Monday\"\n",
        "\n",
        "3 returns \"Tuesday\"\n",
        "\n",
        "4 returns \"Wednesday\"\n",
        "\n",
        "5 returns \"Thursday\"\n",
        "\n",
        "6 returns \"Friday\"\n",
        "\n",
        "7 returns \"Saturday\"\n",
        "\n",
        "Otherwise returns \"Wrong, please enter a number between 1 and 7\""
      ]
    },
    {
      "cell_type": "code",
      "metadata": {
        "id": "6u8mVbyeTcJx"
      },
      "source": [
        "#0\n",
        "def whatday(num):\n",
        "    day = {1:'Sunday', 2:'Monday', 3:'Tuesday', 4:'Wednesday', 5:'Thursday', 6:'Friday', 7:'Saturday'}\n",
        "    if num > 7:\n",
        "        return 'Wrong, please enter a number between 1 and 7'\n",
        "    else:\n",
        "        return day[num]\n",
        "\n",
        "whatday(0)"
      ],
      "execution_count": null,
      "outputs": []
    },
    {
      "cell_type": "code",
      "metadata": {
        "colab": {
          "base_uri": "https://localhost:8080/",
          "height": 35
        },
        "id": "MnPQa-AsT8Hh",
        "outputId": "c446159b-9574-44b1-9241-10824d58c840"
      },
      "source": [
        "#1\n",
        "WEEKDAY = {\n",
        "    1: 'Sunday',\n",
        "    2: 'Monday',\n",
        "    3: 'Tuesday',\n",
        "    4: 'Wednesday',\n",
        "    5: 'Thursday',\n",
        "    6: 'Friday',\n",
        "    7: 'Saturday' }\n",
        "ERROR = 'Wrong, please enter a number between 1 and 7'\n",
        "\n",
        "\n",
        "def whatday(n):\n",
        "    return WEEKDAY.get(n, ERROR)\n",
        "\n",
        "#2\n",
        "def whatday(num):\n",
        "    days = ('Sun', 'Mon', 'Tues', 'Wednes', 'Thurs', 'Fri', 'Satur')\n",
        "    return days[num-1] + 'day' if 0 < num < 8 else 'Wrong, please enter a number between 1 and 7' \n",
        "\n",
        "#3\n",
        "def whatday(num):\n",
        "    weekday = {1:'Sunday',\n",
        "               2:'Monday',\n",
        "               3:'Tuesday',\n",
        "               4:'Wednesday',\n",
        "               5:'Thursday',\n",
        "               6:'Friday',\n",
        "               7:'Saturday'}\n",
        "    try:\n",
        "        return weekday[num]\n",
        "    except:\n",
        "        return(\"Wrong, please enter a number between 1 and 7\")\n",
        "\n",
        "#4\n",
        "days = [\"Sunday\", \"Monday\", \"Tuesday\", \"Wednesday\", \"Thursday\", \"Friday\", \"Saturday\"]\n",
        "\n",
        "def whatday(num):\n",
        "    if 0 < num < 8:\n",
        "        return days[num - 1]\n",
        "    return \"Wrong, please enter a number between 1 and 7\""
      ],
      "execution_count": null,
      "outputs": [
        {
          "output_type": "execute_result",
          "data": {
            "application/vnd.google.colaboratory.intrinsic+json": {
              "type": "string"
            },
            "text/plain": [
              "'Friday'"
            ]
          },
          "metadata": {
            "tags": []
          },
          "execution_count": 9
        }
      ]
    },
    {
      "cell_type": "markdown",
      "metadata": {
        "id": "i4mp9Izg9yL3"
      },
      "source": [
        "# Задача 57 (8) Regex count lowercase letters"
      ]
    },
    {
      "cell_type": "markdown",
      "metadata": {
        "id": "yfx9cbmc9yot"
      },
      "source": [
        "Your task is simply to count the total number of lowercase letters in a string.\n",
        "\n",
        "Examples:\n",
        "\n",
        "lowercaseCount(\"abc\"); ===> 3\n",
        "\n",
        "lowercaseCount(\"abcABC123\"); ===> 3\n",
        "\n",
        "lowercaseCount(\"abcABC123!@€£#$%^&*()_-+=}{[]|\\':;?/>.<,~\"); ===> 3\n",
        "\n",
        "lowercaseCount(\"\"); ===> 0;\n",
        "\n",
        "lowercaseCount(\"ABC123!@€£#$%^&*()_-+=}{[]|\\':;?/>.<,~\"); ===> 0\n",
        "\n",
        "lowercaseCount(\"abcdefghijklmnopqrstuvwxyz\"); ===> 26"
      ]
    },
    {
      "cell_type": "code",
      "metadata": {
        "id": "HluKM1vR9_dp"
      },
      "source": [
        "#0 \n",
        "def lowercase_count(strng):\n",
        "    s = 0\n",
        "    for i in strng:\n",
        "        if i.islower():\n",
        "            s += 1\n",
        "    return s"
      ],
      "execution_count": null,
      "outputs": []
    },
    {
      "cell_type": "code",
      "metadata": {
        "id": "FxJ3xzr_-C5e"
      },
      "source": [
        "#1\n",
        "def lowercase_count(strng):\n",
        "    return sum(a.islower() for a in strng)\n",
        "\n",
        "#2\n",
        "import re\n",
        "def lowercase_count(string):\n",
        "    return len(re.findall('[a-z]',string))\n",
        "\n",
        "#3\n",
        "def lowercase_count(str):\n",
        "    return sum(1 for c in str if c.islower())\n",
        "\n",
        "#4\n",
        "lowercase_count = lambda s: sum(e.islower() for e in s)\n",
        "\n",
        "#5\n",
        "import re\n",
        "def lowercase_count(st):\n",
        "    return len(re.sub(r'[^a-z]*','',st))"
      ],
      "execution_count": null,
      "outputs": []
    },
    {
      "cell_type": "markdown",
      "metadata": {
        "id": "0V4DNFOm_2lK"
      },
      "source": [
        "# Задача 58(8) Sort My Textbooks"
      ]
    },
    {
      "cell_type": "markdown",
      "metadata": {
        "id": "532ZPzKc_28M"
      },
      "source": [
        "HELP! Jason can't find his textbook! It is two days before the test date, and Jason's textbooks are all out of order! Help him sort a list (ArrayList in java) full of textbooks by subject, so he can study before the test.\n",
        "\n",
        "The sorting should NOT be case sensitive\n",
        "\n",
        "test.assert_equals(sorter(['Algebra', 'History', 'Geometry', 'English']), ['Algebra', 'English', 'Geometry', 'History'], 'Does not sort strings')\n",
        "\n",
        "test.assert_equals(sorter(['Algebra', 'history', 'Geometry', 'english']), ['Algebra', 'english', 'Geometry', 'history'], 'Does not handle capitalization')\n",
        "\n",
        "test.assert_equals(sorter(['Alg#bra', '$istory', 'Geom^try', '**english']), ['$istory', '**english', 'Alg#bra', 'Geom^try'], 'Does not handle symbols')"
      ]
    },
    {
      "cell_type": "code",
      "metadata": {
        "id": "ovD0l1i5_3KH"
      },
      "source": [
        "#0 \n",
        "def sorter(textbooks):\n",
        "    return sorted(textbooks, key=str.casefold)"
      ],
      "execution_count": null,
      "outputs": []
    },
    {
      "cell_type": "code",
      "metadata": {
        "id": "nf6Ub-s-JSd9"
      },
      "source": [
        "#1\n",
        "def sorter(textbooks):\n",
        "    return sorted(textbooks,key=str.lower)\n",
        "\n",
        "#2\n",
        "def sorter(textbooks):\n",
        "    return sorted(textbooks, key = lambda arg: arg.lower())\n",
        "\n",
        "#3\n",
        "sorter = lambda x: sorted(x,key=lambda s:s.lower())\n",
        "\n",
        "#4\n",
        "def sorter(textbooks):\n",
        "    def func(item):\n",
        "        return item.lower();\n",
        "    \n",
        "    return sorted( textbooks, key = func );"
      ],
      "execution_count": null,
      "outputs": []
    },
    {
      "cell_type": "markdown",
      "metadata": {
        "id": "riqulYt9RMQp"
      },
      "source": [
        "# Задача 59 (8) Powers of 2"
      ]
    },
    {
      "cell_type": "markdown",
      "metadata": {
        "id": "bTZIABXFRMrw"
      },
      "source": [
        "Complete the function that takes a non-negative integer n as input, and returns a list of all the powers of 2 with the exponent ranging from 0 to n (inclusive).\n",
        "\n",
        "Examples:\n",
        "\n",
        "n = 0  ==> [1]        # [2^0]\n",
        "\n",
        "n = 1  ==> [1, 2]     # [2^0, 2^1]\n",
        "\n",
        "n = 2  ==> [1, 2, 4]  # [2^0, 2^1, 2^2]\n",
        "\n",
        " test.assert_equals(powers_of_two(4), [1, 2, 4, 8, 16])"
      ]
    },
    {
      "cell_type": "code",
      "metadata": {
        "id": "UsI-rVOVamw0"
      },
      "source": [
        "#0\n",
        "def powers_of_two(n):\n",
        "    return [2**i for i in range(n+1)]"
      ],
      "execution_count": null,
      "outputs": []
    },
    {
      "cell_type": "code",
      "metadata": {
        "id": "_FE1JUI-aqjQ"
      },
      "source": [
        "#1\n",
        "def powers_of_two(n):\n",
        "    a = []\n",
        "    for i in range(0, n + 1):\n",
        "        a.append(2 ** i)    \n",
        "    return a\n",
        "\n",
        "#2\n",
        "powers_of_two = lambda n: [ 2**i for i in range(0,n+1) ]\n",
        "\n",
        "#3\n",
        "def powers_of_two(n):\n",
        "    return list(map(lambda n: 2**n, [i for i in range(n+1)]))"
      ],
      "execution_count": null,
      "outputs": []
    },
    {
      "cell_type": "markdown",
      "metadata": {
        "id": "fCz7gO67OiNh"
      },
      "source": [
        "# Задача 60 (8) noobCode 01: SUPERSIZE ME.... or rather, this integer!"
      ]
    },
    {
      "cell_type": "markdown",
      "metadata": {
        "id": "HWwWvwYQOigN"
      },
      "source": [
        "Write a function that rearranges an integer into its largest possible value.\n",
        "\n",
        "super_size(123456) # 654321\n",
        "\n",
        "super_size(105)    # 510\n",
        "\n",
        "super_size(12)     # 21\n",
        "\n",
        "If the argument passed through is single digit or is already the maximum possible integer, your function should simply return it."
      ]
    },
    {
      "cell_type": "code",
      "metadata": {
        "colab": {
          "base_uri": "https://localhost:8080/"
        },
        "id": "JQID_Al5OASe",
        "outputId": "dd39b012-fce4-4da6-87e6-45f9ad386c9d"
      },
      "source": [
        "#0\n",
        "def super_size(n):\n",
        "    return int(\"\".join(sorted(str(n),reverse=True)))\n",
        "\n",
        "super_size(8627852989) "
      ],
      "execution_count": null,
      "outputs": [
        {
          "output_type": "execute_result",
          "data": {
            "text/plain": [
              "9988876522"
            ]
          },
          "metadata": {
            "tags": []
          },
          "execution_count": 17
        }
      ]
    },
    {
      "cell_type": "code",
      "metadata": {
        "id": "E4mCLFFYW7b1"
      },
      "source": [
        "#1\n",
        "super_size=lambda n: int(\"\".join(sorted(str(n),reverse=True)))"
      ],
      "execution_count": null,
      "outputs": []
    },
    {
      "cell_type": "markdown",
      "metadata": {
        "id": "ADDSBlNvpJKK"
      },
      "source": [
        ""
      ]
    },
    {
      "cell_type": "markdown",
      "metadata": {
        "id": "2ZgFRWiNpJoR"
      },
      "source": [
        ""
      ]
    },
    {
      "cell_type": "code",
      "metadata": {
        "id": "f1mLvaoipJx-"
      },
      "source": [
        "#0 \n",
        "def how_many_light_sabers_do_you_own(name='haha'):\n",
        "    return 18 if name=='Zach' else 0\n",
        "\n",
        "#1\n",
        "howManyLightsabersDoYouOwn = lambda n=\"\": 18 * (n==\"Zach\")\n",
        "\n",
        "#2\n",
        "def how_many_light_sabers_do_you_own(name=\"\"):\n",
        "    return (18 if name==\"Zach\" else 0)\n",
        "\n",
        "#3\n",
        "def howManyLightsabersDoYouOwn(*name):\n",
        "    return 18 if name == ('Zach',) else 0"
      ],
      "execution_count": null,
      "outputs": []
    },
    {
      "cell_type": "markdown",
      "metadata": {
        "id": "s3FuhwUxT0t2"
      },
      "source": [
        "# Здача 61 (8) String cleaning"
      ]
    },
    {
      "cell_type": "markdown",
      "metadata": {
        "id": "G4cGjQZuT1MT"
      },
      "source": [
        "Your boss decided to save money by purchasing some cut-rate optical character recognition software for scanning in the text of old novels to your database. At first it seems to capture words okay, but you quickly notice that it throws in a lot of numbers at random places in the text. For example:\n",
        "\n",
        "string_clean('! !') == '! !'\n",
        "\n",
        "string_clean('123456789') == ''\n",
        "\n",
        "string_clean('This looks5 grea8t!') == 'This looks great!'\n",
        "\n",
        "Your harried co-workers are looking to you for a solution to take this garbled text and remove all of the numbers. Your program will take in a string and clean out all numeric characters, and return a string with spacing and special characters ~#$%^&!@*():;\"'.,? all intact.\n",
        "\n",
        "        test.assert_equals(string_clean(\"\"), \"\")\n",
        "        test.assert_equals(string_clean(\"! !\"), \"! !\")\n",
        "        test.assert_equals(string_clean(\"123456789\"), \"\")\n",
        "        test.assert_equals(string_clean(\"(E3at m2e2!!)\"), \"(Eat me!!)\")\n",
        "        test.assert_equals(string_clean(\"Dsa32 cdsc34232 csa!!! 1I 4Am cool!\"), \"Dsa cdsc csa!!! I Am cool!\")\n",
        "        test.assert_equals(string_clean(\"A1 A1! AAA   3J4K5L@!!!\"), \"A A! AAA   JKL@!!!\")\n",
        "        test.assert_equals(string_clean(\"Adgre2321 A1sad! A2A3A4 fv3fdv3J544K5L@\"), \"Adgre Asad! AAA fvfdvJKL@\")\n",
        "        test.assert_equals(string_clean(\"Ad2dsad3ds21 A  1$$s122ad! A2A3Ae24 f44K5L@222222 \"), \"Addsadds A  $$sad! AAAe fKL@ \")\n",
        "        test.assert_equals(string_clean(\"33333Ad2dsad3ds21 A3333  1$$s122a!d! A2!A!3Ae$24 f2##222 \"), \"Addsadds A  $$sa!d! A!A!Ae$ f## \")\n",
        "        test.assert_equals(string_clean(\"My \\\"me3ssy\\\" d8ata issues2! Will1 th4ey ever, e3ver be3 so0lved?\"), \"My \\\"messy\\\" data issues! Will they ever, ever be solved?\")\n",
        "        test.assert_equals(string_clean(\"Wh7y can't we3 bu1y the goo0d software3? #cheapskates3\"), \"Why can't we buy the good software? #cheapskates\")"
      ]
    },
    {
      "cell_type": "code",
      "metadata": {
        "colab": {
          "base_uri": "https://localhost:8080/",
          "height": 35
        },
        "id": "4yjnUax4FJb6",
        "outputId": "cc2b7aa1-7697-4e7d-b07b-53620641b343"
      },
      "source": [
        "#0 \n",
        "def string_clean(s):\n",
        "    num = ['0','1','2','3','4','5','6','7','8','9']\n",
        "    a = []\n",
        "\n",
        "    for i in s:\n",
        "      a.append(i)\n",
        "\n",
        "    d = []\n",
        "\n",
        "    for i in a:\n",
        "        if i not in num:\n",
        "            d.append(i)   \n",
        "  \n",
        "    return \"\".join(d)\n",
        "\n",
        "\n",
        "string_clean('12345sdf6789')"
      ],
      "execution_count": null,
      "outputs": [
        {
          "output_type": "execute_result",
          "data": {
            "application/vnd.google.colaboratory.intrinsic+json": {
              "type": "string"
            },
            "text/plain": [
              "'sdf'"
            ]
          },
          "metadata": {
            "tags": []
          },
          "execution_count": 11
        }
      ]
    },
    {
      "cell_type": "code",
      "metadata": {
        "id": "Z2QzWEvwR2ca"
      },
      "source": [
        "#1\n",
        "def string_clean(s):\n",
        "    return ''.join(x for x in s if not x.isdigit())\n",
        "\n",
        "#2\n",
        "import re\n",
        "\n",
        "def string_clean(s):\n",
        "    return re.sub(r'\\d', '', s)\n",
        "\n",
        "\n",
        "#3\n",
        "string_clean = lambda s: __import__('re').sub(r'\\d', '', s)\n",
        "\n",
        "#4\n",
        "def string_clean(s):\n",
        "    import re\n",
        "    return ''.join(re.findall('\\D',s))\n",
        "\n",
        "#5\n",
        "def string_clean(s):\n",
        "    return s.translate(s.maketrans(' ', ' ', '1234567890'))\n",
        "\n",
        "#6\n",
        "def string_clean(s):\n",
        "    return ''.join(ch for ch in s if ch not in '0123456789')\n",
        "\n",
        "#7\n",
        "def string_clean(s):\n",
        "    return filter(lambda a: not a.isdigit(), s)"
      ],
      "execution_count": null,
      "outputs": []
    },
    {
      "cell_type": "markdown",
      "metadata": {
        "id": "Wlmis_I_IaRM"
      },
      "source": [
        "# Задача 62 (8) Grasshopper - Combine strings"
      ]
    },
    {
      "cell_type": "markdown",
      "metadata": {
        "id": "UVaru_V_IauR"
      },
      "source": [
        "Combine strings function\n",
        "Create a function named (combine_names) that accepts two parameters (first and last name). The function should return the full name.\n",
        "\n",
        "Example:\n",
        "\n",
        "combine_names('James', 'Stevens')\n",
        "returns:\n",
        "\n",
        "'James Stevens'"
      ]
    },
    {
      "cell_type": "code",
      "metadata": {
        "id": "NgMkzR1RIbPX"
      },
      "source": [
        "def combine_names(str1,str2):\n",
        "    str = f\"{str1} {str2}\"\n",
        "    return \"\".join(str)"
      ],
      "execution_count": null,
      "outputs": []
    },
    {
      "cell_type": "code",
      "metadata": {
        "id": "-3QaXLd9IbgG"
      },
      "source": [
        "#1\n",
        "def combine_names(first, last):\n",
        "    return first + \" \" + last\n",
        "\n",
        "#2\n",
        "def combine_names(*args):\n",
        "    return ' '.join(args)\n",
        "\n",
        "#3\n",
        "def combine_names(first, second):\n",
        "    return '{} {}'.format(first, second)\n",
        "\n",
        "#4\n",
        "def combine_names(a,b):\n",
        "    return '%s %s' %(a,b)\n",
        "\n",
        "#5\n",
        "def combine_names(first_name: str, last_name: str) -> str:\n",
        "    return f'{first_name} {last_name}'"
      ],
      "execution_count": null,
      "outputs": []
    },
    {
      "cell_type": "markdown",
      "metadata": {
        "id": "lssZGSIMzqc1"
      },
      "source": [
        "# Задача 63 (8) Difference of Volumes of Cuboids"
      ]
    },
    {
      "cell_type": "markdown",
      "metadata": {
        "id": "u07cEDZwy8qp"
      },
      "source": [
        "In this simple exercise, you will create a program that will take two lists of integers, a and b. Each list will consist of 3 positive integers above 0, representing the dimensions of cuboids a and b. You must find the difference of the cuboids' volumes regardless of which is bigger.\n",
        "\n",
        "For example, if the parameters passed are ([2, 2, 3], [5, 4, 1]), the volume of a is 12 and the volume of b is 20. Therefore, the function should return 8.\n",
        "\n",
        "Your function will be tested with pre-made examples as well as random ones.\n",
        "\n",
        "If you can, try writing it in one line of code."
      ]
    },
    {
      "cell_type": "code",
      "metadata": {
        "colab": {
          "base_uri": "https://localhost:8080/"
        },
        "id": "AjwEHERGy8Ao",
        "outputId": "48909b34-b085-4721-8af5-cbd0bcac4431"
      },
      "source": [
        "#0 \n",
        "def find_difference(a, b):\n",
        "    s1 = 1\n",
        "    s2 = 1\n",
        "    for i in a:\n",
        "        s1 *= i\n",
        "    for j in b:\n",
        "        s2 *= j\n",
        "    return abs(s1 - s2) \n",
        "\n",
        "\n",
        "find_difference([3, 2, 5], [1, 4, 4])"
      ],
      "execution_count": null,
      "outputs": [
        {
          "output_type": "execute_result",
          "data": {
            "text/plain": [
              "0"
            ]
          },
          "metadata": {
            "tags": []
          },
          "execution_count": 1
        }
      ]
    },
    {
      "cell_type": "code",
      "metadata": {
        "id": "fGWOAZ-wzvbP"
      },
      "source": [
        "#1\n",
        "from numpy import prod\n",
        "\n",
        "def find_difference(a, b):\n",
        "    return abs(prod(a) - prod(b))\n",
        "\n",
        "#2\n",
        "def find_difference(a, b):\n",
        "    return abs((a[1]*a[2]*a[0])-b[1]*b[2]*b[0])\n",
        "\n",
        "#3\n",
        "from operator import mul\n",
        "from functools import reduce\n",
        "def find_difference(a, b):\n",
        "    return abs(reduce(mul, a) - reduce(mul, b))\n",
        "\n",
        "#4\n",
        "def find_difference(a, b):\n",
        "    A = B = 1\n",
        "    for i, j in zip(a, b):\n",
        "        A *= i\n",
        "        B *= j\n",
        "    return abs(A - B)\n",
        "\n",
        "#5\n",
        "find_difference = lambda (a, b, c), (x, y, z): abs(a * b * c - x * y * z)\n",
        "\n",
        "#6\n",
        "from numpy import prod\n",
        "\n",
        "find_difference = lambda a, b: abs(prod(a) - prod(b))\n",
        "\n"
      ],
      "execution_count": null,
      "outputs": []
    },
    {
      "cell_type": "markdown",
      "metadata": {
        "id": "SIg1pghKyd_b"
      },
      "source": [
        "# Задача 64 (8) Return Two Highest Values in List"
      ]
    },
    {
      "cell_type": "markdown",
      "metadata": {
        "id": "NZvnzQM3yegR"
      },
      "source": [
        "In this kata, your job is to return the two distinct highest values in a list. If there're less than 2 unique values, return as many of them, as possible.\n",
        "\n",
        "The result should also be ordered from highest to lowest.\n",
        "\n",
        "Examples:\n",
        "\n",
        "[4, 10, 10, 9]  =>  [10, 9]\n",
        "\n",
        "[1, 1, 1]  =>  [1]\n",
        "\n",
        "[]  =>  []"
      ]
    },
    {
      "cell_type": "code",
      "metadata": {
        "colab": {
          "base_uri": "https://localhost:8080/"
        },
        "id": "7reRS3M93fQZ",
        "outputId": "7e8210f6-6951-44bc-a543-795fadaa01c1"
      },
      "source": [
        "def two_highest(arg1):\n",
        "    s = set(sorted(arg1, reverse=True))\n",
        "    #s = sorted(s, reverse=True)\n",
        "    return s\n",
        "\n",
        "two_highest([15, 20, 20, 17])"
      ],
      "execution_count": null,
      "outputs": [
        {
          "output_type": "execute_result",
          "data": {
            "text/plain": [
              "{15, 17, 20}"
            ]
          },
          "metadata": {
            "tags": []
          },
          "execution_count": 18
        }
      ]
    },
    {
      "cell_type": "code",
      "metadata": {
        "colab": {
          "base_uri": "https://localhost:8080/"
        },
        "id": "7u0SvB0GLWM7",
        "outputId": "54cdc44b-b6ab-48d8-c37a-6ba7c2550bf6"
      },
      "source": [
        ""
      ],
      "execution_count": null,
      "outputs": [
        {
          "output_type": "execute_result",
          "data": {
            "text/plain": [
              "True"
            ]
          },
          "metadata": {
            "tags": []
          },
          "execution_count": 3
        }
      ]
    },
    {
      "cell_type": "markdown",
      "metadata": {
        "id": "fXjqKrUux7l0"
      },
      "source": [
        "# Задача 65 (8) Ensure question"
      ]
    },
    {
      "cell_type": "markdown",
      "metadata": {
        "id": "X_xl70wGx8DM"
      },
      "source": [
        "Given a string, write a function that returns the string with a question mark (\"?\") appends to the end, unless the original string ends with a question mark, in which case, returns the original string.\n",
        "\n",
        "ensure_question(\"Yes\") == \"Yes?\" \n",
        "\n",
        "ensure_question(\"No?\") == \"No?\"\n",
        "\n",
        "test.assert_equals(ensure_question(\"\"),\"?\",\"Expected: '?'\")"
      ]
    },
    {
      "cell_type": "code",
      "metadata": {
        "colab": {
          "base_uri": "https://localhost:8080/",
          "height": 35
        },
        "id": "4q0NMsjCwC7Z",
        "outputId": "8b01d94d-d1a2-4dd2-d9e5-591d2f4c746f"
      },
      "source": [
        "#0\n",
        "def ensure_question(s):\n",
        "  if s[-1] == \"?\":\n",
        "    return s \n",
        "  else:\n",
        "    return s+'?'\n",
        "\n",
        "ensure_question('No')"
      ],
      "execution_count": null,
      "outputs": [
        {
          "output_type": "execute_result",
          "data": {
            "application/vnd.google.colaboratory.intrinsic+json": {
              "type": "string"
            },
            "text/plain": [
              "'No?'"
            ]
          },
          "metadata": {
            "tags": []
          },
          "execution_count": 11
        }
      ]
    },
    {
      "cell_type": "code",
      "metadata": {
        "id": "NYqeYginx9C4"
      },
      "source": [
        "#1\n",
        "def ensure_question(s):\n",
        "    return s.rstrip('?') + '?'\n",
        "\n",
        "#2\n",
        "def ensure_question(s):\n",
        "    return f'{s}?'.replace('??', '?')\n",
        "\n",
        "#3\n",
        "def ensure_question(s):\n",
        "    if not s.endswith(\"?\"):\n",
        "        return s + \"?\"\n",
        "    return s\n",
        "\n",
        "#4\n",
        "def ensure_question(s):\n",
        "    return s if s.endswith('?') else ''.join((s, '?'))"
      ],
      "execution_count": null,
      "outputs": []
    },
    {
      "cell_type": "markdown",
      "metadata": {
        "id": "iFQxB8oW0rhO"
      },
      "source": [
        "# Задача 66 (8) Collatz Conjecture (3n+1)"
      ]
    },
    {
      "cell_type": "markdown",
      "metadata": {
        "id": "zAixOeVn0sBM"
      },
      "source": [
        "The Collatz conjecture (also known as 3n+1 conjecture) is a conjecture that applying the following algorithm to any number we will always eventually reach one:\n",
        "\n",
        "[This is writen in pseudocode]\n",
        "if(number is even) number = number / 2\n",
        "if(number is odd) number = 3*number + 1\n",
        "Task\n",
        "\n",
        "Your task is to make a function hotpo that takes a positive n as input and returns the number of times you need to perform this algorithm to get n = 1.\n",
        "\n",
        "Examples\n",
        "\n",
        "hotpo(1) returns 0\n",
        "(1 is already 1)\n",
        "\n",
        "hotpo(5) returns 5\n",
        "5 -> 16 -> 8 -> 4 -> 2 -> 1\n",
        "\n",
        "hotpo(6) returns 8\n",
        "6 -> 3 -> 10 -> 5 -> 16 -> 8 -> 4 -> 2 -> 1\n",
        "\n",
        "hotpo(23) returns 15\n",
        "23 -> 70 -> 35 -> 106 -> 53 -> 160 -> 80 -> 40 -> 20 -> 10 -> 5 -> 16 -> 8 -> 4 -> 2 -> 1\n",
        "References\n",
        "\n",
        "Collatz conjecture wikipedia page: https://en.wikipedia.org/wiki/Collatz_conjecture"
      ]
    },
    {
      "cell_type": "code",
      "metadata": {
        "id": "5ymwaAOp0sVV"
      },
      "source": [
        "#0\n",
        "def hotpo(n):\n",
        "    s = 0\n",
        "    while n != 1:\n",
        "        if n % 2 == 0:\n",
        "            n = n / 2\n",
        "        else:\n",
        "            n = n * 3 + 1\n",
        "        s += 1\n",
        "    return s"
      ],
      "execution_count": null,
      "outputs": []
    },
    {
      "cell_type": "code",
      "metadata": {
        "id": "XvhoUDOA1B8P"
      },
      "source": [
        "#1\n",
        "def hotpo(n):\n",
        "    cnt = 0\n",
        "    while n != 1:\n",
        "        n = 3 * n + 1 if n % 2 else n / 2\n",
        "        cnt += 1\n",
        "    return cnt\n",
        "\n",
        "#2\n",
        "def hotpo(num, count=0):\n",
        "  return count if num == 1 else hotpo(num / 2 if num % 2 == 0 else num * 3 + 1 ,count + 1)\n",
        "\n",
        "#3\n",
        "def hotpo(n):\n",
        "    def even_odd(m):\n",
        "        return [3*m+1, m/2][m%2==0]\n",
        "    c = 0\n",
        "    while n!=1:\n",
        "        n =  even_odd(n)\n",
        "        c+=1\n",
        "    return c\n",
        "\n",
        "#4\n",
        "def hotpo(n):\n",
        "    out = 0\n",
        "    if n == 1:\n",
        "        return 0\n",
        "    else:\n",
        "        while True:\n",
        "            if n % 2 == 0:\n",
        "                n = n / 2\n",
        "                out += 1\n",
        "            else:\n",
        "                n = 3 * n + 1\n",
        "                out += 1\n",
        "                \n",
        "            if  n == 1:\n",
        "                break\n",
        "    return out\n",
        "\n",
        "#5\n",
        "hotpo = lambda n,c=0: c if n==1 else hotpo(n/2 if not n%2 else 3*n+1, c+1)\n",
        "\n",
        "#6\n",
        "def hotpo(n):\n",
        "    t=0\n",
        "    while n>1:\n",
        "        if n%2==0: n //=2\n",
        "        else: n=3*n+1\n",
        "        t+=1\n",
        "    return t"
      ],
      "execution_count": null,
      "outputs": []
    },
    {
      "cell_type": "markdown",
      "metadata": {
        "id": "3u1tux2-AKjK"
      },
      "source": [
        "# Задача 67 (8) Check the exam"
      ]
    },
    {
      "cell_type": "markdown",
      "metadata": {
        "id": "lsVdMDcfALgS"
      },
      "source": [
        "The first input array is the key to the correct answers to an exam, like [\"a\", \"a\", \"b\", \"d\"]. The second one contains a student's submitted answers.\n",
        "\n",
        "The two arrays are not empty and are the same length. Return the score for this array of answers, giving +4 for each correct answer, -1 for each incorrect answer, and +0 for each blank answer, represented as an empty string (in C the space character is used).\n",
        "\n",
        "If the score < 0, return 0.\n",
        "\n",
        "For example:\n",
        "\n",
        "checkExam([\"a\", \"a\", \"b\", \"b\"], [\"a\", \"c\", \"b\", \"d\"]) → 6\n",
        "\n",
        "checkExam([\"a\", \"a\", \"c\", \"b\"], [\"a\", \"a\", \"b\",  \"\"]) → 7\n",
        "\n",
        "checkExam([\"a\", \"a\", \"b\", \"c\"], [\"a\", \"a\", \"b\", \"c\"]) → 16\n",
        "\n",
        "checkExam([\"b\", \"c\", \"b\", \"a\"], [\"\",  \"a\", \"a\", \"c\"]) → 0"
      ]
    },
    {
      "cell_type": "code",
      "metadata": {
        "id": "TBf1PJUjAMNn"
      },
      "source": [
        "#0\n",
        "def check_exam(arr1,arr2):\n",
        "    s = 0\n",
        "    for i in range(len(arr1)):\n",
        "        if arr1[i] == arr2[i]:\n",
        "            s += 4\n",
        "        elif arr2[i] == \"\":\n",
        "            s += 0 \n",
        "        else:\n",
        "            s -= 1 \n",
        "    return s if s > 0 else 0"
      ],
      "execution_count": null,
      "outputs": []
    },
    {
      "cell_type": "code",
      "metadata": {
        "id": "wtMekENGAbuP"
      },
      "source": [
        "#1\n",
        "def check_exam(arr1, arr2):\n",
        "    return max(0, sum(4 if a == b else -1 for a, b in zip(arr1, arr2) if b))\n",
        "\n",
        "#2\n",
        "NOTATION = {True: 4, False: -1}\n",
        "\n",
        "def check_exam(ref, ans):\n",
        "    return max(0, sum( NOTATION[r==a] for r,a in zip(ref,ans) if a) )\n",
        "\n",
        "#3\n",
        "def check_exam(arr1,arr2):\n",
        "    \n",
        "    total = 0\n",
        "    \n",
        "    for x,y in zip(arr1, arr2):\n",
        "        \n",
        "        if y == '':\n",
        "            continue\n",
        "        elif x == y:\n",
        "            total += 4\n",
        "        else:\n",
        "            total -= 1\n",
        "            \n",
        "    return total if total>0 else 0\n",
        "  \n",
        "#4\n",
        "def check_exam(arr1,arr2):\n",
        "    x = sum([4 if arr1[i] == arr2[i] else 0 if arr2[i] == '' else -1 for i in range(len(arr1))])\n",
        "    return 0 if x < 0 else x\n",
        "\n",
        "#5\n",
        "def check_exam(*arr):\n",
        "    return max(0, sum([-1, 4][a==b] if b else 0 for a,b in zip(*arr)))\n"
      ],
      "execution_count": null,
      "outputs": []
    },
    {
      "cell_type": "markdown",
      "metadata": {
        "id": "h-1A0JVS5Pxf"
      },
      "source": [
        "# Задача 68 (8) Find numbers which are divisible by given number"
      ]
    },
    {
      "cell_type": "markdown",
      "metadata": {
        "id": "sr6nDh2T5QaI"
      },
      "source": [
        "Complete the function which takes two arguments and returns all numbers which are divisible by the given divisor. First argument is an array of numbers and the second is the divisor.\n",
        "\n",
        "Example:\n",
        "\n",
        "divisible_by([1, 2, 3, 4, 5, 6], 2) == [2, 4, 6]\n",
        "\n",
        "test.assert_equals(divisible_by([1,2,3,4,5,6], 2), [2,4,6])\n",
        "\n",
        "test.assert_equals(divisible_by([1,2,3,4,5,6], 3), [3,6])\n",
        "\n",
        "test.assert_equals(divisible_by([0,1,2,3,4,5,6], 4), [0,4])\n",
        "\n",
        "test.assert_equals(divisible_by([0], 4), [0])\n",
        "\n",
        "test.assert_equals(divisible_by([1,3,5], 2), [])\n",
        "\n",
        "test.assert_equals(divisible_by([0,1,2,3,4,5,6,7,8,9,10], 1), [0,1,2,3,4,5,6,7,8,9,10])"
      ]
    },
    {
      "cell_type": "code",
      "metadata": {
        "id": "_aQ6qE1Q6OCm"
      },
      "source": [
        "#0\n",
        "def divisible_by(numbers, divisor):\n",
        "    lst = []\n",
        "    for i in numbers:\n",
        "        if i % divisor == 0:\n",
        "            lst.append(i)\n",
        "    return lst"
      ],
      "execution_count": null,
      "outputs": []
    },
    {
      "cell_type": "code",
      "metadata": {
        "id": "5PDG5ylP6P8S"
      },
      "source": [
        "#1\n",
        "def divisible_by(numbers, divisor):\n",
        "    return [x for x in numbers if x%divisor == 0]\n",
        "\n",
        "#2\n",
        "def divisible_by(n, d):\n",
        "    return list(filter(lambda x: not x%d, n))\n",
        "\n",
        "#3\n",
        "def divisible_by(numbers, divisor):\n",
        "    return list(filter(lambda x: x%divisor == 0, numbers))\n",
        "\n",
        "#4\n",
        "divisible_by = lambda n, d: [e for e in n if not e % d]"
      ],
      "execution_count": null,
      "outputs": []
    },
    {
      "cell_type": "markdown",
      "metadata": {
        "id": "2oGnRiqYxtZQ"
      },
      "source": [
        "# Задача 69 (8) Convert number to reversed array of digits"
      ]
    },
    {
      "cell_type": "markdown",
      "metadata": {
        "id": "zaVa8ATPxuTR"
      },
      "source": [
        "Convert number to reversed array of digits\n",
        "Given a random non-negative number, you have to return the digits of this number within an array in reverse order.\n",
        "\n",
        "Example:\n",
        "348597 => [7,9,5,8,4,3]"
      ]
    },
    {
      "cell_type": "code",
      "metadata": {
        "id": "eGk3fPxjxvGP"
      },
      "source": [
        "#0\n",
        "def digitize(n):\n",
        "    n = str(n)\n",
        "    n = n[::-1]\n",
        "    lst = []\n",
        "    for i in n:\n",
        "        lst.append(int(i))\n",
        "    return lst"
      ],
      "execution_count": null,
      "outputs": []
    },
    {
      "cell_type": "code",
      "metadata": {
        "id": "TOnQYtbhzi52"
      },
      "source": [
        "#1\n",
        "def digitize(n):\n",
        "    return map(int, str(n)[::-1])\n",
        "\n",
        "#2\n",
        "def digitize(n):\n",
        "    return [int(x) for x in str(n)[::-1]]\n",
        "\n",
        "#3\n",
        "def digitize(n):\n",
        "    return [int(x) for x in reversed(str(n))]\n",
        "\n",
        "#4\n",
        "def digitize(n):\n",
        "    result = []\n",
        "    while n >= 1:\n",
        "        result.append(n%10)\n",
        "        n //= 10\n",
        "    return result"
      ],
      "execution_count": null,
      "outputs": []
    },
    {
      "cell_type": "markdown",
      "metadata": {
        "id": "F-RGgngnxYKO"
      },
      "source": [
        "# Задача 70 (8) Switch it Up!"
      ]
    },
    {
      "cell_type": "markdown",
      "metadata": {
        "id": "yKwzOcnuxYZh"
      },
      "source": [
        "When provided with a number between 0-9, return it in words.\n",
        "\n",
        "Input :: 1\n",
        "\n",
        "Output :: \"One\".\n",
        "\n",
        "If your language supports it, try using a switch statement.\n",
        "\n",
        "test.assert_equals(switch_it_up(0), \"Zero\")\n",
        "\n",
        "test.assert_equals(switch_it_up(9), \"Nine\")"
      ]
    },
    {
      "cell_type": "code",
      "metadata": {
        "id": "ZNhg4zDnx5sO"
      },
      "source": [
        "#0\n",
        "def switch_it_up(number):\n",
        "    numbers = {0: \"Zero\", 1:\"One\", 2:\"Two\", 3:\"Three\", 4:\"Four\", 5:\"Five\", 6:\"Six\", 7:\"Seven\", 8:\"Eight\", 9:\"Nine\"}\n",
        "    return numbers[number]"
      ],
      "execution_count": null,
      "outputs": []
    },
    {
      "cell_type": "code",
      "metadata": {
        "id": "Pf9RSZszqaFR"
      },
      "source": [
        "#1\n",
        "def switch_it_up(n):\n",
        "    return ['Zero','One','Two','Three','Four','Five','Six','Seven','Eight','Nine'][n]\n",
        "\n",
        "#2\n",
        "def switch_it_up(number):\n",
        "    dict = {\n",
        "    1: \"One\",\n",
        "    2: \"Two\",\n",
        "    3: \"Three\",\n",
        "    4: \"Four\",\n",
        "    5: \"Five\",\n",
        "    6: \"Six\",\n",
        "    7: \"Seven\",\n",
        "    8: \"Eight\",\n",
        "    9: \"Nine\",\n",
        "    0: \"Zero\"}\n",
        "    \n",
        "    return dict.get(number)\n",
        "\n",
        "#3\n",
        "def switch_it_up(number):\n",
        "    return [\"Zero\", \"One\", \"Two\", \"Three\", \"Four\", \"Five\", \"Six\", \"Seven\", \"Eight\", \"Nine\"][number]\n",
        "\n",
        "\n",
        "#4\n",
        "def switch_it_up(number):\n",
        "    return 'Zero One Two Three Four Five Six Seven Eight Nine'.split()[number]"
      ],
      "execution_count": null,
      "outputs": []
    },
    {
      "cell_type": "markdown",
      "metadata": {
        "id": "k6M0GzfobJVN"
      },
      "source": [
        "# Задача 71 (8) Count by X"
      ]
    },
    {
      "cell_type": "markdown",
      "metadata": {
        "id": "ClLWxt7JbJmk"
      },
      "source": [
        "Create a function with two arguments that will return an array of the first (n) multiples of (x).\n",
        "\n",
        "Assume both the given number and the number of times to count will be positive numbers greater than 0.\n",
        "\n",
        "Return the results as an array (or list in Python, Haskell or Elixir).\n",
        "\n",
        "Examples:\n",
        "\n",
        "count_by(1,10) #should return [1,2,3,4,5,6,7,8,9,10]\n",
        "\n",
        "count_by(2,5) #should return [2,4,6,8,10]\n",
        "\n",
        "test.assert_equals(count_by(3, 5), [3, 6, 9, 12, 15])\n",
        "\n",
        "test.assert_equals(count_by(50, 5), [50, 100, 150, 200, 250])\n",
        "\n",
        "test.assert_equals(count_by(100, 5), [100, 200, 300, 400, 500])\n"
      ]
    },
    {
      "cell_type": "code",
      "metadata": {
        "id": "L28XHKiyVh1e"
      },
      "source": [
        "#0\n",
        "def count_by(x, n):\n",
        "    lst = []\n",
        "    for i in range (1,n+1):\n",
        "        lst.append(x*i)\n",
        "    return lst\n",
        "\n",
        "#1\n",
        "def count_by(x, n):\n",
        "    return [i*x for i in range(1,n+1)]"
      ],
      "execution_count": null,
      "outputs": []
    },
    {
      "cell_type": "code",
      "metadata": {
        "id": "LVAGKaBzbYCh"
      },
      "source": [
        "#2\n",
        "def count_by(x, n):\n",
        "    return range(x, x * n + 1, x)"
      ],
      "execution_count": null,
      "outputs": []
    },
    {
      "cell_type": "markdown",
      "metadata": {
        "id": "0wMzPDmiqtd9"
      },
      "source": [
        "# Задача 72(7) Down Arrow With Numbers"
      ]
    },
    {
      "cell_type": "markdown",
      "metadata": {
        "id": "jci3RfKfqtuc"
      },
      "source": [
        "Given a number n, make a down arrow shaped pattern.\n",
        "\n",
        "For example, when n = 5, the output would be:\n",
        "\n",
        "123454321\n",
        "\n",
        " 1234321\n",
        "\n",
        "  12321\n",
        "\n",
        "   121\n",
        "\n",
        "    1\n",
        "\n",
        "and for n = 11, it would be:\n",
        "\n",
        "  123456789010987654321\n",
        "\n",
        "  1234567890987654321\n",
        "\n",
        "   12345678987654321\n",
        "\n",
        "   123456787654321\n",
        "\n",
        "    1234567654321\n",
        "\n",
        "     12345654321\n",
        "\n",
        "      123454321\n",
        "\n",
        "       1234321\n",
        "\n",
        "        12321\n",
        "\n",
        "         121\n",
        "\n",
        "          1\n",
        "          \n",
        "An important thing to note in the above example is that the numbers greater than 9 still stay single digit, like after 9 it would be 0 - 9 again instead of 10 - 19.\n",
        "\n",
        "Note: There are spaces for the indentation on the left of each line and no spaces on the right.\n",
        "\n",
        "Have fun!"
      ]
    },
    {
      "cell_type": "code",
      "metadata": {
        "colab": {
          "base_uri": "https://localhost:8080/",
          "height": 35
        },
        "id": "sg9j5sTmqt5K",
        "outputId": "a155488e-64b9-4769-aff8-84894356e0d0"
      },
      "source": [
        "def get_a_down_arrow_of(n):\n",
        "    if n <= 0:\n",
        "        return \"\"\n",
        "    l = []\n",
        "    b = 0\n",
        "    s = \"\"\n",
        "\n",
        "    while n > 0:\n",
        "      if n < 10:\n",
        "        for i in range(1,n+1): \n",
        "            l.append(str(i))\n",
        "            if i == n:\n",
        "                l = f'{\"\".join(l)}{\"\".join((l[-2::-1]))}'\n",
        "                s += f\"{' '*b}{l}\\n\"    \n",
        "                n = n - 1\n",
        "                l = []\n",
        "                b += 1\n",
        "\n",
        "        return s[:-1]\n",
        "      elif n > 9:\n",
        "        for i in range(1,10): \n",
        "            l.append(str(i))\n",
        "  \n",
        "\n",
        "get_a_down_arrow_of(5)\n",
        "# \"123454321\\n 1234321\\n  12321\\n   121\\n    1\""
      ],
      "execution_count": null,
      "outputs": [
        {
          "output_type": "execute_result",
          "data": {
            "application/vnd.google.colaboratory.intrinsic+json": {
              "type": "string"
            },
            "text/plain": [
              "'123454321\\n 1234321\\n  12321\\n   121\\n    1'"
            ]
          },
          "metadata": {
            "tags": []
          },
          "execution_count": 121
        }
      ]
    },
    {
      "cell_type": "code",
      "metadata": {
        "colab": {
          "base_uri": "https://localhost:8080/"
        },
        "id": "ZdCh7WlVs1SH",
        "outputId": "0361557f-82cf-4353-c3f8-26566322755d"
      },
      "source": [
        " i = 19\n",
        " half1 = \"\".join(str(x % 10) for x in range(1, i + 1))\n",
        " half1\n",
        "\n",
        "23 % 10"
      ],
      "execution_count": null,
      "outputs": [
        {
          "output_type": "execute_result",
          "data": {
            "text/plain": [
              "3"
            ]
          },
          "metadata": {
            "tags": []
          },
          "execution_count": 132
        }
      ]
    },
    {
      "cell_type": "code",
      "metadata": {
        "colab": {
          "base_uri": "https://localhost:8080/",
          "height": 188
        },
        "id": "io68qS0duJ1e",
        "outputId": "c459680a-6745-4999-dd9b-a30a4bfcba0f"
      },
      "source": [
        "n = 9\n",
        "l = []\n",
        "b = 0\n",
        "s = \"\"\n",
        "\n",
        "while n > 0:\n",
        "  for i in range(1,n+1): \n",
        "    l.append(str(i))\n",
        "    if i == n:\n",
        "      l = f'{\"\".join(l)}{\"\".join((l[-2::-1]))}'\n",
        "      s = f\"{s}{l}\\n\"     \n",
        "      print (\" \"*b,l)\n",
        "      n = n - 1\n",
        "      l = []\n",
        "      b += 1\n",
        "\n",
        "s = s[:-1]\n",
        "s\n",
        "#a = f'{\"\".join(l)}{\"\".join(reversed(l))}'\n",
        "#a = int(a)     "
      ],
      "execution_count": null,
      "outputs": [
        {
          "output_type": "stream",
          "text": [
            " 12345678987654321\n",
            "  123456787654321\n",
            "   1234567654321\n",
            "    12345654321\n",
            "     123454321\n",
            "      1234321\n",
            "       12321\n",
            "        121\n",
            "         1\n"
          ],
          "name": "stdout"
        },
        {
          "output_type": "execute_result",
          "data": {
            "application/vnd.google.colaboratory.intrinsic+json": {
              "type": "string"
            },
            "text/plain": [
              "'12345678987654321\\n123456787654321\\n1234567654321\\n12345654321\\n123454321\\n1234321\\n12321\\n121\\n1'"
            ]
          },
          "metadata": {
            "tags": []
          },
          "execution_count": 94
        }
      ]
    },
    {
      "cell_type": "code",
      "metadata": {
        "id": "oBSGTu5MY6Aa"
      },
      "source": [
        "12   12345678901210987654321   23\n",
        "11    123456789010987654321    21\n",
        " 10    1234567890987654321     19\n",
        " 9      12345678987654321      17\n",
        " 8       123456787654321       15\n",
        " 7        1234567654321        13\n",
        " 6         12345654321         11\n",
        " 5          123454321          9\n",
        " 4           1234321           7\n",
        " 3            12321            5 \n",
        " 2             121             3\n",
        " 1              1       "
      ],
      "execution_count": null,
      "outputs": []
    },
    {
      "cell_type": "code",
      "metadata": {
        "id": "bGLX0EbZrcnR"
      },
      "source": [
        "'12345678910987654321\\n 12345678987654321\\n  123456787654321\\n   1234567654321\\n    12345654321\\n     123454321\\n      1234321\\n       12321\\n        121\\n         1' should equal \n",
        "'1234567890987654321\\n 12345678987654321\\n  123456787654321\\n   1234567654321\\n    12345654321\\n     123454321\\n      1234321\\n       12321\\n        121\\n         1'\n"
      ],
      "execution_count": null,
      "outputs": []
    },
    {
      "cell_type": "markdown",
      "metadata": {
        "id": "2W3SmMGCJerJ"
      },
      "source": [
        ""
      ]
    },
    {
      "cell_type": "markdown",
      "metadata": {
        "id": "LVhBQyF5Jfgr"
      },
      "source": [
        ""
      ]
    },
    {
      "cell_type": "code",
      "metadata": {
        "id": "iYPq5q9bFwQV"
      },
      "source": [
        "#0\n",
        "\n",
        "def abbrevName(name):\n",
        "  a = s.split(\" \")\n",
        "  return (\"{}.{}\".format(a[0][0].capitalize(),a[1][0].capitalize()))"
      ],
      "execution_count": null,
      "outputs": []
    },
    {
      "cell_type": "code",
      "metadata": {
        "id": "GsKIPc04IKCz"
      },
      "source": [
        "#1\n",
        "def abbrevName(name):\n",
        "    return '.'.join(w[0] for w in name.split()).upper()\n",
        "\n",
        "#2\n",
        "def abbrevName(name):\n",
        "    first, last = name.upper().split(' ')\n",
        "    return first[0] + '.' + last[0]\n",
        "\n",
        "#3\n",
        "def abbrevName(name):\n",
        "    return name.split(' ')[0][0].upper()+'.'+name.split(' ')[1][0].upper()\n",
        "\n",
        "#4\n",
        "def abbrevName(name):\n",
        "    return '.'.join(x[0].upper() for x in name.split())\n",
        "\n",
        "#5\n",
        "def abbrevName(name):\n",
        "    names = name.split()\n",
        "    return f\"{names[0][0]}.{names[1][0]}\".upper()"
      ],
      "execution_count": null,
      "outputs": []
    },
    {
      "cell_type": "markdown",
      "metadata": {
        "id": "EqLcwJkqV2ty"
      },
      "source": [
        "# Задача 73 (8) Are there any arrows left?"
      ]
    },
    {
      "cell_type": "markdown",
      "metadata": {
        "id": "qKZbD-pyV27m"
      },
      "source": [
        "Check your arrows\n",
        "You have a quiver of arrows, but some have been damaged. The quiver contains arrows with an optional range information (different types of targets are positioned at different ranges), so each item is an arrow.\n",
        "You need to verify that you have some good ones left, in order to prepare for battle:\n",
        "\n",
        "anyArrows([{'range': 5}, {'range': 10, 'damaged': True}, {'damaged': True}])\n",
        "\n",
        "If an arrow in the quiver does not have a damaged status, it means it's new.\n",
        "\n",
        "The expected result is a boolean, indicating whether you have any good arrows left.\n",
        "\n",
        "Reference: https://developer.mozilla.org/en-US/docs/Web/JavaScript/Reference/Functions/Arrow_functions"
      ]
    },
    {
      "cell_type": "code",
      "metadata": {
        "id": "I4888Je7KPeU"
      },
      "source": [
        "#0\n",
        "def any_arrows(arrows):\n",
        "    return any(not i.get(\"damaged\", False) for i in arrows)\n",
        "\n",
        "#1\n",
        "def any_arrows(arrows):\n",
        "    return any([True for a in arrows if 'damaged' not in a or a['damaged'] == False])\n",
        "\n",
        "#2\n",
        "def any_arrows(arrows):\n",
        "    return not all(ar.get('damaged', False) for ar in arrows)\n",
        "\n",
        "#3\n",
        "any_arrows=lambda arrows: any([not x[\"damaged\"] if \"damaged\" in x else True for x in arrows])\n",
        "\n"
      ],
      "execution_count": null,
      "outputs": []
    },
    {
      "cell_type": "markdown",
      "metadata": {
        "id": "e7VVSgB2dtMf"
      },
      "source": [
        "# Задача 74 (8) Find Multiples of a Number"
      ]
    },
    {
      "cell_type": "markdown",
      "metadata": {
        "id": "0VkLyAgzdtcs"
      },
      "source": [
        "In this simple exercise, you will build a program that takes a value, integer , and returns a list of its multiples up to another value, limit . If limit is a multiple of integer, it should be included as well. There will only ever be positive integers passed into the function, not consisting of 0. The limit will always be higher than the base.\n",
        "\n",
        "For example, if the parameters passed are (2, 6), the function should return [2, 4, 6] as 2, 4, and 6 are the multiples of 2 up to 6.\n",
        "\n",
        "If you can, try writing it in only one line of code.\n",
        "\n",
        "test.assert_equals(find_multiples(5, 25), [5, 10, 15, 20, 25]\n",
        "\n",
        "test.assert_equals(find_multiples(1, 2), [1, 2])"
      ]
    },
    {
      "cell_type": "code",
      "metadata": {
        "id": "sNK-Sh3XcFBY"
      },
      "source": [
        "#0 \n",
        "def find_multiples(integer, limit):\n",
        "    s = []\n",
        "    total = integer\n",
        "    while total <= limit:\n",
        "        s.append(total)\n",
        "        total += integer\n",
        "    return s\n",
        "\n",
        "#1\n",
        "def find_multiples(integer, limit):\n",
        "    return [i for i in range(integer, limit+1, integer)]\n"
      ],
      "execution_count": null,
      "outputs": []
    },
    {
      "cell_type": "code",
      "metadata": {
        "id": "X2OFt378eSHV"
      },
      "source": [
        "#2\n",
        "def find_multiples(integer, limit):\n",
        "    return list(range(integer, limit+1, integer))\n",
        "\n",
        "#3\n",
        "def find_multiples(integer, limit):\n",
        "    return range(integer,limit+1,integer)"
      ],
      "execution_count": null,
      "outputs": []
    },
    {
      "cell_type": "markdown",
      "metadata": {
        "id": "5PNSQNmqfT5v"
      },
      "source": [
        "# Задача 75 (8) Closest elevator"
      ]
    },
    {
      "cell_type": "markdown",
      "metadata": {
        "id": "WQYNzfvbfUIv"
      },
      "source": [
        "Given 2 elevators (named \"left\" and \"right\") in a building with 3 floors (numbered 0 to 2), write a function elevator accepting 3 arguments (in order):\n",
        "\n",
        "left - The current floor of the left elevator\n",
        "right - The current floor of the right elevator\n",
        "call - The floor that called an elevator\n",
        "It should return the name of the elevator closest to the called floor (\"left\"/\"right\").\n",
        "\n",
        "In the case where both elevators are equally distant from the called floor, choose the elevator to the right.\n",
        "\n",
        "You can assume that the inputs will always be valid integers between 0-2.\n",
        "\n",
        "Examples:\n",
        "\n",
        "elevator(0, 1, 0) # => \"left\"\n",
        "\n",
        "elevator(0, 1, 1) # => \"right\"\n",
        "\n",
        "elevator(0, 1, 2) # => \"right\"\n",
        "\n",
        "elevator(0, 0, 0) # => \"right\"\n",
        "\n",
        "elevator(0, 2, 1) # => \"right\""
      ]
    },
    {
      "cell_type": "code",
      "metadata": {
        "id": "AriD-f1afUXA"
      },
      "source": [
        "#0\n",
        "def elevator(left, right, call):\n",
        "    s1 = abs(call - left)\n",
        "    s2 = abs(call - right)\n",
        "    if right == call:\n",
        "        return \"right\"\n",
        "    elif left == call:\n",
        "        return \"left\"\n",
        "    elif left < right < call:\n",
        "        return \"right\"\n",
        "    elif call < left < right:\n",
        "        return \"left\"\n",
        "    elif right < left < call:\n",
        "        return \"left\"\n",
        "    elif call < right < left:\n",
        "        return \"right\"\n",
        "    elif s1==s2 or s2>s1:\n",
        "        return \"right\"\n",
        "\n",
        "#1\n",
        "def elevator(left, right, call):\n",
        "    if right == call:\n",
        "        return 'right'\n",
        "    elif left == call or call < left < right or right < left < call:\n",
        "        return \"left\"\n",
        "    else: \n",
        "        return \"right\" "
      ],
      "execution_count": null,
      "outputs": []
    },
    {
      "cell_type": "code",
      "metadata": {
        "id": "A9lTktBqj8sJ"
      },
      "source": [
        "#2\n",
        "def elevator(left, right, call):\n",
        "    return \"left\" if abs(call - left) < abs(call - right) else \"right\"\n",
        "\n",
        "#3\n",
        "def elevator(left, right, call):\n",
        "    if abs(left-call) >= abs(right-call):\n",
        "        return \"right\"\n",
        "    else:\n",
        "        return \"left\"\n",
        "\n",
        "#4\n",
        "elevator=lambda l,r,c:'rliegfhtt'[abs(c-l)<abs(c-r)::2]"
      ],
      "execution_count": null,
      "outputs": []
    },
    {
      "cell_type": "markdown",
      "metadata": {
        "id": "oc0wJSW-sXbv"
      },
      "source": [
        "# Задача 76 (8) Simple Fun 352: Reagent Formula"
      ]
    },
    {
      "cell_type": "markdown",
      "metadata": {
        "id": "LEQVXKDRsX1K"
      },
      "source": [
        "Now we will confect a reagent. There are eight materials to choose from, numbered 1,2,..., 8 respectively.\n",
        "\n",
        "We know the rules of confect:\n",
        "\n",
        "material1 and material2 cannot be selected at the same time\n",
        "material3 and material4 cannot be selected at the same time\n",
        "material5 and material6 must be selected at the same time\n",
        "material7 or  material8 must be selected(at least one, or both)\n",
        "Task\n",
        "You are given a integer array formula. Array contains only digits 1-8 that represents material 1-8. Your task is to determine if the formula is valid. Returns true if it's valid, false otherwise.\n",
        "\n",
        "Example\n",
        "\n",
        "For formula = [1,3,7], The output should be true.\n",
        "\n",
        "For formula = [7,1,2,3], The output should be false.\n",
        "\n",
        "For formula = [1,3,5,7], The output should be false.\n",
        "\n",
        "For formula = [1,5,6,7,3], The output should be true.\n",
        "\n",
        "For formula = [5,6,7], The output should be true.\n",
        "\n",
        "For formula = [5,6,7,8], The output should be true.\n",
        "\n",
        "For formula = [6,7,8], The output should be false.\n",
        "\n",
        "For formula = [7,8], The output should be true.\n",
        "\n",
        "Note\n",
        "\n",
        "All inputs are valid. Array contains at least 1 digit. Each digit appears at most once.\n",
        "\n",
        "Happy Coding ^_^"
      ]
    },
    {
      "cell_type": "code",
      "metadata": {
        "id": "6rYBuXCvsYD9"
      },
      "source": [
        "#0\n",
        "def isValid(f):\n",
        "  if 5 in f:\n",
        "    if 6 not in f:\n",
        "      return False\n",
        "  \n",
        "  if 6 in f:\n",
        "    if 5 not in f:\n",
        "      return False\n",
        "  \n",
        "  if 7 not in f:\n",
        "    if 8 not in f:\n",
        "      return False\n",
        "\n",
        "  if 8 not in f:\n",
        "    if 7 not in f:\n",
        "      return False \n",
        "\n",
        "  if 1 in f:\n",
        "    if 2 in f:\n",
        "      return False\n",
        "\n",
        "  if 3 in f:\n",
        "    if 4 in f:\n",
        "      return False\n",
        "  \n",
        "  if 2 in f:\n",
        "    if 1 in f:\n",
        "      return False\n",
        "\n",
        "  if 4 in f:\n",
        "    if 3 in f:\n",
        "      return False\n",
        "\n",
        "  return True"
      ],
      "execution_count": null,
      "outputs": []
    },
    {
      "cell_type": "code",
      "metadata": {
        "id": "3js44Q-24PMQ"
      },
      "source": [
        "#1\n",
        "def isValid(formula):\n",
        "    if ((not 7 in formula) and (not 8 in formula)):\n",
        "        return False\n",
        "    if ((1 in formula) and (2 in formula)):\n",
        "        return False\n",
        "    if ((3 in formula) and (4 in formula)):\n",
        "        return False\n",
        "    if ((5 in formula and not 6 in formula) or (6 in formula and not 5 in formula)):\n",
        "        return False\n",
        "    return True\n",
        "\n",
        "#2\n",
        "def isValid(formula):\n",
        "    if 1 in formula and 2 in formula: return False\n",
        "    if 3 in formula and 4 in formula: return False\n",
        "    if 5 in formula and 6 not in formula: return False\n",
        "    if 5 not in formula and 6 in formula: return False\n",
        "    if 7 not in formula and 8 not in formula: return False\n",
        "    return True\n",
        "\n",
        "\n",
        "#3\n",
        "def isValid(formula):\n",
        "    f = set(formula)\n",
        "    return (not {1, 2} <= f\n",
        "        and not {3, 4} <= f\n",
        "        and ((5 in f) == (6 in f))\n",
        "        and bool({7, 8} & f))\n",
        "\n",
        "#4\n",
        "def isValid(f):\n",
        "     return (not (((1 in f) and (2 in f) or ((3 in f) and (4 in f)))) and ((5 in f)==(6 in f)) and ((7 in f) or (8 in f)))\n",
        "\n",
        "#5\n",
        "def isValid(formula):\n",
        "    if 1 in formula and 2 in formula :\n",
        "        return False\n",
        "    if 3 in formula and 4 in formula :\n",
        "        return False\n",
        "    if 5 in formula and not 6 in formula :\n",
        "        return False\n",
        "    if 5 not in formula and 6 in formula :\n",
        "        return False\n",
        "    if not 7 in formula and not 8 in formula :\n",
        "        return False\n",
        "    return True"
      ],
      "execution_count": null,
      "outputs": []
    },
    {
      "cell_type": "markdown",
      "metadata": {
        "id": "gyuxTm0aoqlH"
      },
      "source": [
        "# Задача 77 (8) Printing Array elements with Comma delimiters"
      ]
    },
    {
      "cell_type": "markdown",
      "metadata": {
        "id": "SsyV45gMoqzX"
      },
      "source": [
        "Input: Array of elements\n",
        "\n",
        "[\"h\",\"o\",\"l\",\"a\"]\n",
        "\n",
        "Output: String with comma delimited elements of the array in th same order.\n",
        "\n",
        "\"h,o,l,a\"\n",
        "\n",
        "Test.describe(\"Basic Tests\")\n",
        "data = [2]\n",
        "Test.assert_equals(print_array(data),\"2\")\n",
        "\n",
        "data = [2,4,5,2]\n",
        "Test.assert_equals(print_array(data),\"2,4,5,2\")\n",
        "\n",
        "data = [2,4,5,2]\n",
        "Test.assert_equals(print_array(data),\"2,4,5,2\")\n",
        "\n",
        "data = [2.0,4.2,5.1,2.2]\n",
        "Test.assert_equals(print_array(data),\"2.0,4.2,5.1,2.2\")\n",
        "\n",
        "data = [\"2\",\"4\",\"5\",\"2\"]\n",
        "Test.assert_equals(print_array(data),\"2,4,5,2\")\n",
        "\n",
        "data = [True,False,False]\n",
        "Test.assert_equals(print_array(data),\"True,False,False\")\n",
        "\n",
        "array1 = [\"hello\", \"this\", \"is\", \"an\", \"array!\"]\n",
        "array2 = [\"a\", \"b\", \"c\", \"d\", \"e!\"]\n",
        "data = array1+array2\n",
        "Test.assert_equals(print_array(data),\"hello,this,is,an,array!,a,b,c,d,e!\")\n",
        "\n",
        "array1 = [\"hello\", \"this\", \"is\", \"an\", \"array!\"]\n",
        "array2 = [1, 2, 3, 4, 5]\n",
        "data = [array1,array2]\n",
        "Test.assert_equals(print_array(data),\"['hello', 'this', 'is', 'an', 'array!'],[1, 2, 3, 4, 5]\")"
      ]
    },
    {
      "cell_type": "code",
      "metadata": {
        "id": "-DdD2087oq_g"
      },
      "source": [
        "#0\n",
        "def print_array(arr):\n",
        "    s = \"\"\n",
        "    for i in arr:\n",
        "         s = f'{s}{i},'\n",
        "    return s[:-1]"
      ],
      "execution_count": null,
      "outputs": []
    },
    {
      "cell_type": "code",
      "metadata": {
        "id": "1ed1CFC5vrd-"
      },
      "source": [
        "#1\n",
        "def print_array(arr):\n",
        "    return ','.join(map(str, arr))\n",
        "\n",
        "#2\n",
        "def print_array(arr):\n",
        "    return ','.join(str(a) for a in arr)\n",
        "\n",
        "#3\n",
        "print_array=lambda a:','.join(map(str,a))"
      ],
      "execution_count": null,
      "outputs": []
    },
    {
      "cell_type": "markdown",
      "metadata": {
        "id": "INBhiawOgnbm"
      },
      "source": [
        "# Задача 78 (8) Pirates!! Are the Cannons ready!??"
      ]
    },
    {
      "cell_type": "markdown",
      "metadata": {
        "id": "MHZNedOEgnrR"
      },
      "source": [
        "Ahoy Matey!\n",
        "\n",
        "Welcome to the seven seas.\n",
        "\n",
        "You are the captain of a pirate ship.\n",
        "\n",
        "You are in battle against the royal navy.\n",
        "\n",
        "You have cannons at the ready.... or are they?\n",
        "\n",
        "Your task is to check if the gunners are loaded and ready, if they are: Fire!\n",
        "\n",
        "If they aren't ready: Shiver me timbers!\n",
        "\n",
        "Your gunners for each test case are 4 or less.\n",
        "\n",
        "When you check if they are ready their answers are in a dictionary and will either be: aye or nay\n",
        "\n",
        "Firing with less than all gunners ready is non-optimum (this is not fire at will, this is fire by the captain's orders or walk the plank, dirty sea-dog!)\n",
        "\n",
        "If all answers are 'aye' then Fire! if one or more are 'nay' then Shiver me timbers!\n",
        "\n",
        "Also, check out the new Pirates!! Kata:\n",
        "\n",
        "\n",
        "a = {'Mike':'aye','Joe':'aye','Johnson':'aye','Peter':'aye'}\n",
        "\n",
        "b = {'Mike':'aye','Joe':'nay','Johnson':'aye','Peter':'aye'}\n",
        "\n",
        "Test.assert_equals(cannons_ready(a),'Fire!')\n",
        "\n",
        "Test.assert_equals(cannons_ready(b),'Shiver me timbers!')"
      ]
    },
    {
      "cell_type": "code",
      "metadata": {
        "id": "QYIlZzRLgn7n"
      },
      "source": [
        "a = {'Mike':'aye','Joe':'aye','Johnson':'aye','Peter':'aye'}\n",
        "\n",
        "def cannons_ready(gunners):\n",
        "    for i, j in  gunners.items():\n",
        "        if j == 'nay':\n",
        "            return 'Shiver me timbers!'\n",
        "\n",
        "    return 'Fire!'\n"
      ],
      "execution_count": null,
      "outputs": []
    },
    {
      "cell_type": "code",
      "metadata": {
        "id": "JH644boMnWpe"
      },
      "source": [
        "#1\n",
        "def cannons_ready(gunners):\n",
        "  return 'Shiver me timbers!' if 'nay' in gunners.values() else 'Fire!'\n",
        "\n",
        "#2\n",
        "def cannons_ready(gunners):\n",
        "    for i in gunners:\n",
        "        if gunners[i] == 'nay':\n",
        "            return 'Shiver me timbers!'\n",
        "    return 'Fire!'\n",
        "\n",
        "#3\n",
        "def cannons_ready(gunners):\n",
        "    return 'Fire!' if all(a == 'aye' for a in gunners.itervalues()) else \\\n",
        "        'Shiver me timbers!'\n",
        "\n",
        "#4\n",
        "def cannons_ready(g):\n",
        "  return ['Fire!','Shiver me timbers!']['nay' in g.values()]\n",
        "\n",
        "#5\n",
        "def cannons_ready(gunners):\n",
        "  return 'Fire!' if all(map(lambda x: x=='aye', gunners.values())) else 'Shiver me timbers!'\n",
        "\n",
        "#6\n",
        "cannons_ready = lambda g: \"Shiver me timbers!\" if \"nay\" in g.values() else \"Fire!\"\n",
        "\n",
        "#7\n",
        "def cannons_ready(gunners):\n",
        "  return 'Shiver me timbers!' if any(x == 'nay' for x in gunners.values()) else 'Fire!'\n",
        "\n",
        "#8\n",
        "def cannons_ready(gunners):\n",
        "    return \"Fire!\" if all(s == \"aye\" for _, s in gunners.items()) else \"Shiver me timbers!\"  \n"
      ],
      "execution_count": null,
      "outputs": []
    },
    {
      "cell_type": "markdown",
      "metadata": {
        "id": "bx53Vgg5M_NA"
      },
      "source": [
        "# Задача 79 (8) Hello, Name or World!"
      ]
    },
    {
      "cell_type": "markdown",
      "metadata": {
        "id": "BIIIhyPSM_Vj"
      },
      "source": [
        "Define a method hello that returns \"Hello, Name!\" to a given name, or says Hello, World! if name is not given (or passed as an empty String).\n",
        "\n",
        "Assuming that name is a String and it checks for user typos to return a name with a first capital letter (Xxxx).\n",
        "\n",
        "Examples:\n",
        "\n",
        "hello \"john\"   => \"Hello, John!\"\n",
        "\n",
        "hello \"aliCE\"  => \"Hello, Alice!\"\n",
        "\n",
        "hello          => \"Hello, World!\" # name not given\n",
        "\n",
        "hello \"\"       => \"Hello, World!\" # name is an empty String"
      ]
    },
    {
      "cell_type": "code",
      "metadata": {
        "colab": {
          "base_uri": "https://localhost:8080/",
          "height": 35
        },
        "id": "LKt5uv9eM-tM",
        "outputId": "f8b52d2e-0a25-41ae-8e9d-efc5f703f0e4"
      },
      "source": [
        "#0\n",
        "def hello(name=\"World\"):\n",
        "    if name == \"\":\n",
        "        return \"Hello, World!\"\n",
        "    return f\"Hello, {name.capitalize()}!\"\n",
        "\n",
        "hello()"
      ],
      "execution_count": null,
      "outputs": [
        {
          "output_type": "execute_result",
          "data": {
            "application/vnd.google.colaboratory.intrinsic+json": {
              "type": "string"
            },
            "text/plain": [
              "'Hello, World!'"
            ]
          },
          "metadata": {
            "tags": []
          },
          "execution_count": 5
        }
      ]
    },
    {
      "cell_type": "code",
      "metadata": {
        "colab": {
          "base_uri": "https://localhost:8080/"
        },
        "id": "VkJITMnwPapf",
        "outputId": "cdc298a1-d298-43e2-fa8f-6aa81f3149d5"
      },
      "source": [
        "#1\n",
        "def hello(name=''):\n",
        "    return f\"Hello, {name.title() or 'World'}!\"\n",
        "\n",
        "#2\n",
        "def hello(name=\"\"):\n",
        "    return f\"Hello, {name.capitalize() if name else 'World'}!\"\n",
        "\n",
        "#3\n",
        "def hello(name=None):    \n",
        "    if not name:\n",
        "        return \"Hello, World!\"\n",
        "    return \"Hello, %s!\"%(name.capitalize())\n",
        "\n",
        "#4\n",
        "def hello(name=''):\n",
        "    return \"Hello, {}!\".format(name.title() if name else 'World')\n",
        "\n",
        "#5\n",
        "hello = lambda name=\"\": \"Hello, {}!\".format(\"World\" if not name else name.capitalize())\n",
        "\n",
        "#6\n",
        "def hello(name=''):\n",
        "    return f\"hello, {name or 'world'}!\".title()"
      ],
      "execution_count": null,
      "outputs": [
        {
          "output_type": "stream",
          "text": [
            "0\n"
          ],
          "name": "stdout"
        }
      ]
    },
    {
      "cell_type": "markdown",
      "metadata": {
        "id": "Tju37nXj4OF6"
      },
      "source": [
        "# Задача 80 (7) Cheat at rock paper scissors!"
      ]
    },
    {
      "cell_type": "markdown",
      "metadata": {
        "id": "spL5Sg6v4OXB"
      },
      "source": [
        "You seem to have the worst luck at rock, paper, scissors! Everyday you play against your friends, but never win. You want a taste of victory!\n",
        "\n",
        "In this kata you need to define r_p_s_cheat() that takes an argument, either 'rock', 'paper', or 'scissors' and returns your counter to win!\n",
        "\n",
        "But there's a catch! Your friends know how terrible you are at rock, paper, scissors, and if you win all of the time, then they'll see through your deception!\n",
        "\n",
        "You need r_p_s_cheat to win 88-92% of the time and lose 8-12% of the time! In other words, you should never tie!\n",
        "\n",
        "Note: The testing will check to see that this condition is fulfilled!\n",
        "\n",
        "If you believe your solution will work, but doesn't on the first try, submit again!"
      ]
    },
    {
      "cell_type": "code",
      "metadata": {
        "colab": {
          "base_uri": "https://localhost:8080/",
          "height": 52
        },
        "id": "uD5mcaoF0mGF",
        "outputId": "891ee303-b3e1-4c9e-df65-dcb4c64fb292"
      },
      "source": [
        "#0\n",
        "import numpy as np\n",
        "\n",
        "def r_p_s_cheat(choice):\n",
        "  a = np.random.randint(1,101)\n",
        "  \n",
        "  if choice == \"rock\":\n",
        "    if a >=12:\n",
        "      return \"paper\"\n",
        "    else: \n",
        "      return \"scissors\"\n",
        "\n",
        "  elif choice == \"scissors\":\n",
        "    if a >=12:\n",
        "      return\"rock\"\n",
        "    else: \n",
        "      return \"paper\"\n",
        "\n",
        "  elif choice == \"paper\":\n",
        "    if a >=12:\n",
        "      return \"scissors\"\n",
        "    else: \n",
        "      return \"rock\"\n",
        "\n",
        "r_p_s_cheat(\"rock\")"
      ],
      "execution_count": null,
      "outputs": [
        {
          "output_type": "stream",
          "text": [
            "90\n"
          ],
          "name": "stdout"
        },
        {
          "output_type": "execute_result",
          "data": {
            "application/vnd.google.colaboratory.intrinsic+json": {
              "type": "string"
            },
            "text/plain": [
              "'paper'"
            ]
          },
          "metadata": {
            "tags": []
          },
          "execution_count": 62
        }
      ]
    },
    {
      "cell_type": "code",
      "metadata": {
        "id": "o447kmiV4YfG"
      },
      "source": [
        "#1\n",
        "import random\n",
        "\n",
        "def r_p_s_cheat(choice):\n",
        "    options = { \"rock\": \"paper\", \"paper\": \"scissors\", \"scissors\": \"rock\" }\n",
        "    return options[choice] if random.randint(1, 10) <= 9 else options[options[choice]]\n",
        "\n",
        "#2\n",
        "import random\n",
        "def r_p_s_cheat(choice):\n",
        "    w = {\"rock\":\"paper\",\"scissors\":\"rock\",\"paper\":\"scissors\"}\n",
        "    l = {\"rock\":\"scissors\",\"scissors\":\"paper\",\"paper\":\"rock\"}\n",
        "    return random.choice([w[choice]]*9+[l[choice]])\n",
        "\n",
        "#3\n",
        "from random import random as rand\n",
        "\n",
        "def r_p_s_cheat(ch):\n",
        "    return (\"rock\", \"paper\", \"scissors\")[(\"rps\".index(ch[0]) + 1 + (rand() > 0.9)) % 3]\n",
        "\n",
        "#4\n",
        "from random import random\n",
        "\n",
        "rps = (\"rock\", \"paper\", \"scissors\")\n",
        "\n",
        "def r_p_s_cheat(choice):\n",
        "    i, r = rps.index(choice), 1 if random() >= 0.1 else -1\n",
        "    return rps[(i + r) % 3] \n",
        "\n",
        "#5\n",
        "from random import randrange\n",
        "COUNTERS = {'rock':['paper', 'scissors'], 'paper':['scissors', 'rock'], 'scissors':['rock', 'papaer']}\n",
        "def r_p_s_cheat(choice):\n",
        "    return COUNTERS[choice][randrange(1, 1000) > 880]\n",
        "\n",
        "#6\n"
      ],
      "execution_count": null,
      "outputs": []
    },
    {
      "cell_type": "markdown",
      "metadata": {
        "id": "k_cBdRgnJxw2"
      },
      "source": [
        "# Задача 81 (7) Convert between radians and degrees"
      ]
    },
    {
      "cell_type": "markdown",
      "metadata": {
        "id": "5cpUOUBJJyA_"
      },
      "source": [
        "Extend the Math object (JS) or module (Ruby and Python) to convert degrees to radians and viceversa. The result should be rounded to two decimal points. Note that all methods of Math object are static.\n",
        "\n",
        "Example:\n",
        "\n",
        "math.degrees(math.pi) //180deg\n",
        "\n",
        "math.radians(180) //3.14rad\n",
        "\n",
        "Test.assert_equals(math.degrees(math.pi), '180deg', 'Value returned should be 180deg')\n",
        "\n",
        "Test.assert_equals(math.radians(180), '3.14rad', 'Value returned should be 3.14rad')"
      ]
    },
    {
      "cell_type": "code",
      "metadata": {
        "id": "I-jWGMOY4xBl"
      },
      "source": [
        "#0\n",
        "def degrees(rad):\n",
        "    deg = round((180*rad)/3.1415926535 ,2)\n",
        "    if deg % 1 == 0:\n",
        "        return f'{int(deg)}deg'\n",
        "    else:\n",
        "        return f'{deg}deg'\n",
        "        \n",
        "\n",
        "def radians(deg):\n",
        "    rad = round((3.1415926535*deg)/180,2)\n",
        "    print (rad)\n",
        "    if rad % 1 == 0.0:\n",
        "        print (rad)\n",
        "        return f'{int(rad)}rad'\n",
        "    else:\n",
        "        print (rad)\n",
        "        return f'{rad}rad'\n",
        "        \n",
        "math.degrees=degrees\n",
        "math.radians=radians"
      ],
      "execution_count": null,
      "outputs": []
    },
    {
      "cell_type": "code",
      "metadata": {
        "id": "00UBvmrYNNjE"
      },
      "source": [
        "#1\n",
        "def degrees(rad):\n",
        "    return '%gdeg' % round(180 * rad / math.pi, 2)\n",
        "\n",
        "def radians(deg):\n",
        "    return '%grad' % round(math.pi * deg / 180, 2)\n",
        "    \n",
        "math.degrees=degrees\n",
        "math.radians=radians\n",
        "\n",
        "#2\n",
        "def degrees(rad):\n",
        "    deg = round(rad * 180 / math.pi, 2)\n",
        "    return '{:g}deg'.format(deg)\n",
        "\n",
        "def radians(deg):\n",
        "    rad = round(deg * math.pi / 180, 2)\n",
        "    return '{:g}rad'.format(rad)\n",
        "\n",
        "#3\n",
        "def degrees(rad):\n",
        "    res = round(rad * 180 / math.pi, 2)\n",
        "    return str(int(res)) + 'deg' if res % 1 == 0 else str(res) + 'deg'\n",
        "\n",
        "def radians(deg):\n",
        "    res = round(deg * math.pi / 180, 2)\n",
        "    return str(int(res)) + 'rad' if res % 1 == 0 else str(res) + 'rad'\n",
        "\n",
        "\n",
        "#4\n",
        "def degrees(rad):\n",
        "    return \"%g%s\" % (round((rad * 180.0) / math.pi, 2), \"deg\")\n",
        "\n",
        "def radians(deg):\n",
        "    return \"%g%s\" % (round((deg * math.pi) / 180.0, 2), \"rad\")\n",
        "\n",
        "\n",
        "#5\n",
        "def degrees(rad):\n",
        "    deg = rad * 180 / math.pi\n",
        "    return f'{round(deg, 2):g}deg'\n",
        "\n",
        "def radians(deg):\n",
        "    rad = deg * math.pi / 180\n",
        "    return f'{round(rad, 2):g}rad'\n",
        "\n",
        "\n",
        "#6\n",
        "def degrees(rad):\n",
        "    r= round(rad*57.29577951308232,2)\n",
        "    return \"{}deg\".format(int(r) if int(r)==r else r)\n",
        "\n",
        "def radians(deg):\n",
        "    d = round(deg*0.017453292519943295, 2)\n",
        "    return \"{}rad\".format(int(d) if int(d)==d else d)\n",
        "\n"
      ],
      "execution_count": null,
      "outputs": []
    },
    {
      "cell_type": "markdown",
      "metadata": {
        "id": "k_uL7370rC7y"
      },
      "source": [
        "# Задача 82(8)"
      ]
    },
    {
      "cell_type": "markdown",
      "metadata": {
        "id": "T1OcFew6rDP0"
      },
      "source": [
        "To find the volume (centimeters cubed) of a cuboid you use the formula:\n",
        "\n",
        "volume = Length * Width * Height\n",
        "\n",
        "But someone forgot to use proper record keeping, so we only have the volume, and the length of a single side!\n",
        "\n",
        "It's up to you to find out whether the cuboid has equal sides (= is a cube).\n",
        "\n",
        "Return true if the cuboid could have equal sides, return false otherwise.\n",
        "\n",
        "Return false for invalid numbers too (e.g volume or side is less than or equal to 0).\n",
        "\n",
        "Note: the sides must be integers\n",
        "\n",
        "Test.assert_equals(cube_checker(-12,2), False)\n",
        "Test.assert_equals(cube_checker(8, 3),  False)\n",
        "Test.assert_equals(cube_checker(8, 2),  True)\n",
        "Test.assert_equals(cube_checker(-8,-2), False, \"side or volume < 0 are invalid !\")\n",
        "Test.assert_equals(cube_checker(0, 0),  False)\n",
        "Test.assert_equals(cube_checker(27, 3), True)\n",
        "Test.assert_equals(cube_checker(1, 5),  False)\n",
        "Test.assert_equals(cube_checker(125, 5),True)\n",
        "Test.assert_equals(cube_checker(125,-5),False)\n",
        "Test.assert_equals(cube_checker(0, 12), False)\n",
        "Test.assert_equals(cube_checker(12, -1),False)\n",
        "Test.assert_equals(cube_checker(1, 1),  True)"
      ]
    },
    {
      "cell_type": "code",
      "metadata": {
        "id": "Z1h1TBlqrF1w"
      },
      "source": [
        "#0 \n",
        "def cube_checker(volume, side):\n",
        "    if volume <=0 or side <=0:\n",
        "        return False\n",
        "    else:\n",
        "        return True if side**3 == volume else False"
      ],
      "execution_count": null,
      "outputs": []
    },
    {
      "cell_type": "code",
      "metadata": {
        "id": "ZitzhfY3ql_c"
      },
      "source": [
        " #1 \n",
        "def cube_checker(volume, side):\n",
        "    return 0 < volume == side**3\n",
        "\n",
        "#2\n",
        "def cube_checker(volume, side):\n",
        "    return side > 0 and side ** 3 == volume\n",
        "\n",
        "#3\n",
        "cube_checker = lambda v, s: v == s**3 > 0\n"
      ],
      "execution_count": null,
      "outputs": []
    },
    {
      "cell_type": "markdown",
      "metadata": {
        "id": "tYwJsqBMnFt2"
      },
      "source": [
        "# Задача 83(8) Welcome to the City"
      ]
    },
    {
      "cell_type": "markdown",
      "metadata": {
        "id": "QKUEUHAPnGP7"
      },
      "source": [
        "Create a method sayHello/say_hello/SayHello that takes as input a name, city, and state to welcome a person. Note that name will be an array consisting of one or more values that should be joined together with one space between each, and the length of the name array in test cases will vary.\n",
        "\n",
        "Example:\n",
        "\n",
        "say_hello(['John', 'Smith'], 'Phoenix', 'Arizona')\n",
        "\n",
        "This example will return the string Hello, John Smith! Welcome to Phoenix, Arizona!\n",
        "\n",
        " test.assert_equals(say_hello(['John', 'Smith'], 'Phoenix', 'Arizona'), 'Hello, John Smith! Welcome to Phoenix, Arizona!','Hello, John Smith! Welcome to Phoenix, Arizona!')\n",
        "\n",
        "        test.assert_equals(say_hello(['Franklin','Delano','Roosevelt'], 'Chicago', 'Illinois'), 'Hello, Franklin Delano Roosevelt! Welcome to Chicago, Illinois!',)\n",
        "\n",
        "        test.assert_equals(say_hello(['Wallace','Russel','Osbourne'],'Albany','New York'), 'Hello, Wallace Russel Osbourne! Welcome to Albany, New York!')\n",
        "\n",
        "        test.assert_equals(say_hello(['Lupin','the','Third'],'Los Angeles','California'), 'Hello, Lupin the Third! Welcome to Los Angeles, California!')\n",
        "        \n",
        "        test.assert_equals(say_hello(['Marlo','Stanfield'],'Baltimore','Maryland'), 'Hello, Marlo Stanfield! Welcome to Baltimore, Maryland!')"
      ]
    },
    {
      "cell_type": "code",
      "metadata": {
        "id": "2CaUCA7inWQj"
      },
      "source": [
        "#0\n",
        "def say_hello(name, city, state):\n",
        "    if len(name) == 2:\n",
        "        return \"Hello, {} {}! Welcome to {}, {}!\".format(name[0], name[1], city, state)\n",
        "    elif len(name) == 3:\n",
        "        return \"Hello, {} {} {}! Welcome to {}, {}!\".format(name[0], name[1], name[2], city, state)\n",
        "    else:\n",
        "        return \"Hello, {} {} {} {}! Welcome to {}, {}!\".format(name[0], name[1], name[2], name[3], city, state)"
      ],
      "execution_count": null,
      "outputs": []
    },
    {
      "cell_type": "code",
      "metadata": {
        "id": "xO5GMz7PnYsI"
      },
      "source": [
        "#1\n",
        "def say_hello(name, city, state):\n",
        "  return \"Hello, {}! Welcome to {}, {}!\".format(\" \".join(name), city, state)\n",
        "\n",
        "#2\n",
        "def say_hello(name, city, state):\n",
        "    return f\"Hello, {' '.join(name)}! Welcome to {city}, {state}!\"\n",
        "\n",
        "#3\n",
        "def say_hello(name, city, state):\n",
        "    return 'Hello, %s! Welcome to %s, %s!' % (' '.join(name), city, state)\n",
        "\n",
        "#4\n",
        "say_hello = lambda n, c, s: 'Hello, {}! Welcome to {}, {}!'.format(' '.join(n), c, s)\n",
        "\n",
        "#5\n",
        "def say_hello(name, city, state):\n",
        "    name = \" \".join(name)\n",
        "    return \"Hello, %s! Welcome to %s, %s!\" %(name,city,state)"
      ],
      "execution_count": null,
      "outputs": []
    },
    {
      "cell_type": "markdown",
      "metadata": {
        "id": "RMs8tCM2a3au"
      },
      "source": [
        "# Задача 84 (8) repeatIt"
      ]
    },
    {
      "cell_type": "markdown",
      "metadata": {
        "id": "8l7I5qmba44Q"
      },
      "source": [
        "Create a function that takes a string and an integer (n).\n",
        "\n",
        "The function should return a string that repeats the input string n number of times.\n",
        "\n",
        "If anything other than a string is passed in you should return \"Not a string\"\n",
        "\n",
        "Example\n",
        "\n",
        "\"Hi\", 2 --> \"HiHi\"\n",
        "\n",
        "1234, 5 --> \"Not a string\""
      ]
    },
    {
      "cell_type": "code",
      "metadata": {
        "id": "3qT4mFmza5dX"
      },
      "source": [
        "#0\n",
        "def repeat_it(string,n):\n",
        "    if type(string) == str:\n",
        "        return string * n\n",
        "    else:\n",
        "        return \"Not a string\"\n",
        "\n",
        "#1\n",
        "def repeat_it(string,n):\n",
        "    return string * n if type(string) == str else \"Not a string\"\n",
        "\n",
        "#2\n",
        "def repeat_it(string,n):\n",
        "    return string * n if isinstance(string, str) else \"Not a string\"   \n"
      ],
      "execution_count": null,
      "outputs": []
    },
    {
      "cell_type": "code",
      "metadata": {
        "id": "oi-vm1mRbshd"
      },
      "source": [
        "#3\n",
        "repeat_it = lambda s, m: s*m if type(s) is str else \"Not a string\"\n",
        "\n",
        "#4\n",
        "repeat_it = lambda s, m: s*m if isinstance(s, str) else \"Not a string\"\n"
      ],
      "execution_count": null,
      "outputs": []
    },
    {
      "cell_type": "markdown",
      "metadata": {
        "id": "Ed18TY7899hn"
      },
      "source": [
        "# Задача 85(8) A Needle in the Haystack"
      ]
    },
    {
      "cell_type": "markdown",
      "metadata": {
        "id": "amhDeLpv9-kP"
      },
      "source": [
        "Can you find the needle in the haystack?\n",
        "\n",
        "Write a function findNeedle() that takes an array full of junk but containing one \"needle\"\n",
        "\n",
        "After your function finds the needle it should return a message (as a string) that says:\n",
        "\n",
        "\"found the needle at position \" plus the index it found the needle, so:\n",
        "\n",
        "find_needle(['hay', 'junk', 'hay', 'hay', 'moreJunk', 'needle', 'randomJunk'])\n",
        "\n",
        "should return \"found the needle at position 5\""
      ]
    },
    {
      "cell_type": "code",
      "metadata": {
        "id": "EnMCQ0fJ-IFC"
      },
      "source": [
        "#0\n",
        "def find_needle(haystack):\n",
        "    for el, i in enumerate(haystack):\n",
        "        if i == 'needle':\n",
        "            return \"found the needle at position {}\".format(el)"
      ],
      "execution_count": null,
      "outputs": []
    },
    {
      "cell_type": "code",
      "metadata": {
        "id": "3G1jkWCw-OTe"
      },
      "source": [
        "#1 \n",
        "ef find_needle(haystack): return 'found the needle at position %d' % haystack.index('needle')\n",
        "\n",
        "#2\n",
        "def find_needle(haystack):\n",
        "    return \"found the needle at position \" + str(haystack.index(\"needle\"))\n",
        "\n",
        "#3\n",
        "def find_needle(haystack):\n",
        "    return 'found the needle at position {}'.format(haystack.index('needle'))\n",
        "\n",
        "#4\n",
        "def find_needle(haystack):\n",
        "    return 'found the needle at position {position}'.format(position = haystack.index('needle'))\n",
        "\n",
        "#5\n",
        "def find_needle(haystack):\n",
        "    index = haystack.index('needle')\n",
        "    return 'found the needle at position {}'.format(index)\n",
        "\n",
        "#6\n",
        "def find_needle(haystack):\n",
        "    position = 0\n",
        "    for range in haystack:\n",
        "        if (range == 'needle'):\n",
        "            return 'found the needle at position %s' % (position)\n",
        "        else:\n",
        "            position += 1"
      ],
      "execution_count": null,
      "outputs": []
    },
    {
      "cell_type": "markdown",
      "metadata": {
        "id": "gY8NKogCyFjx"
      },
      "source": [
        "# Задача 86(8) They say that only the name is long enough to attract attention. They also said that only a simple Kata will have someone to solve it"
      ]
    },
    {
      "cell_type": "markdown",
      "metadata": {
        "id": "y9TeZySgyGZ8"
      },
      "source": [
        "Give you two strings: s1 and s2. If they are opposite, return true; otherwise, return false. Note: The result should be a boolean value, instead of a string.\n",
        "\n",
        "The opposite means: All letters of the two strings are the same, but the case is opposite. you can assume that the string only contains letters or it's a empty string. Also take note of the edge case - if both strings are empty then you should return false/False.\n",
        "\n",
        "Examples\n",
        "\n",
        "isOpposite(\"ab\",\"AB\") should return true;\n",
        "\n",
        "isOpposite(\"aB\",\"Ab\") should return true;\n",
        "\n",
        "isOpposite(\"aBcd\",\"AbCD\") should return true;\n",
        "\n",
        "isOpposite(\"AB\",\"Ab\") should return false;\n",
        "\n",
        "isOpposite(\"\",\"\") should return false;"
      ]
    },
    {
      "cell_type": "code",
      "metadata": {
        "id": "miQ5zEQtyG-m"
      },
      "source": [
        "#0\n",
        "def is_opposite(s1,s2):\n",
        "    if s1 == \"\" and s2 == \"\":\n",
        "        return False\n",
        "    for i in range(len(s1)):\n",
        "        if s1[i] == s2[i]:\n",
        "            return False\n",
        "    return True"
      ],
      "execution_count": null,
      "outputs": []
    },
    {
      "cell_type": "code",
      "metadata": {
        "id": "--qt8lz_ygFx"
      },
      "source": [
        "#1\n",
        "def is_opposite(s1, s2):\n",
        "    return False if not(s1 or s2) else s1.swapcase() == s2\n",
        "\n",
        "#2\n",
        "def is_opposite(s1,s2):\n",
        "    return s1!=\"\" and s1.swapcase() == s2\n",
        "\n",
        "#3\n",
        "def is_opposite(s1,s2):\n",
        "    return s1 == s2.swapcase() if s1 else False\n",
        "\n",
        "#4\n",
        "def is_opposite(s1,s2):\n",
        "  if s1.swapcase() == s2 and s1 != \"\":\n",
        "    return True\n",
        "  else:\n",
        "    return False\n",
        "\n",
        "#5\n",
        "def is_opposite(s1, s2):\n",
        "    if len(s1) == 0 or len(s2) == 0:\n",
        "        return False\n",
        "    for i in range(len(s1)):\n",
        "        if s1[i].swapcase() == s2[i]:\n",
        "            return True\n",
        "        else:\n",
        "            return False\n",
        "\n",
        "#6\n",
        "def is_opposite(s1,s2):\n",
        "  return s2 == ''.join(i.lower() if i.isupper() else i.upper() for i in s1) and s1 != \"\"\n"
      ],
      "execution_count": null,
      "outputs": []
    },
    {
      "cell_type": "markdown",
      "metadata": {
        "id": "LPW9SXbvmU3g"
      },
      "source": [
        "# Задача 87(8) Heads and Legs"
      ]
    },
    {
      "cell_type": "markdown",
      "metadata": {
        "id": "g0dGROCrmVQN"
      },
      "source": [
        "Description\n",
        "\n",
        "Everybody has probably heard of the animal heads and legs problem from the earlier years at school. It goes:\n",
        "\n",
        "“A farm contains chickens and cows. There are x heads and y legs. How many chickens and cows are there?”\n",
        "\n",
        "Where x <= 1000 and y <=1000\n",
        "\n",
        "Task\n",
        "\n",
        "Assuming there are no other types of animals, work out how many of each animal are there.\n",
        "\n",
        "Return a tuple in Python - (chickens, cows) and an array list - [chickens, cows]/{chickens, cows} in all other languages\n",
        "\n",
        "If either the heads & legs is negative, the result of your calculation is negative or the calculation is a float return \"No solutions\" (no valid cases).\n",
        "\n",
        "In the form:\n",
        "\n",
        "(Heads, Legs) = (72, 200)\n",
        "\n",
        "VALID - (72, 200) =>             (44 , 28) \n",
        "                             (Chickens, Cows)\n",
        "\n",
        "INVALID - (72, 201) => \"No solutions\"\n",
        "However, if 0 heads and 0 legs are given always return [0, 0] since zero heads must give zero animals.\n",
        "\n",
        "There are many different ways to solve this, but they all give the same answer.\n",
        "\n",
        "You will only be given integers types - however negative values (edge cases) will be given.\n",
        "\n",
        "Happy coding!\n",
        "\n",
        "\n",
        "est.describe(\"Valid number of animals\")\n",
        "Test.assert_equals(animals(72, 200), (44, 28))\n",
        "Test.assert_equals(animals(116, 282), (91, 25))\n",
        "Test.assert_equals(animals(12, 24), (12, 0))\n",
        "Test.assert_equals(animals(6, 24), (0, 6))\n",
        "Test.assert_equals(animals(344, 872), (252, 92))\n",
        "Test.assert_equals(animals(158, 616), (8, 150))\n",
        "\n",
        "\n",
        "Test.describe(\"Invalid number of animals\")\n",
        "Test.assert_equals(animals(25, 555), \"No solutions\")\n",
        "Test.assert_equals(animals(12, 25), \"No solutions\")\n",
        "Test.assert_equals(animals(54, 956), \"No solutions\")\n",
        "Test.assert_equals(animals(5455, 54956), \"No solutions\")\n",
        "\n",
        "\n",
        "Test.describe(\"Edge cases\")\n",
        "Test.assert_equals(animals(0, 0), (0, 0))\n",
        "Test.assert_equals(animals(-1, -1), \"No solutions\")\n",
        "Test.assert_equals(animals(500, 0), \"No solutions\")\n",
        "Test.assert_equals(animals(0, 500), \"No solutions\")\n",
        "Test.assert_equals(animals(-45, 5), \"No solutions\")\n",
        "Test.assert_equals(animals(5, -55), \"No solutions\")"
      ]
    },
    {
      "cell_type": "code",
      "metadata": {
        "id": "SaLpTOIhmVxR"
      },
      "source": [
        "#0\n",
        "def animals(heads, legs):\n",
        "    if heads == 0 and legs == 0:\n",
        "        return (0, 0)\n",
        "    elif heads == 0 or legs == 0:\n",
        "        return \"No solutions\"\n",
        "    elif heads < 0 or legs < 0:\n",
        "        return \"No solutions\"\n",
        "    elif legs % 2 != 0:\n",
        "        return \"No solutions\"\n",
        "    elif legs // 4 > heads:\n",
        "        return \"No solutions\"\n",
        "    elif heads > legs:\n",
        "        return \"No solutions\"\n",
        "    \n",
        "    y = (legs - 2*heads) / 2 \n",
        "    if y < 0:\n",
        "        return \"No solutions\"\n",
        "    x = heads - y\n",
        "    \n",
        "    return (x,y)\n",
        "    #return (Chickens, Cows)"
      ],
      "execution_count": null,
      "outputs": []
    },
    {
      "cell_type": "code",
      "metadata": {
        "id": "6L1Xm55C_0Z_"
      },
      "source": [
        "#1\n",
        "def animals(heads, legs):\n",
        "    chickens, cows = 2*heads-legs/2, legs/2-heads\n",
        "    if chickens < 0 or cows < 0 or not chickens == int(chickens) or not cows == int(cows):\n",
        "        return \"No solutions\"\n",
        "    return chickens, cows\n",
        "\n",
        "#2\n",
        "def animals(heads, legs):\n",
        "    chickens = heads * 2 - legs / 2\n",
        "    cows = heads - chickens\n",
        "    if chickens < 0 or cows < 0 or chickens != int(chickens):\n",
        "        return \"No solutions\"\n",
        "    return (chickens, cows)\n",
        "\n",
        "#3\n",
        "def animals(heads, legs):\n",
        "    solution = (2 * heads - legs/2, legs/2 - heads)\n",
        "    return solution if legs % 2 == 0 and solution[0] >= 0 and solution[1] >= 0 else \"No solutions\"\n",
        "\n",
        "#4\n",
        "def animals(heads, legs):\n",
        "    cows = (legs-2*heads)/2\n",
        "    chicken = heads - cows\n",
        "    return ((chicken, cows) if cows == int(cows) and cows>=0 and chicken >=0 else \"No solutions\")\n",
        "\n",
        "#5\n",
        "def animals(heads, legs):\n",
        "    if heads == 0 and legs == 0:\n",
        "        return (0, 0)\n",
        "    if legs%2:\n",
        "        return \"No solutions\"\n",
        "    \n",
        "    y = (legs-2*heads)/2\n",
        "    if int(y) != y or heads-y < 0 or y < 0:\n",
        "        return \"No solutions\"\n",
        "    else:\n",
        "        return (heads-y, y)\n",
        "\n",
        "#6\n",
        "def animals(h,l):\n",
        "    co = (l-2*h)/2   #amount of cows\n",
        "    ch = h-co        #amount of chickens\n",
        "    return(\"No solutions\" if co.is_integer() == False else ((h-co,co) if (co<0 or ch<0) == False else \"No solutions\"))\n",
        "\n",
        "#7\n"
      ],
      "execution_count": null,
      "outputs": []
    },
    {
      "cell_type": "markdown",
      "metadata": {
        "id": "EsKGqWfGw2F5"
      },
      "source": [
        "# Задача 88(8) Duck Duck Goose"
      ]
    },
    {
      "cell_type": "markdown",
      "metadata": {
        "id": "MuhbA8L7w2ag"
      },
      "source": [
        "The objective of Duck, duck, goose is to walk in a circle, tapping on each player's head until one is chosen.\n",
        "\n",
        "Task: Given an array of Player objects (an array of associative arrays in PHP) and an index (1-based), return the name of the chosen Player(name is a property of Player objects, e.g Player.name)\n",
        "\n",
        "Example:\n",
        "\n",
        "duck_duck_goose([a, b, c, d], 1) should return a.name\n",
        "\n",
        "duck_duck_goose([a, b, c, d], 5) should return a.name\n",
        "\n",
        "duck_duck_goose([a, b, c, d], 4) should return d.name"
      ]
    },
    {
      "cell_type": "code",
      "metadata": {
        "id": "KeYjfxnhw3XB"
      },
      "source": [
        "#0 \n",
        "def duck_duck_goose(players, goose):\n",
        "    \n",
        "    x = goose // len(players)\n",
        "    y = x * len(players)\n",
        "    z = goose - y \n",
        "    \n",
        "    if len(players) >= goose:\n",
        "        return players[goose-1].name\n",
        "    else:\n",
        "        return players[z-1].name\n",
        "\n",
        "#1 Сократить\n",
        "def duck_duck_goose(players, goose):\n",
        "    if len(players) >= goose:\n",
        "        return players[goose-1].name\n",
        "    else:\n",
        "        return players[goose - ((goose // len(players)) * len(players))-1].name"
      ],
      "execution_count": null,
      "outputs": []
    },
    {
      "cell_type": "code",
      "metadata": {
        "id": "lXk6rZuoxC49"
      },
      "source": [
        "#2\n",
        "def duck_duck_goose(players, goose):\n",
        "    return players[(goose % len(players)) - 1].name\n",
        "\n",
        "\n",
        "#3\n",
        "def duck_duck_goose(players, goose):\n",
        "  idx = (goose-1) % len(players)\n",
        "  return players[idx].name\n"
      ],
      "execution_count": null,
      "outputs": []
    },
    {
      "cell_type": "markdown",
      "metadata": {
        "id": "BMRp0v5ngNLa"
      },
      "source": [
        "# Задача 89(8) Draw stairs"
      ]
    },
    {
      "cell_type": "markdown",
      "metadata": {
        "id": "W0u_qWE8gNu3"
      },
      "source": [
        "Given a number n, draw stairs using the letter \"I\", n tall and n wide, with the tallest in the top left.\n",
        "\n",
        "For example n = 3 result in:\n",
        "\n",
        "\"I\\n I\\n  I\"\n",
        "\n",
        "or printed:\n",
        "\n",
        "I\n",
        "  I\n",
        "    I"
      ]
    },
    {
      "cell_type": "code",
      "metadata": {
        "id": "6Ge_o0gHgRVL"
      },
      "source": [
        "#0\n",
        "def draw_stairs(n):\n",
        "    i = 0\n",
        "    a = []\n",
        "    while i!=n:\n",
        "        a.append(\"I\\n\" + \" \"*i)\n",
        "        i += 1\n",
        "    \n",
        "    a = a[:-1]\n",
        "    a.append('I')\n",
        "    a = \" \".join(a)\n",
        "\n",
        "    return a\n",
        "  "
      ],
      "execution_count": null,
      "outputs": []
    },
    {
      "cell_type": "code",
      "metadata": {
        "colab": {
          "base_uri": "https://localhost:8080/",
          "height": 35
        },
        "id": "ko8KNMkegyTO",
        "outputId": "774d5f41-fde2-4c93-fddb-2b4398ea6c89"
      },
      "source": [
        "#1\n",
        "def draw_stairs(n):\n",
        "    return '\\n'.join(' '*i+'I' for i in range(n))\n",
        "\n",
        "#2\n",
        "def draw_stairs(n):\n",
        "  return '\\n'.join('I'.rjust(i + 1) for i in range(n))\n",
        "\n",
        "#3\n",
        "def draw_stairs(n):\n",
        "    count = 1\n",
        "    res = \"\"\n",
        "    while count < n:\n",
        "        res += \"I\\n\" + \" \" * count\n",
        "        count += 1\n",
        "    res += \"I\"\n",
        "    return res\n",
        "\n",
        "#4\n",
        "def draw_stairs(n):\n",
        "    return '\\n'.join(f'{\" \" * i}I' for i in range(n))\n",
        "\n",
        "#5\n",
        "draw_stairs = lambda n: '\\n'.join([\"{}I\".format(\" \"*e) for e in range(n)])\n",
        "\n",
        "#6\n",
        "def draw_stairs(n):\n",
        "    x = \"\"\n",
        "    for i in range(n):\n",
        "        x += \" \" * i + \"I\" \n",
        "        if i < n-1:\n",
        "            x += '\\n'\n",
        "    return x"
      ],
      "execution_count": null,
      "outputs": [
        {
          "output_type": "execute_result",
          "data": {
            "application/vnd.google.colaboratory.intrinsic+json": {
              "type": "string"
            },
            "text/plain": [
              "'I\\n I\\n  I\\n   I\\n    I'"
            ]
          },
          "metadata": {
            "tags": []
          },
          "execution_count": 1
        }
      ]
    },
    {
      "cell_type": "markdown",
      "metadata": {
        "id": "IqYGdWtd7XT5"
      },
      "source": [
        "# Задача 90(8) Pillars"
      ]
    },
    {
      "cell_type": "markdown",
      "metadata": {
        "id": "QP908te37XuM"
      },
      "source": [
        "There are pillars near the road. The distance between the pillars is the same and the width of the pillars is the same. Your function accepts three arguments:\n",
        "\n",
        "number of pillars (≥ 1);\n",
        "\n",
        "distance between pillars (10 - 30 meters);\n",
        "\n",
        "width of the pillar (10 - 50 centimeters).\n",
        "\n",
        "Calculate the distance between the first and the last pillar in centimeters (without the width of the first and last pillar).\n",
        "\n",
        "\n",
        "Test.assert_equals(pillars(1, 10, 10) , 0)\n",
        "\n",
        "Test.assert_equals(pillars(2, 20, 25) , 2000)\n",
        "\n",
        "Test.assert_equals(pillars(11, 15, 30) , 15270)"
      ]
    },
    {
      "cell_type": "code",
      "metadata": {
        "id": "iE9zxxvK7YaM"
      },
      "source": [
        "#0\n",
        "def pillars(num_pill, dist, width):\n",
        "    dist = dist * 100\n",
        "    if num_pill == 1:\n",
        "        return 0\n",
        "    elif num_pill == 2:\n",
        "        return dist\n",
        "    \n",
        "    return (num_pill-1) * dist + width*(num_pill-2)"
      ],
      "execution_count": null,
      "outputs": []
    },
    {
      "cell_type": "code",
      "metadata": {
        "id": "rRYouD077mkN"
      },
      "source": [
        "#1\n",
        "def pillars(num_pill, dist, width):\n",
        "    return dist * 100 * (num_pill - 1) + width * (num_pill - 2) * (num_pill > 1)\n",
        "\n",
        "\n",
        "#2\n",
        "def pillars(num_pill, dist, width):\n",
        "    if num_pill <= 1:\n",
        "        return 0\n",
        "    else:\n",
        "        return (num_pill-2)*width + (num_pill-1)*dist*100\n",
        "\n",
        "#3\n",
        "def pillars(n, dist, width):\n",
        "    return (n-1) * dist * 100 + max(n-2, 0) * width\n",
        "\n",
        "#4\n",
        "def pillars(n,d,w):\n",
        "    return max((n-1) * d * 100 + (n-2) * w, 0)\n",
        "\n",
        "#5\n",
        "def pillars(num_pill, dist, width):\n",
        "    return dist * 100 * (num_pill - 1) + ((num_pill - 2) * width) if num_pill > 1 else 0\n",
        "    "
      ],
      "execution_count": null,
      "outputs": []
    },
    {
      "cell_type": "markdown",
      "metadata": {
        "id": "H3Qvk-7ivLCo"
      },
      "source": [
        "# Задача 91(7) It is written in the stars"
      ]
    },
    {
      "cell_type": "code",
      "metadata": {
        "id": "MD3mzfufO22-"
      },
      "source": [
        "Were you ever interested in the phenomena of astrology, star signs, tarot, voodoo ? (ok not voodoo that's too spooky)...\n",
        "Task:\n",
        "Your job for today is to finish the starSign function by finding the astrological sign, given the birth details as a Date object.\n",
        "Start and end dates for zodiac signs vary on different resources so we will use this table to get consistent results:\n",
        "\n",
        "Aquarius ------ 21 January - 19 February\n",
        "Pisces --------- 20 February - 20 March\n",
        "Aries ---------- 21 March - 20 April\n",
        "Taurus -------- 21 April - 21 May\n",
        "Gemini -------- 22 May - 21 June\n",
        "Cancer -------- 22 June - 22 July\n",
        "Leo ------------- 23 July - 23 August\n",
        "Virgo ----------- 24 August - 23 September\n",
        "Libra ----------- 24 September - 23 October\n",
        "Scorpio -------- 24 October - 22 November\n",
        "Sagittarius ---- 23 November - 21 December\n",
        "Capricorn ----- 22 December - 20 January\n",
        "\n",
        "Test info: 100 random tests (dates range from January 1st 1940 until now)"
      ],
      "execution_count": null,
      "outputs": []
    },
    {
      "cell_type": "code",
      "metadata": {
        "id": "hM43FZqfvDio"
      },
      "source": [
        "#0\n",
        "import datetime\n",
        "\n",
        "def star_sign(d): \n",
        "    if (d.month == 1 and d.day >= 21) or (d.month == 2 and d.day <= 19):\n",
        "        return 'Aquarius'\n",
        "    elif (d.month == 2 and d.day >= 20) or (d.month == 3 and d.day <= 20):\n",
        "        return 'Pisces'\n",
        "    elif (d.month == 3 and d.day >= 21) or (d.month == 4 and d.day <= 20):\n",
        "        return 'Aries'\n",
        "    elif (d.month == 4 and d.day >= 21) or (d.month == 5 and d.day <= 21):\n",
        "        return 'Taurus'\n",
        "    elif (d.month == 5 and d.day >= 22) or (d.month == 6 and d.day <= 21):\n",
        "        return 'Gemini'\n",
        "    elif (d.month == 6 and d.day >= 22) or (d.month == 7 and d.day <= 22):\n",
        "        return 'Cancer'\n",
        "    elif (d.month == 7 and d.day >= 23) or (d.month == 8 and d.day <= 23):\n",
        "        return 'Leo'\n",
        "    elif (d.month == 8 and d.day >= 24) or (d.month == 9 and d.day <= 23):\n",
        "        return 'Virgo'\n",
        "    elif (d.month == 9 and d.day >= 24) or (d.month == 10 and d.day <= 23):\n",
        "        return 'Libra'\n",
        "    elif (d.month == 10 and d.day >= 24) or (d.month == 11 and d.day <= 22):\n",
        "        return 'Scorpio'\n",
        "    elif (d.month == 11 and d.day >= 23) or (d.month == 12 and d.day <= 21):\n",
        "        return 'Sagittarius'\n",
        "    elif (d.month == 12 and d.day >= 22) or (d.month == 1 and d.day <= 20):\n",
        "        return 'Capricorn'"
      ],
      "execution_count": null,
      "outputs": []
    },
    {
      "cell_type": "code",
      "metadata": {
        "id": "g0qLW6yjvSJh"
      },
      "source": [
        "#1\n",
        "from datetime import date\n",
        "def star_sign(d): \n",
        "    m=d.month-1; d=d.day\n",
        "    if m==2: s=('Pisces','Aries')[d>20]\n",
        "    elif m==3: s=('Aries','Taurus')[d>20]\n",
        "    elif m==4: s=('Taurus','Gemini')[d>21]\n",
        "    elif m==5: s=('Gemini','Cancer')[d>21]\n",
        "    elif m==6: s=('Cancer','Leo')[d>22]\n",
        "    elif m==7: s=('Leo','Virgo')[d>23]\n",
        "    elif m==8: s=('Virgo','Libra')[d>23]\n",
        "    elif m==9: s=('Libra','Scorpio')[d>23]\n",
        "    elif m==10: s=('Scorpio','Sagittarius')[d>22]\n",
        "    elif m==11: s=('Sagittarius','Capricorn')[d>21]\n",
        "    elif m==1: s=('Aquarius','Pisces')[d>19]\n",
        "    else: s=('Capricorn','Aquarius')[d>20]\n",
        "    return s\n",
        "\n",
        "#2\n",
        "import datetime\n",
        "def star_sign(date):\n",
        "    if date < datetime.date(date.year,1,21):\n",
        "        return 'Capricorn'\n",
        "    if date < datetime.date(date.year,2,20):\n",
        "        return 'Aquarius'\n",
        "    if date < datetime.date(date.year,3,21):\n",
        "        return 'Pisces'\n",
        "    if date < datetime.date(date.year,4,21):\n",
        "        return 'Aries'\n",
        "    if date < datetime.date(date.year,5,22):\n",
        "        return 'Taurus'\n",
        "    if date < datetime.date(date.year,6,22):\n",
        "        return 'Gemini'\n",
        "    if date < datetime.date(date.year,7,23):\n",
        "        return 'Cancer'\n",
        "    if date < datetime.date(date.year,8,24):\n",
        "        return 'Leo'\n",
        "    if date < datetime.date(date.year,9,24):\n",
        "        return 'Virgo'\n",
        "    if date < datetime.date(date.year,10,24):\n",
        "        return 'Libra'\n",
        "    if date < datetime.date(date.year,11,23):\n",
        "        return 'Scorpio'\n",
        "    if date < datetime.date(date.year,12,22):\n",
        "        return 'Sagittarius'\n",
        "    return 'Capricorn'\n",
        "\n",
        "#3\n",
        "def star_sign(date): \n",
        "    # your code here\n",
        "    star={\"Aquarius\":[21,19,1,2],\"Pisces\":[20,20,2,3],\"Aries\":[21,20,3,4],\"Taurus\":[21,21,4,5],\n",
        "     \"Gemini\":[22,21,5,6], \"Cancer\":[22,22,6,7] ,\"Leo\":[23,23,7,8], \"Virgo\":[24,23,8,9], \"Libra\":[24,23,9,10],\n",
        "     \"Scorpio\":[24,22,10,11], \"Sagittarius\" :[23,21,11,12],\"Capricorn\":[22,20,12,1]\n",
        "    \n",
        "    }\n",
        "    \n",
        "    for key,val in star.items():\n",
        "        if ( val[2]==date.month and date.day >= val[0] ) or ((val[3]==date.month) and (date.day <= val[1])):\n",
        "            return key\n",
        "\n",
        "#4\n",
        "def star_sign(date): \n",
        "    if date.month == 1:\n",
        "        return 'Capricorn' if date.day < 21 else 'Aquarius'\n",
        "    elif date.month == 2:\n",
        "        return 'Aquarius' if date.day < 20 else 'Pisces'\n",
        "    elif date.month == 3:\n",
        "        return 'Pisces' if date.day < 21 else 'Aries'\n",
        "    elif date.month == 4:\n",
        "        return 'Aries' if date.day < 21 else 'Taurus'\n",
        "    elif date.month == 5:\n",
        "        return 'Taurus' if date.day < 22 else 'Gemini'\n",
        "    elif date.month == 6:\n",
        "        return 'Gemini' if date.day < 22 else 'Cancer'\n",
        "    elif date.month == 7:\n",
        "        return 'Cancer' if date.day < 23 else 'Leo'\n",
        "    elif date.month == 8:\n",
        "        return 'Leo' if date.day < 24 else 'Virgo'\n",
        "    elif date.month == 9:\n",
        "        return 'Virgo' if date.day < 24 else 'Libra'\n",
        "    elif date.month == 10:\n",
        "        return 'Libra' if date.day < 24 else 'Scorpio'\n",
        "    elif date.month == 11:\n",
        "        return 'Scorpio' if date.day < 23 else 'Sagittarius'\n",
        "    elif date.month == 12:\n",
        "        return 'Sagittarius' if date.day < 22 else 'Capricorn'\n",
        "\n",
        "\n",
        "#5\n",
        "import datetime\n",
        "\n",
        "def star_sign(date): \n",
        "    zodict = {\n",
        "datetime.date(date.year, 1, 20): 'Capricorn',\n",
        "datetime.date(date.year, 2, 19): 'Aquarius',\n",
        "datetime.date(date.year, 3, 20) : 'Pisces',\n",
        "datetime.date(date.year, 4, 20) : 'Aries',\n",
        "datetime.date(date.year, 5, 21) : 'Taurus',\n",
        "datetime.date(date.year, 6, 21) : 'Gemini',\n",
        "datetime.date(date.year, 7, 22) : 'Cancer',\n",
        "datetime.date(date.year, 8, 23) : 'Leo',\n",
        "datetime.date(date.year, 9, 23) : 'Virgo',\n",
        "datetime.date(date.year, 10, 23) : 'Libra',\n",
        "datetime.date(date.year, 11, 22) : 'Scorpio',\n",
        "datetime.date(date.year, 12, 21) : 'Sagittarius',\n",
        "datetime.date(date.year, 12, 31) : 'Capricorn'}\n",
        "    \n",
        "    for boundry_date in zodict.keys():\n",
        "        if date <= boundry_date:\n",
        "            return zodict[boundry_date]\n"
      ],
      "execution_count": null,
      "outputs": []
    },
    {
      "cell_type": "markdown",
      "metadata": {
        "id": "rZ3lhfU43RnJ"
      },
      "source": [
        "# Задача 92(7) Ones and Zeros (Из двоичной в десятичную)\n"
      ]
    },
    {
      "cell_type": "markdown",
      "metadata": {
        "id": "vAIUSJYi3SE-"
      },
      "source": [
        "Given an array of ones and zeroes, convert the equivalent binary value to an integer.\n",
        "\n",
        "Eg: [0, 0, 0, 1] is treated as 0001 which is the binary representation of 1.\n",
        "\n",
        "Examples:\n",
        "\n",
        "Testing: [0, 0, 0, 1] ==> 1\n",
        "\n",
        "Testing: [0, 0, 1, 0] ==> 2\n",
        "\n",
        "Testing: [0, 1, 0, 1] ==> 5\n",
        "\n",
        "Testing: [1, 0, 0, 1] ==> 9\n",
        "\n",
        "Testing: [0, 0, 1, 0] ==> 2\n",
        "\n",
        "Testing: [0, 1, 1, 0] ==> 6\n",
        "\n",
        "Testing: [1, 1, 1, 1] ==> 15\n",
        "\n",
        "Testing: [1, 0, 1, 1] ==> 11\n",
        "\n",
        "However, the arrays can have varying lengths, not just limited to 4."
      ]
    },
    {
      "cell_type": "code",
      "metadata": {
        "id": "YpV9Ax5n3amZ"
      },
      "source": [
        "#0\n",
        "def binary_array_to_number(arr):\n",
        "    return int(\"\".join(map(str, arr)),2)"
      ],
      "execution_count": null,
      "outputs": []
    },
    {
      "cell_type": "code",
      "metadata": {
        "id": "-c0hQ7tj3hdS"
      },
      "source": [
        "#1\n",
        "def binary_array_to_number(arr):\n",
        "    return int(''.join(str(a) for a in arr), 2)\n",
        "\n",
        "#2\n",
        "def binary_array_to_number(arr):\n",
        "    s = 0\n",
        "    for digit in arr:\n",
        "        s = s * 2 + digit\n",
        "\n",
        "    return s\n",
        "\n",
        "#3\n",
        "def binary_array_to_number(arr):\n",
        "    return sum(digit * 2**i for i, digit in enumerate(reversed(arr)))\n",
        "\n",
        "\n",
        "#4\n",
        "def binary_array_to_number(arr):\n",
        "  return sum( 2**i for i, n in enumerate( arr[ ::-1 ] ) if n )\n",
        "\n",
        "#5\n",
        "def binary_array_to_number(arr):\n",
        "    append_bit = lambda n, b: n << 1 | b\n",
        "    return reduce(append_bit, arr)\n",
        "\n",
        "#6\n",
        "from functools import reduce\n",
        "\n",
        "def binary_array_to_number(a):\n",
        "    return reduce(lambda t,b:t*2+b,a)\n",
        "    \n"
      ],
      "execution_count": null,
      "outputs": []
    },
    {
      "cell_type": "markdown",
      "metadata": {
        "id": "ocI4ySJy_PfW"
      },
      "source": [
        "# Задача 93(8) Geometry Basics: Distance between points in 2D"
      ]
    },
    {
      "cell_type": "markdown",
      "metadata": {
        "id": "8nJ6SMmm_P6d"
      },
      "source": [
        "This series of katas will introduce you to basics of doing geometry with computers.\n",
        "\n",
        "Point objects have x and y attributes (X and Y in C#) attributes.\n",
        "\n",
        "Write a function calculating distance between Point a and Point b.\n",
        "\n",
        "Tests round answers to 6 decimal places."
      ]
    },
    {
      "cell_type": "code",
      "metadata": {
        "id": "cPAE-U4X_Ou8"
      },
      "source": [
        "#0\n",
        "from math import sqrt\n",
        "\n",
        "def distance_between_points(a, b):\n",
        "    return round(sqrt((a.x-b.x)**2 +(a.y-b.y)**2),6)"
      ],
      "execution_count": null,
      "outputs": []
    },
    {
      "cell_type": "code",
      "metadata": {
        "id": "w-89B6RC_e5s"
      },
      "source": [
        "#1\n",
        "from math import hypot\n",
        "\n",
        "def distance_between_points(a, b):\n",
        "    return hypot(a.x - b.x, a.y - b.y)\n",
        "\n",
        "\n",
        "#2\n",
        "def distance_between_points(a, b):\n",
        "    return ((b.x - a.x) ** 2 + (b.y - a.y) ** 2) ** 0.5\n",
        "\n",
        "#3\n",
        "import math\n",
        "def distance_between_points(a, b):\n",
        "    return math.sqrt((math.pow(a.x-b.x, 2) + math.pow(a.y-b.y, 2)))\n",
        "\n",
        "#4\n",
        "def distance_between_points(a, b):\n",
        "    return round(sum( (d-c)**2 for c,d in zip((a.x, a.y), (b.x, b.y)))**.5, 6)\n",
        "\n",
        "#5\n",
        "def distance_between_points(a, b):\n",
        "    return (abs(a.x - b.x) **  2 + abs(a.y - b.y) ** 2) ** .5\n",
        "    "
      ],
      "execution_count": null,
      "outputs": []
    },
    {
      "cell_type": "markdown",
      "metadata": {
        "id": "pEFjUV32JSKX"
      },
      "source": [
        "# Задача 94(8) Invert values"
      ]
    },
    {
      "cell_type": "markdown",
      "metadata": {
        "id": "3R-rPrx0JSsS"
      },
      "source": [
        "Given a set of numbers, return the additive inverse of each. Each positive becomes negatives, and the negatives become positives.\n",
        "\n",
        "invert([1,2,3,4,5]) == [-1,-2,-3,-4,-5]\n",
        "\n",
        "invert([1,-2,3,-4,5]) == [-1,2,-3,4,-5]\n",
        "\n",
        "invert([]) == []\n",
        "\n",
        "You can assume that all values are integers. Do not mutate the input array/list."
      ]
    },
    {
      "cell_type": "code",
      "metadata": {
        "id": "n0fQ3Jt6JU8p"
      },
      "source": [
        "#0\n",
        "def invert(lst):\n",
        "    return [i*-1 for i in lst]"
      ],
      "execution_count": null,
      "outputs": []
    },
    {
      "cell_type": "code",
      "metadata": {
        "id": "RSBgrUR_JVV_"
      },
      "source": [
        "#1\n",
        "def invert(lst):\n",
        "    return [-x for x in lst]\n",
        "\n",
        "#2\n",
        "def invert(lst):\n",
        "    return list(map(lambda x: -x, lst))\n",
        "    \n",
        "#3\n",
        "def invert(lst):\n",
        "    i = 0\n",
        "    inv = []\n",
        "    while i < len(lst):\n",
        "        inv.append(lst[i] * -1)\n",
        "        i += 1\n",
        "    return inv\n"
      ],
      "execution_count": null,
      "outputs": []
    },
    {
      "cell_type": "markdown",
      "metadata": {
        "id": "qk-04cYqubjF"
      },
      "source": [
        "# Задача 95(6) Sums of Parts"
      ]
    },
    {
      "cell_type": "markdown",
      "metadata": {
        "id": "wKke2w0eua_i"
      },
      "source": [
        "Let us consider this example (array written in general format):\n",
        "\n",
        "ls = [0, 1, 3, 6, 10]\n",
        "\n",
        "Its following parts:\n",
        "\n",
        "ls = [0, 1, 3, 6, 10]\n",
        "\n",
        "ls = [1, 3, 6, 10]\n",
        "\n",
        "ls = [3, 6, 10]\n",
        "\n",
        "ls = [6, 10]\n",
        "\n",
        "ls = [10]\n",
        "\n",
        "ls = []\n",
        "\n",
        "The corresponding sums are (put together in a list): [20, 20, 19, 16, 10, 0]\n",
        "\n",
        "The function parts_sums (or its variants in other languages) will take as parameter a list ls and return a list of the sums of its parts as defined above.\n",
        "\n",
        "Other Examples:\n",
        "\n",
        "ls = [1, 2, 3, 4, 5, 6] \n",
        "\n",
        "parts_sums(ls) -> [21, 20, 18, 15, 11, 6, 0]\n",
        "\n",
        "ls = [744125, 935, 407, 454, 430, 90, 144, 6710213, 889, 810, 2579358]\n",
        "\n",
        "parts_sums(ls) -> [10037855, 9293730, 9292795, 9292388, 9291934, 9291504, 9291414, 9291270, 2581057, 2580168, 2579358, 0]\n",
        "\n",
        "Notes\n",
        "Take a look at performance: some lists have thousands of elements.\n",
        "Please ask before translating."
      ]
    },
    {
      "cell_type": "code",
      "metadata": {
        "id": "rr_BIMNnuZtK",
        "colab": {
          "base_uri": "https://localhost:8080/"
        },
        "outputId": "8270b220-ef58-4b61-d656-0175aa18d0ac"
      },
      "source": [
        "#0    НЕ РАБОТАЕТ НА БОЛЬШИХ СПИСКАХ !!!!!!!!\n",
        "def parts_sums(ls):\n",
        "    lst = []\n",
        "\n",
        "    for i in ls:\n",
        "        lst.append(sum(ls))\n",
        "        ls = ls[1:]\n",
        "        \n",
        "    lst.append(0)\n",
        "    return lst\n",
        "\n",
        "\n",
        "l = [0, 1, 3, 6, 10]\n",
        "parts_sums(l) \n"
      ],
      "execution_count": 1,
      "outputs": [
        {
          "output_type": "execute_result",
          "data": {
            "text/plain": [
              "[20, 20, 19, 16, 10, 0]"
            ]
          },
          "metadata": {
            "tags": []
          },
          "execution_count": 1
        }
      ]
    },
    {
      "cell_type": "code",
      "metadata": {
        "id": "u7HW2133_sxu"
      },
      "source": [
        "#1 \n",
        "def parts_sums(ls):\n",
        "    result = [sum(ls)]\n",
        "    for item in ls:\n",
        "        result.append(result[-1]-item)\n",
        "    return result\n",
        "\n",
        "#2\n",
        "from itertools import accumulate\n",
        "\n",
        "def parts_sums(ls):\n",
        "    return [0, *accumulate(reversed(ls))][::-1]\n",
        "\n",
        "#3\n",
        "from itertools import accumulate\n",
        "\n",
        "def parts_sums(ls):\n",
        "    return list(accumulate(ls[::-1]))[::-1]+[0]\n",
        "\n",
        "#4\n",
        "from itertools import accumulate\n",
        "\n",
        "def parts_sums(lst):\n",
        "    s = sum(lst)\n",
        "    return [s, *(s-v for v in accumulate(lst))]\n",
        "\n",
        "#5\n",
        "from itertools import accumulate\n",
        "\n",
        "def parts_sums(ls):\n",
        "    return list(accumulate(reversed(ls+[0])))[::-1]\n",
        "\n",
        "#6\n",
        "def parts_sums(ls):\n",
        "    arr = [0]\n",
        "    for d in ls[::-1]:\n",
        "        arr += [d+arr[-1]]\n",
        "    return arr[::-1]\n",
        "\n",
        "#7\n",
        "def parts_sums(ls):\n",
        "    result = []\n",
        "    summ = sum(ls)\n",
        "    for q in ls:\n",
        "        result.append(summ)\n",
        "        summ -= q\n",
        "    return result + [0]\n",
        "\n"
      ],
      "execution_count": null,
      "outputs": []
    },
    {
      "cell_type": "markdown",
      "metadata": {
        "id": "Tl-2fht9xExE"
      },
      "source": [
        "# Задача 96(7) Count the Digit"
      ]
    },
    {
      "cell_type": "markdown",
      "metadata": {
        "id": "-1uXi-V4xLJo"
      },
      "source": [
        "Take an integer n (n >= 0) and a digit d (0 <= d <= 9) as an integer. Square all numbers k (0 <= k <= n) between 0 and n. Count the numbers of digits d used in the writing of all the k**2. Call nb_dig (or nbDig or ...) the function taking n and d as parameters and returning this count.\n",
        "\n",
        "Examples:\n",
        "n = 10, d = 1, the k*k are 0, 1, 4, 9, 16, 25, 36, 49, 64, 81, 100\n",
        "\n",
        "We are using the digit 1 in 1, 16, 81, 100. The total count is then 4.\n",
        "\n",
        "nb_dig(25, 1):\n",
        "the numbers of interest are\n",
        "\n",
        "1, 4, 9, 10, 11, 12, 13, 14, 19, 21 which squared are 1, 16, 81, 100, 121, 144, 169, 196, 361, 441\n",
        "\n",
        "so there are 11 digits `1` for the squares of numbers between 0 and 25.\n",
        "\n",
        "Note that 121 has twice the digit 1."
      ]
    },
    {
      "cell_type": "code",
      "metadata": {
        "id": "xC-0YYitxUT_"
      },
      "source": [
        "#0\n",
        "def nb_dig(n, d):\n",
        "    a = [i*i for i in range(n+1)]\n",
        "\n",
        "    x = 0\n",
        "    for i in a:\n",
        "        if str(d) in str(i):\n",
        "            for j in str(i):\n",
        "                if str(d) in j:\n",
        "                    x = x+1\n",
        "    return x"
      ],
      "execution_count": null,
      "outputs": []
    },
    {
      "cell_type": "code",
      "metadata": {
        "id": "o08bibxJz76J"
      },
      "source": [
        "#1\n",
        "def nb_dig(n, d):\n",
        "    return sum(str(i*i).count(str(d)) for i in range(n+1))\n",
        "\n",
        "#2\n",
        "def nb_dig(n, d):\n",
        "    return ''.join(str(a ** 2) for a in xrange(n + 1)).count(str(d))\n",
        "\n",
        "#3\n",
        "def nb_dig(n, d):\n",
        "    \n",
        "    tot_occur = 0;\n",
        "    \n",
        "    for i in range(n+1):\n",
        "        #print(i**2)\n",
        "        tot_occur += str(i**2).count(str(d))\n",
        "        \n",
        "    return tot_occur\n",
        "\n",
        "#4\n",
        "def nb_dig(n, d):\n",
        "   return ''.join(str(n * n) for n in range(n + 1)).count(str(d))\n",
        "\n",
        "#5\n",
        "nb_dig = lambda n,d: sum(str(k**2).count(str(d)) for k in range(n+1))\n",
        "\n",
        "#6\n",
        "def nb_dig(n, d):\n",
        "    result = 1 if d == 0 else 0\n",
        "\n",
        "    for k in range(1, n + 1):\n",
        "        x = k * k\n",
        "        while x:\n",
        "            if x % 10 == d:\n",
        "                result += 1\n",
        "            x //= 10\n",
        "\n",
        "    return result\n"
      ],
      "execution_count": null,
      "outputs": []
    },
    {
      "cell_type": "markdown",
      "metadata": {
        "id": "TQHUMhI49ZbY"
      },
      "source": [
        "# Задача 97 (7) Easy wallpaper"
      ]
    },
    {
      "cell_type": "markdown",
      "metadata": {
        "id": "23iKb07K9cMq"
      },
      "source": [
        "John wants to decorate a room with wallpaper. He wants a fool-proof method for getting it right.\n",
        "\n",
        "John knows that the rectangular room has a length of l meters, a width of w meters, a height of h meters. The standard width of the rolls he wants to buy is 52 centimeters. The length of a roll is 10 meters. He bears in mind however, that it’s best to have an extra length of wallpaper handy in case of mistakes or miscalculations so he wants to buy a length 15% greater than the one he needs.\n",
        "\n",
        "Last time he did these calculations he got a headache, so could you help John?\n",
        "\n",
        "Task\n",
        "Your function wallpaper(l, w, h) should return as a plain English word in lower case the number of rolls he must buy.\n",
        "\n",
        "Example:\n",
        "wallpaper(4.0, 3.5, 3.0) should return \"ten\"\n",
        "\n",
        "wallpaper(0.0, 3.5, 3.0) should return \"zero\"\n",
        "\n",
        "Notes:\n",
        "all rolls (even with incomplete width) are put edge to edge\n",
        "\n",
        "0 <= l, w, h (floating numbers); it can happens that w * h * l is zero\n",
        "\n",
        "the integer r (number of rolls) will always be less or equal to 20\n",
        "\n",
        "numbers = [\"zero\", \"one\", \"two\", \"three\", \"four\", \"five\", \"six\", \"seven\", \"eight\", \"nine\", \"ten\", \"eleven\", \"twelve\",\"thirteen\", \"fourteen\", \"fifteen\", \"sixteen\", \"seventeen\", \"eighteen\", \"nineteen\", \"twenty\"]\n",
        "\n",
        "For other languages it is not preloaded but you can use the above one if you need it.\n",
        "\n"
      ]
    },
    {
      "cell_type": "code",
      "metadata": {
        "id": "VD0Q9eyu-cBS"
      },
      "source": [
        "#0\n",
        "from math import ceil\n",
        "\n",
        "def wallpaper(l, w, h):\n",
        "    numbers = [\"zero\", \"one\", \"two\", \"three\", \"four\", \"five\", \"six\", \"seven\", \"eight\", \"nine\", \"ten\", \"eleven\", \"twelve\",\"thirteen\", \"fourteen\", \"fifteen\", \"sixteen\", \"seventeen\", \"eighteen\", \"nineteen\", \"twenty\"]\n",
        "    s_room = 2*l*h + 2*w*h + (2*l*h + 2*w*h)*0.15\n",
        "    s_wallpaper = 0.52 * 10\n",
        "    count_wallpaper = ceil(s_room / s_wallpaper)\n",
        "    if l == 0.0 or w == 0.0 or h == 0.0:\n",
        "        return numbers[0]\n",
        "    else:\n",
        "        return numbers[count_wallpaper]"
      ],
      "execution_count": null,
      "outputs": []
    },
    {
      "cell_type": "code",
      "metadata": {
        "id": "oLHTfg89AdE9"
      },
      "source": [
        "#1\n",
        "from math import ceil\n",
        "\n",
        "numbers = {0:\"zero\", 1: \"one\", 2: \"two\", 3: \"three\", 4: \"four\", 5: \"five\", 6: \"six\", 7: \"seven\", 8: \"eight\", \n",
        "9: \"nine\", 10: \"ten\", 11:\"eleven\", 12: \"twelve\", 13: \"thirteen\", 14: \"fourteen\", 15: \"fifteen\", \n",
        "16:\"sixteen\", 17:\"seventeen\", 18: \"eighteen\", 19: \"nineteen\", 20: \"twenty\"}\n",
        "\n",
        "def wallpaper(l, w, h):\n",
        "    return \"zero\" if w*l==0 else numbers[ceil((2*l+2*w) * h * 1.15 / 5.2)]\n",
        "\n",
        "#2\n",
        "from math import ceil\n",
        "def wallpaper(l, w, h):\n",
        "    numarr = ['zero','one','two','three','four','five','six','seven','eight','nine', 'ten', 'eleven',\n",
        "              'twelve','thirteen','fourteen','fifteen','sixteen', 'seventeen','eighteen','nineteen', 'twenty']\n",
        "    return numarr[ceil(l and w and ((l + w) * h * 2 * 1.15) / 5.2)]"
      ],
      "execution_count": null,
      "outputs": []
    },
    {
      "cell_type": "markdown",
      "metadata": {
        "id": "7kdgnoIDx7rL"
      },
      "source": [
        "# Задача 98(7) Rotate for a Max"
      ]
    },
    {
      "cell_type": "markdown",
      "metadata": {
        "id": "5lz5WUT6x9iN"
      },
      "source": [
        "Let us begin with an example:\n",
        "\n",
        "Take a number: 56789. Rotate left, you get 67895.\n",
        "\n",
        "Keep the first digit in place and rotate left the other digits: 68957.\n",
        "\n",
        "Keep the first two digits in place and rotate the other ones: 68579.\n",
        "\n",
        "Keep the first three digits and rotate left the rest: 68597. Now it is over since keeping the first four it remains only one digit which rotated is itself.\n",
        "\n",
        "You have the following sequence of numbers:\n",
        "\n",
        "56789 -> 67895 -> 68957 -> 68579 -> 68597\n",
        "\n",
        "and you must return the greatest: 68957.\n",
        "\n",
        "Task\n",
        "\n",
        "Write function max_rot(n) which given a positive integer n returns the maximum number you got doing rotations similar to the above example.\n",
        "\n",
        "So max_rot (or maxRot or ... depending on the language) is such as:\n",
        "\n",
        "max_rot(56789) should return 68957\n",
        "\n",
        "max_rot(38458215) should return 85821534"
      ]
    },
    {
      "cell_type": "code",
      "metadata": {
        "id": "8XEfprylx-aM"
      },
      "source": [
        "#0\n",
        "def max_rot(n):\n",
        "    lst = []\n",
        "    lst.append(n)\n",
        "    n = str(n)\n",
        "    n = n[1:] + n[0]\n",
        "    lst.append(int(n))\n",
        "    \n",
        "    for i in range(1, len(n) -1):\n",
        "        n = n[:i] + n[i+1:] + n[i]\n",
        "        lst.append(int(n))\n",
        "\n",
        "    return max(lst)"
      ],
      "execution_count": null,
      "outputs": []
    },
    {
      "cell_type": "code",
      "metadata": {
        "id": "QL8yJSEF13eY"
      },
      "source": [
        "#1\n",
        "def max_rot(n):\n",
        "    s, arr = str(n), [n]\n",
        "    for i in range(len(s)):\n",
        "        s = s[:i] + s[i+1:] + s[i]\n",
        "        arr.append(int(s))\n",
        "    return max(arr)\n",
        "\n",
        "#2\n",
        "# From slowest to fastest.\n",
        "# Avg times: [0.02439361791771013, 0.022609906077212825, 0.02206899122135155, 0.01568399207479203]\n",
        "# Python 3.6 (32-bit), Win7 x64, Timeit(max_rot(40239847520394)).repeat(10, 1000))\n",
        "# Conclusions:\n",
        "# 1. conversion, str.join, shallow copy are costly\n",
        "# 2. max(all) faster than max(pair)\n",
        "# 3. byproduct (list[str]) comparison is faster than conversions and/or joining\n",
        "\n",
        "def max_rot(number):\n",
        "    sequences, current = [str(number)], list(str(number))\n",
        "    for i in range(len(current) - 1):\n",
        "        current.append(current.pop(i))\n",
        "        sequences.append(''.join(current))\n",
        "    return int(max(sequences))\n",
        "    \n",
        "def max_rot(number):\n",
        "    current, maximum = list(str(number)), list(str(number))\n",
        "    for i in range(len(current) - 1):\n",
        "        current.append(current.pop(i))\n",
        "        maximum = max(maximum, current[:])\n",
        "    return int(''.join(maximum))\n",
        "    \n",
        "def max_rot(number):\n",
        "    sequences, current = [list(str(number))], list(str(number))\n",
        "    for i in range(len(current) - 1):\n",
        "        current.append(current.pop(i))\n",
        "        sequences.append(current[:])\n",
        "    return int(''.join(max(sequences)))\n",
        "\n",
        "def max_rot(number):\n",
        "    current, maximum = list(str(number)), list(str(number))\n",
        "    for i in range(len(current) - 1):\n",
        "        current.append(current.pop(i))\n",
        "        if current > maximum:\n",
        "            maximum = current[:]\n",
        "    return int(''.join(maximum))\n",
        "\n",
        "\n",
        "#3\n",
        "def max_rot(n):\n",
        "    maximum = n\n",
        "    s = list(str(n))\n",
        "    for i in xrange(len(s) - 1):\n",
        "        s.append(s.pop(i))\n",
        "        current = int(''.join(s))\n",
        "        if current > maximum:\n",
        "            maximum = current\n",
        "    return maximum\n",
        "\n",
        "#4\n",
        "max_rot=r=lambda n,m=0:(n if n<10 else max(*[int(r(str(n),i))for i in range(len(str(n)))]))if type(n)==int else n if len(n)==1 or m<=1 else n[1]+r(n[2:]+n[0],m-1)\n",
        "\n",
        "#5\n",
        "def max_rot(n):\n",
        "    maxn = n\n",
        "    n = str(n)\n",
        "    \n",
        "    for i in range(len(n) - 2):\n",
        "        n = n[0:i] + n[i+1:] + n[i]\n",
        "        if int(n) > maxn: maxn = int(n)\n",
        "    \n",
        "    return maxn"
      ],
      "execution_count": null,
      "outputs": []
    },
    {
      "cell_type": "code",
      "metadata": {
        "id": "x-xQU4gBImrq"
      },
      "source": [
        "# Задача 99 (8) Filter out the geese"
      ],
      "execution_count": null,
      "outputs": []
    },
    {
      "cell_type": "markdown",
      "metadata": {
        "id": "fSr-e3qxIplN"
      },
      "source": [
        "Write a function, gooseFilter / goose-filter / goose_filter / GooseFilter, that takes an array of strings as an argument and returns a filtered array containing the same elements but with the 'geese' removed.\n",
        "\n",
        "The geese are any strings in the following array, which is pre-populated in your solution:\n",
        "\n",
        "geese = [\"African\", \"Roman Tufted\", \"Toulouse\", \"Pilgrim\", \"Steinbacher\"]\n",
        "For example, if this array were passed as an argument:\n",
        "\n",
        "[\"Mallard\", \"Hook Bill\", \"African\", \"Crested\", \"Pilgrim\", \"Toulouse\", \"Blue Swedish\"]\n",
        "Your function would return the following array:\n",
        "\n",
        "[\"Mallard\", \"Hook Bill\", \"Crested\", \"Blue Swedish\"]\n",
        "The elements in the returned array should be in the same order as in the initial array passed to your function, albeit with the 'geese' removed. Note that all of the strings will be in the same case as those provided, and some elements may be repeated."
      ]
    },
    {
      "cell_type": "code",
      "metadata": {
        "id": "QGk3hyRyItjk"
      },
      "source": [
        "#0\n",
        "geese = [\"African\", \"Roman Tufted\", \"Toulouse\", \"Pilgrim\", \"Steinbacher\"]\n",
        "def goose_filter(birds):\n",
        "    lst = []\n",
        "    for i in birds:\n",
        "        if i not in geese:\n",
        "            lst.append(i)\n",
        "    return lst\n",
        "\n",
        "#1\n",
        "geese = [\"African\", \"Roman Tufted\", \"Toulouse\", \"Pilgrim\", \"Steinbacher\"]\n",
        "def goose_filter(birds):\n",
        "    return [i for i in birds if i not in geese]"
      ],
      "execution_count": null,
      "outputs": []
    },
    {
      "cell_type": "markdown",
      "metadata": {
        "id": "UZFTEzCtGUtZ"
      },
      "source": [
        "# Задача 99 (8) What's up next?"
      ]
    },
    {
      "cell_type": "markdown",
      "metadata": {
        "id": "AVfZ6xclGWmk"
      },
      "source": [
        "Given a sequence of items and a specific item in that sequence, return the item immediately following the item specified. If the item occurs more than once in a sequence, return the item after the first occurence. This should work for a sequence of any type.\n",
        "\n",
        "When the item isn't present or nothing follows it, the function should return nil in Clojure and Elixir, Nothing in Haskell, undefined in JavaScript, None in Python.\n",
        "\n",
        "next_item([1, 2, 3, 4, 5, 6, 7], 3) # => 4\n",
        "\n",
        "next_item(['Joe', 'Bob', 'Sally'], 'Bob') # => \"Sally\"\n",
        "\n",
        "(next_item([1, 2, 3, 4, 5, 6, 7, 8], 5), 6)\n",
        "\n",
        "(next_item(['a', 'b', 'c'], 'd'), None)\n",
        "\n",
        "(next_item(['a', 'b', 'c'], 'c'), None)\n",
        "\n",
        "(next_item('testing', 't'), 'e')\n",
        "\n",
        "(next_item(iter(range(1, 30000)), 12), 13)\n"
      ]
    },
    {
      "cell_type": "code",
      "metadata": {
        "id": "bFU_h0PDGayx"
      },
      "source": [
        "#0   Долго работает по времени \n",
        "def next_item(xs, item):\n",
        "    lst = []\n",
        "    for i in xs:\n",
        "        lst.append(i)\n",
        "\n",
        "    for i, value in enumerate(lst):\n",
        "        if value == item:\n",
        "            if value != lst[-1]:\n",
        "                return lst[i+1]\n",
        "    return None"
      ],
      "execution_count": null,
      "outputs": []
    },
    {
      "cell_type": "code",
      "metadata": {
        "id": "pN0_FFrwIeER"
      },
      "source": [
        "#1 \n",
        "def next_item(xs, item):\n",
        "    it = iter(xs)\n",
        "    for x in it:\n",
        "        if x == item:\n",
        "            break\n",
        "    return next(it, None)\n",
        "\n",
        "#2\n",
        "def next_item(xs, item):\n",
        "  it = iter(xs)\n",
        "  next(iter(x for x in it if x == item), None)\n",
        "  return next(it, None)\n",
        "\n",
        "#3\n",
        "import itertools\n",
        "def next_item(xs, item):\n",
        "    try:\n",
        "        xs = iter(xs)\n",
        "        for x in xs:\n",
        "            if x==item: return next(xs)\n",
        "    except:\n",
        "        return None\n",
        "\n",
        "\n",
        "#4\n",
        "def next_item(xs, item):\n",
        "  it = iter(xs)\n",
        "  return next(iter(next(it, None) for x in it if x == item), None)"
      ],
      "execution_count": null,
      "outputs": []
    },
    {
      "cell_type": "markdown",
      "metadata": {
        "id": "4pLZC24o63xp"
      },
      "source": [
        "# Задача 100 (8) Simple multiplication"
      ]
    },
    {
      "cell_type": "markdown",
      "metadata": {
        "id": "n8TMgCOx64Ki"
      },
      "source": [
        "This kata is about multiplying a given number by eight if it is an even number and by nine otherwise."
      ]
    },
    {
      "cell_type": "code",
      "metadata": {
        "id": "-Vx3pOqz65P2"
      },
      "source": [
        "#0\n",
        "def simple_multiplication(number) :\n",
        "    return number * 8 if number % 2 == 0 else number * 9 "
      ],
      "execution_count": null,
      "outputs": []
    },
    {
      "cell_type": "code",
      "metadata": {
        "id": "qxwnmG0F66SO"
      },
      "source": [
        "#1\n",
        "def simple_multiplication(number) :\n",
        "    return number * 9 if number % 2 else number * 8\n",
        "\n",
        "#2\n",
        "def simple_multiplication(n) :\n",
        "    return n * (8 + n%2)\n",
        "\n",
        "#3\n",
        "def simple_multiplication(n) :\n",
        "    return n * (8 + n%2)\n",
        "\n",
        "#4\n",
        "def simple_multiplication(number) :\n",
        "    return number * (8 if number % 2 == 0 else 9)"
      ],
      "execution_count": null,
      "outputs": []
    },
    {
      "cell_type": "markdown",
      "metadata": {
        "id": "bG1Vr9Ot-2td"
      },
      "source": [
        "# Задача 101 (8) Double Char"
      ]
    },
    {
      "cell_type": "markdown",
      "metadata": {
        "id": "J566fKaW-3Do"
      },
      "source": [
        "Given a string, you have to return a string in which each character (case-sensitive) is repeated once.\n",
        "\n",
        "double_char(\"String\") ==> \"SSttrriinngg\"\n",
        "\n",
        "double_char(\"Hello World\") ==> \"HHeelllloo  WWoorrlldd\"\n",
        "\n",
        "double_char(\"1234!_ \") ==> \"11223344!!__  \""
      ]
    },
    {
      "cell_type": "code",
      "metadata": {
        "id": "VMjwHoH7-3Tv"
      },
      "source": [
        "#0\n",
        "def double_char(s):\n",
        "    st = []\n",
        "    for i in s:\n",
        "        st.append(i)\n",
        "        st.append(i)\n",
        "    return \"\".join(st)"
      ],
      "execution_count": null,
      "outputs": []
    },
    {
      "cell_type": "code",
      "metadata": {
        "id": "4126DkPY_BjB"
      },
      "source": [
        "#1\n",
        "def double_char(s):\n",
        "    return ''.join(c * 2 for c in s)\n",
        "\n",
        "#2\n",
        "def double_char(s):\n",
        "    res = ''\n",
        "    for i in s:\n",
        "        res += i*2\n",
        "    return res\n",
        "\n",
        "#3\n",
        "def double_char(str):\n",
        "    return \"\".join(ch+ch for ch in str)\n",
        "\n",
        "#4\n",
        "def double_char(s):\n",
        "    y = list(s) # Breaks the string into individual letters\n",
        "    length = len(y) # Length of string\n",
        "    ffs = list(range(0,length)) # Creates an array beginning with 0, going up in ones, the length of the original string\n",
        "    blank=\"\" # Blank string to build from\n",
        "    for i in ffs: # For (i)tems in ffs, number 0 thru x (length)\n",
        "        blank = blank + y[i] + y[i] # Essentially blank + list(0) + list(0), then blank + list(1) + list(1)\n",
        "    return blank"
      ],
      "execution_count": null,
      "outputs": []
    },
    {
      "cell_type": "markdown",
      "metadata": {
        "id": "ny4rnyUKFeD1"
      },
      "source": [
        "# Задача 102 (8) N-th Power"
      ]
    },
    {
      "cell_type": "markdown",
      "metadata": {
        "id": "xX3MmOhBFepG"
      },
      "source": [
        "This kata is from check py.checkio.org\n",
        "\n",
        "You are given an array with positive numbers and a non-negative number N. You should find the N-th power of the element in the array with the index N. If N is outside of the array, then return -1. Don't forget that the first element has the index 0.\n",
        "\n",
        "Let's look at a few examples:\n",
        "\n",
        "array = [1, 2, 3, 4] and N = 2, then the result is 3^2 == 9;\n",
        "\n",
        "array = [1, 2, 3] and N = 3, but N is outside of the array, so the result is -1."
      ]
    },
    {
      "cell_type": "code",
      "metadata": {
        "id": "pS9jBmTfFe1t"
      },
      "source": [
        "#0\n",
        "def index(array, n):\n",
        "    if n >= len(array):\n",
        "        return -1\n",
        "    return array[n] ** n \n",
        "\n",
        "#1\n",
        "def index(array, n):\n",
        "    return array[n] ** n if n < len(array) else -1 \n",
        "\n",
        "#2\n",
        "def index(array, n):\n",
        "    return  -1  if n >= len(array) else array[n] ** n "
      ],
      "execution_count": null,
      "outputs": []
    },
    {
      "cell_type": "code",
      "metadata": {
        "id": "CbaHdqhrGHnT"
      },
      "source": [
        "#3\n",
        "def index(array, n):\n",
        "    try:\n",
        "        return array[n]**n\n",
        "    except:\n",
        "        return -1\n",
        "\n",
        "#4\n",
        "def index(array, n):\n",
        "    try:\n",
        "        return pow(array[n],n)\n",
        "    except IndexError:\n",
        "        return -1\n",
        "\n",
        "#5\n",
        "index = lambda a, n: -1 if len(a)<=n else a[n]**n"
      ],
      "execution_count": null,
      "outputs": []
    },
    {
      "cell_type": "markdown",
      "metadata": {
        "id": "ZoHTJo17JYH5"
      },
      "source": [
        "# Задача 103 (8) UEFA EURO 2016"
      ]
    },
    {
      "cell_type": "markdown",
      "metadata": {
        "id": "oCc_BzZWJYe3"
      },
      "source": [
        "Finish the uefaEuro2016() function so it return string just like in the examples below:\n",
        "\n",
        "uefa_euro_2016(['Germany', 'Ukraine'],[2, 0]) # \"At match Germany - Ukraine, Germany won!\"\n",
        "\n",
        "uefa_euro_2016(['Belgium', 'Italy'],[0, 2]) # \"At match Belgium - Italy, Italy won!\"\n",
        "\n",
        "uefa_euro_2016(['Portugal', 'Iceland'],[1, 1]) # \"At match Portugal - Iceland, teams played draw.\""
      ]
    },
    {
      "cell_type": "code",
      "metadata": {
        "id": "sSXBwmc5sSlQ"
      },
      "source": [
        "#0\n",
        "def uefa_euro_2016(teams, scores):\n",
        "    if scores[0] == scores [1]:\n",
        "        return f'At match {teams[0]} - {teams[1]}, teams played draw.'\n",
        "    return \"At match {0} - {1}, {2} won!\".format(teams[0], teams[1], teams[0] if scores[0] > scores[1] else teams[1])"
      ],
      "execution_count": null,
      "outputs": []
    },
    {
      "cell_type": "code",
      "metadata": {
        "id": "r9AySni3smue"
      },
      "source": [
        "#1\n",
        "def uefa_euro_2016(teams, scores):\n",
        "    return f\"At match {teams[0]} - {teams[1]}, {'teams played draw.' if scores[0] == scores[1] else teams[scores.index(max(scores))] + ' won!'}\"\n",
        "\n",
        "#2\n",
        "def uefa_euro_2016(teams, scores):\n",
        "    s1, s2 = scores\n",
        "    result = \"teams played draw.\" if s1 == s2 else f\"{teams[s1 < s2]} won!\"\n",
        "    return f\"At match {teams[0]} - {teams[1]}, {result}\"\n",
        "\n",
        "#3\n",
        "def uefa_euro_2016(teams, scores):\n",
        "    s1, s2 = scores\n",
        "    result = \"teams played draw.\" if s1 == s2 else f\"{teams[s1 < s2]} won!\"\n",
        "    return f\"At match {teams[0]} - {teams[1]}, {result}\"\n",
        "\n",
        "#4\n",
        "uefa_euro_2016=lambda t,s:f\"At match {t[0]} - {t[1]}, \"+((\"teams played draw.\"*(s[0]==s[1]))or f\"{t[s[0]<s[1]]} won!\")"
      ],
      "execution_count": null,
      "outputs": []
    },
    {
      "cell_type": "markdown",
      "metadata": {
        "id": "mmdhbJWsmjhO"
      },
      "source": [
        "# Задача 104 (8) How good are you really?"
      ]
    },
    {
      "cell_type": "markdown",
      "metadata": {
        "id": "tOHLmI_CmlDM"
      },
      "source": [
        "There was a test in your class and you passed it. Congratulations!\n",
        "But you're an ambitious person. You want to know if you're better than the average student in your class.\n",
        "\n",
        "You receive an array with your peers' test scores. Now calculate the average and compare your score!\n",
        "\n",
        "Return True if you're better, else False!\n",
        "\n",
        "Note:\n",
        "Your points are not included in the array of your class's points. For calculating the average point you may add your point to the given array!"
      ]
    },
    {
      "cell_type": "code",
      "metadata": {
        "id": "bO_HOFDVml5f"
      },
      "source": [
        "#0\n",
        "from statistics import mean\n",
        "def better_than_average(class_points, your_points):\n",
        "    class_points.append(your_points)\n",
        "    m = mean(class_points)\n",
        "    return True if your_points > m else False"
      ],
      "execution_count": null,
      "outputs": []
    },
    {
      "cell_type": "code",
      "metadata": {
        "id": "j3P6a32gmmXH"
      },
      "source": [
        "#1\n",
        "def better_than_average(class_points, your_points):\n",
        "    return your_points > sum(class_points) / len(class_points)\n",
        "\n",
        "#2\n",
        "def better_than_average(class_points, your_points):\n",
        "    average = (sum(class_points) + your_points) / (len(class_points) + 1)\n",
        "    return your_points > average\n",
        "\n",
        "#3\n",
        "import statistics\n",
        "def better_than_average(class_points, your_points):\n",
        "    return your_points > statistics.mean(class_points)\n",
        "\n",
        "#4\n",
        "from statistics import mean\n",
        "\n",
        "def better_than_average(class_points, your_points):\n",
        "    return your_points > mean(class_points)\n",
        "    "
      ],
      "execution_count": null,
      "outputs": []
    }
  ]
}